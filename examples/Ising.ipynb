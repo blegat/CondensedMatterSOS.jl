{
 "cells": [
  {
   "cell_type": "code",
   "execution_count": 1,
   "metadata": {},
   "outputs": [
    {
     "data": {
      "text/plain": [
       "((CondensedMatterSOS.SpinVariable[σˣ₁, σˣ₂], CondensedMatterSOS.SpinVariable[σʸ₁, σʸ₂], CondensedMatterSOS.SpinVariable[σᶻ₁, σᶻ₂]),)"
      ]
     },
     "execution_count": 1,
     "metadata": {},
     "output_type": "execute_result"
    }
   ],
   "source": [
    "using CondensedMatterSOS\n",
    "@spin σ[1:2]"
   ]
  },
  {
   "cell_type": "code",
   "execution_count": 2,
   "metadata": {},
   "outputs": [
    {
     "data": {
      "text/latex": [
       "$$ (-2.0 + 0.0im)σˣ_{1}σˣ_{2} + -σᶻ_{1} + -σᶻ_{2} $$"
      ],
      "text/plain": [
       "(-2.0 + 0.0im)σˣ₁σˣ₂ + -σᶻ₁ + -σᶻ₂"
      ]
     },
     "execution_count": 2,
     "metadata": {},
     "output_type": "execute_result"
    }
   ],
   "source": [
    "function hamiltonian(σ)\n",
    "    σx, σy, σz = σ\n",
    "    N = length(σx)\n",
    "    return -sum(σx[n] * σx[n+1] for n in 1:(N-1)) - σx[N] * σx[1] - sum(σz)\n",
    "end\n",
    "H = 1.0 * hamiltonian(σ)"
   ]
  },
  {
   "cell_type": "code",
   "execution_count": 3,
   "metadata": {},
   "outputs": [
    {
     "data": {
      "text/plain": [
       "7-element Array{CondensedMatterSOS.SpinMonomial,1}:\n",
       " σˣ₁\n",
       " σʸ₁\n",
       " σᶻ₁\n",
       " σˣ₂\n",
       " σʸ₂\n",
       " σᶻ₂\n",
       " 1"
      ]
     },
     "execution_count": 3,
     "metadata": {},
     "output_type": "execute_result"
    }
   ],
   "source": [
    "import MultivariatePolynomials\n",
    "const MP = MultivariatePolynomials\n",
    "v = MP.monovec([1, σx[1], σx[2], σy[1], σy[2], σz[1], σz[2]])"
   ]
  },
  {
   "cell_type": "markdown",
   "metadata": {},
   "source": [
    "min_σ H(σ) = -2√2"
   ]
  },
  {
   "cell_type": "markdown",
   "metadata": {},
   "source": [
    "max γ s.t. H >= γ -> H - γ = v' Q v"
   ]
  },
  {
   "cell_type": "code",
   "execution_count": 4,
   "metadata": {},
   "outputs": [
    {
     "data": {
      "text/plain": [
       "7-element Array{CondensedMatterSOS.SpinMonomial,1}:\n",
       " σˣ₁\n",
       " σʸ₁\n",
       " σᶻ₁\n",
       " σˣ₂\n",
       " σʸ₂\n",
       " σᶻ₂\n",
       " 1"
      ]
     },
     "execution_count": 4,
     "metadata": {},
     "output_type": "execute_result"
    }
   ],
   "source": [
    "monos = CondensedMatterSOS.MP.monovec(v)"
   ]
  },
  {
   "cell_type": "code",
   "execution_count": 5,
   "metadata": {},
   "outputs": [
    {
     "data": {
      "text/plain": [
       "_mapcoef (generic function with 1 method)"
      ]
     },
     "execution_count": 5,
     "metadata": {},
     "output_type": "execute_result"
    }
   ],
   "source": [
    "function _mat(x::Vector)\n",
    "    Q = Matrix{eltype(x)}(undef, n, n)\n",
    "    k = 0\n",
    "    for j in 1:n\n",
    "        for i in 1:j\n",
    "            k += 1\n",
    "            Q[i, j] = Q[j, i] = x[k]\n",
    "        end\n",
    "    end\n",
    "    return Q\n",
    "end\n",
    "import MathOptInterface\n",
    "const MOI = MathOptInterface\n",
    "function _mapcoef(op, f::MOI.ScalarAffineFunction)\n",
    "    MOI.ScalarAffineFunction([\n",
    "        MOI.ScalarAffineTerm(op(t.coefficient), t.variable_index) for t in f.terms\n",
    "    ], op(f.constant))\n",
    "end"
   ]
  },
  {
   "cell_type": "code",
   "execution_count": 6,
   "metadata": {
    "scrolled": true
   },
   "outputs": [
    {
     "name": "stdout",
     "output_type": "stream",
     "text": [
      "MOSEK warning 500: The license expires in 3 days.\n",
      "MOSEK warning 500: The license expires in 3 days.\n",
      "Problem\n",
      "  Name                   :                 \n",
      "  Objective sense        : max             \n",
      "  Type                   : CONIC (conic optimization problem)\n",
      "  Constraints            : 32              \n",
      "  Cones                  : 0               \n",
      "  Scalar variables       : 1               \n",
      "  Matrix variables       : 1               \n",
      "  Integer variables      : 0               \n",
      "\n",
      "Optimizer started.\n",
      "Presolve started.\n",
      "Linear dependency checker started.\n",
      "Linear dependency checker terminated.\n",
      "Eliminator started.\n",
      "Freed constraints in eliminator : 0\n",
      "Eliminator terminated.\n",
      "Eliminator - tries                  : 1                 time                   : 0.00            \n",
      "Lin. dep.  - tries                  : 1                 time                   : 0.00            \n",
      "Lin. dep.  - number                 : 0               \n",
      "Presolve terminated. Time: 0.00    \n",
      "Problem\n",
      "  Name                   :                 \n",
      "  Objective sense        : max             \n",
      "  Type                   : CONIC (conic optimization problem)\n",
      "  Constraints            : 32              \n",
      "  Cones                  : 0               \n",
      "  Scalar variables       : 1               \n",
      "  Matrix variables       : 1               \n",
      "  Integer variables      : 0               \n",
      "\n",
      "Optimizer  - threads                : 4               \n",
      "Optimizer  - solved problem         : the primal      \n",
      "Optimizer  - Constraints            : 16\n",
      "Optimizer  - Cones                  : 1\n",
      "Optimizer  - Scalar variables       : 2                 conic                  : 2               \n",
      "Optimizer  - Semi-definite variables: 1                 scalarized             : 28              \n",
      "Factor     - setup time             : 0.00              dense det. time        : 0.00            \n",
      "Factor     - ML order time          : 0.00              GP order time          : 0.00            \n",
      "Factor     - nonzeros before factor : 136               after factor           : 136             \n",
      "Factor     - dense dim.             : 0                 flops                  : 3.23e+03        \n",
      "ITE PFEAS    DFEAS    GFEAS    PRSTATUS   POBJ              DOBJ              MU       TIME  \n",
      "0   7.0e+00  1.0e+00  1.0e+00  0.00e+00   0.000000000e+00   0.000000000e+00   1.0e+00  0.00  \n",
      "1   2.8e+00  4.1e-01  4.7e-01  -2.31e-01  -1.279213836e+00  -1.859976425e+00  4.1e-01  0.00  \n",
      "2   7.8e-01  1.1e-01  3.7e-02  6.70e-01   -3.440779796e+00  -3.356752061e+00  1.1e-01  0.00  \n",
      "3   6.2e-02  8.8e-03  9.6e-04  8.29e-01   -3.946498798e+00  -3.941737884e+00  8.8e-03  0.00  \n",
      "4   1.4e-03  2.0e-04  3.4e-06  9.86e-01   -3.998970905e+00  -3.998861883e+00  2.0e-04  0.00  \n",
      "5   6.0e-05  8.6e-06  2.9e-08  1.00e+00   -3.999967243e+00  -3.999962674e+00  8.6e-06  0.00  \n",
      "6   3.4e-06  4.8e-07  3.9e-10  1.00e+00   -3.999998452e+00  -3.999998208e+00  4.8e-07  0.00  \n",
      "7   7.7e-08  1.1e-08  1.4e-12  1.00e+00   -3.999999968e+00  -3.999999962e+00  1.1e-08  0.00  \n",
      "8   5.2e-10  7.4e-11  7.5e-16  1.00e+00   -4.000000000e+00  -4.000000000e+00  7.4e-11  0.00  \n",
      "Optimizer terminated. Time: 0.00    \n",
      "\n"
     ]
    },
    {
     "data": {
      "text/plain": [
       "1-element Array{MosekTools.MosekSolution,1}:\n",
       " MosekTools.MosekSolution(Mosek.MSK_SOL_ITR, Mosek.MSK_SOL_STA_OPTIMAL, Mosek.MSK_PRO_STA_PRIM_AND_DUAL_FEAS, Mosek.Stakey[Mosek.MSK_SK_SUPBAS], [-3.999999999796037], [[1.000000000057635, -9.269581886647066e-24, -5.656210524136898e-31, -0.9999999998611814, 3.3633595397551523e-35, -4.980160841047063e-33, -3.582423614962809e-32, 2.79402353463965e-10, 1.0222415923756377e-20, 9.697247170385857e-24  …  1.0000000000576352, -2.3368415203743696e-26, 5.290417929564324e-31, -3.525638415242312e-31, 2.7940235346396994e-10, 2.5699158727710933e-20, -7.523378745640498e-21, 0.49999914277708546, -0.4999999999305953, 1.0000017145395945]], [-0.0], [-0.0], [-0.0], Mosek.Stakey[Mosek.MSK_SK_FIX, Mosek.MSK_SK_FIX, Mosek.MSK_SK_FIX, Mosek.MSK_SK_FIX, Mosek.MSK_SK_FIX, Mosek.MSK_SK_FIX, Mosek.MSK_SK_FIX, Mosek.MSK_SK_FIX, Mosek.MSK_SK_FIX, Mosek.MSK_SK_FIX  …  Mosek.MSK_SK_FIX, Mosek.MSK_SK_FIX, Mosek.MSK_SK_FIX, Mosek.MSK_SK_FIX, Mosek.MSK_SK_FIX, Mosek.MSK_SK_FIX, Mosek.MSK_SK_FIX, Mosek.MSK_SK_FIX, Mosek.MSK_SK_FIX, Mosek.MSK_SK_FIX], [2.0, 0.0, 0.0, 0.0, 0.0, 0.0, 0.0, 0.0, 0.0, 0.0  …  1.0, 0.0, 0.0, 0.0, 0.0, 0.0, 1.0, 0.0, 0.0, 0.0], [-0.9999999999552295, -0.0, -0.0, -0.0, -4.287638686796231e-31, -0.0, -5.386590072069224e-19, -0.0, -0.0, -0.0  …  -0.9999999999245437, -0.0, -1.252882220432319e-30, -0.0, -0.0, -0.0, -0.9999999999245437, -0.0, -0.9999999998623912, -0.0], [-0.0, -0.0, -1.3911860108102871e-21, -0.0, -0.0, -0.0, -0.0, -0.0, -1.3234729806175204e-17, -0.0  …  -0.0, -0.0, -0.0, -0.0, -1.113231166079827e-18, -0.0, -0.0, -0.0, -0.0, -0.0], [-0.9999999999552295, 0.0, 1.3911860108102871e-21, 0.0, -4.287638686796231e-31, 0.0, -5.386590072069224e-19, 0.0, 1.3234729806175204e-17, 0.0  …  -0.9999999999245437, 0.0, -1.252882220432319e-30, 0.0, 1.113231166079827e-18, 0.0, -0.9999999999245437, 0.0, -0.9999999998623912, 0.0])"
      ]
     },
     "execution_count": 6,
     "metadata": {},
     "output_type": "execute_result"
    }
   ],
   "source": [
    "using MosekTools\n",
    "optimizer = Mosek.Optimizer()\n",
    "n = length(v)\n",
    "x, cx = MOI.add_constrained_variables(optimizer, MOI.PositiveSemidefiniteConeTriangle(n))\n",
    "γ = MOI.SingleVariable(MOI.add_variable(optimizer))\n",
    "F = MOI.ScalarAffineFunction{Complex{Float64}}\n",
    "Q = _mat(F.(MOI.SingleVariable.(x)))\n",
    "gram = sum(Q[i, j] * (1.0 * monos[i] * monos[j]) for i in 1:n for j in 1:n)\n",
    "z = H - convert(F, γ) - gram\n",
    "for c in MP.coefficients(z)\n",
    "    for a in [_mapcoef(real, c), _mapcoef(imag, c)]\n",
    "        MOI.Utilities.normalize_and_add_constraint(optimizer, a, MOI.EqualTo(0.0))\n",
    "    end\n",
    "end\n",
    "MOI.set(optimizer, MOI.ObjectiveSense(), MOI.MAX_SENSE)\n",
    "MOI.set(optimizer, MOI.ObjectiveFunction{MOI.SingleVariable}(), γ)\n",
    "MOI.optimize!(optimizer)"
   ]
  },
  {
   "cell_type": "code",
   "execution_count": 7,
   "metadata": {},
   "outputs": [
    {
     "name": "stdout",
     "output_type": "stream",
     "text": [
      "MOI.get(optimizer, MOI.TerminationStatus()) = MathOptInterface.OPTIMAL\n"
     ]
    },
    {
     "data": {
      "text/plain": [
       "OPTIMAL::TerminationStatusCode = 1"
      ]
     },
     "execution_count": 7,
     "metadata": {},
     "output_type": "execute_result"
    }
   ],
   "source": [
    "@show MOI.get(optimizer, MOI.TerminationStatus())"
   ]
  },
  {
   "cell_type": "code",
   "execution_count": 8,
   "metadata": {},
   "outputs": [
    {
     "data": {
      "text/plain": [
       "-3.999999999796037"
      ]
     },
     "execution_count": 8,
     "metadata": {},
     "output_type": "execute_result"
    }
   ],
   "source": [
    "MOI.get(optimizer, MOI.ObjectiveValue())"
   ]
  },
  {
   "cell_type": "code",
   "execution_count": 9,
   "metadata": {},
   "outputs": [
    {
     "data": {
      "text/plain": [
       "7×7 Array{Float64,2}:\n",
       "  1.0  -0.0  -0.0   1.0  -0.0  -0.0  -0.0\n",
       " -0.0   1.0   0.0  -0.0   0.0   0.0   0.0\n",
       " -0.0   0.0   1.0  -0.0  -0.0   1.0   1.0\n",
       "  1.0  -0.0  -0.0   1.0  -0.0  -0.0  -0.0\n",
       " -0.0   0.0  -0.0  -0.0   1.0  -0.0  -0.0\n",
       " -0.0   0.0   1.0  -0.0  -0.0   1.0   1.0\n",
       " -0.0   0.0   1.0  -0.0  -0.0   1.0   1.0"
      ]
     },
     "execution_count": 9,
     "metadata": {},
     "output_type": "execute_result"
    }
   ],
   "source": [
    "round.(_mat(MOI.get(optimizer, MOI.ConstraintDual(), cx)), digits=6)"
   ]
  },
  {
   "cell_type": "code",
   "execution_count": 10,
   "metadata": {},
   "outputs": [
    {
     "data": {
      "text/plain": [
       "7×7 Hermitian{Complex{Float64},Array{Complex{Float64},2}}:\n",
       " 1.0+0.0im  0.0+0.0im  0.0+0.0im  …   0.0+0.0im  0.5+0.0im  0.5+0.0im\n",
       " 0.0-0.0im  1.0+0.0im  0.5+0.0im      0.0+0.0im  0.0+0.0im  0.0+0.0im\n",
       " 0.0-0.0im  0.5-0.0im  1.0+0.0im      0.0-0.5im  0.0+0.0im  0.0+0.0im\n",
       " 0.0-0.0im  0.0+0.5im  0.0-0.0im     -0.5+0.0im  0.0+0.0im  0.0+0.0im\n",
       " 0.0-0.0im  0.0-0.0im  0.0+0.5im      1.0+0.0im  0.0+0.0im  0.0+0.0im\n",
       " 0.5-0.0im  0.0-0.0im  0.0-0.0im  …   0.0-0.0im  1.0+0.0im  1.0+0.0im\n",
       " 0.5-0.0im  0.0-0.0im  0.0-0.0im      0.0-0.0im  1.0-0.0im  1.0+0.0im"
      ]
     },
     "execution_count": 10,
     "metadata": {},
     "output_type": "execute_result"
    }
   ],
   "source": [
    "using LinearAlgebra\n",
    "Γ = Hermitian([\n",
    "    1 0 0   0     0     1/2 1/2\n",
    "    0 1 1/2 1/2im 0     0   0\n",
    "    0 0 1   0     1/2im 0   0\n",
    "    0 0 0   1    -1/2   0   0\n",
    "    0 0 0   0     1     0   0\n",
    "    0 0 0   0     0     1   1\n",
    "    0 0 0   0     0     0   1\n",
    "])"
   ]
  },
  {
   "cell_type": "code",
   "execution_count": null,
   "metadata": {
    "collapsed": true
   },
   "outputs": [],
   "source": []
  }
 ],
 "metadata": {
  "kernelspec": {
   "display_name": "Julia 1.4.1",
   "language": "julia",
   "name": "julia-1.4"
  },
  "language_info": {
   "file_extension": ".jl",
   "mimetype": "application/julia",
   "name": "julia",
   "version": "1.4.1"
  }
 },
 "nbformat": 4,
 "nbformat_minor": 2
}
