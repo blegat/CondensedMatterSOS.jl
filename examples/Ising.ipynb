{
 "cells": [
  {
   "cell_type": "code",
   "execution_count": 67,
   "metadata": {
    "collapsed": true
   },
   "outputs": [],
   "source": [
    "include(\"piracy.jl\")"
   ]
  },
  {
   "cell_type": "code",
   "execution_count": 7,
   "metadata": {},
   "outputs": [
    {
     "data": {
      "text/plain": [
       "energy (generic function with 1 method)"
      ]
     },
     "execution_count": 7,
     "metadata": {},
     "output_type": "execute_result"
    }
   ],
   "source": [
    "using SumOfSquares\n",
    "using ComplexOptInterface\n",
    "const COI = ComplexOptInterface\n",
    "using MultivariatePolynomials\n",
    "const MP = MultivariatePolynomials\n",
    "function SumOfSquares.vectorization(::Type{COI.HermitianPositiveSemidefiniteConeTriangle})\n",
    "    return SumOfSquares.HermitianVectorized()\n",
    "end\n",
    "function SumOfSquares.matrix_cone(::Type{COI.HermitianPositiveSemidefiniteConeTriangle}, d)\n",
    "    return COI.HermitianPositiveSemidefiniteConeTriangle(d)\n",
    "end\n",
    "function add_constraint(model, p, cone; kws...)\n",
    "    coefs = MOI.Utilities.vectorize(MP.coefficients(p))\n",
    "    monos = MP.monomials(p)\n",
    "    set = JuMP.moi_set(cone, monos; kws...)\n",
    "    MOI.add_constraint(model, coefs, set)\n",
    "end\n",
    "function energy(H, maxdegree, solver;\n",
    "    cone=NonnegPolyInnerCone{COI.HermitianPositiveSemidefiniteConeTriangle}(),\n",
    "    kws...\n",
    ")\n",
    "    optimizer = MOI.instantiate(solver, with_bridge_type=Float64)\n",
    "    model = MOI.Bridges.Constraint.SingleBridgeOptimizer{SumOfSquares.Bridges.Constraint.SOSPolynomialBridge{Complex{Float64}}}(\n",
    "        MOI.Bridges.Constraint.SingleBridgeOptimizer{PolyJuMP.ZeroPolynomialBridge{Complex{Float64}}}(\n",
    "        MOI.Bridges.Variable.SingleBridgeOptimizer{COI.Bridges.Variable.HermitianToSymmetricPSDBridge{Float64}}(\n",
    "        MOI.Bridges.Constraint.SingleBridgeOptimizer{COI.Bridges.Constraint.SplitZeroBridge{Float64}}(\n",
    "        optimizer\n",
    "    ))))\n",
    "    γ = MOI.SingleVariable(MOI.add_variable(model))\n",
    "    cert = SumOfSquares.Certificate.MaxDegree(cone, MonomialBasis, maxdegree)\n",
    "    cert = SumOfSquares.Certificate.SparseIdeal(MonomialSparsity(1), cert)\n",
    "    c = add_constraint(model, H - γ, SOSCone(); ideal_certificate=cert, kws...)\n",
    "    MOI.set(model, MOI.ObjectiveSense(), MOI.MAX_SENSE)\n",
    "    MOI.set(model, MOI.ObjectiveFunction{MOI.SingleVariable}(), γ)\n",
    "    MOI.optimize!(model)\n",
    "    if MOI.get(model, MOI.TerminationStatus()) != MOI.OPTIMAL\n",
    "        @warn(\"Termination status: $(MOI.get(model, MOI.TerminationStatus())), $(MOI.get(model, MOI.RawStatusString()))\")\n",
    "    end\n",
    "    ν = MOI.get(model, SumOfSquares.GramMatrixAttribute(), c)\n",
    "    MOI.get(model, MOI.ObjectiveValue()), ν\n",
    "end"
   ]
  },
  {
   "cell_type": "code",
   "execution_count": 2,
   "metadata": {},
   "outputs": [
    {
     "data": {
      "text/latex": [
       "$$ (-2.0 + 0.0im)σˣ_{1}σˣ_{2} + σᶻ_{1} + σᶻ_{2} $$"
      ],
      "text/plain": [
       "(-2.0 + 0.0im)σˣ₁σˣ₂ + σᶻ₁ + σᶻ₂"
      ]
     },
     "execution_count": 2,
     "metadata": {},
     "output_type": "execute_result"
    }
   ],
   "source": [
    "using CondensedMatterSOS\n",
    "@spin σ[1:2]\n",
    "function hamiltonian(σ)\n",
    "    σx, σy, σz = σ\n",
    "    N = length(σx)\n",
    "    return -sum(σx[n] * σx[n+1] for n in 1:(N-1)) - σx[N] * σx[1] - sum(σz)\n",
    "end\n",
    "H = 1.0 * hamiltonian(σ)"
   ]
  },
  {
   "cell_type": "code",
   "execution_count": 3,
   "metadata": {},
   "outputs": [
    {
     "data": {
      "text/plain": [
       "hamiltonian_energy (generic function with 1 method)"
      ]
     },
     "execution_count": 3,
     "metadata": {},
     "output_type": "execute_result"
    }
   ],
   "source": [
    "function hamiltonian_energy(N, maxdegree, solver; kws...)\n",
    "    @spin σ[1:N]\n",
    "    H = 1.0 * hamiltonian(σ)\n",
    "    energy(H, maxdegree, solver; kws...)\n",
    "end"
   ]
  },
  {
   "cell_type": "markdown",
   "metadata": {},
   "source": [
    "With hermition matrices"
   ]
  },
  {
   "cell_type": "code",
   "execution_count": 8,
   "metadata": {},
   "outputs": [
    {
     "ename": "MethodError",
     "evalue": "MethodError: no method matching *(::MathOptInterface.ScalarAffineFunction{Complex{Float64}}, ::Int64)\nClosest candidates are:\n  *(::Any, ::Any, !Matched::Any, !Matched::Any...) at operators.jl:529\n  *(!Matched::Complex{Bool}, ::Real) at complex.jl:309\n  *(!Matched::Missing, ::Number) at missing.jl:115\n  ...",
     "output_type": "error",
     "traceback": [
      "MethodError: no method matching *(::MathOptInterface.ScalarAffineFunction{Complex{Float64}}, ::Int64)\nClosest candidates are:\n  *(::Any, ::Any, !Matched::Any, !Matched::Any...) at operators.jl:529\n  *(!Matched::Complex{Bool}, ::Real) at complex.jl:309\n  *(!Matched::Missing, ::Number) at missing.jl:115\n  ...",
      "",
      "Stacktrace:",
      " [1] promote_operation(::typeof(*), ::Type{T} where T, ::Type{T} where T) at /home/blegat/.julia/packages/MutableArithmetics/NuiNA/src/interface.jl:21",
      " [2] _multconstant(::MathOptInterface.ScalarAffineFunction{Complex{Float64}}, ::Function, ::CondensedMatterSOS.SpinPolynomial{Int64}) at /home/blegat/.julia/packages/MultivariatePolynomials/CZWzD/src/operators.jl:243",
      " [3] multconstant(::MathOptInterface.ScalarAffineFunction{Complex{Float64}}, ::CondensedMatterSOS.SpinPolynomial{Int64}) at /home/blegat/.julia/packages/MultivariatePolynomials/CZWzD/src/operators.jl:250",
      " [4] *(::MathOptInterface.ScalarAffineFunction{Complex{Float64}}, ::CondensedMatterSOS.SpinPolynomial{Int64}) at /home/blegat/.julia/packages/PolyJuMP/l2sPX/src/functions.jl:3",
      " [5] promote_operation(::typeof(*), ::Type{T} where T, ::Type{T} where T) at /home/blegat/.julia/packages/MutableArithmetics/NuiNA/src/interface.jl:21",
      " [6] buffer_for(::typeof(MutableArithmetics.add_mul), ::Type{CondensedMatterSOS.SpinPolynomial{MathOptInterface.ScalarAffineFunction{Complex{Float64}}}}, ::Type{T} where T, ::Type{T} where T) at /home/blegat/.julia/packages/MultivariatePolynomials/CZWzD/src/operators.jl:360",
      " [7] _add_mul_array(::Array{CondensedMatterSOS.SpinPolynomial{MathOptInterface.ScalarAffineFunction{Complex{Float64}}},1}, ::SymMatrix{MathOptInterface.ScalarAffineFunction{Complex{Float64}}}, ::Array{CondensedMatterSOS.SpinMonomial,1}) at /home/blegat/.julia/packages/MutableArithmetics/NuiNA/src/linear_algebra.jl:162",
      " [8] mutable_operate!(::typeof(MutableArithmetics.add_mul), ::Array{CondensedMatterSOS.SpinPolynomial{MathOptInterface.ScalarAffineFunction{Complex{Float64}}},1}, ::SymMatrix{MathOptInterface.ScalarAffineFunction{Complex{Float64}}}, ::Array{CondensedMatterSOS.SpinMonomial,1}) at /home/blegat/.julia/packages/MutableArithmetics/NuiNA/src/linear_algebra.jl:196",
      " [9] mutable_operate_to!(::Array{CondensedMatterSOS.SpinPolynomial{MathOptInterface.ScalarAffineFunction{Complex{Float64}}},1}, ::typeof(*), ::SymMatrix{MathOptInterface.ScalarAffineFunction{Complex{Float64}}}, ::Array{CondensedMatterSOS.SpinMonomial,1}) at /home/blegat/.julia/packages/MutableArithmetics/NuiNA/src/linear_algebra.jl:208",
      " [10] _mul!(::Array{CondensedMatterSOS.SpinPolynomial{MathOptInterface.ScalarAffineFunction{Complex{Float64}}},1}, ::SymMatrix{MathOptInterface.ScalarAffineFunction{Complex{Float64}}}, ::Array{CondensedMatterSOS.SpinMonomial,1}) at /home/blegat/.julia/packages/MutableArithmetics/NuiNA/src/dispatch.jl:63",
      " [11] mul!(::Array{CondensedMatterSOS.SpinPolynomial{MathOptInterface.ScalarAffineFunction{Complex{Float64}}},1}, ::SymMatrix{MathOptInterface.ScalarAffineFunction{Complex{Float64}}}, ::Array{CondensedMatterSOS.SpinMonomial,1}) at /home/blegat/.julia/packages/MutableArithmetics/NuiNA/src/dispatch.jl:72",
      " [12] *(::SymMatrix{MathOptInterface.ScalarAffineFunction{Complex{Float64}}}, ::Array{CondensedMatterSOS.SpinMonomial,1}) at /buildworker/worker/package_linux64/build/usr/share/julia/stdlib/v1.4/LinearAlgebra/src/matmul.jl:51",
      " [13] polynomial(::SymMatrix{MathOptInterface.ScalarAffineFunction{Complex{Float64}}}, ::Array{CondensedMatterSOS.SpinMonomial,1}) at /home/blegat/.julia/packages/MultivariatePolynomials/CZWzD/src/polynomial.jl:53",
      " [14] polynomial(::SymMatrix{MathOptInterface.ScalarAffineFunction{Complex{Float64}}}, ::Array{CondensedMatterSOS.SpinMonomial,1}, ::Type{MathOptInterface.ScalarAffineFunction{Complex{Float64}}}) at /home/blegat/.julia/packages/MultivariatePolynomials/CZWzD/src/polynomial.jl:56",
      " [15] polynomial(::SymMatrix{MathOptInterface.ScalarAffineFunction{Complex{Float64}}}, ::MonomialBasis{CondensedMatterSOS.SpinMonomial,Array{CondensedMatterSOS.SpinMonomial,1}}, ::Type{T} where T) at /home/blegat/.julia/packages/MultivariateBases/KKez4/src/monomial.jl:58",
      " [16] polynomial(::GramMatrix{MathOptInterface.ScalarAffineFunction{Complex{Float64}},MonomialBasis{CondensedMatterSOS.SpinMonomial,Array{CondensedMatterSOS.SpinMonomial,1}},MathOptInterface.ScalarAffineFunction{Complex{Float64}}}, ::Type{MathOptInterface.ScalarAffineFunction{Complex{Float64}}}) at /home/blegat/.julia/dev/SumOfSquares/src/gram_matrix.jl:77",
      " [17] polynomial(::GramMatrix{MathOptInterface.ScalarAffineFunction{Complex{Float64}},MonomialBasis{CondensedMatterSOS.SpinMonomial,Array{CondensedMatterSOS.SpinMonomial,1}},MathOptInterface.ScalarAffineFunction{Complex{Float64}}}) at /home/blegat/.julia/dev/SumOfSquares/src/gram_matrix.jl:74",
      " [18] +(::CondensedMatterSOS.SpinPolynomial{MathOptInterface.ScalarAffineFunction{Complex{Float64}}}, ::GramMatrix{MathOptInterface.ScalarAffineFunction{Complex{Float64}},MonomialBasis{CondensedMatterSOS.SpinMonomial,Array{CondensedMatterSOS.SpinMonomial,1}},MathOptInterface.ScalarAffineFunction{Complex{Float64}}}) at /home/blegat/.julia/dev/SumOfSquares/src/gram_matrix.jl:14",
      " [19] operate(::typeof(+), ::CondensedMatterSOS.SpinPolynomial{MathOptInterface.ScalarAffineFunction{Complex{Float64}}}, ::GramMatrix{MathOptInterface.ScalarAffineFunction{Complex{Float64}},MonomialBasis{CondensedMatterSOS.SpinMonomial,Array{CondensedMatterSOS.SpinMonomial,1}},MathOptInterface.ScalarAffineFunction{Complex{Float64}}}) at /home/blegat/.julia/packages/MutableArithmetics/NuiNA/src/interface.jl:88",
      " [20] operate_fallback!(::MutableArithmetics.NotMutable, ::Function, ::CondensedMatterSOS.SpinPolynomial{MathOptInterface.ScalarAffineFunction{Complex{Float64}}}, ::GramMatrix{MathOptInterface.ScalarAffineFunction{Complex{Float64}},MonomialBasis{CondensedMatterSOS.SpinMonomial,Array{CondensedMatterSOS.SpinMonomial,1}},MathOptInterface.ScalarAffineFunction{Complex{Float64}}}) at /home/blegat/.julia/packages/MutableArithmetics/NuiNA/src/interface.jl:275",
      " [21] operate!(::Function, ::CondensedMatterSOS.SpinPolynomial{MathOptInterface.ScalarAffineFunction{Complex{Float64}}}, ::GramMatrix{MathOptInterface.ScalarAffineFunction{Complex{Float64}},MonomialBasis{CondensedMatterSOS.SpinMonomial,Array{CondensedMatterSOS.SpinMonomial,1}},MathOptInterface.ScalarAffineFunction{Complex{Float64}}}) at /home/blegat/.julia/packages/MutableArithmetics/NuiNA/src/interface.jl:271",
      " [22] add!(::CondensedMatterSOS.SpinPolynomial{MathOptInterface.ScalarAffineFunction{Complex{Float64}}}, ::GramMatrix{MathOptInterface.ScalarAffineFunction{Complex{Float64}},MonomialBasis{CondensedMatterSOS.SpinMonomial,Array{CondensedMatterSOS.SpinMonomial,1}},MathOptInterface.ScalarAffineFunction{Complex{Float64}}}) at /home/blegat/.julia/packages/MutableArithmetics/NuiNA/src/shortcuts.jl:13",
      " [23] BottomRF at ./reduce.jl:78 [inlined]",
      " [24] _foldl_impl at ./reduce.jl:55 [inlined]",
      " [25] foldl_impl at ./reduce.jl:45 [inlined]",
      " [26] mapfoldl_impl at ./reduce.jl:41 [inlined]",
      " [27] #mapfoldl#189 at ./reduce.jl:157 [inlined]",
      " [28] _mapreduce_dim at ./reducedim.jl:310 [inlined]",
      " [29] #mapreduce#580 at ./reducedim.jl:307 [inlined]",
      " [30] polynomial at /home/blegat/.julia/dev/SumOfSquares/src/gram_matrix.jl:140 [inlined]",
      " [31] -(::CondensedMatterSOS.SpinPolynomial{MathOptInterface.ScalarAffineFunction{Complex{Float64}}}, ::SparseGramMatrix{MathOptInterface.ScalarAffineFunction{Complex{Float64}},MonomialBasis{CondensedMatterSOS.SpinMonomial,Array{CondensedMatterSOS.SpinMonomial,1}},MathOptInterface.ScalarAffineFunction{Complex{Float64}}}) at /home/blegat/.julia/dev/SumOfSquares/src/gram_matrix.jl:17",
      " [32] operate(::typeof(-), ::CondensedMatterSOS.SpinPolynomial{MathOptInterface.ScalarAffineFunction{Complex{Float64}}}, ::SparseGramMatrix{MathOptInterface.ScalarAffineFunction{Complex{Float64}},MonomialBasis{CondensedMatterSOS.SpinMonomial,Array{CondensedMatterSOS.SpinMonomial,1}},MathOptInterface.ScalarAffineFunction{Complex{Float64}}}) at /home/blegat/.julia/packages/MutableArithmetics/NuiNA/src/interface.jl:88",
      " [33] operate_fallback!(::MutableArithmetics.NotMutable, ::Function, ::CondensedMatterSOS.SpinPolynomial{MathOptInterface.ScalarAffineFunction{Complex{Float64}}}, ::SparseGramMatrix{MathOptInterface.ScalarAffineFunction{Complex{Float64}},MonomialBasis{CondensedMatterSOS.SpinMonomial,Array{CondensedMatterSOS.SpinMonomial,1}},MathOptInterface.ScalarAffineFunction{Complex{Float64}}}) at /home/blegat/.julia/packages/MutableArithmetics/NuiNA/src/interface.jl:275",
      " [34] operate!(::Function, ::CondensedMatterSOS.SpinPolynomial{MathOptInterface.ScalarAffineFunction{Complex{Float64}}}, ::SparseGramMatrix{MathOptInterface.ScalarAffineFunction{Complex{Float64}},MonomialBasis{CondensedMatterSOS.SpinMonomial,Array{CondensedMatterSOS.SpinMonomial,1}},MathOptInterface.ScalarAffineFunction{Complex{Float64}}}) at /home/blegat/.julia/packages/MutableArithmetics/NuiNA/src/interface.jl:271",
      " [35] bridge_constraint(::Type{SumOfSquares.Bridges.Constraint.SOSPolynomialBridge{Complex{Float64},MathOptInterface.VectorAffineFunction{Complex{Float64}},FullSpace,Union{MathOptInterface.ConstraintIndex{MathOptInterface.VectorOfVariables,ComplexOptInterface.HermitianPositiveSemidefiniteConeTriangle}, Array{MathOptInterface.ConstraintIndex{MathOptInterface.VectorOfVariables,ComplexOptInterface.HermitianPositiveSemidefiniteConeTriangle},1}},ComplexOptInterface.HermitianPositiveSemidefiniteConeTriangle,ComplexOptInterface.HermitianPositiveSemidefiniteConeTriangle,Array{#s31,1} where #s31<:MonomialBasis,MonomialBasis,SumOfSquares.Certificate.SparseIdeal{MonomialSparsity,SumOfSquares.Certificate.MaxDegree{NonnegPolyInnerCone{ComplexOptInterface.HermitianPositiveSemidefiniteConeTriangle},MonomialBasis}},CondensedMatterSOS.SpinMonomial,Array{CondensedMatterSOS.SpinMonomial,1}}}, ::MathOptInterface.Bridges.Constraint.SingleBridgeOptimizer{SumOfSquares.Bridges.Constraint.SOSPolynomialBridge{Complex{Float64},F,DT,UMCT,UMST,MCT,GB,ZB,CT,MT,MVT} where MVT<:AbstractArray{MT,1} where MT<:AbstractMonomial where CT<:SumOfSquares.Certificate.AbstractIdealCertificate where ZB<:AbstractPolynomialBasis where GB<:Union{AbstractPolynomialBasis, Array{#s30,1} where #s30<:AbstractPolynomialBasis} where MCT where UMST where UMCT<:Union{Array{#s31,1} where #s31<:(MathOptInterface.ConstraintIndex{MathOptInterface.VectorOfVariables,S} where S), MathOptInterface.ConstraintIndex{MathOptInterface.VectorOfVariables,S} where S} where DT<:AbstractSemialgebraicSet where F<:MathOptInterface.AbstractVectorFunction,MathOptInterface.Bridges.Constraint.SingleBridgeOptimizer{PolyJuMP.ZeroPolynomialBridge{Complex{Float64},F,MT,MVT} where MVT<:AbstractArray{MT,1} where MT<:AbstractMonomial where F<:MathOptInterface.AbstractVectorFunction,MathOptInterface.Bridges.Variable.SingleBridgeOptimizer{ComplexOptInterface.Bridges.Variable.HermitianToSymmetricPSDBridge{Float64},MathOptInterface.Bridges.Constraint.SingleBridgeOptimizer{ComplexOptInterface.Bridges.Constraint.SplitZeroBridge{Float64,F,G} where G<:Union{MathOptInterface.ScalarAffineFunction{Complex{Float64}}, MathOptInterface.ScalarQuadraticFunction{Complex{Float64}}, MathOptInterface.VectorAffineFunction{Complex{Float64}}, MathOptInterface.VectorQuadraticFunction{Complex{Float64}}} where F<:Union{MathOptInterface.ScalarAffineFunction{Float64}, MathOptInterface.ScalarQuadraticFunction{Float64}, MathOptInterface.VectorAffineFunction{Float64}, MathOptInterface.VectorQuadraticFunction{Float64}},MathOptInterface.Bridges.LazyBridgeOptimizer{MosekModel}}}}}, ::MathOptInterface.VectorAffineFunction{Complex{Float64}}, ::SumOfSquares.SOSPolynomialSet{FullSpace,CondensedMatterSOS.SpinMonomial,Array{CondensedMatterSOS.SpinMonomial,1},SumOfSquares.Certificate.SparseIdeal{MonomialSparsity,SumOfSquares.Certificate.MaxDegree{NonnegPolyInnerCone{ComplexOptInterface.HermitianPositiveSemidefiniteConeTriangle},MonomialBasis}}}) at /home/blegat/.julia/dev/SumOfSquares/src/Bridges/Constraint/sos_polynomial.jl:44",
      " [36] add_bridged_constraint(::MathOptInterface.Bridges.Constraint.SingleBridgeOptimizer{SumOfSquares.Bridges.Constraint.SOSPolynomialBridge{Complex{Float64},F,DT,UMCT,UMST,MCT,GB,ZB,CT,MT,MVT} where MVT<:AbstractArray{MT,1} where MT<:AbstractMonomial where CT<:SumOfSquares.Certificate.AbstractIdealCertificate where ZB<:AbstractPolynomialBasis where GB<:Union{AbstractPolynomialBasis, Array{#s30,1} where #s30<:AbstractPolynomialBasis} where MCT where UMST where UMCT<:Union{Array{#s31,1} where #s31<:(MathOptInterface.ConstraintIndex{MathOptInterface.VectorOfVariables,S} where S), MathOptInterface.ConstraintIndex{MathOptInterface.VectorOfVariables,S} where S} where DT<:AbstractSemialgebraicSet where F<:MathOptInterface.AbstractVectorFunction,MathOptInterface.Bridges.Constraint.SingleBridgeOptimizer{PolyJuMP.ZeroPolynomialBridge{Complex{Float64},F,MT,MVT} where MVT<:AbstractArray{MT,1} where MT<:AbstractMonomial where F<:MathOptInterface.AbstractVectorFunction,MathOptInterface.Bridges.Variable.SingleBridgeOptimizer{ComplexOptInterface.Bridges.Variable.HermitianToSymmetricPSDBridge{Float64},MathOptInterface.Bridges.Constraint.SingleBridgeOptimizer{ComplexOptInterface.Bridges.Constraint.SplitZeroBridge{Float64,F,G} where G<:Union{MathOptInterface.ScalarAffineFunction{Complex{Float64}}, MathOptInterface.ScalarQuadraticFunction{Complex{Float64}}, MathOptInterface.VectorAffineFunction{Complex{Float64}}, MathOptInterface.VectorQuadraticFunction{Complex{Float64}}} where F<:Union{MathOptInterface.ScalarAffineFunction{Float64}, MathOptInterface.ScalarQuadraticFunction{Float64}, MathOptInterface.VectorAffineFunction{Float64}, MathOptInterface.VectorQuadraticFunction{Float64}},MathOptInterface.Bridges.LazyBridgeOptimizer{MosekModel}}}}}, ::Type{T} where T, ::MathOptInterface.VectorAffineFunction{Complex{Float64}}, ::SumOfSquares.SOSPolynomialSet{FullSpace,CondensedMatterSOS.SpinMonomial,Array{CondensedMatterSOS.SpinMonomial,1},SumOfSquares.Certificate.SparseIdeal{MonomialSparsity,SumOfSquares.Certificate.MaxDegree{NonnegPolyInnerCone{ComplexOptInterface.HermitianPositiveSemidefiniteConeTriangle},MonomialBasis}}}) at /home/blegat/.julia/dev/MathOptInterface/src/Bridges/bridge_optimizer.jl:1058",
      " [37] add_constraint(::MathOptInterface.Bridges.Constraint.SingleBridgeOptimizer{SumOfSquares.Bridges.Constraint.SOSPolynomialBridge{Complex{Float64},F,DT,UMCT,UMST,MCT,GB,ZB,CT,MT,MVT} where MVT<:AbstractArray{MT,1} where MT<:AbstractMonomial where CT<:SumOfSquares.Certificate.AbstractIdealCertificate where ZB<:AbstractPolynomialBasis where GB<:Union{AbstractPolynomialBasis, Array{#s30,1} where #s30<:AbstractPolynomialBasis} where MCT where UMST where UMCT<:Union{Array{#s31,1} where #s31<:(MathOptInterface.ConstraintIndex{MathOptInterface.VectorOfVariables,S} where S), MathOptInterface.ConstraintIndex{MathOptInterface.VectorOfVariables,S} where S} where DT<:AbstractSemialgebraicSet where F<:MathOptInterface.AbstractVectorFunction,MathOptInterface.Bridges.Constraint.SingleBridgeOptimizer{PolyJuMP.ZeroPolynomialBridge{Complex{Float64},F,MT,MVT} where MVT<:AbstractArray{MT,1} where MT<:AbstractMonomial where F<:MathOptInterface.AbstractVectorFunction,MathOptInterface.Bridges.Variable.SingleBridgeOptimizer{ComplexOptInterface.Bridges.Variable.HermitianToSymmetricPSDBridge{Float64},MathOptInterface.Bridges.Constraint.SingleBridgeOptimizer{ComplexOptInterface.Bridges.Constraint.SplitZeroBridge{Float64,F,G} where G<:Union{MathOptInterface.ScalarAffineFunction{Complex{Float64}}, MathOptInterface.ScalarQuadraticFunction{Complex{Float64}}, MathOptInterface.VectorAffineFunction{Complex{Float64}}, MathOptInterface.VectorQuadraticFunction{Complex{Float64}}} where F<:Union{MathOptInterface.ScalarAffineFunction{Float64}, MathOptInterface.ScalarQuadraticFunction{Float64}, MathOptInterface.VectorAffineFunction{Float64}, MathOptInterface.VectorQuadraticFunction{Float64}},MathOptInterface.Bridges.LazyBridgeOptimizer{MosekModel}}}}}, ::MathOptInterface.VectorAffineFunction{Complex{Float64}}, ::SumOfSquares.SOSPolynomialSet{FullSpace,CondensedMatterSOS.SpinMonomial,Array{CondensedMatterSOS.SpinMonomial,1},SumOfSquares.Certificate.SparseIdeal{MonomialSparsity,SumOfSquares.Certificate.MaxDegree{NonnegPolyInnerCone{ComplexOptInterface.HermitianPositiveSemidefiniteConeTriangle},MonomialBasis}}}) at /home/blegat/.julia/dev/MathOptInterface/src/Bridges/bridge_optimizer.jl:1109",
      " [38] add_constraint(::MathOptInterface.Bridges.Constraint.SingleBridgeOptimizer{SumOfSquares.Bridges.Constraint.SOSPolynomialBridge{Complex{Float64},F,DT,UMCT,UMST,MCT,GB,ZB,CT,MT,MVT} where MVT<:AbstractArray{MT,1} where MT<:AbstractMonomial where CT<:SumOfSquares.Certificate.AbstractIdealCertificate where ZB<:AbstractPolynomialBasis where GB<:Union{AbstractPolynomialBasis, Array{#s30,1} where #s30<:AbstractPolynomialBasis} where MCT where UMST where UMCT<:Union{Array{#s31,1} where #s31<:(MathOptInterface.ConstraintIndex{MathOptInterface.VectorOfVariables,S} where S), MathOptInterface.ConstraintIndex{MathOptInterface.VectorOfVariables,S} where S} where DT<:AbstractSemialgebraicSet where F<:MathOptInterface.AbstractVectorFunction,MathOptInterface.Bridges.Constraint.SingleBridgeOptimizer{PolyJuMP.ZeroPolynomialBridge{Complex{Float64},F,MT,MVT} where MVT<:AbstractArray{MT,1} where MT<:AbstractMonomial where F<:MathOptInterface.AbstractVectorFunction,MathOptInterface.Bridges.Variable.SingleBridgeOptimizer{ComplexOptInterface.Bridges.Variable.HermitianToSymmetricPSDBridge{Float64},MathOptInterface.Bridges.Constraint.SingleBridgeOptimizer{ComplexOptInterface.Bridges.Constraint.SplitZeroBridge{Float64,F,G} where G<:Union{MathOptInterface.ScalarAffineFunction{Complex{Float64}}, MathOptInterface.ScalarQuadraticFunction{Complex{Float64}}, MathOptInterface.VectorAffineFunction{Complex{Float64}}, MathOptInterface.VectorQuadraticFunction{Complex{Float64}}} where F<:Union{MathOptInterface.ScalarAffineFunction{Float64}, MathOptInterface.ScalarQuadraticFunction{Float64}, MathOptInterface.VectorAffineFunction{Float64}, MathOptInterface.VectorQuadraticFunction{Float64}},MathOptInterface.Bridges.LazyBridgeOptimizer{MosekModel}}}}}, ::CondensedMatterSOS.SpinPolynomial{MathOptInterface.ScalarAffineFunction{Complex{Float64}}}, ::NonnegPolyInnerCone{MathOptInterface.PositiveSemidefiniteConeTriangle}; kws::Base.Iterators.Pairs{Symbol,SumOfSquares.Certificate.SparseIdeal{MonomialSparsity,SumOfSquares.Certificate.MaxDegree{NonnegPolyInnerCone{ComplexOptInterface.HermitianPositiveSemidefiniteConeTriangle},MonomialBasis}},Tuple{Symbol},NamedTuple{(:ideal_certificate,),Tuple{SumOfSquares.Certificate.SparseIdeal{MonomialSparsity,SumOfSquares.Certificate.MaxDegree{NonnegPolyInnerCone{ComplexOptInterface.HermitianPositiveSemidefiniteConeTriangle},MonomialBasis}}}}}) at ./In[7]:16",
      " [39] energy(::CondensedMatterSOS.SpinPolynomial{Complex{Float64}}, ::Int64, ::MathOptInterface.OptimizerWithAttributes; cone::NonnegPolyInnerCone{ComplexOptInterface.HermitianPositiveSemidefiniteConeTriangle}, kws::Base.Iterators.Pairs{Union{},Union{},Tuple{},NamedTuple{(),Tuple{}}}) at ./In[7]:32",
      " [40] energy at ./In[7]:22 [inlined]",
      " [41] #hamiltonian_energy#7 at ./In[3]:4 [inlined]",
      " [42] hamiltonian_energy(::Int64, ::Int64, ::MathOptInterface.OptimizerWithAttributes) at ./In[3]:2",
      " [43] top-level scope at In[8]:3"
     ]
    }
   ],
   "source": [
    "using MosekTools\n",
    "solver = optimizer_with_attributes(Mosek.Optimizer, MOI.Silent() => true)\n",
    "bound, ν = hamiltonian_energy(2, 2, solver)\n",
    "bound"
   ]
  },
  {
   "cell_type": "code",
   "execution_count": 34,
   "metadata": {},
   "outputs": [
    {
     "data": {
      "text/plain": [
       "7×7 SymMatrix{Complex{Float64}}:\n",
       "   3.99787e-9+0.0im          …    -1.6652e-9+1.23552e-24im\n",
       "   4.2734e-21+1.26674e-22im     -1.03389e-20-2.43805e-20im\n",
       "  2.14353e-22-2.11607e-21im      2.76562e-20+5.27478e-20im\n",
       "  -1.66501e-9+3.78151e-24im     -4.37705e-23+4.75228e-24im\n",
       " -3.96811e-21+6.98069e-23im      1.10735e-20+1.79254e-20im\n",
       "  2.06645e-22+1.28409e-21im  …   1.46068e-20+8.19064e-21im\n",
       "   -1.6652e-9-1.23552e-24im       3.39316e-9+0.0im"
      ]
     },
     "execution_count": 34,
     "metadata": {},
     "output_type": "execute_result"
    }
   ],
   "source": [
    "ν.Q"
   ]
  },
  {
   "cell_type": "code",
   "execution_count": 58,
   "metadata": {
    "collapsed": true
   },
   "outputs": [],
   "source": [
    "xx = nothing\n",
    "SumOfSquares.SparseGramMatrix(x) = (@show typeof(x); global xx; xx = x; error())"
   ]
  },
  {
   "cell_type": "code",
   "execution_count": 74,
   "metadata": {},
   "outputs": [
    {
     "data": {
      "text/plain": [
       "2×2 SymMatrix{MathOptInterface.ScalarAffineFunction{Complex{Float64}}}:\n",
       " x[-5]                    x[-6]+0.0 + 1.0im x[-8]\n",
       " x[-6]+0.0 - 1.0im x[-8]  x[-7]"
      ]
     },
     "execution_count": 74,
     "metadata": {},
     "output_type": "execute_result"
    }
   ],
   "source": [
    "xx[2].Q"
   ]
  },
  {
   "cell_type": "code",
   "execution_count": 60,
   "metadata": {},
   "outputs": [
    {
     "name": "stdout",
     "output_type": "stream",
     "text": [
      "typeof(x) = Array{GramMatrix{T,MonomialBasis{CondensedMatterSOS.SpinMonomial,Array{CondensedMatterSOS.SpinMonomial,1}},MathOptInterface.ScalarAffineFunction{Complex{Float64}}} where T,1}\n"
     ]
    },
    {
     "ename": "ErrorException",
     "evalue": "",
     "output_type": "error",
     "traceback": [
      "",
      "",
      "Stacktrace:",
      " [1] error() at ./error.jl:42",
      " [2] SparseGramMatrix(::Array{GramMatrix{T,MonomialBasis{CondensedMatterSOS.SpinMonomial,Array{CondensedMatterSOS.SpinMonomial,1}},MathOptInterface.ScalarAffineFunction{Complex{Float64}}} where T,1}) at ./In[58]:2",
      " [3] add_gram_matrix(::MathOptInterface.Bridges.Constraint.SingleBridgeOptimizer{SumOfSquares.Bridges.Constraint.SOSPolynomialBridge{Complex{Float64},F,DT,UMCT,UMST,MCT,GB,ZB,CT,MT,MVT} where MVT<:AbstractArray{MT,1} where MT<:AbstractMonomial where CT<:SumOfSquares.Certificate.AbstractIdealCertificate where ZB<:AbstractPolynomialBasis where GB<:Union{AbstractPolynomialBasis, Array{#s30,1} where #s30<:AbstractPolynomialBasis} where MCT where UMST where UMCT<:Union{Array{#s31,1} where #s31<:(MathOptInterface.ConstraintIndex{MathOptInterface.VectorOfVariables,S} where S), MathOptInterface.ConstraintIndex{MathOptInterface.VectorOfVariables,S} where S} where DT<:AbstractSemialgebraicSet where F<:MathOptInterface.AbstractVectorFunction,MathOptInterface.Bridges.Constraint.SingleBridgeOptimizer{PolyJuMP.ZeroPolynomialBridge{Complex{Float64},F,MT,MVT} where MVT<:AbstractArray{MT,1} where MT<:AbstractMonomial where F<:MathOptInterface.AbstractVectorFunction,MathOptInterface.Bridges.Variable.SingleBridgeOptimizer{ComplexOptInterface.Bridges.Variable.HermitianToSymmetricPSDBridge{Float64},MathOptInterface.Bridges.Constraint.SingleBridgeOptimizer{ComplexOptInterface.Bridges.Constraint.SplitZeroBridge{Float64,F,G} where G<:Union{MathOptInterface.ScalarAffineFunction{Complex{Float64}}, MathOptInterface.ScalarQuadraticFunction{Complex{Float64}}, MathOptInterface.VectorAffineFunction{Complex{Float64}}, MathOptInterface.VectorQuadraticFunction{Complex{Float64}}} where F<:Union{MathOptInterface.ScalarAffineFunction{Float64}, MathOptInterface.ScalarQuadraticFunction{Float64}, MathOptInterface.VectorAffineFunction{Float64}, MathOptInterface.VectorQuadraticFunction{Float64}},MathOptInterface.Bridges.LazyBridgeOptimizer{MosekModel}}}}}, ::Type{T} where T, ::Array{MonomialBasis{CondensedMatterSOS.SpinMonomial,Array{CondensedMatterSOS.SpinMonomial,1}},1}, ::Type{T} where T) at /home/blegat/.julia/dev/SumOfSquares/src/sos_polynomial.jl:58",
      " [4] bridge_constraint(::Type{SumOfSquares.Bridges.Constraint.SOSPolynomialBridge{Complex{Float64},MathOptInterface.VectorAffineFunction{Complex{Float64}},FullSpace,Union{MathOptInterface.ConstraintIndex{MathOptInterface.VectorOfVariables,ComplexOptInterface.HermitianPositiveSemidefiniteConeTriangle}, Array{MathOptInterface.ConstraintIndex{MathOptInterface.VectorOfVariables,ComplexOptInterface.HermitianPositiveSemidefiniteConeTriangle},1}},ComplexOptInterface.HermitianPositiveSemidefiniteConeTriangle,ComplexOptInterface.HermitianPositiveSemidefiniteConeTriangle,Array{#s31,1} where #s31<:MonomialBasis,MonomialBasis,SumOfSquares.Certificate.SparseIdeal{MonomialSparsity,SumOfSquares.Certificate.MaxDegree{NonnegPolyInnerCone{ComplexOptInterface.HermitianPositiveSemidefiniteConeTriangle},MonomialBasis}},CondensedMatterSOS.SpinMonomial,Array{CondensedMatterSOS.SpinMonomial,1}}}, ::MathOptInterface.Bridges.Constraint.SingleBridgeOptimizer{SumOfSquares.Bridges.Constraint.SOSPolynomialBridge{Complex{Float64},F,DT,UMCT,UMST,MCT,GB,ZB,CT,MT,MVT} where MVT<:AbstractArray{MT,1} where MT<:AbstractMonomial where CT<:SumOfSquares.Certificate.AbstractIdealCertificate where ZB<:AbstractPolynomialBasis where GB<:Union{AbstractPolynomialBasis, Array{#s30,1} where #s30<:AbstractPolynomialBasis} where MCT where UMST where UMCT<:Union{Array{#s31,1} where #s31<:(MathOptInterface.ConstraintIndex{MathOptInterface.VectorOfVariables,S} where S), MathOptInterface.ConstraintIndex{MathOptInterface.VectorOfVariables,S} where S} where DT<:AbstractSemialgebraicSet where F<:MathOptInterface.AbstractVectorFunction,MathOptInterface.Bridges.Constraint.SingleBridgeOptimizer{PolyJuMP.ZeroPolynomialBridge{Complex{Float64},F,MT,MVT} where MVT<:AbstractArray{MT,1} where MT<:AbstractMonomial where F<:MathOptInterface.AbstractVectorFunction,MathOptInterface.Bridges.Variable.SingleBridgeOptimizer{ComplexOptInterface.Bridges.Variable.HermitianToSymmetricPSDBridge{Float64},MathOptInterface.Bridges.Constraint.SingleBridgeOptimizer{ComplexOptInterface.Bridges.Constraint.SplitZeroBridge{Float64,F,G} where G<:Union{MathOptInterface.ScalarAffineFunction{Complex{Float64}}, MathOptInterface.ScalarQuadraticFunction{Complex{Float64}}, MathOptInterface.VectorAffineFunction{Complex{Float64}}, MathOptInterface.VectorQuadraticFunction{Complex{Float64}}} where F<:Union{MathOptInterface.ScalarAffineFunction{Float64}, MathOptInterface.ScalarQuadraticFunction{Float64}, MathOptInterface.VectorAffineFunction{Float64}, MathOptInterface.VectorQuadraticFunction{Float64}},MathOptInterface.Bridges.LazyBridgeOptimizer{MosekModel}}}}}, ::MathOptInterface.VectorAffineFunction{Complex{Float64}}, ::SumOfSquares.SOSPolynomialSet{FullSpace,CondensedMatterSOS.SpinMonomial,Array{CondensedMatterSOS.SpinMonomial,1},SumOfSquares.Certificate.SparseIdeal{MonomialSparsity,SumOfSquares.Certificate.MaxDegree{NonnegPolyInnerCone{ComplexOptInterface.HermitianPositiveSemidefiniteConeTriangle},MonomialBasis}}}) at /home/blegat/.julia/dev/SumOfSquares/src/Bridges/Constraint/sos_polynomial.jl:41",
      " [5] add_bridged_constraint(::MathOptInterface.Bridges.Constraint.SingleBridgeOptimizer{SumOfSquares.Bridges.Constraint.SOSPolynomialBridge{Complex{Float64},F,DT,UMCT,UMST,MCT,GB,ZB,CT,MT,MVT} where MVT<:AbstractArray{MT,1} where MT<:AbstractMonomial where CT<:SumOfSquares.Certificate.AbstractIdealCertificate where ZB<:AbstractPolynomialBasis where GB<:Union{AbstractPolynomialBasis, Array{#s30,1} where #s30<:AbstractPolynomialBasis} where MCT where UMST where UMCT<:Union{Array{#s31,1} where #s31<:(MathOptInterface.ConstraintIndex{MathOptInterface.VectorOfVariables,S} where S), MathOptInterface.ConstraintIndex{MathOptInterface.VectorOfVariables,S} where S} where DT<:AbstractSemialgebraicSet where F<:MathOptInterface.AbstractVectorFunction,MathOptInterface.Bridges.Constraint.SingleBridgeOptimizer{PolyJuMP.ZeroPolynomialBridge{Complex{Float64},F,MT,MVT} where MVT<:AbstractArray{MT,1} where MT<:AbstractMonomial where F<:MathOptInterface.AbstractVectorFunction,MathOptInterface.Bridges.Variable.SingleBridgeOptimizer{ComplexOptInterface.Bridges.Variable.HermitianToSymmetricPSDBridge{Float64},MathOptInterface.Bridges.Constraint.SingleBridgeOptimizer{ComplexOptInterface.Bridges.Constraint.SplitZeroBridge{Float64,F,G} where G<:Union{MathOptInterface.ScalarAffineFunction{Complex{Float64}}, MathOptInterface.ScalarQuadraticFunction{Complex{Float64}}, MathOptInterface.VectorAffineFunction{Complex{Float64}}, MathOptInterface.VectorQuadraticFunction{Complex{Float64}}} where F<:Union{MathOptInterface.ScalarAffineFunction{Float64}, MathOptInterface.ScalarQuadraticFunction{Float64}, MathOptInterface.VectorAffineFunction{Float64}, MathOptInterface.VectorQuadraticFunction{Float64}},MathOptInterface.Bridges.LazyBridgeOptimizer{MosekModel}}}}}, ::Type{T} where T, ::MathOptInterface.VectorAffineFunction{Complex{Float64}}, ::SumOfSquares.SOSPolynomialSet{FullSpace,CondensedMatterSOS.SpinMonomial,Array{CondensedMatterSOS.SpinMonomial,1},SumOfSquares.Certificate.SparseIdeal{MonomialSparsity,SumOfSquares.Certificate.MaxDegree{NonnegPolyInnerCone{ComplexOptInterface.HermitianPositiveSemidefiniteConeTriangle},MonomialBasis}}}) at /home/blegat/.julia/packages/MathOptInterface/k7UUH/src/Bridges/bridge_optimizer.jl:1058",
      " [6] add_constraint(::MathOptInterface.Bridges.Constraint.SingleBridgeOptimizer{SumOfSquares.Bridges.Constraint.SOSPolynomialBridge{Complex{Float64},F,DT,UMCT,UMST,MCT,GB,ZB,CT,MT,MVT} where MVT<:AbstractArray{MT,1} where MT<:AbstractMonomial where CT<:SumOfSquares.Certificate.AbstractIdealCertificate where ZB<:AbstractPolynomialBasis where GB<:Union{AbstractPolynomialBasis, Array{#s30,1} where #s30<:AbstractPolynomialBasis} where MCT where UMST where UMCT<:Union{Array{#s31,1} where #s31<:(MathOptInterface.ConstraintIndex{MathOptInterface.VectorOfVariables,S} where S), MathOptInterface.ConstraintIndex{MathOptInterface.VectorOfVariables,S} where S} where DT<:AbstractSemialgebraicSet where F<:MathOptInterface.AbstractVectorFunction,MathOptInterface.Bridges.Constraint.SingleBridgeOptimizer{PolyJuMP.ZeroPolynomialBridge{Complex{Float64},F,MT,MVT} where MVT<:AbstractArray{MT,1} where MT<:AbstractMonomial where F<:MathOptInterface.AbstractVectorFunction,MathOptInterface.Bridges.Variable.SingleBridgeOptimizer{ComplexOptInterface.Bridges.Variable.HermitianToSymmetricPSDBridge{Float64},MathOptInterface.Bridges.Constraint.SingleBridgeOptimizer{ComplexOptInterface.Bridges.Constraint.SplitZeroBridge{Float64,F,G} where G<:Union{MathOptInterface.ScalarAffineFunction{Complex{Float64}}, MathOptInterface.ScalarQuadraticFunction{Complex{Float64}}, MathOptInterface.VectorAffineFunction{Complex{Float64}}, MathOptInterface.VectorQuadraticFunction{Complex{Float64}}} where F<:Union{MathOptInterface.ScalarAffineFunction{Float64}, MathOptInterface.ScalarQuadraticFunction{Float64}, MathOptInterface.VectorAffineFunction{Float64}, MathOptInterface.VectorQuadraticFunction{Float64}},MathOptInterface.Bridges.LazyBridgeOptimizer{MosekModel}}}}}, ::MathOptInterface.VectorAffineFunction{Complex{Float64}}, ::SumOfSquares.SOSPolynomialSet{FullSpace,CondensedMatterSOS.SpinMonomial,Array{CondensedMatterSOS.SpinMonomial,1},SumOfSquares.Certificate.SparseIdeal{MonomialSparsity,SumOfSquares.Certificate.MaxDegree{NonnegPolyInnerCone{ComplexOptInterface.HermitianPositiveSemidefiniteConeTriangle},MonomialBasis}}}) at /home/blegat/.julia/packages/MathOptInterface/k7UUH/src/Bridges/bridge_optimizer.jl:1109",
      " [7] add_constraint(::MathOptInterface.Bridges.Constraint.SingleBridgeOptimizer{SumOfSquares.Bridges.Constraint.SOSPolynomialBridge{Complex{Float64},F,DT,UMCT,UMST,MCT,GB,ZB,CT,MT,MVT} where MVT<:AbstractArray{MT,1} where MT<:AbstractMonomial where CT<:SumOfSquares.Certificate.AbstractIdealCertificate where ZB<:AbstractPolynomialBasis where GB<:Union{AbstractPolynomialBasis, Array{#s30,1} where #s30<:AbstractPolynomialBasis} where MCT where UMST where UMCT<:Union{Array{#s31,1} where #s31<:(MathOptInterface.ConstraintIndex{MathOptInterface.VectorOfVariables,S} where S), MathOptInterface.ConstraintIndex{MathOptInterface.VectorOfVariables,S} where S} where DT<:AbstractSemialgebraicSet where F<:MathOptInterface.AbstractVectorFunction,MathOptInterface.Bridges.Constraint.SingleBridgeOptimizer{PolyJuMP.ZeroPolynomialBridge{Complex{Float64},F,MT,MVT} where MVT<:AbstractArray{MT,1} where MT<:AbstractMonomial where F<:MathOptInterface.AbstractVectorFunction,MathOptInterface.Bridges.Variable.SingleBridgeOptimizer{ComplexOptInterface.Bridges.Variable.HermitianToSymmetricPSDBridge{Float64},MathOptInterface.Bridges.Constraint.SingleBridgeOptimizer{ComplexOptInterface.Bridges.Constraint.SplitZeroBridge{Float64,F,G} where G<:Union{MathOptInterface.ScalarAffineFunction{Complex{Float64}}, MathOptInterface.ScalarQuadraticFunction{Complex{Float64}}, MathOptInterface.VectorAffineFunction{Complex{Float64}}, MathOptInterface.VectorQuadraticFunction{Complex{Float64}}} where F<:Union{MathOptInterface.ScalarAffineFunction{Float64}, MathOptInterface.ScalarQuadraticFunction{Float64}, MathOptInterface.VectorAffineFunction{Float64}, MathOptInterface.VectorQuadraticFunction{Float64}},MathOptInterface.Bridges.LazyBridgeOptimizer{MosekModel}}}}}, ::CondensedMatterSOS.SpinPolynomial{MathOptInterface.ScalarAffineFunction{Complex{Float64}}}, ::NonnegPolyInnerCone{MathOptInterface.PositiveSemidefiniteConeTriangle}; kws::Base.Iterators.Pairs{Symbol,Any,Tuple{Symbol,Symbol},NamedTuple{(:ideal_certificate, :sparsity),Tuple{SumOfSquares.Certificate.SparseIdeal{MonomialSparsity,SumOfSquares.Certificate.MaxDegree{NonnegPolyInnerCone{ComplexOptInterface.HermitianPositiveSemidefiniteConeTriangle},MonomialBasis}},MonomialSparsity}}}) at ./In[39]:6",
      " [8] energy(::CondensedMatterSOS.SpinPolynomial{Complex{Float64}}, ::Int64, ::MathOptInterface.OptimizerWithAttributes; cone::NonnegPolyInnerCone{ComplexOptInterface.HermitianPositiveSemidefiniteConeTriangle}, kws::Base.Iterators.Pairs{Symbol,MonomialSparsity,Tuple{Symbol},NamedTuple{(:sparsity,),Tuple{MonomialSparsity}}}) at ./In[39]:22",
      " [9] #hamiltonian_energy#18 at ./In[32]:4 [inlined]",
      " [10] top-level scope at In[60]:3"
     ]
    }
   ],
   "source": [
    "using MosekTools\n",
    "solver = optimizer_with_attributes(Mosek.Optimizer, MOI.Silent() => true)\n",
    "bound, ν = hamiltonian_energy(2, 2, solver, sparsity = MonomialSparsity(1))\n",
    "bound"
   ]
  },
  {
   "cell_type": "code",
   "execution_count": 36,
   "metadata": {},
   "outputs": [
    {
     "data": {
      "text/plain": [
       "7×7 SymMatrix{Complex{Float64}}:\n",
       "   3.99787e-9+0.0im          …    -1.6652e-9+1.23552e-24im\n",
       "   4.2734e-21+1.26674e-22im     -1.03389e-20-2.43805e-20im\n",
       "  2.14353e-22-2.11607e-21im      2.76562e-20+5.27478e-20im\n",
       "  -1.66501e-9+3.78151e-24im     -4.37705e-23+4.75228e-24im\n",
       " -3.96811e-21+6.98069e-23im      1.10735e-20+1.79254e-20im\n",
       "  2.06645e-22+1.28409e-21im  …   1.46068e-20+8.19064e-21im\n",
       "   -1.6652e-9-1.23552e-24im       3.39316e-9+0.0im"
      ]
     },
     "execution_count": 36,
     "metadata": {},
     "output_type": "execute_result"
    }
   ],
   "source": [
    "ν.Q"
   ]
  },
  {
   "cell_type": "markdown",
   "metadata": {},
   "source": [
    "With real symmetric matrices"
   ]
  },
  {
   "cell_type": "code",
   "execution_count": 12,
   "metadata": {},
   "outputs": [
    {
     "data": {
      "text/plain": [
       "-3.9999999997960343"
      ]
     },
     "execution_count": 12,
     "metadata": {},
     "output_type": "execute_result"
    }
   ],
   "source": [
    "bound, ν = hamiltonian_energy(2, 2, solver, cone=NonnegPolyInnerCone{MOI.PositiveSemidefiniteConeTriangle}())\n",
    "bound"
   ]
  },
  {
   "cell_type": "code",
   "execution_count": 17,
   "metadata": {},
   "outputs": [
    {
     "data": {
      "text/plain": [
       "16×16 SymMatrix{Complex{Float64}}:\n",
       "     0.324992+0.0im   1.66189e-19+0.0im  …     0.0398845+0.0im\n",
       "  1.66189e-19-0.0im       0.26383+0.0im      6.37605e-17+0.0im\n",
       "  5.37394e-18-0.0im  -1.64664e-12-0.0im     -4.32608e-17+0.0im\n",
       "    -0.129003-0.0im  -2.37386e-17-0.0im        -0.129003+0.0im\n",
       "  5.29416e-19-0.0im     -0.252115-0.0im     -6.06719e-17+0.0im\n",
       "  2.25684e-18-0.0im  -4.56613e-12-0.0im  …   3.05035e-17+0.0im\n",
       "    -0.129003-0.0im  -2.34377e-17-0.0im        -0.129003+0.0im\n",
       "    -0.247885-0.0im   3.02053e-18-0.0im       -0.0101216+0.0im\n",
       "  2.51721e-12-0.0im    2.7711e-17-0.0im     -1.17356e-11+0.0im\n",
       " -2.24666e-18-0.0im     -0.120997-0.0im     -2.75885e-17+0.0im\n",
       " -2.51721e-12-0.0im  -2.55555e-17-0.0im  …   1.17356e-11+0.0im\n",
       "    0.0101216-0.0im   4.84603e-17-0.0im         0.247885+0.0im\n",
       " -4.46917e-18-0.0im  -2.23745e-12-0.0im      9.01884e-17+0.0im\n",
       " -2.68223e-18-0.0im     0.0927146-0.0im       2.4287e-17+0.0im\n",
       "  1.12115e-18-0.0im   4.81084e-12-0.0im     -8.46979e-17+0.0im\n",
       "    0.0398845-0.0im   6.37605e-17-0.0im  …      0.324992+0.0im"
      ]
     },
     "execution_count": 17,
     "metadata": {},
     "output_type": "execute_result"
    }
   ],
   "source": [
    "ν.Q"
   ]
  },
  {
   "cell_type": "code",
   "execution_count": 14,
   "metadata": {},
   "outputs": [
    {
     "data": {
      "text/plain": [
       "-2.8284271247461685"
      ]
     },
     "execution_count": 14,
     "metadata": {},
     "output_type": "execute_result"
    }
   ],
   "source": [
    "bound, ν = hamiltonian_energy(2, 4, solver, cone=NonnegPolyInnerCone{MOI.PositiveSemidefiniteConeTriangle}())\n",
    "bound"
   ]
  },
  {
   "cell_type": "code",
   "execution_count": 16,
   "metadata": {},
   "outputs": [
    {
     "data": {
      "text/plain": [
       "16×16 SymMatrix{Complex{Float64}}:\n",
       "     0.324992+0.0im   1.66189e-19+0.0im  …     0.0398845+0.0im\n",
       "  1.66189e-19-0.0im       0.26383+0.0im      6.37605e-17+0.0im\n",
       "  5.37394e-18-0.0im  -1.64664e-12-0.0im     -4.32608e-17+0.0im\n",
       "    -0.129003-0.0im  -2.37386e-17-0.0im        -0.129003+0.0im\n",
       "  5.29416e-19-0.0im     -0.252115-0.0im     -6.06719e-17+0.0im\n",
       "  2.25684e-18-0.0im  -4.56613e-12-0.0im  …   3.05035e-17+0.0im\n",
       "    -0.129003-0.0im  -2.34377e-17-0.0im        -0.129003+0.0im\n",
       "    -0.247885-0.0im   3.02053e-18-0.0im       -0.0101216+0.0im\n",
       "  2.51721e-12-0.0im    2.7711e-17-0.0im     -1.17356e-11+0.0im\n",
       " -2.24666e-18-0.0im     -0.120997-0.0im     -2.75885e-17+0.0im\n",
       " -2.51721e-12-0.0im  -2.55555e-17-0.0im  …   1.17356e-11+0.0im\n",
       "    0.0101216-0.0im   4.84603e-17-0.0im         0.247885+0.0im\n",
       " -4.46917e-18-0.0im  -2.23745e-12-0.0im      9.01884e-17+0.0im\n",
       " -2.68223e-18-0.0im     0.0927146-0.0im       2.4287e-17+0.0im\n",
       "  1.12115e-18-0.0im   4.81084e-12-0.0im     -8.46979e-17+0.0im\n",
       "    0.0398845-0.0im   6.37605e-17-0.0im  …      0.324992+0.0im"
      ]
     },
     "execution_count": 16,
     "metadata": {},
     "output_type": "execute_result"
    }
   ],
   "source": [
    "ν.Q"
   ]
  },
  {
   "cell_type": "markdown",
   "metadata": {},
   "source": [
    "# Draft\n",
    "\n",
    "The rest of this notebooks are drafts that should be deleted"
   ]
  },
  {
   "cell_type": "code",
   "execution_count": 18,
   "metadata": {},
   "outputs": [
    {
     "data": {
      "text/latex": [
       "$$ (-2.0 + 0.0im)σˣ_{1}σˣ_{2} + -σᶻ_{1} + -σᶻ_{2} $$"
      ],
      "text/plain": [
       "(-2.0 + 0.0im)σˣ₁σˣ₂ + -σᶻ₁ + -σᶻ₂"
      ]
     },
     "execution_count": 18,
     "metadata": {},
     "output_type": "execute_result"
    }
   ],
   "source": [
    "H"
   ]
  },
  {
   "cell_type": "code",
   "execution_count": 46,
   "metadata": {},
   "outputs": [
    {
     "data": {
      "text/plain": [
       "15-element Array{CondensedMatterSOS.SpinMonomial,1}:\n",
       " σˣ₁\n",
       " σʸ₁\n",
       " σᶻ₁\n",
       " σˣ₂\n",
       " σʸ₂\n",
       " σᶻ₂\n",
       " σˣ₁σˣ₂\n",
       " σˣ₁σʸ₂\n",
       " σˣ₁σᶻ₂\n",
       " σʸ₁σˣ₂\n",
       " σʸ₁σʸ₂\n",
       " σʸ₁σᶻ₂\n",
       " σᶻ₁σˣ₂\n",
       " σᶻ₁σʸ₂\n",
       " σᶻ₁σᶻ₂"
      ]
     },
     "execution_count": 46,
     "metadata": {},
     "output_type": "execute_result"
    }
   ],
   "source": [
    "monomials(σ[1], 1:3)"
   ]
  },
  {
   "cell_type": "code",
   "execution_count": 19,
   "metadata": {},
   "outputs": [
    {
     "data": {
      "text/plain": [
       "7-element Array{CondensedMatterSOS.SpinTerm{Int64},1}:\n",
       " 1\n",
       " σˣ₁\n",
       " σˣ₂\n",
       " σʸ₁\n",
       " σʸ₂\n",
       " σᶻ₁\n",
       " σᶻ₂"
      ]
     },
     "execution_count": 19,
     "metadata": {},
     "output_type": "execute_result"
    }
   ],
   "source": [
    "import MultivariatePolynomials\n",
    "const MP = MultivariatePolynomials\n",
    "v = [1, σx[1], σx[2], σy[1], σy[2], σz[1], σz[2]]"
   ]
  },
  {
   "cell_type": "code",
   "execution_count": 29,
   "metadata": {},
   "outputs": [
    {
     "data": {
      "text/plain": [
       "5-element Array{MonomialBasis{CondensedMatterSOS.SpinMonomial,Array{CondensedMatterSOS.SpinMonomial,1}},1}:\n",
       " MonomialBasis{CondensedMatterSOS.SpinMonomial,Array{CondensedMatterSOS.SpinMonomial,1}}(CondensedMatterSOS.SpinMonomial[σᶻ₂, 1])\n",
       " MonomialBasis{CondensedMatterSOS.SpinMonomial,Array{CondensedMatterSOS.SpinMonomial,1}}(CondensedMatterSOS.SpinMonomial[σᶻ₁, 1])\n",
       " MonomialBasis{CondensedMatterSOS.SpinMonomial,Array{CondensedMatterSOS.SpinMonomial,1}}(CondensedMatterSOS.SpinMonomial[σˣ₁, σˣ₂])\n",
       " MonomialBasis{CondensedMatterSOS.SpinMonomial,Array{CondensedMatterSOS.SpinMonomial,1}}(CondensedMatterSOS.SpinMonomial[σʸ₂])\n",
       " MonomialBasis{CondensedMatterSOS.SpinMonomial,Array{CondensedMatterSOS.SpinMonomial,1}}(CondensedMatterSOS.SpinMonomial[σʸ₁])"
      ]
     },
     "execution_count": 29,
     "metadata": {},
     "output_type": "execute_result"
    }
   ],
   "source": [
    "cone = SOSCone()\n",
    "certificate = SumOfSquares.Certificate.MaxDegree(cone, MonomialBasis, 2)\n",
    "Certificate.sparsity(H, MonomialSparsity(0), certificate)"
   ]
  },
  {
   "cell_type": "markdown",
   "metadata": {},
   "source": [
    "min_σ H(σ) = -2√2"
   ]
  },
  {
   "cell_type": "markdown",
   "metadata": {},
   "source": [
    "max γ s.t. H >= γ -> H - γ = v' Q v"
   ]
  },
  {
   "cell_type": "code",
   "execution_count": 5,
   "metadata": {},
   "outputs": [
    {
     "data": {
      "text/plain": [
       "_mapcoef (generic function with 1 method)"
      ]
     },
     "execution_count": 5,
     "metadata": {},
     "output_type": "execute_result"
    }
   ],
   "source": [
    "function _mat(x::Vector, n)\n",
    "    Q = Matrix{eltype(x)}(undef, n, n)\n",
    "    k = 0\n",
    "    for j in 1:n\n",
    "        for i in 1:j\n",
    "            k += 1\n",
    "            Q[i, j] = Q[j, i] = x[k]\n",
    "        end\n",
    "    end\n",
    "    return Q\n",
    "end\n",
    "import MathOptInterface\n",
    "const MOI = MathOptInterface\n",
    "function _mapcoef(op, f::MOI.ScalarAffineFunction)\n",
    "    MOI.ScalarAffineFunction([\n",
    "        MOI.ScalarAffineTerm(op(t.coefficient), t.variable_index) for t in f.terms\n",
    "    ], op(f.constant))\n",
    "end"
   ]
  },
  {
   "cell_type": "markdown",
   "metadata": {},
   "source": [
    "# Real"
   ]
  },
  {
   "cell_type": "code",
   "execution_count": null,
   "metadata": {
    "collapsed": true
   },
   "outputs": [],
   "source": [
    "function operate!(::typeof(*), ::Type{T}, α::T,\n",
    "                  f::MOI.ScalarAffineFunction) where T\n",
    "    map_terms!(term -> operate_term(*, term, α), f)\n",
    "    rmul!(f.constants, α)\n",
    "    return f\n",
    "end\n",
    "function operate(::typeof(*), ::Type{T}, α::T, f::TypedLike{T}) where T\n",
    "    return operate!(*, T, copy(f), α)\n",
    "end"
   ]
  },
  {
   "cell_type": "code",
   "execution_count": 45,
   "metadata": {
    "collapsed": true
   },
   "outputs": [],
   "source": [
    "using SumOfSquares\n",
    "Base.promote_rule(::Type{T}, ::Type{MOI.SingleVariable}) where {T<:Number} = MOI.ScalarAffineFunction{T}\n",
    "PolyJuMP.non_constant(a::Vector{<:MOI.AbstractFunction}) = a\n",
    "function MultivariatePolynomials.variables(monos::Vector{CondensedMatterSOS.SpinMonomial})\n",
    "    vars = Set{CondensedMatterSOS.SpinVariable}()\n",
    "    for mono in monos\n",
    "        union!(vars, variables(mono))\n",
    "    end\n",
    "    return sort(collect(vars), rev=true)\n",
    "end\n",
    "function Base.convert(::Type{MOI.ScalarAffineFunction{T}}, f::MOI.ScalarAffineFunction) where T\n",
    "    return MOI.ScalarAffineFunction(\n",
    "        [MOI.ScalarAffineTerm(convert(T, t.coefficient), t.variable_index) for t in f.terms],\n",
    "        convert(T, f.constant)\n",
    "    )\n",
    "end\n",
    "function MOI.Utilities.operate(::typeof(*), ::Type{Complex{Float64}}, a::Complex{Float64}, f::MOI.ScalarAffineFunction{Float64})\n",
    "    MOI.Utilities.operate(*, Complex{Float64}, a, convert(MOI.ScalarAffineFunction{Complex{Float64}}, f))\n",
    "end\n",
    "MultivariatePolynomials.variables(p::CondensedMatterSOS.SpinPolynomial) = variables(monomials(p))\n",
    "Base.copy(t::CondensedMatterSOS.SpinTerm) = CondensedMatterSOS.SpinTerm(t.coefficient, t.monomial)\n",
    "Base.:*(f::MOI.ScalarAffineFunction{Complex{Float64}}, a::Number) = f * convert(Complex{Float64}, a)\n",
    "Base.:*(f::MOI.ScalarAffineFunction{Complex{Float64}}, a::Complex{Float64}) = MOI.Utilities.operate(*, Complex{Float64}, a, f)\n",
    "Base.:+(a::Int, f::MOI.ScalarAffineFunction{Complex{Float64}}) = convert(Complex{Float64}, a) + f\n",
    "Base.:+(a::Complex{Float64}, f::MOI.ScalarAffineFunction{Complex{Float64}}) = MOI.Utilities.operate(+, Complex{Float64}, a, f)"
   ]
  },
  {
   "cell_type": "code",
   "execution_count": 6,
   "metadata": {},
   "outputs": [
    {
     "data": {
      "text/plain": [
       "add_constraint (generic function with 1 method)"
      ]
     },
     "execution_count": 6,
     "metadata": {},
     "output_type": "execute_result"
    }
   ],
   "source": [
    "function add_constraint(model, p, cone; kws...)\n",
    "    coefs = MOI.Utilities.vectorize(PolyJuMP.non_constant_coefficients(p))\n",
    "    monos = MP.monomials(p)\n",
    "    set = JuMP.moi_set(cone, monos; kws...)\n",
    "    MOI.add_constraint(model, coefs, set)\n",
    "end"
   ]
  },
  {
   "cell_type": "code",
   "execution_count": 12,
   "metadata": {},
   "outputs": [
    {
     "data": {
      "text/plain": [
       "-3.9999999997960343"
      ]
     },
     "execution_count": 12,
     "metadata": {},
     "output_type": "execute_result"
    }
   ],
   "source": [
    "using SumOfSquares\n",
    "using ComplexOptInterface\n",
    "const COI = ComplexOptInterface\n",
    "using MosekTools\n",
    "solver = optimizer_with_attributes(Mosek.Optimizer, MOI.Silent() => true)\n",
    "optimizer = MOI.instantiate(solver, with_bridge_type=Float64)\n",
    "model = MOI.Bridges.Constraint.SingleBridgeOptimizer{SumOfSquares.Bridges.Constraint.SOSPolynomialBridge{Complex{Float64}}}(\n",
    "    MOI.Bridges.Constraint.SingleBridgeOptimizer{PolyJuMP.ZeroPolynomialBridge{Complex{Float64}}}(\n",
    "    MOI.Bridges.Constraint.SingleBridgeOptimizer{COI.Bridges.Constraint.SplitZeroBridge{Float64}}(\n",
    "    optimizer\n",
    ")))\n",
    "γ = MOI.SingleVariable(MOI.add_variable(model))\n",
    "add_constraint(model, H - γ, SOSCone(), ideal_certificate=SumOfSquares.Certificate.MaxDegree(SOSCone(), MonomialBasis, 2))\n",
    "MOI.set(model, MOI.ObjectiveSense(), MOI.MAX_SENSE)\n",
    "MOI.set(model, MOI.ObjectiveFunction{MOI.SingleVariable}(), γ)\n",
    "MOI.optimize!(model)\n",
    "MOI.get(model, MOI.ObjectiveValue())"
   ]
  },
  {
   "cell_type": "code",
   "execution_count": 38,
   "metadata": {},
   "outputs": [
    {
     "data": {
      "text/plain": [
       "energy (generic function with 3 methods)"
      ]
     },
     "execution_count": 38,
     "metadata": {},
     "output_type": "execute_result"
    }
   ],
   "source": [
    "function energy(H, maxdegree, cone)\n",
    "    solver = optimizer_with_attributes(Mosek.Optimizer, MOI.Silent() => true)\n",
    "    optimizer = MOI.instantiate(solver, with_bridge_type=Float64)\n",
    "    model = MOI.Bridges.Constraint.SingleBridgeOptimizer{SumOfSquares.Bridges.Constraint.SOSPolynomialBridge{Complex{Float64}}}(\n",
    "        MOI.Bridges.Constraint.SingleBridgeOptimizer{PolyJuMP.ZeroPolynomialBridge{Complex{Float64}}}(\n",
    "        MOI.Bridges.Variable.SingleBridgeOptimizer{COI.Bridges.Variable.HermitianToSymmetricPSDBridge{Float64}}(\n",
    "        MOI.Bridges.Constraint.SingleBridgeOptimizer{COI.Bridges.Constraint.SplitZeroBridge{Float64}}(\n",
    "        optimizer\n",
    "    ))))\n",
    "    γ = MOI.SingleVariable(MOI.add_variable(model))\n",
    "    cert = SumOfSquares.Certificate.MaxDegree(cone, MonomialBasis, maxdegree)\n",
    "    add_constraint(model, H - γ, SOSCone(), ideal_certificate=cert)\n",
    "    MOI.set(model, MOI.ObjectiveSense(), MOI.MAX_SENSE)\n",
    "    MOI.set(model, MOI.ObjectiveFunction{MOI.SingleVariable}(), γ)\n",
    "    MOI.optimize!(model)\n",
    "    if MOI.get(model, MOI.TerminationStatus()) != MOI.OPTIMAL\n",
    "        @warn(\"Termination status: $(MOI.get(model, MOI.TerminationStatus())), $(MOI.get(model, MOI.RawStatusString()))\")\n",
    "    end\n",
    "    MOI.get(model, MOI.ObjectiveValue())\n",
    "end"
   ]
  },
  {
   "cell_type": "code",
   "execution_count": 33,
   "metadata": {},
   "outputs": [
    {
     "data": {
      "text/plain": [
       "-3.9999999997960343"
      ]
     },
     "execution_count": 33,
     "metadata": {},
     "output_type": "execute_result"
    }
   ],
   "source": [
    "energy(H, 2, NonnegPolyInnerCone{MOI.PositiveSemidefiniteConeTriangle}())"
   ]
  },
  {
   "cell_type": "code",
   "execution_count": 34,
   "metadata": {},
   "outputs": [
    {
     "data": {
      "text/plain": [
       "-2.8284271247461685"
      ]
     },
     "execution_count": 34,
     "metadata": {},
     "output_type": "execute_result"
    }
   ],
   "source": [
    "energy(H, 4, NonnegPolyInnerCone{MOI.PositiveSemidefiniteConeTriangle}())"
   ]
  },
  {
   "cell_type": "code",
   "execution_count": 114,
   "metadata": {
    "collapsed": true
   },
   "outputs": [],
   "source": [
    "function SumOfSquares.matrix_cone(::Type{COI.HermitianPositiveSemidefiniteConeTriangle}, d)\n",
    "    return COI.HermitianPositiveSemidefiniteConeTriangle(d)\n",
    "end\n",
    "using MutableArithmetics\n",
    "const MA = MutableArithmetics\n",
    "function MOI.Utilities._add_sub_affine_terms(\n",
    "    op::Union{typeof(+), typeof(-)}, terms::Vector{MOI.ScalarAffineTerm{T}},\n",
    "    α::T, f::MOI.SingleVariable) where T\n",
    "    push!(terms, MOI.ScalarAffineTerm(op(α), f.variable))\n",
    "end\n",
    "MOI.Utilities._constant(::Type{T}, ::MOI.SingleVariable) where T = zero(T)\n",
    "function SumOfSquares.add_gram_matrix(\n",
    "        model::MOI.ModelLike,\n",
    "        matrix_cone_type::Type{COI.HermitianPositiveSemidefiniteConeTriangle},\n",
    "        basis::AbstractPolynomialBasis, T::Type{<:Complex})\n",
    "    n = length(basis)\n",
    "    Q, cQ = MOI.add_constrained_variables(model, SumOfSquares.matrix_cone(matrix_cone_type, n))\n",
    "    N = MOI.dimension(MOI.PositiveSemidefiniteConeTriangle(n))\n",
    "    C = [zero(MOI.ScalarAffineFunction{T}) for i in 1:N]\n",
    "    k_real = 0\n",
    "    k_imag = 0\n",
    "    for j in 1:n\n",
    "        for i in 1:j\n",
    "            k_real += 1\n",
    "            MA.mutable_operate!(MA.add_mul, C[k_real], one(T), MOI.SingleVariable(Q[k_real]))\n",
    "            if i != j\n",
    "                k_imag += 1\n",
    "                MA.mutable_operate!(MA.add_mul, C[k_real], one(T) * im, MOI.SingleVariable(Q[N + k_imag]))\n",
    "            end\n",
    "        end\n",
    "    end\n",
    "    q = SumOfSquares.build_gram_matrix(C, basis, T)\n",
    "    return q, Q, cQ\n",
    "end"
   ]
  },
  {
   "cell_type": "code",
   "execution_count": 108,
   "metadata": {},
   "outputs": [
    {
     "data": {
      "text/plain": [
       "2×2 SymMatrix{Complex{Float64}}:\n",
       " 1.0+0.0im  1.0+1.0im\n",
       " 1.0-1.0im  2.0+0.0im"
      ]
     },
     "execution_count": 108,
     "metadata": {},
     "output_type": "execute_result"
    }
   ],
   "source": [
    "q = SumOfSquares.SymMatrix([1.0, 1.0 + im, 2.0], 2)\n",
    "function Base.getindex(Q::SymMatrix, i::Integer, j::Integer)\n",
    "    if i <= j\n",
    "        return Q.Q[MultivariateMoments.trimap(j, i)]\n",
    "    else\n",
    "        return conj(Q[j, i])\n",
    "    end\n",
    "end\n",
    "function COI.Bridges.Constraint.operate_coefficients(f, T::Type, func::MOI.ScalarAffineFunction)\n",
    "    return MOI.ScalarAffineFunction(\n",
    "        [COI.Bridges.Constraint.operate_coefficient(f, T, term) for term in func.terms],\n",
    "        f(func.constant)\n",
    "    )\n",
    "end\n",
    "# We assume MOI variables are real\n",
    "Base.conj(func::MOI.Utilities.TypedLike{T}) where T = COI.Bridges.Constraint.operate_coefficients(conj, T, func)\n",
    "q"
   ]
  },
  {
   "cell_type": "code",
   "execution_count": 92,
   "metadata": {
    "collapsed": true
   },
   "outputs": [],
   "source": [
    "default_name(vi) = string(\"x[\", vi.value, \"]\")\n",
    "function function_string(::Type{JuMP.REPLMode}, v::MOI.VariableIndex, name = default_name)\n",
    "    var_name = name(v)\n",
    "    if !isempty(var_name)\n",
    "        return var_name\n",
    "    else\n",
    "        return \"noname\"\n",
    "    end\n",
    "end\n",
    "function function_string(::Type{JuMP.IJuliaMode}, v::MOI.VariableIndex, name = default_name)\n",
    "    var_name = name(v)\n",
    "    if !isempty(var_name)\n",
    "        # TODO: This is wrong if variable name constains extra \"]\"\n",
    "        return replace(replace(var_name, \"[\" => \"_{\", count = 1), \"]\" => \"}\")\n",
    "    else\n",
    "        return \"noname\"\n",
    "    end\n",
    "end\n",
    "# Whether something is zero or not for the purposes of printing it\n",
    "# oneunit is useful e.g. if coef is a Unitful quantity. The second `abs` is import if it is complex.\n",
    "_is_zero_for_printing(coef) = abs(coef) < 1e-10 * abs(oneunit(coef))\n",
    "# Whether something is one or not for the purposes of printing it.\n",
    "_is_one_for_printing(coef) = _is_zero_for_printing(abs(coef) - oneunit(coef))\n",
    "_is_one_for_printing(coef::Complex) = _is_one_for_printing(real(coef)) && _is_zero_for_printing(imag(coef))\n",
    "_sign_string(coef) = coef < zero(coef) ? \" - \" : \" + \"\n",
    "_sign_string(coef) = coef < zero(coef) ? \" - \" : \" + \"\n",
    "function function_string(mode, func::MOI.ScalarAffineFunction, show_constant=true)\n",
    "    # If the expression is empty, return the constant (or 0)\n",
    "    if isempty(func.terms)\n",
    "        return show_constant ? JuMP._string_round(MOI.constant(func)) : \"0\"\n",
    "    end\n",
    "\n",
    "    term_str = Vector{String}(undef, 2length(func.terms))\n",
    "    elm = 1\n",
    "\n",
    "    for term in func.terms\n",
    "        pre = _is_one_for_printing(term.coefficient) ? \"\" : JuMP._string_round(term.coefficient) * \" \"\n",
    "\n",
    "        term_str[2 * elm - 1] = \"+\"\n",
    "        term_str[2 * elm] = string(pre, function_string(mode, term.variable_index))\n",
    "        elm += 1\n",
    "    end\n",
    "\n",
    "    if elm == 1\n",
    "        # Will happen with cancellation of all terms\n",
    "        # We should just return the constant, if its desired\n",
    "        return show_constant ? JuMP._string_round(a.constant) : \"0\"\n",
    "    else\n",
    "        # Correction for very first term - don't want a \" + \"/\" - \"\n",
    "        term_str[1] = (term_str[1] == \" - \") ? \"-\" : \"\"\n",
    "        ret = join(term_str[1 : 2 * (elm - 1)])\n",
    "        if !_is_zero_for_printing(MOI.constant(func)) && show_constant\n",
    "            ret = string(ret, \"+\",\n",
    "                         JuMP._string_round(MOI.constant(constant)))\n",
    "        end\n",
    "        return ret\n",
    "    end\n",
    "end\n",
    "function Base.show(io::IO, f::MOI.AbstractScalarFunction)\n",
    "    print(io, function_string(JuMP.REPLMode, f))\n",
    "end\n",
    "function Base.show(io::IO, ::MIME\"text/latex\", f::MOI.AbstractScalarFunction)\n",
    "    print(io, JuMP._wrap_in_math_mode(function_string(JuMP.IJuliaMode, f)))\n",
    "end"
   ]
  },
  {
   "cell_type": "code",
   "execution_count": 109,
   "metadata": {},
   "outputs": [
    {
     "data": {
      "text/latex": [
       "$$ 0 - 1im x_{1} $$"
      ],
      "text/plain": [
       "0 - 1im x[1]"
      ]
     },
     "execution_count": 109,
     "metadata": {},
     "output_type": "execute_result"
    }
   ],
   "source": [
    "x = MOI.SingleVariable(MOI.VariableIndex(1))\n",
    "conj((im) * x)"
   ]
  },
  {
   "cell_type": "code",
   "execution_count": 115,
   "metadata": {},
   "outputs": [
    {
     "data": {
      "text/plain": [
       "-2.828427118189658"
      ]
     },
     "execution_count": 115,
     "metadata": {},
     "output_type": "execute_result"
    }
   ],
   "source": [
    "energy(H, 2, NonnegPolyInnerCone{COI.HermitianPositiveSemidefiniteConeTriangle}())"
   ]
  },
  {
   "cell_type": "code",
   "execution_count": 11,
   "metadata": {
    "scrolled": true
   },
   "outputs": [
    {
     "data": {
      "text/plain": [
       "-3.999999999796037"
      ]
     },
     "execution_count": 11,
     "metadata": {},
     "output_type": "execute_result"
    }
   ],
   "source": [
    "using MosekTools\n",
    "optimizer = Mosek.Optimizer()\n",
    "MOI.set(optimizer, MOI.Silent(), true)\n",
    "n = length(v)\n",
    "x, cx = MOI.add_constrained_variables(optimizer, MOI.PositiveSemidefiniteConeTriangle(n))\n",
    "γ = MOI.SingleVariable(MOI.add_variable(optimizer))\n",
    "F = MOI.ScalarAffineFunction{Complex{Float64}}\n",
    "Q = _mat(F.(MOI.SingleVariable.(x)), n)\n",
    "gram = sum(Q[i, j] * (1.0 * monos[i] * monos[j]) for i in 1:n for j in 1:n)\n",
    "z = H - convert(F, γ) - gram\n",
    "for c in MP.coefficients(z)\n",
    "    for a in [_mapcoef(real, c), _mapcoef(imag, c)]\n",
    "        MOI.Utilities.normalize_and_add_constraint(optimizer, a, MOI.EqualTo(0.0))\n",
    "    end\n",
    "end\n",
    "MOI.set(optimizer, MOI.ObjectiveSense(), MOI.MAX_SENSE)\n",
    "MOI.set(optimizer, MOI.ObjectiveFunction{MOI.SingleVariable}(), γ)\n",
    "MOI.optimize!(optimizer)\n",
    "MOI.get(optimizer, MOI.ObjectiveValue())"
   ]
  },
  {
   "cell_type": "markdown",
   "metadata": {},
   "source": [
    "# Complex"
   ]
  },
  {
   "cell_type": "code",
   "execution_count": 13,
   "metadata": {},
   "outputs": [
    {
     "name": "stdout",
     "output_type": "stream",
     "text": [
      "CSDP 6.2.0\n",
      "Iter:  0 Ap: 0.00e+00 Pobj:  0.0000000e+00 Ad: 0.00e+00 Dobj:  0.0000000e+00 \n",
      "Iter:  1 Ap: 1.00e+00 Pobj: -5.6507691e+01 Ad: 4.01e-01 Dobj: -1.7634637e+00 \n",
      "Iter:  2 Ap: 1.00e+00 Pobj: -5.5377524e+01 Ad: 9.54e-01 Dobj: -3.1515529e-01 \n",
      "Iter:  3 Ap: 1.00e+00 Pobj: -2.4963595e+01 Ad: 8.83e-01 Dobj: -5.2930472e-01 \n",
      "Iter:  4 Ap: 1.00e+00 Pobj: -6.2669103e+00 Ad: 7.62e-01 Dobj: -1.2742768e+00 \n",
      "Iter:  5 Ap: 1.00e+00 Pobj: -3.5102614e+00 Ad: 8.76e-01 Dobj: -2.3614414e+00 \n",
      "Iter:  6 Ap: 1.00e+00 Pobj: -3.0661231e+00 Ad: 8.87e-01 Dobj: -2.7653758e+00 \n",
      "Iter:  7 Ap: 1.00e+00 Pobj: -2.8484566e+00 Ad: 8.92e-01 Dobj: -2.8141101e+00 \n",
      "Iter:  8 Ap: 1.00e+00 Pobj: -2.8301498e+00 Ad: 9.38e-01 Dobj: -2.8268972e+00 \n",
      "Iter:  9 Ap: 1.00e+00 Pobj: -2.8285576e+00 Ad: 9.86e-01 Dobj: -2.8283564e+00 \n",
      "Iter: 10 Ap: 9.75e-01 Pobj: -2.8284373e+00 Ad: 9.98e-01 Dobj: -2.8284264e+00 \n",
      "Iter: 11 Ap: 1.00e+00 Pobj: -2.8284276e+00 Ad: 1.00e+00 Dobj: -2.8284271e+00 \n",
      "Iter: 12 Ap: 9.58e-01 Pobj: -2.8284271e+00 Ad: 9.60e-01 Dobj: -2.8284271e+00 \n",
      "Success: SDP solved\n",
      "Primal objective value: -2.8284271e+00 \n",
      "Dual objective value: -2.8284271e+00 \n",
      "Relative primal infeasibility: 3.21e-14 \n",
      "Relative dual infeasibility: 2.39e-09 \n",
      "Real Relative Gap: 2.71e-09 \n",
      "XZ Relative Gap: 5.40e-09 \n",
      "DIMACS error measures: 3.69e-14 0.00e+00 3.72e-09 0.00e+00 2.71e-09 5.40e-09\n"
     ]
    },
    {
     "data": {
      "text/plain": [
       "-2.828427145315304"
      ]
     },
     "execution_count": 13,
     "metadata": {},
     "output_type": "execute_result"
    }
   ],
   "source": [
    "using CSDP\n",
    "optimizer = MOI.instantiate(CSDP.Optimizer, with_bridge_type=Float64)\n",
    "n = length(v)\n",
    "x, cx = MOI.add_constrained_variables(optimizer, MOI.PositiveSemidefiniteConeTriangle(2n))\n",
    "X = _mat(MOI.SingleVariable.(x), 2n)\n",
    "X11 = X[1:n, 1:n]\n",
    "X22 = X[n .+ (1:n), n .+ (1:n)]\n",
    "X12 = X[1:n, n .+ (1:n)]\n",
    "for j in 1:n\n",
    "    for i in 1:j\n",
    "        MOI.add_constraint(optimizer, MOI.Utilities.operate(-, Float64, X11[i, j], X22[i, j]), MOI.EqualTo(0.0))\n",
    "        if i == j\n",
    "            MOI.add_constraint(optimizer, convert(MOI.ScalarAffineFunction{Float64}, X12[i, j]), MOI.EqualTo(0.0))\n",
    "        else\n",
    "            MOI.add_constraint(optimizer, MOI.Utilities.operate(+, Float64, X12[i, j], X12[j, i]), MOI.EqualTo(0.0))\n",
    "        end\n",
    "    end\n",
    "end\n",
    "γ = MOI.SingleVariable(MOI.add_variable(optimizer))\n",
    "F = MOI.ScalarAffineFunction{Complex{Float64}}\n",
    "Q_real = F.(X11)\n",
    "Q_comp = F.(X12)\n",
    "Q = Q_real + (-1.0*im) * Q_comp\n",
    "gram = sum(Q[i, j] * (1.0 * monos[i] * monos[j]) for i in 1:n for j in 1:n)\n",
    "z = H - convert(F, γ) - gram\n",
    "duals = Dict()\n",
    "for term in MP.terms(z)\n",
    "    duals[MP.monomial(term)] = map([real, imag]) do f\n",
    "        a = _mapcoef(f, MP.coefficient(term))\n",
    "        MOI.Utilities.normalize_and_add_constraint(optimizer, a, MOI.EqualTo(0.0))\n",
    "    end\n",
    "end\n",
    "MOI.set(optimizer, MOI.ObjectiveSense(), MOI.MAX_SENSE)\n",
    "MOI.set(optimizer, MOI.ObjectiveFunction{MOI.SingleVariable}(), γ)\n",
    "MOI.optimize!(optimizer)\n",
    "MOI.get(optimizer, MOI.ObjectiveValue())"
   ]
  },
  {
   "cell_type": "code",
   "execution_count": 36,
   "metadata": {},
   "outputs": [
    {
     "name": "stdout",
     "output_type": "stream",
     "text": [
      "CSDP 6.2.0\n",
      "Iter:  0 Ap: 0.00e+00 Pobj:  0.0000000e+00 Ad: 0.00e+00 Dobj:  0.0000000e+00 \n",
      "Iter:  1 Ap: 1.00e+00 Pobj: -5.6507691e+01 Ad: 4.01e-01 Dobj: -1.7634637e+00 \n",
      "Iter:  2 Ap: 1.00e+00 Pobj: -5.5377524e+01 Ad: 9.54e-01 Dobj: -3.1515529e-01 \n",
      "Iter:  3 Ap: 1.00e+00 Pobj: -2.4963595e+01 Ad: 8.83e-01 Dobj: -5.2930472e-01 \n",
      "Iter:  4 Ap: 1.00e+00 Pobj: -6.2669103e+00 Ad: 7.62e-01 Dobj: -1.2742768e+00 \n",
      "Iter:  5 Ap: 1.00e+00 Pobj: -3.5102614e+00 Ad: 8.76e-01 Dobj: -2.3614414e+00 \n",
      "Iter:  6 Ap: 1.00e+00 Pobj: -3.0661231e+00 Ad: 8.87e-01 Dobj: -2.7653758e+00 \n",
      "Iter:  7 Ap: 1.00e+00 Pobj: -2.8484566e+00 Ad: 8.92e-01 Dobj: -2.8141101e+00 \n",
      "Iter:  8 Ap: 1.00e+00 Pobj: -2.8301498e+00 Ad: 9.38e-01 Dobj: -2.8268972e+00 \n",
      "Iter:  9 Ap: 1.00e+00 Pobj: -2.8285576e+00 Ad: 9.86e-01 Dobj: -2.8283564e+00 \n",
      "Iter: 10 Ap: 9.75e-01 Pobj: -2.8284373e+00 Ad: 9.98e-01 Dobj: -2.8284264e+00 \n",
      "Iter: 11 Ap: 1.00e+00 Pobj: -2.8284276e+00 Ad: 1.00e+00 Dobj: -2.8284271e+00 \n",
      "Iter: 12 Ap: 9.58e-01 Pobj: -2.8284271e+00 Ad: 9.60e-01 Dobj: -2.8284271e+00 \n",
      "Success: SDP solved\n",
      "Primal objective value: -2.8284271e+00 \n",
      "Dual objective value: -2.8284271e+00 \n",
      "Relative primal infeasibility: 3.21e-14 \n",
      "Relative dual infeasibility: 2.39e-09 \n",
      "Real Relative Gap: 2.71e-09 \n",
      "XZ Relative Gap: 5.40e-09 \n",
      "DIMACS error measures: 3.69e-14 0.00e+00 3.72e-09 0.00e+00 2.71e-09 5.40e-09\n"
     ]
    },
    {
     "data": {
      "text/plain": [
       "15.998771905899048"
      ]
     },
     "execution_count": 36,
     "metadata": {},
     "output_type": "execute_result"
    }
   ],
   "source": [
    "using CSDP\n",
    "optimizer = MOI.instantiate(CSDP.Optimizer, with_bridge_type=Float64)\n",
    "n = length(v)\n",
    "x, cx = MOI.add_constrained_variables(optimizer, MOI.PositiveSemidefiniteConeTriangle(2n))\n",
    "X = _mat(MOI.SingleVariable.(x), 2n)\n",
    "X11 = X[1:n, 1:n]\n",
    "X22 = X[n .+ (1:n), n .+ (1:n)]\n",
    "X12 = X[1:n, n .+ (1:n)]\n",
    "for j in 1:n\n",
    "    for i in 1:j\n",
    "        MOI.add_constraint(optimizer, MOI.Utilities.operate(-, Float64, X11[i, j], X22[i, j]), MOI.EqualTo(0.0))\n",
    "        if i == j\n",
    "            MOI.add_constraint(optimizer, convert(MOI.ScalarAffineFunction{Float64}, X12[i, j]), MOI.EqualTo(0.0))\n",
    "        else\n",
    "            MOI.add_constraint(optimizer, MOI.Utilities.operate(+, Float64, X12[i, j], X12[j, i]), MOI.EqualTo(0.0))\n",
    "        end\n",
    "    end\n",
    "end\n",
    "γ = MOI.SingleVariable(MOI.add_variable(optimizer))\n",
    "F = MOI.ScalarAffineFunction{Complex{Float64}}\n",
    "Q_real = F.(X11)\n",
    "Q_comp = F.(X12)\n",
    "Q = Q_real + (-1.0*im) * Q_comp\n",
    "gram = sum(Q[i, j] * (1.0 * monos[i] * monos[j]) for i in 1:n for j in 1:n)\n",
    "z = H - convert(F, γ) - gram\n",
    "duals = Dict()\n",
    "for term in MP.terms(z)\n",
    "    duals[MP.monomial(term)] = map([real, imag]) do f\n",
    "        a = _mapcoef(f, MP.coefficient(term))\n",
    "        MOI.Utilities.normalize_and_add_constraint(optimizer, a, MOI.EqualTo(0.0))\n",
    "    end\n",
    "end\n",
    "MOI.set(optimizer, MOI.ObjectiveSense(), MOI.MAX_SENSE)\n",
    "MOI.set(optimizer, MOI.ObjectiveFunction{MOI.SingleVariable}(), γ)\n",
    "MOI.optimize!(optimizer)"
   ]
  },
  {
   "cell_type": "code",
   "execution_count": 30,
   "metadata": {},
   "outputs": [
    {
     "name": "stdout",
     "output_type": "stream",
     "text": [
      "MOI.get(optimizer, MOI.TerminationStatus()) = MathOptInterface.OPTIMAL\n"
     ]
    },
    {
     "data": {
      "text/plain": [
       "OPTIMAL::TerminationStatusCode = 1"
      ]
     },
     "execution_count": 30,
     "metadata": {},
     "output_type": "execute_result"
    }
   ],
   "source": [
    "@show MOI.get(optimizer, MOI.TerminationStatus())"
   ]
  },
  {
   "cell_type": "code",
   "execution_count": 31,
   "metadata": {},
   "outputs": [
    {
     "data": {
      "text/plain": [
       "-2.8284271247461903"
      ]
     },
     "execution_count": 31,
     "metadata": {},
     "output_type": "execute_result"
    }
   ],
   "source": [
    "-2 * √2"
   ]
  },
  {
   "cell_type": "code",
   "execution_count": 32,
   "metadata": {},
   "outputs": [
    {
     "data": {
      "text/plain": [
       "-2.828427145315304"
      ]
     },
     "execution_count": 32,
     "metadata": {},
     "output_type": "execute_result"
    }
   ],
   "source": [
    "MOI.get(optimizer, MOI.ObjectiveValue())"
   ]
  },
  {
   "cell_type": "code",
   "execution_count": 14,
   "metadata": {},
   "outputs": [
    {
     "data": {
      "text/plain": [
       "4.379154205322266"
      ]
     },
     "execution_count": 14,
     "metadata": {},
     "output_type": "execute_result"
    }
   ],
   "source": [
    "MOI.get(optimizer, MOI.SolveTime())"
   ]
  },
  {
   "cell_type": "code",
   "execution_count": 15,
   "metadata": {},
   "outputs": [
    {
     "data": {
      "text/plain": [
       "7×7 Array{Complex{Float64},2}:\n",
       "       0.0+0.0im       0.353553+0.353553im  …  0.0+0.0im  0.0+0.0im\n",
       " -0.353553-0.353553im       0.0+0.0im          0.0+0.0im  0.0+0.0im\n",
       "       0.0+0.0im            0.0+0.0im          0.0+0.0im  0.0+0.0im\n",
       "       0.0+0.0im           -0.0-0.0im          0.0+0.0im  0.0+0.0im\n",
       "      -0.0-0.0im            0.0+0.0im          0.0+0.0im  0.0+0.0im\n",
       "       0.0+0.0im            0.0+0.0im       …  0.0+0.0im  0.0+0.0im\n",
       "       0.0+0.0im            0.0+0.0im          0.0+0.0im  0.0+0.0im"
      ]
     },
     "execution_count": 15,
     "metadata": {},
     "output_type": "execute_result"
    }
   ],
   "source": [
    "Mfull = round.(_mat(MOI.get(optimizer, MOI.ConstraintDual(), cx), 2n), digits=6)\n",
    "M11 = Mfull[1:n, 1:n]\n",
    "M12 = Mfull[1:n, n .+ (1:n)]\n",
    "M12 + im * M12"
   ]
  },
  {
   "cell_type": "code",
   "execution_count": 34,
   "metadata": {},
   "outputs": [
    {
     "data": {
      "text/plain": [
       "7×7 Array{Complex{Float64},2}:\n",
       "       0.0+0.0im       0.353553+0.353553im  …  0.0+0.0im  0.0+0.0im\n",
       " -0.353553-0.353553im       0.0+0.0im          0.0+0.0im  0.0+0.0im\n",
       "       0.0+0.0im            0.0+0.0im          0.0+0.0im  0.0+0.0im\n",
       "       0.0+0.0im           -0.0-0.0im          0.0+0.0im  0.0+0.0im\n",
       "      -0.0-0.0im            0.0+0.0im          0.0+0.0im  0.0+0.0im\n",
       "       0.0+0.0im            0.0+0.0im       …  0.0+0.0im  0.0+0.0im\n",
       "       0.0+0.0im            0.0+0.0im          0.0+0.0im  0.0+0.0im"
      ]
     },
     "execution_count": 34,
     "metadata": {},
     "output_type": "execute_result"
    }
   ],
   "source": [
    "Mfull = round.(_mat(MOI.get(optimizer, MOI.ConstraintDual(), cx), 2n), digits=6)\n",
    "M11 = Mfull[1:n, 1:n]\n",
    "M12 = Mfull[1:n, n .+ (1:n)]\n",
    "M12 + im * M12"
   ]
  },
  {
   "cell_type": "code",
   "execution_count": 17,
   "metadata": {},
   "outputs": [
    {
     "name": "stderr",
     "output_type": "stream",
     "text": [
      "┌ Info: Precompiling MultivariateMoments [f4abf1af-0426-5881-a0da-e2f168889b5e]\n",
      "└ @ Base loading.jl:1260\n"
     ]
    },
    {
     "data": {
      "text/plain": [
       "_moment_matrix (generic function with 1 method)"
      ]
     },
     "execution_count": 17,
     "metadata": {},
     "output_type": "execute_result"
    }
   ],
   "source": [
    "using MultivariateMoments\n",
    "function _moment_matrix(μ::MultivariateMoments.Measure{T}, X) where T\n",
    "    function getmom(i, j)\n",
    "        x = X[i] * X[j]\n",
    "        for m in moments(μ)\n",
    "            if monomial(m) == monomial(x)\n",
    "                return MP.coefficient(x) * moment_value(m)\n",
    "            end\n",
    "        end\n",
    "        throw(ArgumentError(\"μ does not have the moment $(x)\"))\n",
    "    end\n",
    "    return MultivariateMoments.MomentMatrix{T}(getmom, X)\n",
    "end"
   ]
  },
  {
   "cell_type": "code",
   "execution_count": 18,
   "metadata": {},
   "outputs": [
    {
     "data": {
      "text/plain": [
       "MomentMatrix{Complex{Float64},MultivariateBases.MonomialBasis{CondensedMatterSOS.SpinMonomial,Array{CondensedMatterSOS.SpinMonomial,1}}}(Complex{Float64}[1.0000000007926881 + 0.0im 0.0 - 0.7071061572962712im … 0.0 - 0.0im 0.0 - 0.0im; 0.0 - 0.7071061572962712im 1.0000000007926881 + 0.0im … 0.0 - 0.0im 0.0 - 0.0im; … ; 0.0 - 0.0im 0.0 - 0.0im … 1.0000000007926881 + 0.0im 0.7071061572962712 + 0.0im; 0.0 - 0.0im 0.0 - 0.0im … 0.7071061572962712 + 0.0im 1.0000000007926881 + 0.0im], MultivariateBases.MonomialBasis{CondensedMatterSOS.SpinMonomial,Array{CondensedMatterSOS.SpinMonomial,1}}(CondensedMatterSOS.SpinMonomial[σˣ₁, σʸ₁, σᶻ₁, σˣ₂, σʸ₂, σᶻ₂, 1]), nothing)"
      ]
     },
     "execution_count": 18,
     "metadata": {},
     "output_type": "execute_result"
    }
   ],
   "source": [
    "a = Complex{Float64}[]\n",
    "m = MP.monomialtype(H)[]\n",
    "for (key, value) in duals\n",
    "    push!(m, key)\n",
    "    real_dual = MOI.get(optimizer, MOI.ConstraintDual(), value[1])\n",
    "    comp_dual = MOI.get(optimizer, MOI.ConstraintDual(), value[2])\n",
    "    push!(a, real_dual + im * comp_dual)\n",
    "end\n",
    "μ = measure(a, m)\n",
    "ν = _moment_matrix(μ, v)"
   ]
  },
  {
   "cell_type": "code",
   "execution_count": 19,
   "metadata": {},
   "outputs": [
    {
     "data": {
      "text/plain": [
       "7×7 Array{Complex{Float64},2}:\n",
       " 1.0+0.0im   0.0-0.7im   0.0-0.0im  …   0.0-0.0im   0.0-0.0im  0.0-0.0im\n",
       " 0.0-0.7im   1.0+0.0im  -0.0+0.0im     -0.7-0.0im   0.0-0.0im  0.0-0.0im\n",
       " 0.0-0.0im  -0.0+0.0im   1.0+0.0im      0.0-0.0im   0.5+0.0im  0.7+0.0im\n",
       " 0.7+0.0im   0.0+0.0im   0.0-0.0im      0.0-0.7im   0.0-0.0im  0.0-0.0im\n",
       " 0.0-0.0im  -0.7-0.0im   0.0-0.0im      1.0+0.0im  -0.0+0.0im  0.0-0.0im\n",
       " 0.0-0.0im   0.0-0.0im   0.5+0.0im  …  -0.0+0.0im   1.0+0.0im  0.7+0.0im\n",
       " 0.0-0.0im   0.0-0.0im   0.7+0.0im      0.0-0.0im   0.7+0.0im  1.0+0.0im"
      ]
     },
     "execution_count": 19,
     "metadata": {},
     "output_type": "execute_result"
    }
   ],
   "source": [
    "round.(ν.Q, digits = 1)"
   ]
  },
  {
   "cell_type": "code",
   "execution_count": 20,
   "metadata": {},
   "outputs": [
    {
     "data": {
      "text/plain": [
       "7×7 Hermitian{Complex{Float64},Array{Complex{Float64},2}}:\n",
       " 1.0+0.0im  0.0+0.0im  0.0+0.0im  …   0.0+0.0im  0.5+0.0im  0.5+0.0im\n",
       " 0.0-0.0im  1.0+0.0im  0.5+0.0im      0.0+0.0im  0.0+0.0im  0.0+0.0im\n",
       " 0.0-0.0im  0.5-0.0im  1.0+0.0im      0.0-0.5im  0.0+0.0im  0.0+0.0im\n",
       " 0.0-0.0im  0.0+0.5im  0.0-0.0im     -0.5+0.0im  0.0+0.0im  0.0+0.0im\n",
       " 0.0-0.0im  0.0-0.0im  0.0+0.5im      1.0+0.0im  0.0+0.0im  0.0+0.0im\n",
       " 0.5-0.0im  0.0-0.0im  0.0-0.0im  …   0.0-0.0im  1.0+0.0im  1.0+0.0im\n",
       " 0.5-0.0im  0.0-0.0im  0.0-0.0im      0.0-0.0im  1.0-0.0im  1.0+0.0im"
      ]
     },
     "execution_count": 20,
     "metadata": {},
     "output_type": "execute_result"
    }
   ],
   "source": [
    "using LinearAlgebra\n",
    "Γ = Hermitian([\n",
    "    1 0 0   0     0     1/2 1/2\n",
    "    0 1 1/2 1/2im 0     0   0\n",
    "    0 0 1   0     1/2im 0   0\n",
    "    0 0 0   1    -1/2   0   0\n",
    "    0 0 0   0     1     0   0\n",
    "    0 0 0   0     0     1   1\n",
    "    0 0 0   0     0     0   1\n",
    "])"
   ]
  },
  {
   "cell_type": "code",
   "execution_count": null,
   "metadata": {
    "collapsed": true
   },
   "outputs": [],
   "source": []
  }
 ],
 "metadata": {
  "@webio": {
   "lastCommId": null,
   "lastKernelId": null
  },
  "kernelspec": {
   "display_name": "Julia 1.4.2",
   "language": "julia",
   "name": "julia-1.4"
  },
  "language_info": {
   "file_extension": ".jl",
   "mimetype": "application/julia",
   "name": "julia",
   "version": "1.4.2"
  }
 },
 "nbformat": 4,
 "nbformat_minor": 2
}
