{
 "cells": [
  {
   "cell_type": "code",
   "execution_count": 5,
   "metadata": {},
   "outputs": [
    {
     "name": "stderr",
     "output_type": "stream",
     "text": [
      "┌ Info: Precompiling CondensedMatterSOS [676dea7e-7535-42cf-a5c4-14732a6b7aba]\n",
      "└ @ Base loading.jl:1260\n"
     ]
    },
    {
     "data": {
      "text/plain": [
       "((CondensedMatterSOS.SpinVariable[σˣ₁, σˣ₂], CondensedMatterSOS.SpinVariable[σʸ₁, σʸ₂], CondensedMatterSOS.SpinVariable[σᶻ₁, σᶻ₂]),)"
      ]
     },
     "execution_count": 5,
     "metadata": {},
     "output_type": "execute_result"
    }
   ],
   "source": [
    "using CondensedMatterSOS\n",
    "@spin σ[1:2]"
   ]
  },
  {
   "cell_type": "code",
   "execution_count": 6,
   "metadata": {},
   "outputs": [
    {
     "data": {
      "text/latex": [
       "$$ (-2.0 + 0.0im)σˣ_{1}σˣ_{2} + -σᶻ_{1} + -σᶻ_{2} $$"
      ],
      "text/plain": [
       "(-2.0 + 0.0im)σˣ₁σˣ₂ + -σᶻ₁ + -σᶻ₂"
      ]
     },
     "execution_count": 6,
     "metadata": {},
     "output_type": "execute_result"
    }
   ],
   "source": [
    "function hamiltonian(σ)\n",
    "    σx, σy, σz = σ\n",
    "    N = length(σx)\n",
    "    return -sum(σx[n] * σx[n+1] for n in 1:(N-1)) - σx[N] * σx[1] - sum(σz)\n",
    "end\n",
    "H = 1.0 * hamiltonian(σ)"
   ]
  },
  {
   "cell_type": "code",
   "execution_count": 53,
   "metadata": {},
   "outputs": [
    {
     "data": {
      "text/plain": [
       "7-element Array{CondensedMatterSOS.SpinTerm{Int64},1}:\n",
       " 1\n",
       " σˣ₁\n",
       " σˣ₂\n",
       " σʸ₁\n",
       " σʸ₂\n",
       " σᶻ₁\n",
       " σᶻ₂"
      ]
     },
     "execution_count": 53,
     "metadata": {},
     "output_type": "execute_result"
    }
   ],
   "source": [
    "import MultivariatePolynomials\n",
    "const MP = MultivariatePolynomials\n",
    "v = [1, σx[1], σx[2], σy[1], σy[2], σz[1], σz[2]]"
   ]
  },
  {
   "cell_type": "markdown",
   "metadata": {},
   "source": [
    "min_σ H(σ) = -2√2"
   ]
  },
  {
   "cell_type": "markdown",
   "metadata": {},
   "source": [
    "max γ s.t. H >= γ -> H - γ = v' Q v"
   ]
  },
  {
   "cell_type": "code",
   "execution_count": 8,
   "metadata": {},
   "outputs": [
    {
     "data": {
      "text/plain": [
       "7-element Array{CondensedMatterSOS.SpinMonomial,1}:\n",
       " σˣ₁\n",
       " σʸ₁\n",
       " σᶻ₁\n",
       " σˣ₂\n",
       " σʸ₂\n",
       " σᶻ₂\n",
       " 1"
      ]
     },
     "execution_count": 8,
     "metadata": {},
     "output_type": "execute_result"
    }
   ],
   "source": [
    "monos = CondensedMatterSOS.MP.monovec(v)"
   ]
  },
  {
   "cell_type": "code",
   "execution_count": 9,
   "metadata": {},
   "outputs": [
    {
     "data": {
      "text/plain": [
       "_mapcoef (generic function with 1 method)"
      ]
     },
     "execution_count": 9,
     "metadata": {},
     "output_type": "execute_result"
    }
   ],
   "source": [
    "function _mat(x::Vector, n)\n",
    "    Q = Matrix{eltype(x)}(undef, n, n)\n",
    "    k = 0\n",
    "    for j in 1:n\n",
    "        for i in 1:j\n",
    "            k += 1\n",
    "            Q[i, j] = Q[j, i] = x[k]\n",
    "        end\n",
    "    end\n",
    "    return Q\n",
    "end\n",
    "import MathOptInterface\n",
    "const MOI = MathOptInterface\n",
    "function _mapcoef(op, f::MOI.ScalarAffineFunction)\n",
    "    MOI.ScalarAffineFunction([\n",
    "        MOI.ScalarAffineTerm(op(t.coefficient), t.variable_index) for t in f.terms\n",
    "    ], op(f.constant))\n",
    "end"
   ]
  },
  {
   "cell_type": "markdown",
   "metadata": {},
   "source": [
    "# Real"
   ]
  },
  {
   "cell_type": "code",
   "execution_count": 26,
   "metadata": {
    "scrolled": true
   },
   "outputs": [
    {
     "name": "stdout",
     "output_type": "stream",
     "text": [
      "MOSEK error 1001: The license has expired.\n",
      "\n",
      "*** A FLEXlm error occurred. FLEXlm reported:\n",
      "\n",
      "Feature has expired.\n",
      "Feature:       PTS\n",
      "Expire date:   14-jun-2020\n",
      "License path:  /home/blegat/mosek/mosek.lic:\n",
      "FlexNet Licensing error:-10,32\n",
      "\n",
      "*** end of FLEXlm report.\n",
      "\n"
     ]
    },
    {
     "ename": "Mosek.MosekError",
     "evalue": "Mosek.MosekError(1001, \"The license has expired.\")",
     "output_type": "error",
     "traceback": [
      "Mosek.MosekError(1001, \"The license has expired.\")",
      "",
      "Stacktrace:",
      " [1] optimize(::Mosek.Task) at /home/blegat/.julia/packages/Mosek/6LuE3/src/msk_functions.jl:5491",
      " [2] optimize!(::MosekModel) at /home/blegat/.julia/packages/MosekTools/prFdq/src/MosekTools.jl:282",
      " [3] top-level scope at In[26]:17"
     ]
    }
   ],
   "source": [
    "using MosekTools\n",
    "optimizer = Mosek.Optimizer()\n",
    "n = length(v)\n",
    "x, cx = MOI.add_constrained_variables(optimizer, MOI.PositiveSemidefiniteConeTriangle(n))\n",
    "γ = MOI.SingleVariable(MOI.add_variable(optimizer))\n",
    "F = MOI.ScalarAffineFunction{Complex{Float64}}\n",
    "Q = _mat(F.(MOI.SingleVariable.(x)), n)\n",
    "gram = sum(Q[i, j] * (1.0 * monos[i] * monos[j]) for i in 1:n for j in 1:n)\n",
    "z = H - convert(F, γ) - gram\n",
    "for c in MP.coefficients(z)\n",
    "    for a in [_mapcoef(real, c), _mapcoef(imag, c)]\n",
    "        MOI.Utilities.normalize_and_add_constraint(optimizer, a, MOI.EqualTo(0.0))\n",
    "    end\n",
    "end\n",
    "MOI.set(optimizer, MOI.ObjectiveSense(), MOI.MAX_SENSE)\n",
    "MOI.set(optimizer, MOI.ObjectiveFunction{MOI.SingleVariable}(), γ)\n",
    "MOI.optimize!(optimizer)"
   ]
  },
  {
   "cell_type": "markdown",
   "metadata": {},
   "source": [
    "# Complex"
   ]
  },
  {
   "cell_type": "code",
   "execution_count": 36,
   "metadata": {},
   "outputs": [
    {
     "name": "stdout",
     "output_type": "stream",
     "text": [
      "CSDP 6.2.0\n",
      "Iter:  0 Ap: 0.00e+00 Pobj:  0.0000000e+00 Ad: 0.00e+00 Dobj:  0.0000000e+00 \n",
      "Iter:  1 Ap: 1.00e+00 Pobj: -5.6507691e+01 Ad: 4.01e-01 Dobj: -1.7634637e+00 \n",
      "Iter:  2 Ap: 1.00e+00 Pobj: -5.5377524e+01 Ad: 9.54e-01 Dobj: -3.1515529e-01 \n",
      "Iter:  3 Ap: 1.00e+00 Pobj: -2.4963595e+01 Ad: 8.83e-01 Dobj: -5.2930472e-01 \n",
      "Iter:  4 Ap: 1.00e+00 Pobj: -6.2669103e+00 Ad: 7.62e-01 Dobj: -1.2742768e+00 \n",
      "Iter:  5 Ap: 1.00e+00 Pobj: -3.5102614e+00 Ad: 8.76e-01 Dobj: -2.3614414e+00 \n",
      "Iter:  6 Ap: 1.00e+00 Pobj: -3.0661231e+00 Ad: 8.87e-01 Dobj: -2.7653758e+00 \n",
      "Iter:  7 Ap: 1.00e+00 Pobj: -2.8484566e+00 Ad: 8.92e-01 Dobj: -2.8141101e+00 \n",
      "Iter:  8 Ap: 1.00e+00 Pobj: -2.8301498e+00 Ad: 9.38e-01 Dobj: -2.8268972e+00 \n",
      "Iter:  9 Ap: 1.00e+00 Pobj: -2.8285576e+00 Ad: 9.86e-01 Dobj: -2.8283564e+00 \n",
      "Iter: 10 Ap: 9.75e-01 Pobj: -2.8284373e+00 Ad: 9.98e-01 Dobj: -2.8284264e+00 \n",
      "Iter: 11 Ap: 1.00e+00 Pobj: -2.8284276e+00 Ad: 1.00e+00 Dobj: -2.8284271e+00 \n",
      "Iter: 12 Ap: 9.58e-01 Pobj: -2.8284271e+00 Ad: 9.60e-01 Dobj: -2.8284271e+00 \n",
      "Success: SDP solved\n",
      "Primal objective value: -2.8284271e+00 \n",
      "Dual objective value: -2.8284271e+00 \n",
      "Relative primal infeasibility: 3.21e-14 \n",
      "Relative dual infeasibility: 2.39e-09 \n",
      "Real Relative Gap: 2.71e-09 \n",
      "XZ Relative Gap: 5.40e-09 \n",
      "DIMACS error measures: 3.69e-14 0.00e+00 3.72e-09 0.00e+00 2.71e-09 5.40e-09\n"
     ]
    },
    {
     "data": {
      "text/plain": [
       "15.998771905899048"
      ]
     },
     "execution_count": 36,
     "metadata": {},
     "output_type": "execute_result"
    }
   ],
   "source": [
    "using CSDP\n",
    "optimizer = MOI.instantiate(CSDP.Optimizer, with_bridge_type=Float64)\n",
    "n = length(v)\n",
    "x, cx = MOI.add_constrained_variables(optimizer, MOI.PositiveSemidefiniteConeTriangle(2n))\n",
    "X = _mat(MOI.SingleVariable.(x), 2n)\n",
    "X11 = X[1:n, 1:n]\n",
    "X22 = X[n .+ (1:n), n .+ (1:n)]\n",
    "X12 = X[1:n, n .+ (1:n)]\n",
    "for j in 1:n\n",
    "    for i in 1:j\n",
    "        MOI.add_constraint(optimizer, MOI.Utilities.operate(-, Float64, X11[i, j], X22[i, j]), MOI.EqualTo(0.0))\n",
    "        if i == j\n",
    "            MOI.add_constraint(optimizer, convert(MOI.ScalarAffineFunction{Float64}, X12[i, j]), MOI.EqualTo(0.0))\n",
    "        else\n",
    "            MOI.add_constraint(optimizer, MOI.Utilities.operate(+, Float64, X12[i, j], X12[j, i]), MOI.EqualTo(0.0))\n",
    "        end\n",
    "    end\n",
    "end\n",
    "γ = MOI.SingleVariable(MOI.add_variable(optimizer))\n",
    "F = MOI.ScalarAffineFunction{Complex{Float64}}\n",
    "Q_real = F.(X11)\n",
    "Q_comp = F.(X12)\n",
    "Q = Q_real + (-1.0*im) * Q_comp\n",
    "gram = sum(Q[i, j] * (1.0 * monos[i] * monos[j]) for i in 1:n for j in 1:n)\n",
    "z = H - convert(F, γ) - gram\n",
    "duals = Dict()\n",
    "for term in MP.terms(z)\n",
    "    duals[MP.monomial(term)] = map([real, imag]) do f\n",
    "        a = _mapcoef(f, MP.coefficient(term))\n",
    "        MOI.Utilities.normalize_and_add_constraint(optimizer, a, MOI.EqualTo(0.0))\n",
    "    end\n",
    "end\n",
    "MOI.set(optimizer, MOI.ObjectiveSense(), MOI.MAX_SENSE)\n",
    "MOI.set(optimizer, MOI.ObjectiveFunction{MOI.SingleVariable}(), γ)\n",
    "MOI.optimize!(optimizer)"
   ]
  },
  {
   "cell_type": "code",
   "execution_count": 30,
   "metadata": {},
   "outputs": [
    {
     "name": "stdout",
     "output_type": "stream",
     "text": [
      "MOI.get(optimizer, MOI.TerminationStatus()) = MathOptInterface.OPTIMAL\n"
     ]
    },
    {
     "data": {
      "text/plain": [
       "OPTIMAL::TerminationStatusCode = 1"
      ]
     },
     "execution_count": 30,
     "metadata": {},
     "output_type": "execute_result"
    }
   ],
   "source": [
    "@show MOI.get(optimizer, MOI.TerminationStatus())"
   ]
  },
  {
   "cell_type": "code",
   "execution_count": 31,
   "metadata": {},
   "outputs": [
    {
     "data": {
      "text/plain": [
       "-2.8284271247461903"
      ]
     },
     "execution_count": 31,
     "metadata": {},
     "output_type": "execute_result"
    }
   ],
   "source": [
    "-2 * √2"
   ]
  },
  {
   "cell_type": "code",
   "execution_count": 32,
   "metadata": {},
   "outputs": [
    {
     "data": {
      "text/plain": [
       "-2.828427145315304"
      ]
     },
     "execution_count": 32,
     "metadata": {},
     "output_type": "execute_result"
    }
   ],
   "source": [
    "MOI.get(optimizer, MOI.ObjectiveValue())"
   ]
  },
  {
   "cell_type": "code",
   "execution_count": 33,
   "metadata": {},
   "outputs": [
    {
     "data": {
      "text/plain": [
       "15.215893030166626"
      ]
     },
     "execution_count": 33,
     "metadata": {},
     "output_type": "execute_result"
    }
   ],
   "source": [
    "MOI.get(optimizer, MOI.SolveTime())"
   ]
  },
  {
   "cell_type": "code",
   "execution_count": 34,
   "metadata": {},
   "outputs": [
    {
     "data": {
      "text/plain": [
       "7×7 Array{Complex{Float64},2}:\n",
       "       0.0+0.0im       0.353553+0.353553im  …  0.0+0.0im  0.0+0.0im\n",
       " -0.353553-0.353553im       0.0+0.0im          0.0+0.0im  0.0+0.0im\n",
       "       0.0+0.0im            0.0+0.0im          0.0+0.0im  0.0+0.0im\n",
       "       0.0+0.0im           -0.0-0.0im          0.0+0.0im  0.0+0.0im\n",
       "      -0.0-0.0im            0.0+0.0im          0.0+0.0im  0.0+0.0im\n",
       "       0.0+0.0im            0.0+0.0im       …  0.0+0.0im  0.0+0.0im\n",
       "       0.0+0.0im            0.0+0.0im          0.0+0.0im  0.0+0.0im"
      ]
     },
     "execution_count": 34,
     "metadata": {},
     "output_type": "execute_result"
    }
   ],
   "source": [
    "Mfull = round.(_mat(MOI.get(optimizer, MOI.ConstraintDual(), cx), 2n), digits=6)\n",
    "M11 = Mfull[1:n, 1:n]\n",
    "M12 = Mfull[1:n, n .+ (1:n)]\n",
    "M12 + im * M12"
   ]
  },
  {
   "cell_type": "code",
   "execution_count": 47,
   "metadata": {},
   "outputs": [
    {
     "data": {
      "text/plain": [
       "_moment_matrix (generic function with 1 method)"
      ]
     },
     "execution_count": 47,
     "metadata": {},
     "output_type": "execute_result"
    }
   ],
   "source": [
    "function _moment_matrix(μ::MultivariateMoments.Measure{T}, X) where T\n",
    "    function getmom(i, j)\n",
    "        x = X[i] * X[j]\n",
    "        for m in moments(μ)\n",
    "            if monomial(m) == monomial(x)\n",
    "                return MP.coefficient(x) * moment_value(m)\n",
    "            end\n",
    "        end\n",
    "        throw(ArgumentError(\"μ does not have the moment $(x)\"))\n",
    "    end\n",
    "    return MultivariateMoments.MomentMatrix{T}(getmom, X)\n",
    "end"
   ]
  },
  {
   "cell_type": "code",
   "execution_count": 54,
   "metadata": {},
   "outputs": [
    {
     "data": {
      "text/plain": [
       "MomentMatrix{Complex{Float64},MultivariateBases.MonomialBasis{CondensedMatterSOS.SpinMonomial,Array{CondensedMatterSOS.SpinMonomial,1}}}(Complex{Float64}[1.0000000007926881 + 0.0im 0.0 - 0.7071061572962712im … 0.0 - 0.0im 0.0 - 0.0im; 0.0 - 0.7071061572962712im 1.0000000007926881 + 0.0im … 0.0 - 0.0im 0.0 - 0.0im; … ; 0.0 - 0.0im 0.0 - 0.0im … 1.0000000007926881 + 0.0im 0.7071061572962712 + 0.0im; 0.0 - 0.0im 0.0 - 0.0im … 0.7071061572962712 + 0.0im 1.0000000007926881 + 0.0im], MultivariateBases.MonomialBasis{CondensedMatterSOS.SpinMonomial,Array{CondensedMatterSOS.SpinMonomial,1}}(CondensedMatterSOS.SpinMonomial[σˣ₁, σʸ₁, σᶻ₁, σˣ₂, σʸ₂, σᶻ₂, 1]), nothing)"
      ]
     },
     "execution_count": 54,
     "metadata": {},
     "output_type": "execute_result"
    }
   ],
   "source": [
    "using MultivariateMoments\n",
    "a = Complex{Float64}[]\n",
    "m = MP.monomialtype(H)[]\n",
    "for (key, value) in duals\n",
    "    push!(m, key)\n",
    "    real_dual = MOI.get(optimizer, MOI.ConstraintDual(), value[1])\n",
    "    comp_dual = MOI.get(optimizer, MOI.ConstraintDual(), value[2])\n",
    "    push!(a, real_dual + im * comp_dual)\n",
    "end\n",
    "μ = measure(a, m)\n",
    "ν = _moment_matrix(μ, v)"
   ]
  },
  {
   "cell_type": "code",
   "execution_count": 56,
   "metadata": {},
   "outputs": [
    {
     "data": {
      "text/plain": [
       "7×7 Array{Complex{Float64},2}:\n",
       " 1.0+0.0im   0.0-0.7im   0.0-0.0im  …   0.0-0.0im   0.0-0.0im  0.0-0.0im\n",
       " 0.0-0.7im   1.0+0.0im  -0.0+0.0im     -0.7-0.0im   0.0-0.0im  0.0-0.0im\n",
       " 0.0-0.0im  -0.0+0.0im   1.0+0.0im      0.0-0.0im   0.5+0.0im  0.7+0.0im\n",
       " 0.7+0.0im   0.0+0.0im   0.0-0.0im      0.0-0.7im   0.0-0.0im  0.0-0.0im\n",
       " 0.0-0.0im  -0.7-0.0im   0.0-0.0im      1.0+0.0im  -0.0+0.0im  0.0-0.0im\n",
       " 0.0-0.0im   0.0-0.0im   0.5+0.0im  …  -0.0+0.0im   1.0+0.0im  0.7+0.0im\n",
       " 0.0-0.0im   0.0-0.0im   0.7+0.0im      0.0-0.0im   0.7+0.0im  1.0+0.0im"
      ]
     },
     "execution_count": 56,
     "metadata": {},
     "output_type": "execute_result"
    }
   ],
   "source": [
    "round.(ν.Q, digits = 1)"
   ]
  },
  {
   "cell_type": "code",
   "execution_count": 10,
   "metadata": {},
   "outputs": [
    {
     "data": {
      "text/plain": [
       "7×7 Hermitian{Complex{Float64},Array{Complex{Float64},2}}:\n",
       " 1.0+0.0im  0.0+0.0im  0.0+0.0im  …   0.0+0.0im  0.5+0.0im  0.5+0.0im\n",
       " 0.0-0.0im  1.0+0.0im  0.5+0.0im      0.0+0.0im  0.0+0.0im  0.0+0.0im\n",
       " 0.0-0.0im  0.5-0.0im  1.0+0.0im      0.0-0.5im  0.0+0.0im  0.0+0.0im\n",
       " 0.0-0.0im  0.0+0.5im  0.0-0.0im     -0.5+0.0im  0.0+0.0im  0.0+0.0im\n",
       " 0.0-0.0im  0.0-0.0im  0.0+0.5im      1.0+0.0im  0.0+0.0im  0.0+0.0im\n",
       " 0.5-0.0im  0.0-0.0im  0.0-0.0im  …   0.0-0.0im  1.0+0.0im  1.0+0.0im\n",
       " 0.5-0.0im  0.0-0.0im  0.0-0.0im      0.0-0.0im  1.0-0.0im  1.0+0.0im"
      ]
     },
     "execution_count": 10,
     "metadata": {},
     "output_type": "execute_result"
    }
   ],
   "source": [
    "using LinearAlgebra\n",
    "Γ = Hermitian([\n",
    "    1 0 0   0     0     1/2 1/2\n",
    "    0 1 1/2 1/2im 0     0   0\n",
    "    0 0 1   0     1/2im 0   0\n",
    "    0 0 0   1    -1/2   0   0\n",
    "    0 0 0   0     1     0   0\n",
    "    0 0 0   0     0     1   1\n",
    "    0 0 0   0     0     0   1\n",
    "])"
   ]
  },
  {
   "cell_type": "code",
   "execution_count": null,
   "metadata": {
    "collapsed": true
   },
   "outputs": [],
   "source": []
  }
 ],
 "metadata": {
  "kernelspec": {
   "display_name": "Julia 1.4.2",
   "language": "julia",
   "name": "julia-1.4"
  },
  "language_info": {
   "file_extension": ".jl",
   "mimetype": "application/julia",
   "name": "julia",
   "version": "1.4.2"
  }
 },
 "nbformat": 4,
 "nbformat_minor": 2
}
