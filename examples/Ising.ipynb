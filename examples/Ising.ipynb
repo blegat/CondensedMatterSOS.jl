{
 "cells": [
  {
   "cell_type": "code",
   "execution_count": 1,
   "metadata": {},
   "outputs": [
    {
     "ename": "LoadError",
     "evalue": "UndefVarError: @pkg_str not defined",
     "output_type": "error",
     "traceback": [
      "UndefVarError: @pkg_str not defined",
      ""
     ]
    }
   ],
   "source": [
    "pkg\"free MathOpt\""
   ]
  },
  {
   "cell_type": "code",
   "execution_count": 1,
   "metadata": {},
   "outputs": [],
   "source": [
    "using Revise"
   ]
  },
  {
   "cell_type": "code",
   "execution_count": 19,
   "metadata": {},
   "outputs": [],
   "source": [
    "using SumOfSquares\n",
    "function CondensedMatterSOS.energy(H, maxdegree, solver;\n",
    "    cone=NonnegPolyInnerCone{SumOfSquares.COI.HermitianPositiveSemidefiniteConeTriangle}(),\n",
    "    kws...\n",
    ")\n",
    "    model = MOI.instantiate(solver, with_bridge_type=Float64)\n",
    "    MOI.Bridges.add_bridge(model, SumOfSquares.Bridges.Constraint.SOSPolynomialBridge{Complex{Float64}})\n",
    "    MOI.Bridges.add_bridge(model, SumOfSquares.Bridges.Constraint.EmptyBridge{Float64})\n",
    "    MOI.Bridges.add_bridge(model, SumOfSquares.Bridges.Constraint.PositiveSemidefinite2x2Bridge{Float64})\n",
    "    MOI.Bridges.add_bridge(model, PolyJuMP.ZeroPolynomialBridge{Complex{Float64}})\n",
    "    MOI.Bridges.add_bridge(model, SumOfSquares.COI.Bridges.Variable.HermitianToSymmetricPSDBridge{Float64})\n",
    "    MOI.Bridges.add_bridge(model, SumOfSquares.COI.Bridges.Constraint.SplitZeroBridge{Float64})\n",
    "    return model\n",
    "    γ = MOI.SingleVariable(MOI.add_variable(model))\n",
    "    cert = SumOfSquares.Certificate.MaxDegree(cone, MonomialBasis, maxdegree)\n",
    "    @show H\n",
    "    @show γ\n",
    "    @show H - (1.0 + 0.0im) * γ\n",
    "    #cert = SumOfSquares.Certificate.SparseIdeal(MonomialSparsity(1), cert)\n",
    "    c = SumOfSquares.add_constraint(model, H - (1.0 + 0.0im) * γ, SOSCone(); ideal_certificate=cert, kws...)\n",
    "    MOI.set(model, MOI.ObjectiveSense(), MOI.MAX_SENSE)\n",
    "    MOI.set(model, MOI.ObjectiveFunction{MOI.SingleVariable}(), γ)\n",
    "    MOI.optimize!(model)\n",
    "    @show MOI.Bridges.bridge(model, c).gram_basis\n",
    "    @show MOI.Bridges.bridge(model, c).gram_basis\n",
    "    #print(Base.stdout, model.model, variable_name = MOI.name_or_default_name)\n",
    "    MosekTools.Mosek.writedata(model.model.optimizer.task, \"unbounded.cbf\")\n",
    "    if MOI.get(model, MOI.TerminationStatus()) != MOI.OPTIMAL\n",
    "        @warn(\"Termination status: $(MOI.get(model, MOI.TerminationStatus())), $(MOI.get(model, MOI.RawStatusString()))\")\n",
    "    end\n",
    "    ν = MOI.get(model, SumOfSquares.GramMatrixAttribute(), c)\n",
    "    MOI.get(model, MOI.ObjectiveValue()), ν\n",
    "end"
   ]
  },
  {
   "cell_type": "code",
   "execution_count": null,
   "metadata": {},
   "outputs": [
    {
     "name": "stderr",
     "output_type": "stream",
     "text": [
      "┌ Info: Precompiling CondensedMatterSOS [676dea7e-7535-42cf-a5c4-14732a6b7aba]\n",
      "└ @ Base loading.jl:1260\n",
      "┌ Warning: Package CondensedMatterSOS does not have Reexport in its dependencies:\n",
      "│ - If you have CondensedMatterSOS checked out for development and have\n",
      "│   added Reexport as a dependency but haven't updated your primary\n",
      "│   environment's manifest file, try `Pkg.resolve()`.\n",
      "│ - Otherwise you may need to report an issue with CondensedMatterSOS\n",
      "└ Loading Reexport into CondensedMatterSOS from project dependency, future warnings for CondensedMatterSOS are suppressed.\n"
     ]
    }
   ],
   "source": [
    "using CondensedMatterSOS\n",
    "@spin σ[1:2]\n",
    "function hamiltonian(σ)\n",
    "    σx, σy, σz = σ\n",
    "    N = length(σx)\n",
    "    return -sum(σx[n] * σx[n+1] for n in 1:(N-1)) - σx[N] * σx[1] - sum(σz)\n",
    "end\n",
    "hamiltonian(σ)"
   ]
  },
  {
   "cell_type": "code",
   "execution_count": 9,
   "metadata": {},
   "outputs": [
    {
     "data": {
      "text/plain": [
       "hamiltonian_energy (generic function with 1 method)"
      ]
     },
     "execution_count": 9,
     "metadata": {},
     "output_type": "execute_result"
    }
   ],
   "source": [
    "function hamiltonian_energy(N, maxdegree, solver; kws...)\n",
    "    @spin σ[1:N]\n",
    "    H = 1.0 * hamiltonian(σ)\n",
    "    energy(H, maxdegree, solver; kws...)\n",
    "end"
   ]
  },
  {
   "cell_type": "code",
   "execution_count": null,
   "metadata": {
    "collapsed": true
   },
   "outputs": [],
   "source": [
    "( im x[-36] - x[-12] - im x[-36] - x[-12] - 2)σˣ₁σˣ₂ +\n",
    "(-im x[-40] + x[-17] + im x[-40] + x[-17])σˣ₁σʸ₂ +\n",
    "(-im x[-45] + x[-23] + im x[-45] + x[-23])σˣ₁σᶻ₂ +\n",
    "(-im x[-37] + x[-13] + im x[-37] + x[-13])σʸ₁σˣ₂ +\n",
    "(-im x[-41] + x[-18] + im x[-41] + x[-18])σʸ₁σʸ₂ +\n",
    "(-im x[-46] + x[-24] + im x[-46] + x[-24])σʸ₁σᶻ₂ +\n",
    "(-im x[-38] + x[-14] + im x[-38] + x[-14])σᶻ₁σˣ₂ +\n",
    "(-im x[-42] + x[-19] + im x[-42] + x[-19])σᶻ₁σʸ₂ +\n",
    "(-im x[-47] + x[-25] + im x[-47] + x[-25])σᶻ₁σᶻ₂ +\n",
    "(-x[-34] - im x[-9] - x[-34] + im x[-9] - im x[-29] + x[-2] + im x[-29] + x[-2])σˣ₁ +\n",
    "( x[-33] + im x[-8] - im x[-30] + x[-4] + x[-33] - im x[-8] + im x[-30] + x[-4])σʸ₁ +\n",
    "(im x[-32] - x[-7] + x[-31] + im x[-5] + x[-31] - im x[-5] - im x[-32] - x[-7] + 1)σᶻ₁ +\n",
    "(-x[-49] - im x[-27] - x[-49] + im x[-27] - im x[-35] + x[-11] + im x[-35] + x[-11])σˣ₂ +\n",
    "(x[-48] + im x[-26] - im x[-39] + x[-16] + x[-48] - im x[-26] + im x[-39] + x[-16])σʸ₂ +\n",
    "(im x[-44] - x[-22] + x[-43] + im x[-20] + x[-43] - im x[-20] - im x[-44] - x[-22] + 1)σᶻ₂ +\n",
    "(x[1] - x[-28] - x[-21] - x[-15] - x[-10] - x[-6] - x[-3] - x[-1])"
   ]
  },
  {
   "cell_type": "code",
   "execution_count": 20,
   "metadata": {},
   "outputs": [
    {
     "data": {
      "text/latex": [
       "$$ \\begin{alignat*}{1}\\text{feasibility}\\\\\n",
       "\\text{Subject to} \\quad\\end{alignat*}\n",
       " $$"
      ],
      "text/plain": [
       "MOIB.LazyBridgeOptimizer{MOIU.CachingOptimizer{CSDP.Optimizer,MOIU.UniversalFallback{MOIU.Model{Float64}}}}\n",
       "with 0 variable bridges\n",
       "with 0 constraint bridges\n",
       "with 0 objective bridges\n",
       "with inner model MOIU.CachingOptimizer{CSDP.Optimizer,MOIU.UniversalFallback{MOIU.Model{Float64}}}\n",
       "  in state ATTACHED_OPTIMIZER\n",
       "  in mode AUTOMATIC\n",
       "  with model cache MOIU.UniversalFallback{MOIU.Model{Float64}}\n",
       "    with 1 optimizer attribute\n",
       "    fallback for MOIU.Model{Float64}\n",
       "  with optimizer CSDP.Optimizer"
      ]
     },
     "execution_count": 20,
     "metadata": {},
     "output_type": "execute_result"
    }
   ],
   "source": [
    "using CSDP\n",
    "using JuMP\n",
    "solver = optimizer_with_attributes(\n",
    "    () -> MOIU.CachingOptimizer(MOIU.UniversalFallback(MOIU.Model{Float64}()), CSDP.Optimizer()),\n",
    "    MOI.Silent() => true\n",
    ")\n",
    "model = hamiltonian_energy(2, 2, solver)"
   ]
  },
  {
   "cell_type": "code",
   "execution_count": 31,
   "metadata": {},
   "outputs": [
    {
     "ename": "UndefVarError",
     "evalue": "UndefVarError: supports_add_constrained_variables not defined",
     "output_type": "error",
     "traceback": [
      "UndefVarError: supports_add_constrained_variables not defined",
      "",
      "Stacktrace:",
      " [1] getproperty(::Module, ::Symbol) at ./Base.jl:26",
      " [2] top-level scope at In[31]:1"
     ]
    }
   ],
   "source": [
    "MOI.Bridges.supports_add_constrained_variables(b.model, MOI.Reals)"
   ]
  },
  {
   "cell_type": "code",
   "execution_count": null,
   "metadata": {
    "collapsed": true
   },
   "outputs": [],
   "source": [
    "## using CSDP\n",
    "using JuMP\n",
    "solver = optimizer_with_attributes(\n",
    "    () -> MOIU.CachingOptimizer(MOIU.UniversalFallback(MOIU.Model{Float64}()), CSDP.Optimizer()),\n",
    "    MOI.Silent() => true\n",
    ")\n",
    "bound, ν = hamiltonian_energy(2, 2, solver)\n",
    "bound"
   ]
  },
  {
   "cell_type": "code",
   "execution_count": null,
   "metadata": {
    "collapsed": true
   },
   "outputs": [],
   "source": [
    "MOI.Bridges.is_bridged(b::MOI.Bridges.AbstractBridgeOptimizer, vi::MOI.VariableIndex) = vi.value < 0 && MOI.Bridges.Variable.has_bridges(MOI.Bridges.Variable.bridges(b))"
   ]
  },
  {
   "cell_type": "code",
   "execution_count": null,
   "metadata": {},
   "outputs": [],
   "source": [
    "using SumOfSquares\n",
    "Base.:+(a::Int, f::MOI.ScalarAffineFunction{Complex{Float64}}) = convert(Complex{Float64}, a) + f\n",
    "Base.:+(a::Complex{Float64}, f::MOI.ScalarAffineFunction{Complex{Float64}}) = MOI.Utilities.operate(+, Complex{Float64}, a, f)\n",
    "function MOI.Utilities.operate(::typeof(*), ::Type{Complex{Float64}}, a::Complex{Float64}, f::MOI.ScalarAffineFunction{Float64})\n",
    "    MOI.Utilities.operate(*, Complex{Float64}, a, convert(MOI.ScalarAffineFunction{Complex{Float64}}, f))\n",
    "end\n",
    "function Base.convert(::Type{MOI.ScalarAffineFunction{T}}, f::MOI.ScalarAffineFunction) where T\n",
    "    return MOI.ScalarAffineFunction(\n",
    "        [MOI.ScalarAffineTerm(convert(T, t.coefficient), t.variable_index) for t in f.terms],\n",
    "        convert(T, f.constant)\n",
    "    )\n",
    "end"
   ]
  },
  {
   "cell_type": "code",
   "execution_count": null,
   "metadata": {
    "collapsed": true
   },
   "outputs": [],
   "source": [
    "function Base.getindex(Q::SymMatrix, i::Integer, j::Integer)\n",
    "    if i <= j\n",
    "        return Q.Q[MultivariateMoments.trimap(j, i)]\n",
    "    else\n",
    "        return conj(Q[j, i])\n",
    "    end\n",
    "end"
   ]
  },
  {
   "cell_type": "code",
   "execution_count": null,
   "metadata": {
    "collapsed": true
   },
   "outputs": [],
   "source": [
    "using SumOfSquares\n",
    "using ComplexOptInterface\n",
    "const COI = ComplexOptInterface\n",
    "using MultivariatePolynomials\n",
    "const MP = MultivariatePolynomials\n",
    "function SumOfSquares.vectorization(::Type{COI.HermitianPositiveSemidefiniteConeTriangle})\n",
    "    return SumOfSquares.HermitianVectorized()\n",
    "end\n",
    "function SumOfSquares.matrix_cone(::Type{COI.HermitianPositiveSemidefiniteConeTriangle}, d)\n",
    "    return COI.HermitianPositiveSemidefiniteConeTriangle(d)\n",
    "end\n",
    "function add_constraint(model, p, cone; kws...)\n",
    "    coefs = MOI.Utilities.vectorize(MP.coefficients(p))\n",
    "    monos = MP.monomials(p)\n",
    "    set = JuMP.moi_set(cone, monos; kws...)\n",
    "    #MOI.Bridges.debug(model, typeof(coefs), typeof(set))\n",
    "    MOI.add_constraint(model, coefs, set)\n",
    "end\n"
   ]
  },
  {
   "cell_type": "code",
   "execution_count": null,
   "metadata": {
    "collapsed": true
   },
   "outputs": [],
   "source": [
    "import ComplexOptInterface\n",
    "const COI = ComplexOptInterface\n",
    "function SumOfSquares.matrix_constructor(::Type{COI.HermitianPositiveSemidefiniteConeTriangle}, T::Type)\n",
    "    return (Q, basis) -> SumOfSquares.MultivariateMoments.VectorizedHermitianMatrix{eltype(Q), T}(Q, basis)\n",
    "end\n",
    "function SumOfSquares.matrix_constructor(::Type{COI.HermitianPositiveSemidefiniteConeTriangle}, ::Type{Complex{T}}) where T\n",
    "    return SumOfSquares.matrix_constructor(COI.HermitianPositiveSemidefiniteConeTriangle, T)\n",
    "end\n",
    "function SumOfSquares.matrix_cone(::Type{COI.HermitianPositiveSemidefiniteConeTriangle}, d)\n",
    "    return COI.HermitianPositiveSemidefiniteConeTriangle(d)\n",
    "end"
   ]
  },
  {
   "cell_type": "markdown",
   "metadata": {},
   "source": [
    "With hermition matrices"
   ]
  },
  {
   "cell_type": "code",
   "execution_count": null,
   "metadata": {
    "collapsed": true
   },
   "outputs": [],
   "source": [
    "const MA = SumOfSquares.MA\n",
    "using MultivariatePolynomials\n",
    "const MP = MultivariatePolynomials\n",
    "function MA.promote_operation(::typeof(*), PT::Type{<:MP.APL{S}},\n",
    "                              QT::Type{<:MP.APL{T}}) where {S, T}\n",
    "    ST = MA.promote_operation(*, S, T)\n",
    "    U = MA.promote_operation(+, ST, ST)\n",
    "    return polynomialtype(promote_type(monomialtype(PT), monomialtype(QT)), U)\n",
    "end"
   ]
  },
  {
   "cell_type": "code",
   "execution_count": null,
   "metadata": {},
   "outputs": [],
   "source": [
    "A = CondensedMatterSOS.SpinMonomial\n",
    "B = CondensedMatterSOS.SpinPolynomial{MOI.ScalarAffineFunction{Complex{Float64}}}\n",
    "SumOfSquares.MA.promote_operation(*, A, B)"
   ]
  },
  {
   "cell_type": "code",
   "execution_count": null,
   "metadata": {},
   "outputs": [],
   "source": [
    "using MosekTools\n",
    "solver = optimizer_with_attributes(() -> MOIU.CachingOptimizer(MOIU.UniversalFallback(MOIU.Model{Float64}()), Mosek.Optimizer()), MOI.Silent() => true)\n",
    "bound, ν = hamiltonian_energy(2, 2, solver, cone=NonnegPolyInnerCone{MOI.PositiveSemidefiniteConeTriangle}())\n",
    "bound"
   ]
  },
  {
   "cell_type": "code",
   "execution_count": null,
   "metadata": {},
   "outputs": [],
   "source": [
    "model = Model(Mosek.Optimizer)\n",
    "@variable(model, a)\n",
    "@variable(model, Q[1:7, 1:7] in PSDCone())\n",
    "y = [Q[i, j] for j in 1:7 for i in 1:j]\n",
    "x = [a; y];\n",
    "@objective(model, Max, a)"
   ]
  },
  {
   "cell_type": "code",
   "execution_count": null,
   "metadata": {
    "collapsed": true
   },
   "outputs": [],
   "source": [
    "@constraints(model, begin\n",
    " -2x[13] == 2.0\n",
    " 2x[18] == -0.0\n",
    " 2x[24] == -0.0\n",
    " 2x[14] == -0.0\n",
    " 2x[19] == -0.0\n",
    " 2x[25] == -0.0\n",
    " 2x[15] == -0.0\n",
    " 2x[20] == -0.0\n",
    " 2x[26] == -0.0\n",
    " 2x[3] == -0.0\n",
    " 2x[5] == -0.0\n",
    " -2x[8] == -1.0\n",
    " 2x[12] == -0.0\n",
    " 2x[17] == -0.0\n",
    " -2x[23] == -1.0\n",
    " x[1] - x[2] - x[4] - x[7] - x[11] - x[16] - x[22] - x[29] == -0.0\n",
    "end)"
   ]
  },
  {
   "cell_type": "code",
   "execution_count": null,
   "metadata": {},
   "outputs": [],
   "source": [
    "optimize!(model)\n",
    "MosekTools.Mosek.writedata(model.moi_backend.optimizer.model.task, \"ok.cbf\")"
   ]
  },
  {
   "cell_type": "code",
   "execution_count": null,
   "metadata": {},
   "outputs": [],
   "source": [
    "print(model.moi_backend.optimizer.model)"
   ]
  },
  {
   "cell_type": "code",
   "execution_count": null,
   "metadata": {},
   "outputs": [],
   "source": [
    "termination_status(model)"
   ]
  },
  {
   "cell_type": "code",
   "execution_count": null,
   "metadata": {},
   "outputs": [],
   "source": [
    "ν.Q"
   ]
  },
  {
   "cell_type": "code",
   "execution_count": null,
   "metadata": {
    "collapsed": true
   },
   "outputs": [],
   "source": [
    "xx = nothing\n",
    "SumOfSquares.SparseGramMatrix(x) = (@show typeof(x); global xx; xx = x; error())"
   ]
  },
  {
   "cell_type": "code",
   "execution_count": null,
   "metadata": {},
   "outputs": [],
   "source": [
    "xx[2].Q"
   ]
  },
  {
   "cell_type": "code",
   "execution_count": null,
   "metadata": {},
   "outputs": [],
   "source": [
    "using MosekTools\n",
    "solver = optimizer_with_attributes(Mosek.Optimizer, MOI.Silent() => true)\n",
    "bound, ν = hamiltonian_energy(2, 2, solver, sparsity = MonomialSparsity(1))\n",
    "bound"
   ]
  },
  {
   "cell_type": "code",
   "execution_count": null,
   "metadata": {},
   "outputs": [],
   "source": [
    "ν.Q"
   ]
  },
  {
   "cell_type": "markdown",
   "metadata": {},
   "source": [
    "With real symmetric matrices"
   ]
  },
  {
   "cell_type": "code",
   "execution_count": 13,
   "metadata": {},
   "outputs": [
    {
     "name": "stdout",
     "output_type": "stream",
     "text": [
      "monomials(variables(H), 0:1) = CondensedMatterSOS.SpinMonomial[1, σˣ₁, σʸ₁, σᶻ₁, σˣ₂, σʸ₂, σᶻ₂]\n",
      "H = (-2.0 + 0.0im)σˣ₁σˣ₂ + -σᶻ₁ + -σᶻ₂\n",
      "γ = x[1]\n",
      "H - (1.0 + 0.0im) * γ = (-2.0 + 0.0im)σˣ₁σˣ₂ + (-1.0 + 0.0im)σᶻ₁ + (-1.0 + 0.0im)σᶻ₂ + (-x[1])\n"
     ]
    },
    {
     "data": {
      "text/plain": [
       "7×7 Array{MathOptInterface.SingleVariable,2}:\n",
       " x[2]   x[3]   x[5]   x[8]   x[12]  x[17]  x[23]\n",
       " x[3]   x[4]   x[6]   x[9]   x[13]  x[18]  x[24]\n",
       " x[5]   x[6]   x[7]   x[10]  x[14]  x[19]  x[25]\n",
       " x[8]   x[9]   x[10]  x[11]  x[15]  x[20]  x[26]\n",
       " x[12]  x[13]  x[14]  x[15]  x[16]  x[21]  x[27]\n",
       " x[17]  x[18]  x[19]  x[20]  x[21]  x[22]  x[28]\n",
       " x[23]  x[24]  x[25]  x[26]  x[27]  x[28]  x[29]"
      ]
     },
     "metadata": {},
     "output_type": "display_data"
    },
    {
     "name": "stdout",
     "output_type": "stream",
     "text": [
      "g = GramMatrix{MathOptInterface.SingleVariable,MonomialBasis{CondensedMatterSOS.SpinMonomial,Array{CondensedMatterSOS.SpinMonomial,1}},MathOptInterface.ScalarAffineFunction{Complex{Float64}},SymMatrix{MathOptInterface.SingleVariable}}(MathOptInterface.SingleVariable[x[2] x[3] x[5] x[8] x[12] x[17] x[23]; x[3] x[4] x[6] x[9] x[13] x[18] x[24]; x[5] x[6] x[7] x[10] x[14] x[19] x[25]; x[8] x[9] x[10] x[11] x[15] x[20] x[26]; x[12] x[13] x[14] x[15] x[16] x[21] x[27]; x[17] x[18] x[19] x[20] x[21] x[22] x[28]; x[23] x[24] x[25] x[26] x[27] x[28] x[29]], MonomialBasis{CondensedMatterSOS.SpinMonomial,Array{CondensedMatterSOS.SpinMonomial,1}}(CondensedMatterSOS.SpinMonomial[1, σˣ₁, σʸ₁, σᶻ₁, σˣ₂, σʸ₂, σᶻ₂]))\n",
      "MP.monomial(t) = σˣ₁σˣ₂\n",
      "MOIU.canonical(MP.coefficient(t)) = -2x[13] - 2\n",
      "MP.monomial(t) = σˣ₁σʸ₂\n",
      "MOIU.canonical(MP.coefficient(t)) = -2x[18]\n",
      "MP.monomial(t) = σˣ₁σᶻ₂\n",
      "MOIU.canonical(MP.coefficient(t)) = -2x[24]\n",
      "MP.monomial(t) = σʸ₁σˣ₂\n",
      "MOIU.canonical(MP.coefficient(t)) = -2x[14]\n",
      "MP.monomial(t) = σʸ₁σʸ₂\n",
      "MOIU.canonical(MP.coefficient(t)) = -2x[19]\n",
      "MP.monomial(t) = σʸ₁σᶻ₂\n",
      "MOIU.canonical(MP.coefficient(t)) = -2x[25]\n",
      "MP.monomial(t) = σᶻ₁σˣ₂\n",
      "MOIU.canonical(MP.coefficient(t)) = -2x[15]\n",
      "MP.monomial(t) = σᶻ₁σʸ₂\n",
      "MOIU.canonical(MP.coefficient(t)) = -2x[20]\n",
      "MP.monomial(t) = σᶻ₁σᶻ₂\n",
      "MOIU.canonical(MP.coefficient(t)) = -2x[26]\n",
      "MP.monomial(t) = σˣ₁\n",
      "MOIU.canonical(MP.coefficient(t)) = -2x[3]\n",
      "MP.monomial(t) = σʸ₁\n",
      "MOIU.canonical(MP.coefficient(t)) = -2x[5]\n",
      "MP.monomial(t) = σᶻ₁\n",
      "MOIU.canonical(MP.coefficient(t)) = -2x[8] - 1\n",
      "MP.monomial(t) = σˣ₂\n",
      "MOIU.canonical(MP.coefficient(t)) = -2x[12]\n",
      "MP.monomial(t) = σʸ₂\n",
      "MOIU.canonical(MP.coefficient(t)) = -2x[17]\n",
      "MP.monomial(t) = σᶻ₂\n",
      "MOIU.canonical(MP.coefficient(t)) = -2x[23] - 1\n",
      "MP.monomial(t) = 1\n",
      "MOIU.canonical(MP.coefficient(t)) = -x[1] - x[2] - x[4] - x[7] - x[11] - x[16] - x[22] - x[29]\n",
      "(MOI.Bridges.bridge(model, c)).gram_basis = MonomialBasis{CondensedMatterSOS.SpinMonomial,Array{CondensedMatterSOS.SpinMonomial,1}}(CondensedMatterSOS.SpinMonomial[1, σˣ₁, σʸ₁, σᶻ₁, σˣ₂, σʸ₂, σᶻ₂])\n",
      "(MOI.Bridges.bridge(model, c)).gram_basis = MonomialBasis{CondensedMatterSOS.SpinMonomial,Array{CondensedMatterSOS.SpinMonomial,1}}(CondensedMatterSOS.SpinMonomial[1, σˣ₁, σʸ₁, σᶻ₁, σˣ₂, σʸ₂, σᶻ₂])\n"
     ]
    },
    {
     "data": {
      "text/plain": [
       "-3.9999999997960343"
      ]
     },
     "execution_count": 13,
     "metadata": {},
     "output_type": "execute_result"
    }
   ],
   "source": [
    "bound, ν = hamiltonian_energy(2, 2, solver, cone=NonnegPolyInnerCone{MOI.PositiveSemidefiniteConeTriangle}())\n",
    "bound"
   ]
  },
  {
   "cell_type": "code",
   "execution_count": null,
   "metadata": {},
   "outputs": [],
   "source": [
    "ν.Q"
   ]
  },
  {
   "cell_type": "code",
   "execution_count": 14,
   "metadata": {},
   "outputs": [
    {
     "data": {
      "text/plain": [
       "16×16 Array{MathOptInterface.SingleVariable,2}:\n",
       " x[2]    x[3]    x[5]    x[8]    x[12]   …  x[80]   x[93]   x[107]  x[122]\n",
       " x[3]    x[4]    x[6]    x[9]    x[13]      x[81]   x[94]   x[108]  x[123]\n",
       " x[5]    x[6]    x[7]    x[10]   x[14]      x[82]   x[95]   x[109]  x[124]\n",
       " x[8]    x[9]    x[10]   x[11]   x[15]      x[83]   x[96]   x[110]  x[125]\n",
       " x[12]   x[13]   x[14]   x[15]   x[16]      x[84]   x[97]   x[111]  x[126]\n",
       " x[17]   x[18]   x[19]   x[20]   x[21]   …  x[85]   x[98]   x[112]  x[127]\n",
       " x[23]   x[24]   x[25]   x[26]   x[27]      x[86]   x[99]   x[113]  x[128]\n",
       " x[30]   x[31]   x[32]   x[33]   x[34]      x[87]   x[100]  x[114]  x[129]\n",
       " x[38]   x[39]   x[40]   x[41]   x[42]      x[88]   x[101]  x[115]  x[130]\n",
       " x[47]   x[48]   x[49]   x[50]   x[51]      x[89]   x[102]  x[116]  x[131]\n",
       " x[57]   x[58]   x[59]   x[60]   x[61]   …  x[90]   x[103]  x[117]  x[132]\n",
       " x[68]   x[69]   x[70]   x[71]   x[72]      x[91]   x[104]  x[118]  x[133]\n",
       " x[80]   x[81]   x[82]   x[83]   x[84]      x[92]   x[105]  x[119]  x[134]\n",
       " x[93]   x[94]   x[95]   x[96]   x[97]      x[105]  x[106]  x[120]  x[135]\n",
       " x[107]  x[108]  x[109]  x[110]  x[111]     x[119]  x[120]  x[121]  x[136]\n",
       " x[122]  x[123]  x[124]  x[125]  x[126]  …  x[134]  x[135]  x[136]  x[137]"
      ]
     },
     "metadata": {},
     "output_type": "display_data"
    },
    {
     "name": "stdout",
     "output_type": "stream",
     "text": [
      "monomials(variables(H), 0:1) = CondensedMatterSOS.SpinMonomial[1, σˣ₁, σʸ₁, σᶻ₁, σˣ₂, σʸ₂, σᶻ₂]\n",
      "H = (-2.0 + 0.0im)σˣ₁σˣ₂ + -σᶻ₁ + -σᶻ₂\n",
      "γ = x[1]\n",
      "H - (1.0 + 0.0im) * γ = (-2.0 + 0.0im)σˣ₁σˣ₂ + (-1.0 + 0.0im)σᶻ₁ + (-1.0 + 0.0im)σᶻ₂ + (-x[1])\n",
      "g = GramMatrix{MathOptInterface.SingleVariable,MonomialBasis{CondensedMatterSOS.SpinMonomial,Array{CondensedMatterSOS.SpinMonomial,1}},MathOptInterface.ScalarAffineFunction{Complex{Float64}},SymMatrix{MathOptInterface.SingleVariable}}(MathOptInterface.SingleVariable[x[2] x[3] x[5] x[8] x[12] x[17] x[23] x[30] x[38] x[47] x[57] x[68] x[80] x[93] x[107] x[122]; x[3] x[4] x[6] x[9] x[13] x[18] x[24] x[31] x[39] x[48] x[58] x[69] x[81] x[94] x[108] x[123]; x[5] x[6] x[7] x[10] x[14] x[19] x[25] x[32] x[40] x[49] x[59] x[70] x[82] x[95] x[109] x[124]; x[8] x[9] x[10] x[11] x[15] x[20] x[26] x[33] x[41] x[50] x[60] x[71] x[83] x[96] x[110] x[125]; x[12] x[13] x[14] x[15] x[16] x[21] x[27] x[34] x[42] x[51] x[61] x[72] x[84] x[97] x[111] x[126]; x[17] x[18] x[19] x[20] x[21] x[22] x[28] x[35] x[43] x[52] x[62] x[73] x[85] x[98] x[112] x[127]; x[23] x[24] x[25] x[26] x[27] x[28] x[29] x[36] x[44] x[53] x[63] x[74] x[86] x[99] x[113] x[128]; x[30] x[31] x[32] x[33] x[34] x[35] x[36] x[37] x[45] x[54] x[64] x[75] x[87] x[100] x[114] x[129]; x[38] x[39] x[40] x[41] x[42] x[43] x[44] x[45] x[46] x[55] x[65] x[76] x[88] x[101] x[115] x[130]; x[47] x[48] x[49] x[50] x[51] x[52] x[53] x[54] x[55] x[56] x[66] x[77] x[89] x[102] x[116] x[131]; x[57] x[58] x[59] x[60] x[61] x[62] x[63] x[64] x[65] x[66] x[67] x[78] x[90] x[103] x[117] x[132]; x[68] x[69] x[70] x[71] x[72] x[73] x[74] x[75] x[76] x[77] x[78] x[79] x[91] x[104] x[118] x[133]; x[80] x[81] x[82] x[83] x[84] x[85] x[86] x[87] x[88] x[89] x[90] x[91] x[92] x[105] x[119] x[134]; x[93] x[94] x[95] x[96] x[97] x[98] x[99] x[100] x[101] x[102] x[103] x[104] x[105] x[106] x[120] x[135]; x[107] x[108] x[109] x[110] x[111] x[112] x[113] x[114] x[115] x[116] x[117] x[118] x[119] x[120] x[121] x[136]; x[122] x[123] x[124] x[125] x[126] x[127] x[128] x[129] x[130] x[131] x[132] x[133] x[134] x[135] x[136] x[137]], MonomialBasis{CondensedMatterSOS.SpinMonomial,Array{CondensedMatterSOS.SpinMonomial,1}}(CondensedMatterSOS.SpinMonomial[1, σˣ₁, σʸ₁, σᶻ₁, σˣ₂, σʸ₂, σᶻ₂, σˣ₁σˣ₂, σˣ₁σʸ₂, σˣ₁σᶻ₂, σʸ₁σˣ₂, σʸ₁σʸ₂, σʸ₁σᶻ₂, σᶻ₁σˣ₂, σᶻ₁σʸ₂, σᶻ₁σᶻ₂]))\n",
      "MP.monomial(t) = σˣ₁σˣ₂\n",
      "MOIU.canonical(MP.coefficient(t)) = -2x[13] - 2x[30] - 2x[119] + 2x[133] - 2\n",
      "MP.monomial(t) = σˣ₁σʸ₂\n",
      "MOIU.canonical(MP.coefficient(t)) = -2x[18] - 2x[38] + 2x[105] - 2x[132]\n",
      "MP.monomial(t) = σˣ₁σᶻ₂\n",
      "MOIU.canonical(MP.coefficient(t)) = -2x[24] - 2x[47] - 2x[104] + 2x[117]\n",
      "MP.monomial(t) = σʸ₁σˣ₂\n",
      "MOIU.canonical(MP.coefficient(t)) = -2x[14] - 2x[57] + 2x[116] - 2x[130]\n",
      "MP.monomial(t) = σʸ₁σʸ₂\n",
      "MOIU.canonical(MP.coefficient(t)) = -2x[19] - 2x[68] - 2x[102] + 2x[129]\n",
      "MP.monomial(t) = σʸ₁σᶻ₂\n",
      "MOIU.canonical(MP.coefficient(t)) = -2x[25] - 2x[80] + 2x[101] - 2x[114]\n",
      "MP.monomial(t) = σᶻ₁σˣ₂\n",
      "MOIU.canonical(MP.coefficient(t)) = -2x[15] - 2x[77] + 2x[88] - 2x[93]\n",
      "MP.monomial(t) = σᶻ₁σʸ₂\n",
      "MOIU.canonical(MP.coefficient(t)) = -2x[20] + 2x[66] - 2x[87] - 2x[107]\n",
      "MP.monomial(t) = σᶻ₁σᶻ₂\n",
      "MOIU.canonical(MP.coefficient(t)) = -2x[26] - 2x[65] + 2x[75] - 2x[122]\n",
      "MP.monomial(t) = σˣ₁\n",
      "MOIU.canonical(MP.coefficient(t)) = -2x[3] - 2x[34] - 2x[43] - 2x[53]\n",
      "MP.monomial(t) = σʸ₁\n",
      "MOIU.canonical(MP.coefficient(t)) = -2x[5] - 2x[61] - 2x[73] - 2x[86]\n",
      "MP.monomial(t) = σᶻ₁\n",
      "MOIU.canonical(MP.coefficient(t)) = -2x[8] - 2x[97] - 2x[112] - 2x[128] - 1\n",
      "MP.monomial(t) = σˣ₂\n",
      "MOIU.canonical(MP.coefficient(t)) = -2x[12] - 2x[31] - 2x[59] - 2x[96]\n",
      "MP.monomial(t) = σʸ₂\n",
      "MOIU.canonical(MP.coefficient(t)) = -2x[17] - 2x[39] - 2x[70] - 2x[110]\n",
      "MP.monomial(t) = σᶻ₂\n",
      "MOIU.canonical(MP.coefficient(t)) = -2x[23] - 2x[48] - 2x[82] - 2x[125] - 1\n",
      "MP.monomial(t) = 1\n",
      "MOIU.canonical(MP.coefficient(t)) = -x[1] - x[2] - x[4] - x[7] - x[11] - x[16] - x[22] - x[29] - x[37] - x[46] - x[56] - x[67] - x[79] - x[92] - x[106] - x[121] - x[137]\n",
      "(MOI.Bridges.bridge(model, c)).gram_basis = MonomialBasis{CondensedMatterSOS.SpinMonomial,Array{CondensedMatterSOS.SpinMonomial,1}}(CondensedMatterSOS.SpinMonomial[1, σˣ₁, σʸ₁, σᶻ₁, σˣ₂, σʸ₂, σᶻ₂, σˣ₁σˣ₂, σˣ₁σʸ₂, σˣ₁σᶻ₂, σʸ₁σˣ₂, σʸ₁σʸ₂, σʸ₁σᶻ₂, σᶻ₁σˣ₂, σᶻ₁σʸ₂, σᶻ₁σᶻ₂])\n",
      "(MOI.Bridges.bridge(model, c)).gram_basis = MonomialBasis{CondensedMatterSOS.SpinMonomial,Array{CondensedMatterSOS.SpinMonomial,1}}(CondensedMatterSOS.SpinMonomial[1, σˣ₁, σʸ₁, σᶻ₁, σˣ₂, σʸ₂, σᶻ₂, σˣ₁σˣ₂, σˣ₁σʸ₂, σˣ₁σᶻ₂, σʸ₁σˣ₂, σʸ₁σʸ₂, σʸ₁σᶻ₂, σᶻ₁σˣ₂, σᶻ₁σʸ₂, σᶻ₁σᶻ₂])\n"
     ]
    },
    {
     "data": {
      "text/plain": [
       "-2.8284271247461685"
      ]
     },
     "execution_count": 14,
     "metadata": {},
     "output_type": "execute_result"
    }
   ],
   "source": [
    "bound, ν = hamiltonian_energy(2, 4, solver, cone=NonnegPolyInnerCone{MOI.PositiveSemidefiniteConeTriangle}())\n",
    "bound"
   ]
  },
  {
   "cell_type": "code",
   "execution_count": 15,
   "metadata": {},
   "outputs": [
    {
     "data": {
      "text/plain": [
       "16×16 SymMatrix{Complex{Float64}}:\n",
       "     0.324992+0.0im   1.66189e-19+0.0im  …     0.0398845+0.0im\n",
       "  1.66189e-19+0.0im       0.26383+0.0im      6.37605e-17+0.0im\n",
       "  5.37394e-18+0.0im  -1.64664e-12+0.0im     -4.32608e-17+0.0im\n",
       "    -0.129003+0.0im  -2.37386e-17+0.0im        -0.129003+0.0im\n",
       "  5.29416e-19+0.0im     -0.252115+0.0im     -6.06719e-17+0.0im\n",
       "  2.25684e-18+0.0im  -4.56613e-12+0.0im  …   3.05035e-17+0.0im\n",
       "    -0.129003+0.0im  -2.34377e-17+0.0im        -0.129003+0.0im\n",
       "    -0.247885+0.0im   3.02053e-18+0.0im       -0.0101216+0.0im\n",
       "  2.51721e-12+0.0im    2.7711e-17+0.0im     -1.17356e-11+0.0im\n",
       " -2.24666e-18+0.0im     -0.120997+0.0im     -2.75885e-17+0.0im\n",
       " -2.51721e-12+0.0im  -2.55555e-17+0.0im  …   1.17356e-11+0.0im\n",
       "    0.0101216+0.0im   4.84603e-17+0.0im         0.247885+0.0im\n",
       " -4.46917e-18+0.0im  -2.23745e-12+0.0im      9.01884e-17+0.0im\n",
       " -2.68223e-18+0.0im     0.0927146+0.0im       2.4287e-17+0.0im\n",
       "  1.12115e-18+0.0im   4.81084e-12+0.0im     -8.46979e-17+0.0im\n",
       "    0.0398845+0.0im   6.37605e-17+0.0im  …      0.324992+0.0im"
      ]
     },
     "execution_count": 15,
     "metadata": {},
     "output_type": "execute_result"
    }
   ],
   "source": [
    "ν.Q"
   ]
  },
  {
   "cell_type": "markdown",
   "metadata": {},
   "source": [
    "# Draft\n",
    "\n",
    "The rest of this notebooks are drafts that should be deleted"
   ]
  },
  {
   "cell_type": "code",
   "execution_count": null,
   "metadata": {},
   "outputs": [],
   "source": [
    "H"
   ]
  },
  {
   "cell_type": "code",
   "execution_count": null,
   "metadata": {},
   "outputs": [],
   "source": [
    "monomials(σ[1], 1:3)"
   ]
  },
  {
   "cell_type": "code",
   "execution_count": null,
   "metadata": {},
   "outputs": [],
   "source": [
    "import MultivariatePolynomials\n",
    "const MP = MultivariatePolynomials\n",
    "v = [1, σx[1], σx[2], σy[1], σy[2], σz[1], σz[2]]"
   ]
  },
  {
   "cell_type": "code",
   "execution_count": null,
   "metadata": {},
   "outputs": [],
   "source": [
    "cone = SOSCone()\n",
    "certificate = SumOfSquares.Certificate.MaxDegree(cone, MonomialBasis, 2)\n",
    "Certificate.sparsity(H, MonomialSparsity(0), certificate)"
   ]
  },
  {
   "cell_type": "markdown",
   "metadata": {},
   "source": [
    "min_σ H(σ) = -2√2"
   ]
  },
  {
   "cell_type": "markdown",
   "metadata": {},
   "source": [
    "max γ s.t. H >= γ -> H - γ = v' Q v"
   ]
  },
  {
   "cell_type": "code",
   "execution_count": null,
   "metadata": {},
   "outputs": [],
   "source": [
    "function _mat(x::Vector, n)\n",
    "    Q = Matrix{eltype(x)}(undef, n, n)\n",
    "    k = 0\n",
    "    for j in 1:n\n",
    "        for i in 1:j\n",
    "            k += 1\n",
    "            Q[i, j] = Q[j, i] = x[k]\n",
    "        end\n",
    "    end\n",
    "    return Q\n",
    "end"
   ]
  },
  {
   "cell_type": "code",
   "execution_count": null,
   "metadata": {},
   "outputs": [],
   "source": [
    "function _mapcoef(op, f::MOI.ScalarAffineFunction)\n",
    "    MOI.ScalarAffineFunction([\n",
    "        MOI.ScalarAffineTerm(op(t.coefficient), t.variable_index) for t in f.terms\n",
    "    ], op(f.constant))\n",
    "end"
   ]
  },
  {
   "cell_type": "markdown",
   "metadata": {},
   "source": [
    "# Real"
   ]
  },
  {
   "cell_type": "code",
   "execution_count": null,
   "metadata": {
    "collapsed": true
   },
   "outputs": [],
   "source": [
    "function operate!(::typeof(*), ::Type{T}, α::T,\n",
    "                  f::MOI.ScalarAffineFunction) where T\n",
    "    map_terms!(term -> operate_term(*, term, α), f)\n",
    "    rmul!(f.constants, α)\n",
    "    return f\n",
    "end\n",
    "function operate(::typeof(*), ::Type{T}, α::T, f::TypedLike{T}) where T\n",
    "    return operate!(*, T, copy(f), α)\n",
    "end"
   ]
  },
  {
   "cell_type": "code",
   "execution_count": null,
   "metadata": {
    "collapsed": true
   },
   "outputs": [],
   "source": [
    "using SumOfSquares\n",
    "Base.promote_rule(::Type{T}, ::Type{MOI.SingleVariable}) where {T<:Number} = MOI.ScalarAffineFunction{T}\n",
    "PolyJuMP.non_constant(a::Vector{<:MOI.AbstractFunction}) = a\n",
    "function MultivariatePolynomials.variables(monos::Vector{CondensedMatterSOS.SpinMonomial})\n",
    "    vars = Set{CondensedMatterSOS.SpinVariable}()\n",
    "    for mono in monos\n",
    "        union!(vars, variables(mono))\n",
    "    end\n",
    "    return sort(collect(vars), rev=true)\n",
    "end\n",
    "function Base.convert(::Type{MOI.ScalarAffineFunction{T}}, f::MOI.ScalarAffineFunction) where T\n",
    "    return MOI.ScalarAffineFunction(\n",
    "        [MOI.ScalarAffineTerm(convert(T, t.coefficient), t.variable_index) for t in f.terms],\n",
    "        convert(T, f.constant)\n",
    "    )\n",
    "end\n",
    "function MOI.Utilities.operate(::typeof(*), ::Type{Complex{Float64}}, a::Complex{Float64}, f::MOI.ScalarAffineFunction{Float64})\n",
    "    MOI.Utilities.operate(*, Complex{Float64}, a, convert(MOI.ScalarAffineFunction{Complex{Float64}}, f))\n",
    "end\n",
    "MultivariatePolynomials.variables(p::CondensedMatterSOS.SpinPolynomial) = variables(monomials(p))\n",
    "Base.copy(t::CondensedMatterSOS.SpinTerm) = CondensedMatterSOS.SpinTerm(t.coefficient, t.monomial)\n",
    "Base.:*(f::MOI.ScalarAffineFunction{Complex{Float64}}, a::Number) = f * convert(Complex{Float64}, a)\n",
    "Base.:*(f::MOI.ScalarAffineFunction{Complex{Float64}}, a::Complex{Float64}) = MOI.Utilities.operate(*, Complex{Float64}, a, f)\n",
    "Base.:+(a::Int, f::MOI.ScalarAffineFunction{Complex{Float64}}) = convert(Complex{Float64}, a) + f\n",
    "Base.:+(a::Complex{Float64}, f::MOI.ScalarAffineFunction{Complex{Float64}}) = MOI.Utilities.operate(+, Complex{Float64}, a, f)"
   ]
  },
  {
   "cell_type": "code",
   "execution_count": null,
   "metadata": {},
   "outputs": [],
   "source": [
    "function add_constraint(model, p, cone; kws...)\n",
    "    coefs = MOI.Utilities.vectorize(PolyJuMP.non_constant_coefficients(p))\n",
    "    monos = MP.monomials(p)\n",
    "    set = JuMP.moi_set(cone, monos; kws...)\n",
    "    MOI.add_constraint(model, coefs, set)\n",
    "end"
   ]
  },
  {
   "cell_type": "code",
   "execution_count": null,
   "metadata": {},
   "outputs": [],
   "source": [
    "using SumOfSquares\n",
    "using ComplexOptInterface\n",
    "const COI = ComplexOptInterface\n",
    "using MosekTools\n",
    "solver = optimizer_with_attributes(Mosek.Optimizer, MOI.Silent() => true)\n",
    "optimizer = MOI.instantiate(solver, with_bridge_type=Float64)\n",
    "model = MOI.Bridges.Constraint.SingleBridgeOptimizer{SumOfSquares.Bridges.Constraint.SOSPolynomialBridge{Complex{Float64}}}(\n",
    "    MOI.Bridges.Constraint.SingleBridgeOptimizer{PolyJuMP.ZeroPolynomialBridge{Complex{Float64}}}(\n",
    "    MOI.Bridges.Constraint.SingleBridgeOptimizer{COI.Bridges.Constraint.SplitZeroBridge{Float64}}(\n",
    "    optimizer\n",
    ")))\n",
    "γ = MOI.SingleVariable(MOI.add_variable(model))\n",
    "add_constraint(model, H - γ, SOSCone(), ideal_certificate=SumOfSquares.Certificate.MaxDegree(SOSCone(), MonomialBasis, 2))\n",
    "MOI.set(model, MOI.ObjectiveSense(), MOI.MAX_SENSE)\n",
    "MOI.set(model, MOI.ObjectiveFunction{MOI.SingleVariable}(), γ)\n",
    "MOI.optimize!(model)\n",
    "MOI.get(model, MOI.ObjectiveValue())"
   ]
  },
  {
   "cell_type": "code",
   "execution_count": null,
   "metadata": {},
   "outputs": [],
   "source": [
    "function energy(H, maxdegree, cone)\n",
    "    solver = optimizer_with_attributes(Mosek.Optimizer, MOI.Silent() => true)\n",
    "    optimizer = MOI.instantiate(solver, with_bridge_type=Float64)\n",
    "    model = MOI.Bridges.Constraint.SingleBridgeOptimizer{SumOfSquares.Bridges.Constraint.SOSPolynomialBridge{Complex{Float64}}}(\n",
    "        MOI.Bridges.Constraint.SingleBridgeOptimizer{PolyJuMP.ZeroPolynomialBridge{Complex{Float64}}}(\n",
    "        MOI.Bridges.Variable.SingleBridgeOptimizer{COI.Bridges.Variable.HermitianToSymmetricPSDBridge{Float64}}(\n",
    "        MOI.Bridges.Constraint.SingleBridgeOptimizer{COI.Bridges.Constraint.SplitZeroBridge{Float64}}(\n",
    "        optimizer\n",
    "    ))))\n",
    "    γ = MOI.SingleVariable(MOI.add_variable(model))\n",
    "    cert = SumOfSquares.Certificate.MaxDegree(cone, MonomialBasis, maxdegree)\n",
    "    add_constraint(model, H - γ, SOSCone(), ideal_certificate=cert)\n",
    "    MOI.set(model, MOI.ObjectiveSense(), MOI.MAX_SENSE)\n",
    "    MOI.set(model, MOI.ObjectiveFunction{MOI.SingleVariable}(), γ)\n",
    "    MOI.optimize!(model)\n",
    "    if MOI.get(model, MOI.TerminationStatus()) != MOI.OPTIMAL\n",
    "        @warn(\"Termination status: $(MOI.get(model, MOI.TerminationStatus())), $(MOI.get(model, MOI.RawStatusString()))\")\n",
    "    end\n",
    "    MOI.get(model, MOI.ObjectiveValue())\n",
    "end"
   ]
  },
  {
   "cell_type": "code",
   "execution_count": null,
   "metadata": {},
   "outputs": [],
   "source": [
    "energy(H, 2, NonnegPolyInnerCone{MOI.PositiveSemidefiniteConeTriangle}())"
   ]
  },
  {
   "cell_type": "code",
   "execution_count": null,
   "metadata": {},
   "outputs": [],
   "source": [
    "energy(H, 4, NonnegPolyInnerCone{MOI.PositiveSemidefiniteConeTriangle}())"
   ]
  },
  {
   "cell_type": "code",
   "execution_count": null,
   "metadata": {
    "collapsed": true
   },
   "outputs": [],
   "source": [
    "function SumOfSquares.matrix_cone(::Type{COI.HermitianPositiveSemidefiniteConeTriangle}, d)\n",
    "    return COI.HermitianPositiveSemidefiniteConeTriangle(d)\n",
    "end\n",
    "using MutableArithmetics\n",
    "const MA = MutableArithmetics\n",
    "function MOI.Utilities._add_sub_affine_terms(\n",
    "    op::Union{typeof(+), typeof(-)}, terms::Vector{MOI.ScalarAffineTerm{T}},\n",
    "    α::T, f::MOI.SingleVariable) where T\n",
    "    push!(terms, MOI.ScalarAffineTerm(op(α), f.variable))\n",
    "end\n",
    "MOI.Utilities._constant(::Type{T}, ::MOI.SingleVariable) where T = zero(T)\n",
    "function SumOfSquares.add_gram_matrix(\n",
    "        model::MOI.ModelLike,\n",
    "        matrix_cone_type::Type{COI.HermitianPositiveSemidefiniteConeTriangle},\n",
    "        basis::AbstractPolynomialBasis, T::Type{<:Complex})\n",
    "    n = length(basis)\n",
    "    Q, cQ = MOI.add_constrained_variables(model, SumOfSquares.matrix_cone(matrix_cone_type, n))\n",
    "    N = MOI.dimension(MOI.PositiveSemidefiniteConeTriangle(n))\n",
    "    C = [zero(MOI.ScalarAffineFunction{T}) for i in 1:N]\n",
    "    k_real = 0\n",
    "    k_imag = 0\n",
    "    for j in 1:n\n",
    "        for i in 1:j\n",
    "            k_real += 1\n",
    "            MA.mutable_operate!(MA.add_mul, C[k_real], one(T), MOI.SingleVariable(Q[k_real]))\n",
    "            if i != j\n",
    "                k_imag += 1\n",
    "                MA.mutable_operate!(MA.add_mul, C[k_real], one(T) * im, MOI.SingleVariable(Q[N + k_imag]))\n",
    "            end\n",
    "        end\n",
    "    end\n",
    "    q = SumOfSquares.build_gram_matrix(C, basis, T)\n",
    "    return q, Q, cQ\n",
    "end"
   ]
  },
  {
   "cell_type": "code",
   "execution_count": null,
   "metadata": {},
   "outputs": [],
   "source": [
    "q = SumOfSquares.SymMatrix([1.0, 1.0 + im, 2.0], 2)\n",
    "function Base.getindex(Q::SymMatrix, i::Integer, j::Integer)\n",
    "    if i <= j\n",
    "        return Q.Q[MultivariateMoments.trimap(j, i)]\n",
    "    else\n",
    "        return conj(Q[j, i])\n",
    "    end\n",
    "end\n",
    "function COI.Bridges.Constraint.operate_coefficients(f, T::Type, func::MOI.ScalarAffineFunction)\n",
    "    return MOI.ScalarAffineFunction(\n",
    "        [COI.Bridges.Constraint.operate_coefficient(f, T, term) for term in func.terms],\n",
    "        f(func.constant)\n",
    "    )\n",
    "end\n",
    "# We assume MOI variables are real\n",
    "Base.conj(func::MOI.Utilities.TypedLike{T}) where T = COI.Bridges.Constraint.operate_coefficients(conj, T, func)\n",
    "q"
   ]
  },
  {
   "cell_type": "code",
   "execution_count": null,
   "metadata": {
    "collapsed": true
   },
   "outputs": [],
   "source": [
    "default_name(vi) = string(\"x[\", vi.value, \"]\")\n",
    "function function_string(::Type{JuMP.REPLMode}, v::MOI.VariableIndex, name = default_name)\n",
    "    var_name = name(v)\n",
    "    if !isempty(var_name)\n",
    "        return var_name\n",
    "    else\n",
    "        return \"noname\"\n",
    "    end\n",
    "end\n",
    "function function_string(::Type{JuMP.IJuliaMode}, v::MOI.VariableIndex, name = default_name)\n",
    "    var_name = name(v)\n",
    "    if !isempty(var_name)\n",
    "        # TODO: This is wrong if variable name constains extra \"]\"\n",
    "        return replace(replace(var_name, \"[\" => \"_{\", count = 1), \"]\" => \"}\")\n",
    "    else\n",
    "        return \"noname\"\n",
    "    end\n",
    "end\n",
    "# Whether something is zero or not for the purposes of printing it\n",
    "# oneunit is useful e.g. if coef is a Unitful quantity. The second `abs` is import if it is complex.\n",
    "_is_zero_for_printing(coef) = abs(coef) < 1e-10 * abs(oneunit(coef))\n",
    "# Whether something is one or not for the purposes of printing it.\n",
    "_is_one_for_printing(coef) = _is_zero_for_printing(abs(coef) - oneunit(coef))\n",
    "_is_one_for_printing(coef::Complex) = _is_one_for_printing(real(coef)) && _is_zero_for_printing(imag(coef))\n",
    "_sign_string(coef) = coef < zero(coef) ? \" - \" : \" + \"\n",
    "_sign_string(coef) = coef < zero(coef) ? \" - \" : \" + \"\n",
    "function function_string(mode, func::MOI.ScalarAffineFunction, show_constant=true)\n",
    "    # If the expression is empty, return the constant (or 0)\n",
    "    if isempty(func.terms)\n",
    "        return show_constant ? JuMP._string_round(MOI.constant(func)) : \"0\"\n",
    "    end\n",
    "\n",
    "    term_str = Vector{String}(undef, 2length(func.terms))\n",
    "    elm = 1\n",
    "\n",
    "    for term in func.terms\n",
    "        pre = _is_one_for_printing(term.coefficient) ? \"\" : JuMP._string_round(term.coefficient) * \" \"\n",
    "\n",
    "        term_str[2 * elm - 1] = \"+\"\n",
    "        term_str[2 * elm] = string(pre, function_string(mode, term.variable_index))\n",
    "        elm += 1\n",
    "    end\n",
    "\n",
    "    if elm == 1\n",
    "        # Will happen with cancellation of all terms\n",
    "        # We should just return the constant, if its desired\n",
    "        return show_constant ? JuMP._string_round(a.constant) : \"0\"\n",
    "    else\n",
    "        # Correction for very first term - don't want a \" + \"/\" - \"\n",
    "        term_str[1] = (term_str[1] == \" - \") ? \"-\" : \"\"\n",
    "        ret = join(term_str[1 : 2 * (elm - 1)])\n",
    "        if !_is_zero_for_printing(MOI.constant(func)) && show_constant\n",
    "            ret = string(ret, \"+\",\n",
    "                         JuMP._string_round(MOI.constant(constant)))\n",
    "        end\n",
    "        return ret\n",
    "    end\n",
    "end\n",
    "function Base.show(io::IO, f::MOI.AbstractScalarFunction)\n",
    "    print(io, function_string(JuMP.REPLMode, f))\n",
    "end\n",
    "function Base.show(io::IO, ::MIME\"text/latex\", f::MOI.AbstractScalarFunction)\n",
    "    print(io, JuMP._wrap_in_math_mode(function_string(JuMP.IJuliaMode, f)))\n",
    "end"
   ]
  },
  {
   "cell_type": "code",
   "execution_count": null,
   "metadata": {},
   "outputs": [],
   "source": [
    "x = MOI.SingleVariable(MOI.VariableIndex(1))\n",
    "conj((im) * x)"
   ]
  },
  {
   "cell_type": "code",
   "execution_count": null,
   "metadata": {},
   "outputs": [],
   "source": [
    "energy(H, 2, NonnegPolyInnerCone{COI.HermitianPositiveSemidefiniteConeTriangle}())"
   ]
  },
  {
   "cell_type": "code",
   "execution_count": null,
   "metadata": {
    "scrolled": true
   },
   "outputs": [],
   "source": [
    "using MosekTools\n",
    "optimizer = Mosek.Optimizer()\n",
    "MOI.set(optimizer, MOI.Silent(), true)\n",
    "n = length(v)\n",
    "x, cx = MOI.add_constrained_variables(optimizer, MOI.PositiveSemidefiniteConeTriangle(n))\n",
    "γ = MOI.SingleVariable(MOI.add_variable(optimizer))\n",
    "F = MOI.ScalarAffineFunction{Complex{Float64}}\n",
    "Q = _mat(F.(MOI.SingleVariable.(x)), n)\n",
    "gram = sum(Q[i, j] * (1.0 * monos[i] * monos[j]) for i in 1:n for j in 1:n)\n",
    "z = H - convert(F, γ) - gram\n",
    "for c in MP.coefficients(z)\n",
    "    for a in [_mapcoef(real, c), _mapcoef(imag, c)]\n",
    "        MOI.Utilities.normalize_and_add_constraint(optimizer, a, MOI.EqualTo(0.0))\n",
    "    end\n",
    "end\n",
    "MOI.set(optimizer, MOI.ObjectiveSense(), MOI.MAX_SENSE)\n",
    "MOI.set(optimizer, MOI.ObjectiveFunction{MOI.SingleVariable}(), γ)\n",
    "MOI.optimize!(optimizer)\n",
    "MOI.get(optimizer, MOI.ObjectiveValue())"
   ]
  },
  {
   "cell_type": "markdown",
   "metadata": {},
   "source": [
    "# Complex"
   ]
  },
  {
   "cell_type": "code",
   "execution_count": null,
   "metadata": {},
   "outputs": [],
   "source": [
    "using MosekTools\n",
    "import MultivariatePolynomials\n",
    "const MP = MultivariatePolynomials\n",
    "optimizer = MOI.instantiate(Mosek.Optimizer, with_bridge_type=Float64)\n",
    "monos = [1, σx[1], σx[2], σy[1], σy[2], σz[1], σz[2]]\n",
    "n = length(monos)\n",
    "x, cx = MOI.add_constrained_variables(optimizer, MOI.PositiveSemidefiniteConeTriangle(2n))\n",
    "X = _mat(MOI.SingleVariable.(x), 2n)\n",
    "X11 = X[1:n, 1:n]\n",
    "X22 = X[n .+ (1:n), n .+ (1:n)]\n",
    "X12 = X[1:n, n .+ (1:n)]\n",
    "for j in 1:n\n",
    "    for i in 1:j\n",
    "        MOI.add_constraint(optimizer, MOI.Utilities.operate(-, Float64, X11[i, j], X22[i, j]), MOI.EqualTo(0.0))\n",
    "        if i == j\n",
    "            MOI.add_constraint(optimizer, convert(MOI.ScalarAffineFunction{Float64}, X12[i, j]), MOI.EqualTo(0.0))\n",
    "        else\n",
    "            MOI.add_constraint(optimizer, MOI.Utilities.operate(+, Float64, X12[i, j], X12[j, i]), MOI.EqualTo(0.0))\n",
    "        end\n",
    "    end\n",
    "end\n",
    "γ = MOI.SingleVariable(MOI.add_variable(optimizer))\n",
    "F = MOI.ScalarAffineFunction{Complex{Float64}}\n",
    "Q_real = F.(X11)\n",
    "Q_comp = F.(X12)\n",
    "Q = Q_real + (-1.0*im) * Q_comp\n",
    "gram = sum(Q[i, j] * (1.0 * monos[i] * monos[j]) for i in 1:n for j in 1:n)\n",
    "z = H - convert(F, γ) - gram\n",
    "duals = Dict()\n",
    "for term in MP.terms(z)\n",
    "    duals[MP.monomial(term)] = map([real, imag]) do f\n",
    "        a = _mapcoef(f, MP.coefficient(term))\n",
    "        MOI.Utilities.normalize_and_add_constraint(optimizer, a, MOI.EqualTo(0.0))\n",
    "    end\n",
    "end\n",
    "MOI.set(optimizer, MOI.ObjectiveSense(), MOI.MAX_SENSE)\n",
    "MOI.set(optimizer, MOI.ObjectiveFunction{MOI.SingleVariable}(), γ)\n",
    "MOI.optimize!(optimizer)\n",
    "@show MOI.get(optimizer, MOI.TerminationStatus())\n",
    "MOI.get(optimizer, MOI.ObjectiveValue())"
   ]
  },
  {
   "cell_type": "code",
   "execution_count": null,
   "metadata": {},
   "outputs": [],
   "source": [
    "using MosekTools\n",
    "optimizer = MOI.instantiate(Mosek.Optimizer, with_bridge_type=Float64)\n",
    "n = length(v)\n",
    "x, cx = MOI.add_constrained_variables(optimizer, MOI.PositiveSemidefiniteConeTriangle(2n))\n",
    "X = _mat(MOI.SingleVariable.(x), 2n)\n",
    "X11 = X[1:n, 1:n]\n",
    "X22 = X[n .+ (1:n), n .+ (1:n)]\n",
    "X12 = X[1:n, n .+ (1:n)]\n",
    "for j in 1:n\n",
    "    for i in 1:j\n",
    "        MOI.add_constraint(optimizer, MOI.Utilities.operate(-, Float64, X11[i, j], X22[i, j]), MOI.EqualTo(0.0))\n",
    "        if i == j\n",
    "            MOI.add_constraint(optimizer, convert(MOI.ScalarAffineFunction{Float64}, X12[i, j]), MOI.EqualTo(0.0))\n",
    "        else\n",
    "            MOI.add_constraint(optimizer, MOI.Utilities.operate(+, Float64, X12[i, j], X12[j, i]), MOI.EqualTo(0.0))\n",
    "        end\n",
    "    end\n",
    "end\n",
    "γ = MOI.SingleVariable(MOI.add_variable(optimizer))\n",
    "F = MOI.ScalarAffineFunction{Complex{Float64}}\n",
    "Q_real = F.(X11)\n",
    "Q_comp = F.(X12)\n",
    "Q = Q_real + (-1.0*im) * Q_comp\n",
    "gram = sum(Q[i, j] * (1.0 * monos[i] * monos[j]) for i in 1:n for j in 1:n)\n",
    "z = H - convert(F, γ) - gram\n",
    "duals = Dict()\n",
    "for term in MP.terms(z)\n",
    "    duals[MP.monomial(term)] = map([real, imag]) do f\n",
    "        a = _mapcoef(f, MP.coefficient(term))\n",
    "        MOI.Utilities.normalize_and_add_constraint(optimizer, a, MOI.EqualTo(0.0))\n",
    "    end\n",
    "end\n",
    "MOI.set(optimizer, MOI.ObjectiveSense(), MOI.MAX_SENSE)\n",
    "MOI.set(optimizer, MOI.ObjectiveFunction{MOI.SingleVariable}(), γ)\n",
    "MOI.optimize!(optimizer)\n",
    "@show MOI.get(optimizer, MOI.TerminationStatus())"
   ]
  },
  {
   "cell_type": "code",
   "execution_count": null,
   "metadata": {},
   "outputs": [],
   "source": [
    "@show MOI.get(optimizer, MOI.TerminationStatus())"
   ]
  },
  {
   "cell_type": "code",
   "execution_count": null,
   "metadata": {},
   "outputs": [],
   "source": [
    "-2 * √2"
   ]
  },
  {
   "cell_type": "code",
   "execution_count": null,
   "metadata": {},
   "outputs": [],
   "source": [
    "MOI.get(optimizer, MOI.ObjectiveValue())"
   ]
  },
  {
   "cell_type": "code",
   "execution_count": null,
   "metadata": {},
   "outputs": [],
   "source": [
    "MOI.get(optimizer, MOI.SolveTime())"
   ]
  },
  {
   "cell_type": "code",
   "execution_count": null,
   "metadata": {},
   "outputs": [],
   "source": [
    "Mfull = round.(_mat(MOI.get(optimizer, MOI.ConstraintDual(), cx), 2n), digits=6)\n",
    "M11 = Mfull[1:n, 1:n]\n",
    "M12 = Mfull[1:n, n .+ (1:n)]\n",
    "M12 + im * M12"
   ]
  },
  {
   "cell_type": "code",
   "execution_count": null,
   "metadata": {},
   "outputs": [],
   "source": [
    "Mfull = round.(_mat(MOI.get(optimizer, MOI.ConstraintDual(), cx), 2n), digits=6)\n",
    "M11 = Mfull[1:n, 1:n]\n",
    "M12 = Mfull[1:n, n .+ (1:n)]\n",
    "M12 + im * M12"
   ]
  },
  {
   "cell_type": "code",
   "execution_count": null,
   "metadata": {},
   "outputs": [],
   "source": [
    "using MultivariateMoments\n",
    "function _moment_matrix(μ::MultivariateMoments.Measure{T}, X) where T\n",
    "    function getmom(i, j)\n",
    "        x = X[i] * X[j]\n",
    "        for m in moments(μ)\n",
    "            if monomial(m) == monomial(x)\n",
    "                return MP.coefficient(x) * moment_value(m)\n",
    "            end\n",
    "        end\n",
    "        throw(ArgumentError(\"μ does not have the moment $(x)\"))\n",
    "    end\n",
    "    return MultivariateMoments.MomentMatrix{T}(getmom, X)\n",
    "end"
   ]
  },
  {
   "cell_type": "code",
   "execution_count": null,
   "metadata": {},
   "outputs": [],
   "source": [
    "a = Complex{Float64}[]\n",
    "m = MP.monomialtype(H)[]\n",
    "for (key, value) in duals\n",
    "    push!(m, key)\n",
    "    real_dual = MOI.get(optimizer, MOI.ConstraintDual(), value[1])\n",
    "    comp_dual = MOI.get(optimizer, MOI.ConstraintDual(), value[2])\n",
    "    push!(a, real_dual + im * comp_dual)\n",
    "end\n",
    "μ = measure(a, m)\n",
    "ν = _moment_matrix(μ, v)"
   ]
  },
  {
   "cell_type": "code",
   "execution_count": null,
   "metadata": {},
   "outputs": [],
   "source": [
    "round.(ν.Q, digits = 1)"
   ]
  },
  {
   "cell_type": "code",
   "execution_count": null,
   "metadata": {},
   "outputs": [],
   "source": [
    "using LinearAlgebra\n",
    "Γ = Hermitian([\n",
    "    1 0 0   0     0     1/2 1/2\n",
    "    0 1 1/2 1/2im 0     0   0\n",
    "    0 0 1   0     1/2im 0   0\n",
    "    0 0 0   1    -1/2   0   0\n",
    "    0 0 0   0     1     0   0\n",
    "    0 0 0   0     0     1   1\n",
    "    0 0 0   0     0     0   1\n",
    "])"
   ]
  },
  {
   "cell_type": "code",
   "execution_count": null,
   "metadata": {
    "collapsed": true
   },
   "outputs": [],
   "source": []
  }
 ],
 "metadata": {
  "@webio": {
   "lastCommId": null,
   "lastKernelId": null
  },
  "kernelspec": {
   "display_name": "Julia 1.4.2",
   "language": "julia",
   "name": "julia-1.4"
  },
  "language_info": {
   "file_extension": ".jl",
   "mimetype": "application/julia",
   "name": "julia",
   "version": "1.4.2"
  }
 },
 "nbformat": 4,
 "nbformat_minor": 2
}
