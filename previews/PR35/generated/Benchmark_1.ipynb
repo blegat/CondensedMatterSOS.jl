{
 "cells": [
  {
   "cell_type": "markdown",
   "source": [
    "# Benchmark 1"
   ],
   "metadata": {}
  },
  {
   "cell_type": "markdown",
   "source": [
    "We study the Hamiltonian of the Heisenberg model with periodic boundary conditions."
   ],
   "metadata": {}
  },
  {
   "outputs": [
    {
     "output_type": "execute_result",
     "data": {
      "text/plain": "σᶻ₂σᶻ₃ + σʸ₂σʸ₃ + σˣ₂σˣ₃ + σᶻ₁σᶻ₃ + σᶻ₁σᶻ₂ + σʸ₁σʸ₃ + σʸ₁σʸ₂ + σˣ₁σˣ₃ + σˣ₁σˣ₂",
      "text/latex": "$$ σᶻ_{2}σᶻ_{3} + σʸ_{2}σʸ_{3} + σˣ_{2}σˣ_{3} + σᶻ_{1}σᶻ_{3} + σᶻ_{1}σᶻ_{2} + σʸ_{1}σʸ_{3} + σʸ_{1}σʸ_{2} + σˣ_{1}σˣ_{3} + σˣ_{1}σˣ_{2} $$"
     },
     "metadata": {},
     "execution_count": 1
    }
   ],
   "cell_type": "code",
   "source": [
    "using CondensedMatterSOS\n",
    "import MultivariatePolynomials as MP\n",
    "@spin σ[1:3]\n",
    "MP.monomials(σ[1], 0:2, consecutive=true)\n",
    "heisenberg_hamiltonian(σ, true)"
   ],
   "metadata": {},
   "execution_count": 1
  },
  {
   "cell_type": "markdown",
   "source": [
    "Let's pick a solver from [this list](https://jump.dev/JuMP.jl/dev/installation/#Getting-Solvers)."
   ],
   "metadata": {}
  },
  {
   "outputs": [
    {
     "output_type": "execute_result",
     "data": {
      "text/plain": "Clarabel.MOIwrapper.Optimizer"
     },
     "metadata": {},
     "execution_count": 2
    }
   ],
   "cell_type": "code",
   "source": [
    "import Clarabel\n",
    "solver = Clarabel.Optimizer"
   ],
   "metadata": {},
   "execution_count": 2
  },
  {
   "cell_type": "markdown",
   "source": [
    "We can compute a lower bound `-2√2` to the ground state energy as follow:"
   ],
   "metadata": {}
  },
  {
   "outputs": [
    {
     "name": "stdout",
     "output_type": "stream",
     "text": [
      "-------------------------------------------------------------\n",
      "           Clarabel.jl v0.6.0  -  Clever Acronym              \n",
      "                   (c) Paul Goulart                          \n",
      "                University of Oxford, 2022                   \n",
      "-------------------------------------------------------------\n",
      "\n",
      "problem:\n",
      "  variables     = 50\n",
      "  constraints   = 121\n",
      "  nnz(P)        = 0\n",
      "  nnz(A)        = 127\n",
      "  cones (total) = 2\n",
      "    : Zero        = 1,  numel = 16\n",
      "    : PSDTriangle = 1,  numel = 105\n",
      "\n",
      "settings:\n",
      "  linear algebra: direct / qdldl, precision: Float64\n",
      "  max iter = 200, time limit = Inf,  max step = 0.990\n",
      "  tol_feas = 1.0e-08, tol_gap_abs = 1.0e-08, tol_gap_rel = 1.0e-08,\n",
      "  static reg : on, ϵ1 = 1.0e-08, ϵ2 = 4.9e-32\n",
      "  dynamic reg: on, ϵ = 1.0e-13, δ = 2.0e-07\n",
      "  iter refine: on, reltol = 1.0e-13, abstol = 1.0e-12, \n",
      "               max iter = 10, stop ratio = 5.0\n",
      "  equilibrate: on, min_scale = 1.0e-04, max_scale = 1.0e+04\n",
      "               max iter = 10\n",
      "\n",
      "iter    pcost        dcost       gap       pres      dres      k/t        μ       step      \n",
      "---------------------------------------------------------------------------------------------\n",
      "  0   0.0000e+00  -0.0000e+00  0.00e+00  5.55e-01  2.69e-01  1.00e+00  1.87e+00   ------   \n",
      "  1   5.3544e+00   5.4173e+00  1.18e-02  4.04e-02  1.36e-02  1.34e-01  1.78e-01  9.30e-01  \n",
      "  2   5.9939e+00   5.9945e+00  1.03e-04  4.02e-04  1.32e-04  1.36e-03  1.88e-03  9.89e-01  \n",
      "  3   5.9999e+00   5.9999e+00  1.03e-06  4.02e-06  1.32e-06  1.36e-05  1.88e-05  9.90e-01  \n",
      "  4   6.0000e+00   6.0000e+00  1.03e-08  4.02e-08  1.32e-08  1.36e-07  1.88e-07  9.90e-01  \n",
      "  5   6.0000e+00   6.0000e+00  1.03e-10  4.02e-10  1.32e-10  1.36e-09  1.88e-09  9.90e-01  \n",
      "---------------------------------------------------------------------------------------------\n",
      "Terminated with status = solved\n",
      "solve time =  166ms\n"
     ]
    },
    {
     "output_type": "execute_result",
     "data": {
      "text/plain": "-5.999999993853594"
     },
     "metadata": {},
     "execution_count": 3
    }
   ],
   "cell_type": "code",
   "source": [
    "function hamiltonian_energy(N, maxdegree, solver; symmetry=true, consecutive=false, kws...)\n",
    "    @spin σ[1:N]\n",
    "    G = Lattice1Group(N)\n",
    "    @assert iseven(maxdegree)\n",
    "    H = heisenberg_hamiltonian(σ, true)\n",
    "    cone = NonnegPolyInnerCone{MOI.HermitianPositiveSemidefiniteConeTriangle}()\n",
    "    certificate = SumOfSquares.Certificate.FixedBasis(\n",
    "        cone,\n",
    "        MonomialBasis(MP.monomials(σ[1], 0:div(maxdegree, 2), consecutive=consecutive)),\n",
    "    )\n",
    "    if symmetry\n",
    "        certificate = Symmetry.Ideal(\n",
    "            Symmetry.Pattern(G, Action(σ)),\n",
    "            certificate,\n",
    "        )\n",
    "    end\n",
    "    energy(H, maxdegree, solver; certificate, kws...)\n",
    "end\n",
    "bound, gram, ν = hamiltonian_energy(\n",
    "    2,\n",
    "    2,\n",
    "    solver,\n",
    "    symmetry = false,\n",
    "    sparsity = SumOfSquares.Sparsity.NoPattern(),\n",
    ")\n",
    "bound"
   ],
   "metadata": {},
   "execution_count": 3
  },
  {
   "cell_type": "markdown",
   "source": [
    "We can see that the moment matrix uses all monomials:"
   ],
   "metadata": {}
  },
  {
   "outputs": [
    {
     "output_type": "execute_result",
     "data": {
      "text/plain": "7-element Vector{CondensedMatterSOS.SpinMonomial}:\n 1\n σᶻ₂\n σʸ₂\n σˣ₂\n σᶻ₁\n σʸ₁\n σˣ₁"
     },
     "metadata": {},
     "execution_count": 4
    }
   ],
   "cell_type": "code",
   "source": [
    "ν.basis.monomials"
   ],
   "metadata": {},
   "execution_count": 4
  },
  {
   "cell_type": "markdown",
   "source": [
    "# Symmetry reduction\n",
    "\n",
    "We can reduce the computation using symmetry reduction as follows."
   ],
   "metadata": {}
  },
  {
   "outputs": [
    {
     "name": "stdout",
     "output_type": "stream",
     "text": [
      "-------------------------------------------------------------\n",
      "           Clarabel.jl v0.6.0  -  Clever Acronym              \n",
      "                   (c) Paul Goulart                          \n",
      "                University of Oxford, 2022                   \n",
      "-------------------------------------------------------------\n",
      "\n",
      "problem:\n",
      "  variables     = 4\n",
      "  constraints   = 13\n",
      "  nnz(P)        = 0\n",
      "  nnz(A)        = 16\n",
      "  cones (total) = 4\n",
      "    : Zero        = 1,  numel = 4\n",
      "    : PSDTriangle = 3,  numel = (3,3,3)\n",
      "\n",
      "settings:\n",
      "  linear algebra: direct / qdldl, precision: Float64\n",
      "  max iter = 200, time limit = Inf,  max step = 0.990\n",
      "  tol_feas = 1.0e-08, tol_gap_abs = 1.0e-08, tol_gap_rel = 1.0e-08,\n",
      "  static reg : on, ϵ1 = 1.0e-08, ϵ2 = 4.9e-32\n",
      "  dynamic reg: on, ϵ = 1.0e-13, δ = 2.0e-07\n",
      "  iter refine: on, reltol = 1.0e-13, abstol = 1.0e-12, \n",
      "               max iter = 10, stop ratio = 5.0\n",
      "  equilibrate: on, min_scale = 1.0e-04, max_scale = 1.0e+04\n",
      "               max iter = 10\n",
      "\n",
      "iter    pcost        dcost       gap       pres      dres      k/t        μ       step      \n",
      "---------------------------------------------------------------------------------------------\n",
      "  0  -1.4111e-17  -3.4559e-16  3.31e-16  4.22e-01  2.55e-01  1.00e+00  3.00e+00   ------   \n",
      "  1   5.6907e+00   5.7563e+00  1.15e-02  3.38e-02  1.66e-02  1.42e-01  2.80e-01  9.48e-01  \n",
      "  2   5.9971e+00   5.9977e+00  1.10e-04  3.28e-04  1.60e-04  1.41e-03  2.88e-03  9.90e-01  \n",
      "  3   6.0000e+00   6.0000e+00  1.10e-06  3.28e-06  1.60e-06  1.41e-05  2.88e-05  9.90e-01  \n",
      "  4   6.0000e+00   6.0000e+00  1.10e-08  3.28e-08  1.60e-08  1.41e-07  2.88e-07  9.90e-01  \n",
      "  5   6.0000e+00   6.0000e+00  1.10e-10  3.28e-10  1.60e-10  1.41e-09  2.88e-09  9.90e-01  \n",
      "---------------------------------------------------------------------------------------------\n",
      "Terminated with status = solved\n",
      "solve time = 1.70ms\n"
     ]
    },
    {
     "output_type": "execute_result",
     "data": {
      "text/plain": "-5.999999997057931"
     },
     "metadata": {},
     "execution_count": 5
    }
   ],
   "cell_type": "code",
   "source": [
    "using CondensedMatterSOS\n",
    "\n",
    "bound, gram, ν = hamiltonian_energy(\n",
    "    2,\n",
    "    2,\n",
    "    solver,\n",
    ")\n",
    "bound"
   ],
   "metadata": {},
   "execution_count": 5
  },
  {
   "cell_type": "markdown",
   "source": [
    "The reduction is obtained by block diagonalizing with a change of polynomial\n",
    "basis to the isotypical basis."
   ],
   "metadata": {}
  },
  {
   "outputs": [
    {
     "output_type": "execute_result",
     "data": {
      "text/plain": "7-element Vector{Vector{MultivariatePolynomials.VectorPolynomial{ComplexF64, MultivariatePolynomials.Term{ComplexF64, CondensedMatterSOS.SpinMonomial}}}}:\n [(-0.7071067811865472 + 0.0im)σᶻ₂ + (-0.7071067811865475 + 0.0im)σᶻ₁]\n [(-0.7071067811865472 + 0.0im)σʸ₂ + (-0.7071067811865475 + 0.0im)σʸ₁]\n [(-0.7071067811865472 + 0.0im)σˣ₂ + (-0.7071067811865475 + 0.0im)σˣ₁]\n [(1.0 - 0.0im)]\n [(-0.7071067811865472 + 0.0im)σᶻ₂ + (0.7071067811865475 + 0.0im)σᶻ₁]\n [(-0.7071067811865472 + 0.0im)σʸ₂ + (0.7071067811865475 + 0.0im)σʸ₁]\n [(-0.7071067811865472 + 0.0im)σˣ₂ + (0.7071067811865475 + 0.0im)σˣ₁]"
     },
     "metadata": {},
     "execution_count": 6
    }
   ],
   "cell_type": "code",
   "source": [
    "[M.basis.polynomials for M in ν.blocks]"
   ],
   "metadata": {},
   "execution_count": 6
  },
  {
   "cell_type": "markdown",
   "source": [
    "Let's try this for 3 sites. First without symmetry."
   ],
   "metadata": {}
  },
  {
   "outputs": [
    {
     "name": "stdout",
     "output_type": "stream",
     "text": [
      "-------------------------------------------------------------\n",
      "           Clarabel.jl v0.6.0  -  Clever Acronym              \n",
      "                   (c) Paul Goulart                          \n",
      "                University of Oxford, 2022                   \n",
      "-------------------------------------------------------------\n",
      "\n",
      "problem:\n",
      "  variables     = 101\n",
      "  constraints   = 247\n",
      "  nnz(P)        = 0\n",
      "  nnz(A)        = 256\n",
      "  cones (total) = 2\n",
      "    : Zero        = 1,  numel = 37\n",
      "    : PSDTriangle = 1,  numel = 210\n",
      "\n",
      "settings:\n",
      "  linear algebra: direct / qdldl, precision: Float64\n",
      "  max iter = 200, time limit = Inf,  max step = 0.990\n",
      "  tol_feas = 1.0e-08, tol_gap_abs = 1.0e-08, tol_gap_rel = 1.0e-08,\n",
      "  static reg : on, ϵ1 = 1.0e-08, ϵ2 = 4.9e-32\n",
      "  dynamic reg: on, ϵ = 1.0e-13, δ = 2.0e-07\n",
      "  iter refine: on, reltol = 1.0e-13, abstol = 1.0e-12, \n",
      "               max iter = 10, stop ratio = 5.0\n",
      "  equilibrate: on, min_scale = 1.0e-04, max_scale = 1.0e+04\n",
      "               max iter = 10\n",
      "\n",
      "iter    pcost        dcost       gap       pres      dres      k/t        μ       step      \n",
      "---------------------------------------------------------------------------------------------\n",
      "  0   0.0000e+00  -0.0000e+00  0.00e+00  6.04e-01  3.07e-01  1.00e+00  1.44e+00   ------   \n",
      "  1   4.0323e+00   4.0711e+00  9.61e-03  3.16e-02  1.16e-02  8.33e-02  9.35e-02  9.73e-01  \n",
      "  2   4.4954e+00   4.4958e+00  8.62e-05  3.08e-04  1.11e-04  8.37e-04  9.54e-04  9.90e-01  \n",
      "  3   4.5000e+00   4.5000e+00  8.61e-07  3.08e-06  1.11e-06  8.37e-06  9.54e-06  9.90e-01  \n",
      "  4   4.5000e+00   4.5000e+00  8.61e-09  3.08e-08  1.11e-08  8.37e-08  9.54e-08  9.90e-01  \n",
      "  5   4.5000e+00   4.5000e+00  8.61e-11  3.08e-10  1.11e-10  8.37e-10  9.54e-10  9.90e-01  \n",
      "---------------------------------------------------------------------------------------------\n",
      "Terminated with status = solved\n",
      "solve time = 79.0ms\n",
      "bound = -4.499999995399682\n"
     ]
    },
    {
     "output_type": "execute_result",
     "data": {
      "text/plain": "-4.499999995399682"
     },
     "metadata": {},
     "execution_count": 7
    }
   ],
   "cell_type": "code",
   "source": [
    "bound, gram, ν = hamiltonian_energy(\n",
    "    3,\n",
    "    2,\n",
    "    solver,\n",
    "    symmetry = false,\n",
    ")\n",
    "@show bound"
   ],
   "metadata": {},
   "execution_count": 7
  },
  {
   "cell_type": "markdown",
   "source": [
    "Now with symmetry."
   ],
   "metadata": {}
  },
  {
   "outputs": [
    {
     "name": "stdout",
     "output_type": "stream",
     "text": [
      "-------------------------------------------------------------\n",
      "           Clarabel.jl v0.6.0  -  Clever Acronym              \n",
      "                   (c) Paul Goulart                          \n",
      "                University of Oxford, 2022                   \n",
      "-------------------------------------------------------------\n",
      "\n",
      "problem:\n",
      "  variables     = 5\n",
      "  constraints   = 22\n",
      "  nnz(P)        = 0\n",
      "  nnz(A)        = 40\n",
      "  cones (total) = 5\n",
      "    : Zero        = 1,  numel = 10\n",
      "    : PSDTriangle = 4,  numel = (3,3,3,3)\n",
      "\n",
      "settings:\n",
      "  linear algebra: direct / qdldl, precision: Float64\n",
      "  max iter = 200, time limit = Inf,  max step = 0.990\n",
      "  tol_feas = 1.0e-08, tol_gap_abs = 1.0e-08, tol_gap_rel = 1.0e-08,\n",
      "  static reg : on, ϵ1 = 1.0e-08, ϵ2 = 4.9e-32\n",
      "  dynamic reg: on, ϵ = 1.0e-13, δ = 2.0e-07\n",
      "  iter refine: on, reltol = 1.0e-13, abstol = 1.0e-12, \n",
      "               max iter = 10, stop ratio = 5.0\n",
      "  equilibrate: on, min_scale = 1.0e-04, max_scale = 1.0e+04\n",
      "               max iter = 10\n",
      "\n",
      "iter    pcost        dcost       gap       pres      dres      k/t        μ       step      \n",
      "---------------------------------------------------------------------------------------------\n",
      "  0  -1.7048e-15  -1.3655e-14  1.20e-14  4.28e-01  3.13e-01  1.00e+00  2.25e+00   ------   \n",
      "  1   4.1635e+00   4.1885e+00  6.00e-03  2.84e-02  1.73e-02  8.30e-02  1.67e-01  9.39e-01  \n",
      "  2   4.4968e+00   4.4970e+00  5.35e-05  2.85e-04  1.73e-04  8.32e-04  1.74e-03  9.90e-01  \n",
      "  3   4.5000e+00   4.5000e+00  5.35e-07  2.85e-06  1.73e-06  8.32e-06  1.74e-05  9.90e-01  \n",
      "  4   4.5000e+00   4.5000e+00  5.35e-09  2.85e-08  1.73e-08  8.32e-08  1.74e-07  9.90e-01  \n",
      "  5   4.5000e+00   4.5000e+00  5.35e-11  2.85e-10  1.73e-10  8.32e-10  1.74e-09  9.90e-01  \n",
      "---------------------------------------------------------------------------------------------\n",
      "Terminated with status = solved\n",
      "solve time = 1.88ms\n",
      "bound = -4.499999996767557\n"
     ]
    },
    {
     "output_type": "execute_result",
     "data": {
      "text/plain": "-4.499999996767557"
     },
     "metadata": {},
     "execution_count": 8
    }
   ],
   "cell_type": "code",
   "source": [
    "bound, gram, ν = hamiltonian_energy(\n",
    "    3,\n",
    "    2,\n",
    "    solver,\n",
    ")\n",
    "@show bound"
   ],
   "metadata": {},
   "execution_count": 8
  },
  {
   "cell_type": "markdown",
   "source": [
    "Let's look at the isotypical basis."
   ],
   "metadata": {}
  },
  {
   "outputs": [
    {
     "output_type": "execute_result",
     "data": {
      "text/plain": "10-element Vector{Vector{MultivariatePolynomials.VectorPolynomial{ComplexF64, MultivariatePolynomials.Term{ComplexF64, CondensedMatterSOS.SpinMonomial}}}}:\n [(-0.5773502691896257 + 0.0im)σᶻ₃ + (-0.5773502691896257 + 0.0im)σᶻ₂ + (-0.5773502691896257 + 0.0im)σᶻ₁]\n [(-0.5773502691896257 + 0.0im)σʸ₃ + (-0.5773502691896257 + 0.0im)σʸ₂ + (-0.5773502691896257 + 0.0im)σʸ₁]\n [(-0.5773502691896257 + 0.0im)σˣ₃ + (-0.5773502691896257 + 0.0im)σˣ₂ + (-0.5773502691896257 + 0.0im)σˣ₁]\n [(1.0 - 0.0im)]\n [(-0.577350269189626 + 0.0im)σᶻ₃ + (0.2886751345948131 - 0.49999999999999994im)σᶻ₂ + (0.28867513459481275 + 0.5000000000000001im)σᶻ₁]\n [(-0.577350269189626 + 0.0im)σʸ₃ + (0.2886751345948131 - 0.49999999999999994im)σʸ₂ + (0.28867513459481275 + 0.5000000000000001im)σʸ₁]\n [(-0.577350269189626 + 0.0im)σˣ₃ + (0.2886751345948131 - 0.49999999999999994im)σˣ₂ + (0.28867513459481275 + 0.5000000000000001im)σˣ₁]\n [(-0.577350269189626 + 0.0im)σᶻ₃ + (0.28867513459481275 + 0.5000000000000001im)σᶻ₂ + (0.2886751345948131 - 0.49999999999999994im)σᶻ₁]\n [(-0.577350269189626 + 0.0im)σʸ₃ + (0.28867513459481275 + 0.5000000000000001im)σʸ₂ + (0.2886751345948131 - 0.49999999999999994im)σʸ₁]\n [(-0.577350269189626 + 0.0im)σˣ₃ + (0.28867513459481275 + 0.5000000000000001im)σˣ₂ + (0.2886751345948131 - 0.49999999999999994im)σˣ₁]"
     },
     "metadata": {},
     "execution_count": 9
    }
   ],
   "cell_type": "code",
   "source": [
    "[M.basis.polynomials for M in ν.blocks]"
   ],
   "metadata": {},
   "execution_count": 9
  },
  {
   "cell_type": "markdown",
   "source": [
    "Now let's define a function for our common use case."
   ],
   "metadata": {}
  },
  {
   "outputs": [
    {
     "output_type": "execute_result",
     "data": {
      "text/plain": "f (generic function with 2 methods)"
     },
     "metadata": {},
     "execution_count": 10
    }
   ],
   "cell_type": "code",
   "source": [
    "function f(N, d=1; verbose = 1, kws...)\n",
    "    @show N\n",
    "    println(\"***\")\n",
    "    @show d\n",
    "    bound, _, ν = @time hamiltonian_energy(N, 2d, solver; kws...)\n",
    "    @show bound\n",
    "    block_sizes = map(ν.blocks) do M\n",
    "        return length(M.basis.polynomials)\n",
    "    end\n",
    "    @show block_sizes\n",
    "    if verbose >= 2\n",
    "        for M in ν.blocks\n",
    "            display(round.(M.basis.polynomials, digits=6))\n",
    "        end\n",
    "    end\n",
    "    println(\"E/N = \", bound / N)\n",
    "    println(\"------------------------------------\")\n",
    "    return bound / N\n",
    "end"
   ],
   "metadata": {},
   "execution_count": 10
  },
  {
   "cell_type": "markdown",
   "source": [
    "With `d = 1`, we find a lower bound of `-3`:"
   ],
   "metadata": {}
  },
  {
   "outputs": [
    {
     "name": "stdout",
     "output_type": "stream",
     "text": [
      "N = 6\n",
      "***\n",
      "d = 1\n",
      "-------------------------------------------------------------\n",
      "           Clarabel.jl v0.6.0  -  Clever Acronym              \n",
      "                   (c) Paul Goulart                          \n",
      "                University of Oxford, 2022                   \n",
      "-------------------------------------------------------------\n",
      "\n",
      "problem:\n",
      "  variables     = 8\n",
      "  constraints   = 67\n",
      "  nnz(P)        = 0\n",
      "  nnz(A)        = 292\n",
      "  cones (total) = 8\n",
      "    : Zero        = 1,  numel = 46\n",
      "    : PSDTriangle = 7,  numel = (3,3,3,3,...,3)\n",
      "\n",
      "settings:\n",
      "  linear algebra: direct / qdldl, precision: Float64\n",
      "  max iter = 200, time limit = Inf,  max step = 0.990\n",
      "  tol_feas = 1.0e-08, tol_gap_abs = 1.0e-08, tol_gap_rel = 1.0e-08,\n",
      "  static reg : on, ϵ1 = 1.0e-08, ϵ2 = 4.9e-32\n",
      "  dynamic reg: on, ϵ = 1.0e-13, δ = 2.0e-07\n",
      "  iter refine: on, reltol = 1.0e-13, abstol = 1.0e-12, \n",
      "               max iter = 10, stop ratio = 5.0\n",
      "  equilibrate: on, min_scale = 1.0e-04, max_scale = 1.0e+04\n",
      "               max iter = 10\n",
      "\n",
      "iter    pcost        dcost       gap       pres      dres      k/t        μ       step      \n",
      "---------------------------------------------------------------------------------------------\n",
      "  0  -2.3418e-12   2.0510e-15  2.34e-12  5.06e-01  3.42e-01  1.00e+00  3.40e+00   ------   \n",
      "  1   9.1182e+00   9.3357e+00  2.39e-02  1.68e-01  9.35e-02  5.30e-01  1.24e+00  7.44e-01  \n",
      "  2   1.7367e+01   1.7455e+01  5.06e-03  1.95e-02  9.61e-03  1.33e-01  1.83e-01  9.90e-01  \n",
      "  3   1.7994e+01   1.7995e+01  5.37e-05  2.03e-04  9.88e-05  1.45e-03  1.96e-03  9.89e-01  \n",
      "  4   1.8000e+01   1.8000e+01  5.37e-07  2.02e-06  9.87e-07  1.45e-05  1.96e-05  9.90e-01  \n",
      "  5   1.8000e+01   1.8000e+01  5.37e-09  2.02e-08  9.87e-09  1.45e-07  1.96e-07  9.90e-01  \n",
      "  6   1.8000e+01   1.8000e+01  5.37e-11  2.02e-10  9.87e-11  1.45e-09  1.96e-09  9.90e-01  \n",
      "---------------------------------------------------------------------------------------------\n",
      "Terminated with status = solved\n",
      "solve time = 3.29ms\n",
      "  0.104997 seconds (298.67 k allocations: 26.256 MiB)\n",
      "bound = -17.999999993565265\n",
      "block_sizes = [1, 1, 1, 1, 1, 1, 1, 1, 1, 1, 1, 1, 1, 1, 1, 1, 1, 1, 1]\n",
      "E/N = -2.999999998927544\n",
      "------------------------------------\n"
     ]
    },
    {
     "output_type": "execute_result",
     "data": {
      "text/plain": "-2.999999998927544"
     },
     "metadata": {},
     "execution_count": 11
    }
   ],
   "cell_type": "code",
   "source": [
    "lb = f(6, 1, consecutive = true, symmetry = true)"
   ],
   "metadata": {},
   "execution_count": 11
  },
  {
   "cell_type": "markdown",
   "source": [
    "Now with `d = 2`, we find `-2`:"
   ],
   "metadata": {}
  },
  {
   "outputs": [
    {
     "name": "stdout",
     "output_type": "stream",
     "text": [
      "N = 6\n",
      "***\n",
      "d = 2\n",
      "-------------------------------------------------------------\n",
      "           Clarabel.jl v0.6.0  -  Clever Acronym              \n",
      "                   (c) Paul Goulart                          \n",
      "                University of Oxford, 2022                   \n",
      "-------------------------------------------------------------\n",
      "\n",
      "problem:\n",
      "  variables     = 46\n",
      "  constraints   = 896\n",
      "  nnz(P)        = 0\n",
      "  nnz(A)        = 9975\n",
      "  cones (total) = 25\n",
      "    : Zero        = 1,  numel = 775\n",
      "    : PSDTriangle = 24,  numel = (3,10,10,3,...,3)\n",
      "\n",
      "settings:\n",
      "  linear algebra: direct / qdldl, precision: Float64\n",
      "  max iter = 200, time limit = Inf,  max step = 0.990\n",
      "  tol_feas = 1.0e-08, tol_gap_abs = 1.0e-08, tol_gap_rel = 1.0e-08,\n",
      "  static reg : on, ϵ1 = 1.0e-08, ϵ2 = 4.9e-32\n",
      "  dynamic reg: on, ϵ = 1.0e-13, δ = 2.0e-07\n",
      "  iter refine: on, reltol = 1.0e-13, abstol = 1.0e-12, \n",
      "               max iter = 10, stop ratio = 5.0\n",
      "  equilibrate: on, min_scale = 1.0e-04, max_scale = 1.0e+04\n",
      "               max iter = 10\n",
      "\n",
      "iter    pcost        dcost       gap       pres      dres      k/t        μ       step      \n",
      "---------------------------------------------------------------------------------------------\n",
      "  0   1.4276e+00   1.4276e+00  1.24e-15  7.33e-01  5.97e-01  1.00e+00  2.30e+00   ------   \n",
      "  1   5.3281e+00   5.3827e+00  1.02e-02  3.09e-01  1.64e-01  2.90e-01  7.52e-01  7.09e-01  \n",
      "  2   1.0806e+01   1.0861e+01  5.08e-03  1.16e-01  6.06e-02  1.67e-01  3.67e-01  6.85e-01  \n",
      "  3   9.6289e+00   9.6819e+00  5.50e-03  4.87e-02  4.24e-02  1.42e-01  2.89e-01  5.18e-01  \n",
      "  4   1.1534e+01   1.1544e+01  8.23e-04  6.68e-03  5.87e-03  2.37e-02  4.69e-02  8.52e-01  \n",
      "  5   1.1943e+01   1.1945e+01  1.84e-04  1.71e-03  1.43e-03  5.76e-03  1.18e-02  8.95e-01  \n",
      "  6   1.1999e+01   1.1999e+01  2.92e-06  2.72e-05  2.29e-05  9.26e-05  1.91e-04  9.84e-01  \n",
      "  7   1.2000e+01   1.2000e+01  1.34e-07  1.25e-06  1.05e-06  4.24e-06  8.76e-06  9.55e-01  \n",
      "  8   1.2000e+01   1.2000e+01  3.89e-09  3.65e-08  3.06e-08  1.24e-07  2.56e-07  9.73e-01  \n",
      "  9   1.2000e+01   1.2000e+01  3.89e-09  3.65e-08  3.06e-08  1.24e-07  2.56e-07  0.00e+00  \n",
      "---------------------------------------------------------------------------------------------\n",
      "Terminated with status = solved (reduced accuracy)\n",
      "solve time = 54.6ms\n",
      "┌ Warning: Termination status: ALMOST_OPTIMAL, ALMOST_SOLVED\n",
      "└ @ CondensedMatterSOS ~/work/CondensedMatterSOS.jl/CondensedMatterSOS.jl/src/sos.jl:39\n",
      "  1.024511 seconds (1.64 M allocations: 200.506 MiB, 7.91% gc time)\n",
      "bound = -11.999999696903627\n",
      "block_sizes = [1, 1, 2, 2, 2, 2, 1, 1, 1, 1, 1, 2, 2, 2, 1, 1, 1, 1, 1, 1, 2, 2, 2, 1, 1, 1, 1, 1, 1, 2, 2, 2, 1, 1, 1, 1, 1, 1, 2, 2, 2, 1, 1, 1, 1, 1, 1, 2, 2, 2, 1, 1, 1, 1]\n",
      "E/N = -1.9999999494839378\n",
      "------------------------------------\n"
     ]
    },
    {
     "output_type": "execute_result",
     "data": {
      "text/plain": "-1.9999999494839378"
     },
     "metadata": {},
     "execution_count": 12
    }
   ],
   "cell_type": "code",
   "source": [
    "lb = f(6, 2, consecutive = true, symmetry = true)"
   ],
   "metadata": {},
   "execution_count": 12
  },
  {
   "cell_type": "markdown",
   "source": [
    "Now with `d = 3`, we find `-1.8685`:"
   ],
   "metadata": {}
  },
  {
   "outputs": [
    {
     "name": "stdout",
     "output_type": "stream",
     "text": [
      "N = 6\n",
      "***\n",
      "d = 3\n",
      "-------------------------------------------------------------\n",
      "           Clarabel.jl v0.6.0  -  Clever Acronym              \n",
      "                   (c) Paul Goulart                          \n",
      "                University of Oxford, 2022                   \n",
      "-------------------------------------------------------------\n",
      "\n",
      "problem:\n",
      "  variables     = 402\n",
      "  constraints   = 5774\n",
      "  nnz(P)        = 0\n",
      "  nnz(A)        = 269426\n",
      "  cones (total) = 31\n",
      "    : Zero        = 1,  numel = 4875\n",
      "    : PSDTriangle = 30,  numel = (21,78,21,3,...,36)\n",
      "\n",
      "settings:\n",
      "  linear algebra: direct / qdldl, precision: Float64\n",
      "  max iter = 200, time limit = Inf,  max step = 0.990\n",
      "  tol_feas = 1.0e-08, tol_gap_abs = 1.0e-08, tol_gap_rel = 1.0e-08,\n",
      "  static reg : on, ϵ1 = 1.0e-08, ϵ2 = 4.9e-32\n",
      "  dynamic reg: on, ϵ = 1.0e-13, δ = 2.0e-07\n",
      "  iter refine: on, reltol = 1.0e-13, abstol = 1.0e-12, \n",
      "               max iter = 10, stop ratio = 5.0\n",
      "  equilibrate: on, min_scale = 1.0e-04, max_scale = 1.0e+04\n",
      "               max iter = 10\n",
      "\n",
      "iter    pcost        dcost       gap       pres      dres      k/t        μ       step      \n",
      "---------------------------------------------------------------------------------------------\n",
      "  0   5.4071e-02   5.4071e-02  7.36e-16  9.07e-01  3.68e-01  1.00e+00  1.93e+00   ------   \n",
      "  1   9.2737e-01   9.4164e-01  1.43e-02  4.38e-01  4.84e-02  1.28e-01  2.94e-01  8.67e-01  \n",
      "  2   7.4065e+00   7.4182e+00  1.58e-03  1.08e-01  1.17e-02  4.67e-02  9.28e-02  8.38e-01  \n",
      "  3   7.6090e+00   7.6199e+00  1.44e-03  5.69e-02  8.75e-03  4.17e-02  8.10e-02  3.09e-01  \n",
      "  4   1.0472e+01   1.0475e+01  2.67e-04  1.17e-02  1.59e-03  1.03e-02  1.98e-02  7.87e-01  \n",
      "  5   1.0486e+01   1.0488e+01  2.47e-04  1.19e-02  1.48e-03  9.50e-03  1.83e-02  1.66e-01  \n",
      "  6   1.0768e+01   1.0770e+01  1.30e-04  6.60e-03  7.47e-04  5.04e-03  9.66e-03  7.11e-01  \n",
      "  7   1.1097e+01   1.1098e+01  3.40e-05  1.68e-03  8.11e-05  1.34e-03  2.55e-03  9.05e-01  \n",
      "  8   1.1201e+01   1.1201e+01  2.58e-06  1.30e-04  2.01e-06  1.02e-04  1.94e-04  9.66e-01  \n",
      "  9   1.1210e+01   1.1210e+01  2.15e-07  1.09e-05  1.68e-07  8.53e-06  1.63e-05  9.24e-01  \n",
      " 10   1.1211e+01   1.1211e+01  4.73e-09  2.39e-07  3.69e-09  1.87e-07  3.57e-07  9.82e-01  \n",
      " 11   1.1211e+01   1.1211e+01  1.63e-10  8.21e-09  1.39e-10  6.44e-09  1.23e-08  9.66e-01  \n",
      "---------------------------------------------------------------------------------------------\n",
      "Terminated with status = solved\n",
      "solve time =  2.71s\n",
      " 27.515121 seconds (35.13 M allocations: 3.077 GiB, 3.42% gc time)\n",
      "bound = -11.211101998244592\n",
      "block_sizes = [3, 3, 6, 6, 6, 3, 1, 4, 4, 4, 3, 3, 6, 6, 6, 2, 1, 4, 4, 4, 3, 3, 6, 6, 6, 2, 1, 4, 4, 4, 3, 3, 6, 6, 6, 2, 1, 4, 4, 4, 3, 3, 6, 6, 6, 2, 1, 4, 4, 4, 3, 3, 6, 6, 6, 2, 1, 4, 4, 4]\n",
      "E/N = -1.868516999707432\n",
      "------------------------------------\n"
     ]
    },
    {
     "output_type": "execute_result",
     "data": {
      "text/plain": "-1.868516999707432"
     },
     "metadata": {},
     "execution_count": 13
    }
   ],
   "cell_type": "code",
   "source": [
    "lb = f(6, 3, consecutive = true, symmetry = true)"
   ],
   "metadata": {},
   "execution_count": 13
  },
  {
   "cell_type": "markdown",
   "source": [
    "| id     | irep 1 | irep 2 | irep 3 | irep 4 |\n",
    "|--------|--------|--------|--------|--------|\n",
    "| degree | 2      | 3      | 1      | 3      |\n",
    "| mult 2 | 1      | 3      | 2      | 1      |\n",
    "| mult 3 | 3      | 6      | 4      | 3      |\n",
    "| mult 4 | 6      | 10     | 7      | 6      |\n",
    "| mult 5 | 10     | 15     | 11     | 10     |\n",
    "| mult 6 | 15     | 21     | 16     | 15     |\n",
    "| mult 7 | 21     | 28     | 22     | 21     |"
   ],
   "metadata": {}
  },
  {
   "cell_type": "markdown",
   "source": [
    "---\n",
    "\n",
    "*This notebook was generated using [Literate.jl](https://github.com/fredrikekre/Literate.jl).*"
   ],
   "metadata": {}
  }
 ],
 "nbformat_minor": 3,
 "metadata": {
  "language_info": {
   "file_extension": ".jl",
   "mimetype": "application/julia",
   "name": "julia",
   "version": "1.9.3"
  },
  "kernelspec": {
   "name": "julia-1.9",
   "display_name": "Julia 1.9.3",
   "language": "julia"
  }
 },
 "nbformat": 4
}
