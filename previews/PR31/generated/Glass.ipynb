{
 "cells": [
  {
   "cell_type": "markdown",
   "source": [
    "# Ising spin glass model"
   ],
   "metadata": {}
  },
  {
   "cell_type": "markdown",
   "source": [
    "## 1D"
   ],
   "metadata": {}
  },
  {
   "cell_type": "markdown",
   "source": [
    "We study the Hamiltonian of the transverse-field Ising spin glass model without periodic boundary conditions and transverse field `g` set to 0.4."
   ],
   "metadata": {}
  },
  {
   "outputs": [
    {
     "output_type": "execute_result",
     "data": {
      "text/plain": "(-0.4 + 0.0im)σᶻ₂ + (-0.4 + 0.0im)σᶻ₁ + (-0.07058313895389791 - 0.0im)σˣ₁σˣ₂",
      "text/latex": "$$ (-0.4 + 0.0im)σᶻ_{2} + (-0.4 + 0.0im)σᶻ_{1} + (-0.07058313895389791 - 0.0im)σˣ_{1}σˣ_{2} $$"
     },
     "metadata": {},
     "execution_count": 1
    }
   ],
   "cell_type": "code",
   "source": [
    "import Random\n",
    "using CondensedMatterSOS\n",
    "@spin σ[1:2]\n",
    "function hamiltonian(σ)\n",
    "    Random.seed!(1) # We set the seed so that the results of this example are reproducible.\n",
    "    return ising_glass_hamiltonian(σ, 0.4, false)\n",
    "end\n",
    "hamiltonian(σ)"
   ],
   "metadata": {},
   "execution_count": 1
  },
  {
   "cell_type": "markdown",
   "source": [
    "Let's pick a solver from [this list](https://jump.dev/JuMP.jl/dev/installation/#Getting-Solvers)."
   ],
   "metadata": {}
  },
  {
   "outputs": [
    {
     "output_type": "execute_result",
     "data": {
      "text/plain": "Clarabel.MOIwrapper.Optimizer"
     },
     "metadata": {},
     "execution_count": 2
    }
   ],
   "cell_type": "code",
   "source": [
    "import Clarabel\n",
    "solver = Clarabel.Optimizer"
   ],
   "metadata": {},
   "execution_count": 2
  },
  {
   "cell_type": "markdown",
   "source": [
    "We can compute a lower bound `-0.8031` to the ground state energy as follow:"
   ],
   "metadata": {}
  },
  {
   "outputs": [
    {
     "name": "stdout",
     "output_type": "stream",
     "text": [
      "-------------------------------------------------------------\n",
      "           Clarabel.jl v0.6.0  -  Clever Acronym              \n",
      "                   (c) Paul Goulart                          \n",
      "                University of Oxford, 2022                   \n",
      "-------------------------------------------------------------\n",
      "\n",
      "problem:\n",
      "  variables     = 50\n",
      "  constraints   = 121\n",
      "  nnz(P)        = 0\n",
      "  nnz(A)        = 127\n",
      "  cones (total) = 2\n",
      "    : Zero        = 1,  numel = 16\n",
      "    : PSDTriangle = 1,  numel = 105\n",
      "\n",
      "settings:\n",
      "  linear algebra: direct / qdldl, precision: Float64\n",
      "  max iter = 200, time limit = Inf,  max step = 0.990\n",
      "  tol_feas = 1.0e-08, tol_gap_abs = 1.0e-08, tol_gap_rel = 1.0e-08,\n",
      "  static reg : on, ϵ1 = 1.0e-08, ϵ2 = 4.9e-32\n",
      "  dynamic reg: on, ϵ = 1.0e-13, δ = 2.0e-07\n",
      "  iter refine: on, reltol = 1.0e-13, abstol = 1.0e-12, \n",
      "               max iter = 10, stop ratio = 5.0\n",
      "  equilibrate: on, min_scale = 1.0e-04, max_scale = 1.0e+04\n",
      "               max iter = 10\n",
      "\n",
      "iter    pcost        dcost       gap       pres      dres      k/t        μ       step      \n",
      "---------------------------------------------------------------------------------------------\n",
      "  0   0.0000e+00  -0.0000e+00  0.00e+00  8.46e-01  4.18e-01  1.00e+00  1.12e+00   ------   \n",
      "  1   1.6901e-01   1.7324e-01  4.23e-03  2.93e-01  5.55e-02  1.02e-01  1.80e-01  9.02e-01  \n",
      "  2   7.9678e-01   7.9538e-01  1.40e-03  3.60e-02  5.44e-03  1.45e-02  2.93e-02  9.50e-01  \n",
      "  3   8.0301e-01   8.0285e-01  1.65e-04  4.34e-03  6.43e-04  1.74e-03  3.54e-03  8.79e-01  \n",
      "  4   8.0224e-01   8.0219e-01  4.18e-05  5.64e-04  9.09e-05  2.30e-04  5.06e-04  8.98e-01  \n",
      "  5   8.0293e-01   8.0292e-01  8.89e-06  1.11e-04  1.82e-05  4.59e-05  1.02e-04  8.09e-01  \n",
      "  6   8.0310e-01   8.0310e-01  1.55e-06  1.47e-05  2.44e-06  5.81e-06  1.37e-05  9.07e-01  \n",
      "  7   8.0311e-01   8.0311e-01  4.38e-08  4.00e-07  6.66e-08  1.57e-07  3.74e-07  9.74e-01  \n",
      "  8   8.0311e-01   8.0311e-01  5.41e-09  4.87e-08  8.11e-09  1.90e-08  4.55e-08  8.82e-01  \n",
      "  9   8.0311e-01   8.0311e-01  2.17e-10  1.83e-09  3.05e-10  7.02e-10  1.71e-09  9.68e-01  \n",
      "---------------------------------------------------------------------------------------------\n",
      "Terminated with status = solved\n",
      "solve time = 27.3ms\n"
     ]
    },
    {
     "output_type": "execute_result",
     "data": {
      "text/plain": "-0.8031077005710117"
     },
     "metadata": {},
     "execution_count": 3
    }
   ],
   "cell_type": "code",
   "source": [
    "function hamiltonian_energy(N, maxdegree, solver; kws...)\n",
    "    @spin σ[1:N]\n",
    "    H = hamiltonian(σ)\n",
    "    energy(H, maxdegree, solver; kws...)\n",
    "end\n",
    "bound, gram, ν = hamiltonian_energy(2, 2, solver, sparsity = NoSparsity())\n",
    "bound"
   ],
   "metadata": {},
   "execution_count": 3
  },
  {
   "cell_type": "markdown",
   "source": [
    "We can see that the moment matrix uses all monomials:"
   ],
   "metadata": {}
  },
  {
   "outputs": [
    {
     "output_type": "execute_result",
     "data": {
      "text/plain": "7-element Vector{CondensedMatterSOS.SpinMonomial}:\n 1\n σᶻ₂\n σʸ₂\n σˣ₂\n σᶻ₁\n σʸ₁\n σˣ₁"
     },
     "metadata": {},
     "execution_count": 4
    }
   ],
   "cell_type": "code",
   "source": [
    "ν.basis.monomials"
   ],
   "metadata": {},
   "execution_count": 4
  },
  {
   "cell_type": "markdown",
   "source": [
    "Using term sparsity with block/cluster completion, we get the same bound:"
   ],
   "metadata": {}
  },
  {
   "outputs": [
    {
     "name": "stdout",
     "output_type": "stream",
     "text": [
      "-------------------------------------------------------------\n",
      "           Clarabel.jl v0.6.0  -  Clever Acronym              \n",
      "                   (c) Paul Goulart                          \n",
      "                University of Oxford, 2022                   \n",
      "-------------------------------------------------------------\n",
      "\n",
      "problem:\n",
      "  variables     = 26\n",
      "  constraints   = 65\n",
      "  nnz(P)        = 0\n",
      "  nnz(A)        = 67\n",
      "  cones (total) = 3\n",
      "    : Zero        = 1,  numel = 8\n",
      "    : PSDTriangle = 2,  numel = (21,36)\n",
      "\n",
      "settings:\n",
      "  linear algebra: direct / qdldl, precision: Float64\n",
      "  max iter = 200, time limit = Inf,  max step = 0.990\n",
      "  tol_feas = 1.0e-08, tol_gap_abs = 1.0e-08, tol_gap_rel = 1.0e-08,\n",
      "  static reg : on, ϵ1 = 1.0e-08, ϵ2 = 4.9e-32\n",
      "  dynamic reg: on, ϵ = 1.0e-13, δ = 2.0e-07\n",
      "  iter refine: on, reltol = 1.0e-13, abstol = 1.0e-12, \n",
      "               max iter = 10, stop ratio = 5.0\n",
      "  equilibrate: on, min_scale = 1.0e-04, max_scale = 1.0e+04\n",
      "               max iter = 10\n",
      "\n",
      "iter    pcost        dcost       gap       pres      dres      k/t        μ       step      \n",
      "---------------------------------------------------------------------------------------------\n",
      "  0   0.0000e+00  -0.0000e+00  0.00e+00  8.44e-01  4.37e-01  1.00e+00  1.13e+00   ------   \n",
      "  1   1.7275e-01   1.7750e-01  4.75e-03  2.90e-01  5.83e-02  1.03e-01  1.83e-01  9.04e-01  \n",
      "  2   7.9713e-01   7.9576e-01  1.38e-03  3.51e-02  5.61e-03  1.43e-02  2.93e-02  9.52e-01  \n",
      "  3   8.0305e-01   8.0288e-01  1.64e-04  4.24e-03  6.67e-04  1.72e-03  3.56e-03  8.78e-01  \n",
      "  4   8.0226e-01   8.0222e-01  4.25e-05  5.69e-04  9.73e-05  2.35e-04  5.26e-04  8.93e-01  \n",
      "  5   8.0293e-01   8.0292e-01  9.09e-06  1.13e-04  1.97e-05  4.74e-05  1.07e-04  8.06e-01  \n",
      "  6   8.0310e-01   8.0310e-01  1.65e-06  1.51e-05  2.67e-06  6.02e-06  1.45e-05  9.08e-01  \n",
      "  7   8.0311e-01   8.0311e-01  4.62e-08  4.09e-07  7.22e-08  1.62e-07  3.93e-07  9.75e-01  \n",
      "  8   8.0311e-01   8.0311e-01  5.46e-09  4.76e-08  8.40e-09  1.87e-08  4.57e-08  8.87e-01  \n",
      "  9   8.0311e-01   8.0311e-01  2.01e-10  1.65e-09  2.92e-10  6.38e-10  1.59e-09  9.70e-01  \n",
      "---------------------------------------------------------------------------------------------\n",
      "Terminated with status = solved\n",
      "solve time = 12.2ms\n"
     ]
    },
    {
     "output_type": "execute_result",
     "data": {
      "text/plain": "-0.8031077007260203"
     },
     "metadata": {},
     "execution_count": 5
    }
   ],
   "cell_type": "code",
   "source": [
    "bound, gram, ν = hamiltonian_energy(2, 2, solver)\n",
    "bound"
   ],
   "metadata": {},
   "execution_count": 5
  },
  {
   "cell_type": "markdown",
   "source": [
    "But with a smaller basis:"
   ],
   "metadata": {}
  },
  {
   "outputs": [
    {
     "output_type": "execute_result",
     "data": {
      "text/plain": "2-element Vector{Vector{CondensedMatterSOS.SpinMonomial}}:\n [1, σᶻ₂, σᶻ₁]\n [σʸ₂, σˣ₂, σʸ₁, σˣ₁]"
     },
     "metadata": {},
     "execution_count": 6
    }
   ],
   "cell_type": "code",
   "source": [
    "[M.basis.monomials for M in ν.blocks]"
   ],
   "metadata": {},
   "execution_count": 6
  },
  {
   "cell_type": "markdown",
   "source": [
    "Using term sparsity with chordal completion, we get a smaller bound:"
   ],
   "metadata": {}
  },
  {
   "outputs": [
    {
     "name": "stdout",
     "output_type": "stream",
     "text": [
      "-------------------------------------------------------------\n",
      "           Clarabel.jl v0.6.0  -  Clever Acronym              \n",
      "                   (c) Paul Goulart                          \n",
      "                University of Oxford, 2022                   \n",
      "-------------------------------------------------------------\n",
      "\n",
      "problem:\n",
      "  variables     = 21\n",
      "  constraints   = 54\n",
      "  nnz(P)        = 0\n",
      "  nnz(A)        = 56\n",
      "  cones (total) = 6\n",
      "    : Zero        = 1,  numel = 4\n",
      "    : PSDTriangle = 5,  numel = (10,10,10,10,10)\n",
      "\n",
      "settings:\n",
      "  linear algebra: direct / qdldl, precision: Float64\n",
      "  max iter = 200, time limit = Inf,  max step = 0.990\n",
      "  tol_feas = 1.0e-08, tol_gap_abs = 1.0e-08, tol_gap_rel = 1.0e-08,\n",
      "  static reg : on, ϵ1 = 1.0e-08, ϵ2 = 4.9e-32\n",
      "  dynamic reg: on, ϵ = 1.0e-13, δ = 2.0e-07\n",
      "  iter refine: on, reltol = 1.0e-13, abstol = 1.0e-12, \n",
      "               max iter = 10, stop ratio = 5.0\n",
      "  equilibrate: on, min_scale = 1.0e-04, max_scale = 1.0e+04\n",
      "               max iter = 10\n",
      "\n",
      "iter    pcost        dcost       gap       pres      dres      k/t        μ       step      \n",
      "---------------------------------------------------------------------------------------------\n",
      "  0   0.0000e+00  -0.0000e+00  0.00e+00  8.60e-01  4.83e-01  1.00e+00  1.09e+00   ------   \n",
      "  1   1.8244e-01   1.9791e-01  1.55e-02  2.59e-01  5.13e-02  9.04e-02  1.41e-01  9.51e-01  \n",
      "  2   7.9168e-01   7.9272e-01  1.04e-03  2.75e-02  4.80e-03  1.14e-02  1.97e-02  8.98e-01  \n",
      "  3   8.6965e-01   8.6965e-01  3.74e-06  3.73e-04  6.21e-05  1.42e-04  2.77e-04  9.90e-01  \n",
      "  4   8.7057e-01   8.7057e-01  3.74e-08  3.73e-06  6.21e-07  1.42e-06  2.77e-06  9.90e-01  \n",
      "  5   8.7058e-01   8.7058e-01  3.74e-10  3.73e-08  6.21e-09  1.42e-08  2.77e-08  9.90e-01  \n",
      "  6   8.7058e-01   8.7058e-01  3.74e-12  3.73e-10  6.21e-11  1.42e-10  2.77e-10  9.90e-01  \n",
      "---------------------------------------------------------------------------------------------\n",
      "Terminated with status = solved\n",
      "solve time = 3.74ms\n"
     ]
    },
    {
     "output_type": "execute_result",
     "data": {
      "text/plain": "-0.8705831380256306"
     },
     "metadata": {},
     "execution_count": 7
    }
   ],
   "cell_type": "code",
   "source": [
    "bound, gram, ν = hamiltonian_energy(2, 2, solver, sparsity = MonomialSparsity(ChordalCompletion()))\n",
    "bound"
   ],
   "metadata": {},
   "execution_count": 7
  },
  {
   "cell_type": "markdown",
   "source": [
    "But with an even smaller basis:"
   ],
   "metadata": {}
  },
  {
   "outputs": [
    {
     "output_type": "execute_result",
     "data": {
      "text/plain": "5-element Vector{Vector{CondensedMatterSOS.SpinMonomial}}:\n [σʸ₁, σˣ₁]\n [σˣ₂, σˣ₁]\n [σʸ₂, σˣ₂]\n [1, σᶻ₁]\n [1, σᶻ₂]"
     },
     "metadata": {},
     "execution_count": 8
    }
   ],
   "cell_type": "code",
   "source": [
    "[M.basis.monomials for M in ν.blocks]"
   ],
   "metadata": {},
   "execution_count": 8
  },
  {
   "cell_type": "markdown",
   "source": [
    "## 2D"
   ],
   "metadata": {}
  },
  {
   "cell_type": "markdown",
   "source": [
    "We now study the same model but on a square lattice."
   ],
   "metadata": {}
  },
  {
   "outputs": [
    {
     "output_type": "execute_result",
     "data": {
      "text/plain": "(-0.4 + 0.0im)σᶻ₂₋₂ + (-0.4 + 0.0im)σᶻ₁₋₂ + (-0.4 + 0.0im)σᶻ₂₋₁ + (-0.4 + 0.0im)σᶻ₁₋₁ + (0.5314767537831963 + 0.0im)σˣ₁₋₂σˣ₂₋₂ + (2.456991333983293 + 0.0im)σˣ₂₋₁σˣ₂₋₂ + (-0.806852326006714 - 0.0im)σˣ₁₋₁σˣ₁₋₂ + (-0.07058313895389791 - 0.0im)σˣ₁₋₁σˣ₂₋₁",
      "text/latex": "$$ (-0.4 + 0.0im)σᶻ_{2,2} + (-0.4 + 0.0im)σᶻ_{1,2} + (-0.4 + 0.0im)σᶻ_{2,1} + (-0.4 + 0.0im)σᶻ_{1,1} + (0.5314767537831963 + 0.0im)σˣ_{1,2}σˣ_{2,2} + (2.456991333983293 + 0.0im)σˣ_{2,1}σˣ_{2,2} + (-0.806852326006714 - 0.0im)σˣ_{1,1}σˣ_{1,2} + (-0.07058313895389791 - 0.0im)σˣ_{1,1}σˣ_{2,1} $$"
     },
     "metadata": {},
     "execution_count": 9
    }
   ],
   "cell_type": "code",
   "source": [
    "@spin σ[1:2, 1:2]\n",
    "hamiltonian(σ)"
   ],
   "metadata": {},
   "execution_count": 9
  },
  {
   "cell_type": "markdown",
   "source": [
    "We can compute a lower bound `-4.15244` to the ground state energy as follow:"
   ],
   "metadata": {}
  },
  {
   "outputs": [
    {
     "name": "stdout",
     "output_type": "stream",
     "text": [
      "-------------------------------------------------------------\n",
      "           Clarabel.jl v0.6.0  -  Clever Acronym              \n",
      "                   (c) Paul Goulart                          \n",
      "                University of Oxford, 2022                   \n",
      "-------------------------------------------------------------\n",
      "\n",
      "problem:\n",
      "  variables     = 170\n",
      "  constraints   = 418\n",
      "  nnz(P)        = 0\n",
      "  nnz(A)        = 430\n",
      "  cones (total) = 2\n",
      "    : Zero        = 1,  numel = 67\n",
      "    : PSDTriangle = 1,  numel = 351\n",
      "\n",
      "settings:\n",
      "  linear algebra: direct / qdldl, precision: Float64\n",
      "  max iter = 200, time limit = Inf,  max step = 0.990\n",
      "  tol_feas = 1.0e-08, tol_gap_abs = 1.0e-08, tol_gap_rel = 1.0e-08,\n",
      "  static reg : on, ϵ1 = 1.0e-08, ϵ2 = 4.9e-32\n",
      "  dynamic reg: on, ϵ = 1.0e-13, δ = 2.0e-07\n",
      "  iter refine: on, reltol = 1.0e-13, abstol = 1.0e-12, \n",
      "               max iter = 10, stop ratio = 5.0\n",
      "  equilibrate: on, min_scale = 1.0e-04, max_scale = 1.0e+04\n",
      "               max iter = 10\n",
      "\n",
      "iter    pcost        dcost       gap       pres      dres      k/t        μ       step      \n",
      "---------------------------------------------------------------------------------------------\n",
      "  0   0.0000e+00  -0.0000e+00  0.00e+00  6.87e-01  3.33e-01  1.00e+00  2.14e+00   ------   \n",
      "  1   3.1408e+00   3.2171e+00  2.43e-02  1.63e-01  4.81e-02  2.30e-01  4.96e-01  8.48e-01  \n",
      "  2   4.0669e+00   4.0791e+00  3.00e-03  1.90e-02  4.63e-03  3.12e-02  6.60e-02  9.85e-01  \n",
      "  3   4.1284e+00   4.1306e+00  5.22e-04  3.48e-03  8.35e-04  5.64e-03  1.22e-02  8.31e-01  \n",
      "  4   4.1487e+00   4.1491e+00  8.79e-05  7.55e-04  1.80e-04  1.12e-03  2.66e-03  8.77e-01  \n",
      "  5   4.1518e+00   4.1518e+00  1.10e-05  9.64e-05  2.29e-05  1.42e-04  3.39e-04  8.79e-01  \n",
      "  6   4.1524e+00   4.1524e+00  5.42e-07  6.11e-06  1.45e-06  8.37e-06  2.15e-05  9.75e-01  \n",
      "  7   4.1524e+00   4.1524e+00  3.53e-08  3.99e-07  9.47e-08  5.46e-07  1.40e-06  9.35e-01  \n",
      "  8   4.1524e+00   4.1524e+00  4.47e-09  5.26e-08  1.25e-08  7.12e-08  1.85e-07  8.97e-01  \n",
      "  9   4.1524e+00   4.1524e+00  3.93e-10  4.68e-09  1.11e-09  6.32e-09  1.65e-08  9.18e-01  \n",
      "---------------------------------------------------------------------------------------------\n",
      "Terminated with status = solved\n",
      "solve time =  557ms\n"
     ]
    },
    {
     "output_type": "execute_result",
     "data": {
      "text/plain": "-4.152440484668909"
     },
     "metadata": {},
     "execution_count": 10
    }
   ],
   "cell_type": "code",
   "source": [
    "function hamiltonian_energy(N, M, maxdegree, solver; kws...)\n",
    "    @spin σ[1:N, 1:M]\n",
    "    H = hamiltonian(σ)\n",
    "    energy(H, maxdegree, solver; kws...)\n",
    "end\n",
    "bound, gram, ν = hamiltonian_energy(2, 2, 2, solver, sparsity = NoSparsity())\n",
    "bound"
   ],
   "metadata": {},
   "execution_count": 10
  },
  {
   "cell_type": "markdown",
   "source": [
    "We can see that the moment matrix uses all monomials:"
   ],
   "metadata": {}
  },
  {
   "outputs": [
    {
     "output_type": "execute_result",
     "data": {
      "text/plain": "13-element Vector{CondensedMatterSOS.SpinMonomial}:\n 1\n σᶻ₂₋₂\n σʸ₂₋₂\n σˣ₂₋₂\n σᶻ₁₋₂\n σʸ₁₋₂\n σˣ₁₋₂\n σᶻ₂₋₁\n σʸ₂₋₁\n σˣ₂₋₁\n σᶻ₁₋₁\n σʸ₁₋₁\n σˣ₁₋₁"
     },
     "metadata": {},
     "execution_count": 11
    }
   ],
   "cell_type": "code",
   "source": [
    "ν.basis.monomials"
   ],
   "metadata": {},
   "execution_count": 11
  },
  {
   "cell_type": "markdown",
   "source": [
    "Using term sparsity with block/cluster completion, we get the same bound:"
   ],
   "metadata": {}
  },
  {
   "outputs": [
    {
     "name": "stdout",
     "output_type": "stream",
     "text": [
      "-------------------------------------------------------------\n",
      "           Clarabel.jl v0.6.0  -  Clever Acronym              \n",
      "                   (c) Paul Goulart                          \n",
      "                University of Oxford, 2022                   \n",
      "-------------------------------------------------------------\n",
      "\n",
      "problem:\n",
      "  variables     = 90\n",
      "  constraints   = 226\n",
      "  nnz(P)        = 0\n",
      "  nnz(A)        = 230\n",
      "  cones (total) = 3\n",
      "    : Zero        = 1,  numel = 35\n",
      "    : PSDTriangle = 2,  numel = (55,136)\n",
      "\n",
      "settings:\n",
      "  linear algebra: direct / qdldl, precision: Float64\n",
      "  max iter = 200, time limit = Inf,  max step = 0.990\n",
      "  tol_feas = 1.0e-08, tol_gap_abs = 1.0e-08, tol_gap_rel = 1.0e-08,\n",
      "  static reg : on, ϵ1 = 1.0e-08, ϵ2 = 4.9e-32\n",
      "  dynamic reg: on, ϵ = 1.0e-13, δ = 2.0e-07\n",
      "  iter refine: on, reltol = 1.0e-13, abstol = 1.0e-12, \n",
      "               max iter = 10, stop ratio = 5.0\n",
      "  equilibrate: on, min_scale = 1.0e-04, max_scale = 1.0e+04\n",
      "               max iter = 10\n",
      "\n",
      "iter    pcost        dcost       gap       pres      dres      k/t        μ       step      \n",
      "---------------------------------------------------------------------------------------------\n",
      "  0   0.0000e+00  -0.0000e+00  0.00e+00  6.85e-01  3.43e-01  1.00e+00  2.15e+00   ------   \n",
      "  1   3.1692e+00   3.2488e+00  2.51e-02  1.60e-01  4.89e-02  2.32e-01  4.99e-01  8.49e-01  \n",
      "  2   4.0691e+00   4.0812e+00  2.97e-03  1.84e-02  4.63e-03  3.06e-02  6.51e-02  9.87e-01  \n",
      "  3   4.1296e+00   4.1317e+00  5.14e-04  3.36e-03  8.33e-04  5.51e-03  1.20e-02  8.33e-01  \n",
      "  4   4.1492e+00   4.1495e+00  8.03e-05  6.83e-04  1.68e-04  1.02e-03  2.45e-03  8.86e-01  \n",
      "  5   4.1519e+00   4.1519e+00  9.72e-06  8.43e-05  2.07e-05  1.25e-04  3.03e-04  8.82e-01  \n",
      "  6   4.1524e+00   4.1524e+00  4.49e-07  5.06e-06  1.24e-06  6.96e-06  1.82e-05  9.76e-01  \n",
      "  7   4.1524e+00   4.1524e+00  2.67e-08  3.01e-07  7.40e-08  4.14e-07  1.08e-06  9.41e-01  \n",
      "  8   4.1524e+00   4.1524e+00  3.34e-09  3.92e-08  9.63e-09  5.34e-08  1.41e-07  8.97e-01  \n",
      "  9   4.1524e+00   4.1524e+00  2.87e-10  3.43e-09  8.44e-10  4.65e-09  1.23e-08  9.21e-01  \n",
      "---------------------------------------------------------------------------------------------\n",
      "Terminated with status = solved\n",
      "solve time = 58.0ms\n"
     ]
    },
    {
     "output_type": "execute_result",
     "data": {
      "text/plain": "-4.152440492472815"
     },
     "metadata": {},
     "execution_count": 12
    }
   ],
   "cell_type": "code",
   "source": [
    "bound, gram, ν = hamiltonian_energy(2, 2, 2, solver)\n",
    "bound"
   ],
   "metadata": {},
   "execution_count": 12
  },
  {
   "cell_type": "markdown",
   "source": [
    "But with a smaller basis:"
   ],
   "metadata": {}
  },
  {
   "outputs": [
    {
     "output_type": "execute_result",
     "data": {
      "text/plain": "2-element Vector{Vector{CondensedMatterSOS.SpinMonomial}}:\n [1, σᶻ₂₋₂, σᶻ₁₋₂, σᶻ₂₋₁, σᶻ₁₋₁]\n [σʸ₂₋₂, σˣ₂₋₂, σʸ₁₋₂, σˣ₁₋₂, σʸ₂₋₁, σˣ₂₋₁, σʸ₁₋₁, σˣ₁₋₁]"
     },
     "metadata": {},
     "execution_count": 13
    }
   ],
   "cell_type": "code",
   "source": [
    "[M.basis.monomials for M in ν.blocks]"
   ],
   "metadata": {},
   "execution_count": 13
  },
  {
   "cell_type": "markdown",
   "source": [
    "Using term sparsity with chordal completion, we get a smaller bound:"
   ],
   "metadata": {}
  },
  {
   "outputs": [
    {
     "name": "stdout",
     "output_type": "stream",
     "text": [
      "-------------------------------------------------------------\n",
      "           Clarabel.jl v0.6.0  -  Clever Acronym              \n",
      "                   (c) Paul Goulart                          \n",
      "                University of Oxford, 2022                   \n",
      "-------------------------------------------------------------\n",
      "\n",
      "problem:\n",
      "  variables     = 52\n",
      "  constraints   = 134\n",
      "  nnz(P)        = 0\n",
      "  nnz(A)        = 139\n",
      "  cones (total) = 10\n",
      "    : Zero        = 1,  numel = 11\n",
      "    : PSDTriangle = 9,  numel = (21,21,21,10,...,10)\n",
      "\n",
      "settings:\n",
      "  linear algebra: direct / qdldl, precision: Float64\n",
      "  max iter = 200, time limit = Inf,  max step = 0.990\n",
      "  tol_feas = 1.0e-08, tol_gap_abs = 1.0e-08, tol_gap_rel = 1.0e-08,\n",
      "  static reg : on, ϵ1 = 1.0e-08, ϵ2 = 4.9e-32\n",
      "  dynamic reg: on, ϵ = 1.0e-13, δ = 2.0e-07\n",
      "  iter refine: on, reltol = 1.0e-13, abstol = 1.0e-12, \n",
      "               max iter = 10, stop ratio = 5.0\n",
      "  equilibrate: on, min_scale = 1.0e-04, max_scale = 1.0e+04\n",
      "               max iter = 10\n",
      "\n",
      "iter    pcost        dcost       gap       pres      dres      k/t        μ       step      \n",
      "---------------------------------------------------------------------------------------------\n",
      "  0   0.0000e+00  -0.0000e+00  0.00e+00  7.33e-01  4.05e-01  1.00e+00  2.18e+00   ------   \n",
      "  1   3.3175e+00   3.4141e+00  2.91e-02  1.83e-01  5.79e-02  2.40e-01  5.00e-01  8.62e-01  \n",
      "  2   4.6354e+00   4.6548e+00  4.19e-03  2.93e-02  7.75e-03  4.35e-02  9.06e-02  8.82e-01  \n",
      "  3   5.4346e+00   5.4355e+00  1.77e-04  2.06e-03  4.85e-04  2.75e-03  6.75e-03  9.68e-01  \n",
      "  4   5.4649e+00   5.4649e+00  4.25e-06  5.84e-05  1.36e-05  7.39e-05  1.91e-04  9.80e-01  \n",
      "  5   5.4659e+00   5.4659e+00  9.02e-08  1.25e-06  2.91e-07  1.57e-06  4.08e-06  9.79e-01  \n",
      "  6   5.4659e+00   5.4659e+00  1.36e-09  1.87e-08  4.37e-09  2.36e-08  6.13e-08  9.85e-01  \n",
      "  7   5.4659e+00   5.4659e+00  2.42e-11  3.34e-10  7.80e-11  4.22e-10  1.09e-09  9.82e-01  \n",
      "---------------------------------------------------------------------------------------------\n",
      "Terminated with status = solved\n",
      "solve time = 11.1ms\n"
     ]
    },
    {
     "output_type": "execute_result",
     "data": {
      "text/plain": "-5.465903547590753"
     },
     "metadata": {},
     "execution_count": 14
    }
   ],
   "cell_type": "code",
   "source": [
    "bound, gram, ν = hamiltonian_energy(2, 2, 2, solver, sparsity = MonomialSparsity(ChordalCompletion()))\n",
    "bound"
   ],
   "metadata": {},
   "execution_count": 14
  },
  {
   "cell_type": "markdown",
   "source": [
    "But with an even smaller basis:"
   ],
   "metadata": {}
  },
  {
   "outputs": [
    {
     "output_type": "execute_result",
     "data": {
      "text/plain": "9-element Vector{Vector{CondensedMatterSOS.SpinMonomial}}:\n [σˣ₁₋₂, σˣ₂₋₁, σˣ₁₋₁]\n [1, σᶻ₂₋₁, σᶻ₁₋₁]\n [σˣ₂₋₂, σˣ₁₋₂, σˣ₂₋₁]\n [σʸ₁₋₁, σˣ₁₋₁]\n [σʸ₂₋₁, σˣ₂₋₁]\n [σʸ₁₋₂, σˣ₁₋₂]\n [1, σᶻ₁₋₂]\n [σʸ₂₋₂, σˣ₂₋₂]\n [1, σᶻ₂₋₂]"
     },
     "metadata": {},
     "execution_count": 15
    }
   ],
   "cell_type": "code",
   "source": [
    "[M.basis.monomials for M in ν.blocks]"
   ],
   "metadata": {},
   "execution_count": 15
  },
  {
   "cell_type": "markdown",
   "source": [
    "---\n",
    "\n",
    "*This notebook was generated using [Literate.jl](https://github.com/fredrikekre/Literate.jl).*"
   ],
   "metadata": {}
  }
 ],
 "nbformat_minor": 3,
 "metadata": {
  "language_info": {
   "file_extension": ".jl",
   "mimetype": "application/julia",
   "name": "julia",
   "version": "1.9.3"
  },
  "kernelspec": {
   "name": "julia-1.9",
   "display_name": "Julia 1.9.3",
   "language": "julia"
  }
 },
 "nbformat": 4
}
