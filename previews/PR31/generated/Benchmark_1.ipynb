{
 "cells": [
  {
   "cell_type": "markdown",
   "source": [
    "# Benchmark 1"
   ],
   "metadata": {}
  },
  {
   "cell_type": "markdown",
   "source": [
    "We study the Hamiltonian of the Heisenberg model with periodic boundary conditions."
   ],
   "metadata": {}
  },
  {
   "outputs": [
    {
     "output_type": "execute_result",
     "data": {
      "text/plain": "Clarabel.MOIwrapper.Optimizer"
     },
     "metadata": {},
     "execution_count": 1
    }
   ],
   "cell_type": "code",
   "source": [
    "using CondensedMatterSOS\n",
    "import MultivariatePolynomials as MP\n",
    "@spin σ[1:3]\n",
    "heisenberg_hamiltonian(σ, true)\n",
    "\n",
    "# Let's pick a solver from [this list](https://jump.dev/JuMP.jl/dev/installation/#Getting-Solvers).\n",
    "\n",
    "import Clarabel\n",
    "solver = Clarabel.Optimizer"
   ],
   "metadata": {},
   "execution_count": 1
  },
  {
   "cell_type": "markdown",
   "source": [
    "We can compute a lower bound `-2√2` to the ground state energy as follow:"
   ],
   "metadata": {}
  },
  {
   "outputs": [
    {
     "name": "stdout",
     "output_type": "stream",
     "text": [
      "-------------------------------------------------------------\n",
      "           Clarabel.jl v0.6.0  -  Clever Acronym              \n",
      "                   (c) Paul Goulart                          \n",
      "                University of Oxford, 2022                   \n",
      "-------------------------------------------------------------\n",
      "\n",
      "problem:\n",
      "  variables     = 50\n",
      "  constraints   = 121\n",
      "  nnz(P)        = 0\n",
      "  nnz(A)        = 127\n",
      "  cones (total) = 2\n",
      "    : Zero        = 1,  numel = 16\n",
      "    : PSDTriangle = 1,  numel = 105\n",
      "\n",
      "settings:\n",
      "  linear algebra: direct / qdldl, precision: Float64\n",
      "  max iter = 200, time limit = Inf,  max step = 0.990\n",
      "  tol_feas = 1.0e-08, tol_gap_abs = 1.0e-08, tol_gap_rel = 1.0e-08,\n",
      "  static reg : on, ϵ1 = 1.0e-08, ϵ2 = 4.9e-32\n",
      "  dynamic reg: on, ϵ = 1.0e-13, δ = 2.0e-07\n",
      "  iter refine: on, reltol = 1.0e-13, abstol = 1.0e-12, \n",
      "               max iter = 10, stop ratio = 5.0\n",
      "  equilibrate: on, min_scale = 1.0e-04, max_scale = 1.0e+04\n",
      "               max iter = 10\n",
      "\n",
      "iter    pcost        dcost       gap       pres      dres      k/t        μ       step      \n",
      "---------------------------------------------------------------------------------------------\n",
      "  0   0.0000e+00  -0.0000e+00  0.00e+00  5.55e-01  2.69e-01  1.00e+00  1.87e+00   ------   \n",
      "  1   5.3544e+00   5.4173e+00  1.18e-02  4.04e-02  1.36e-02  1.34e-01  1.78e-01  9.30e-01  \n",
      "  2   5.9939e+00   5.9945e+00  1.03e-04  4.02e-04  1.32e-04  1.36e-03  1.88e-03  9.89e-01  \n",
      "  3   5.9999e+00   5.9999e+00  1.03e-06  4.02e-06  1.32e-06  1.36e-05  1.88e-05  9.90e-01  \n",
      "  4   6.0000e+00   6.0000e+00  1.03e-08  4.02e-08  1.32e-08  1.36e-07  1.88e-07  9.90e-01  \n",
      "  5   6.0000e+00   6.0000e+00  1.03e-10  4.02e-10  1.32e-10  1.36e-09  1.88e-09  9.90e-01  \n",
      "---------------------------------------------------------------------------------------------\n",
      "Terminated with status = solved\n",
      "solve time =  128ms\n"
     ]
    },
    {
     "output_type": "execute_result",
     "data": {
      "text/plain": "-5.999999993853594"
     },
     "metadata": {},
     "execution_count": 2
    }
   ],
   "cell_type": "code",
   "source": [
    "function hamiltonian_energy(N, maxdegree, solver; symmetry=true, consecutive=false, kws...)\n",
    "    @spin σ[1:N]\n",
    "    H = heisenberg_hamiltonian(σ, true)\n",
    "    G = Lattice1Group(N)\n",
    "    cone = NonnegPolyInnerCone{MOI.HermitianPositiveSemidefiniteConeTriangle}()\n",
    "    @assert iseven(maxdegree)\n",
    "    cert = SumOfSquares.Certificate.FixedBasis(\n",
    "        cone,\n",
    "        MonomialBasis(MP.monomials(σ[1], 0:div(maxdegree, 2), consecutive=consecutive)),\n",
    "    )\n",
    "    certificate = Symmetry.Ideal(\n",
    "        Symmetry.Pattern(G, Action(σ)),\n",
    "        cert,\n",
    "    )\n",
    "    if symmetry\n",
    "        energy(H, maxdegree, solver; certificate = certificate, kws...)\n",
    "    else\n",
    "        energy(H, maxdegree, solver; kws...)\n",
    "    end\n",
    "end\n",
    "bound, gram, ν = hamiltonian_energy(\n",
    "    2,\n",
    "    2,\n",
    "    solver,\n",
    "    symmetry = false,\n",
    "    sparsity = SumOfSquares.Sparsity.NoPattern(),\n",
    ")\n",
    "bound"
   ],
   "metadata": {},
   "execution_count": 2
  },
  {
   "cell_type": "markdown",
   "source": [
    "We can see that the moment matrix uses all monomials:"
   ],
   "metadata": {}
  },
  {
   "outputs": [
    {
     "output_type": "execute_result",
     "data": {
      "text/plain": "7-element Vector{CondensedMatterSOS.SpinMonomial}:\n 1\n σᶻ₂\n σʸ₂\n σˣ₂\n σᶻ₁\n σʸ₁\n σˣ₁"
     },
     "metadata": {},
     "execution_count": 3
    }
   ],
   "cell_type": "code",
   "source": [
    "ν.basis.monomials"
   ],
   "metadata": {},
   "execution_count": 3
  },
  {
   "cell_type": "markdown",
   "source": [
    "# Symmetry reduction\n",
    "\n",
    "We can reduce the computation using symmetry reduction as follows."
   ],
   "metadata": {}
  },
  {
   "outputs": [
    {
     "name": "stdout",
     "output_type": "stream",
     "text": [
      "-------------------------------------------------------------\n",
      "           Clarabel.jl v0.6.0  -  Clever Acronym              \n",
      "                   (c) Paul Goulart                          \n",
      "                University of Oxford, 2022                   \n",
      "-------------------------------------------------------------\n",
      "\n",
      "problem:\n",
      "  variables     = 4\n",
      "  constraints   = 13\n",
      "  nnz(P)        = 0\n",
      "  nnz(A)        = 16\n",
      "  cones (total) = 4\n",
      "    : Zero        = 1,  numel = 4\n",
      "    : PSDTriangle = 3,  numel = (3,3,3)\n",
      "\n",
      "settings:\n",
      "  linear algebra: direct / qdldl, precision: Float64\n",
      "  max iter = 200, time limit = Inf,  max step = 0.990\n",
      "  tol_feas = 1.0e-08, tol_gap_abs = 1.0e-08, tol_gap_rel = 1.0e-08,\n",
      "  static reg : on, ϵ1 = 1.0e-08, ϵ2 = 4.9e-32\n",
      "  dynamic reg: on, ϵ = 1.0e-13, δ = 2.0e-07\n",
      "  iter refine: on, reltol = 1.0e-13, abstol = 1.0e-12, \n",
      "               max iter = 10, stop ratio = 5.0\n",
      "  equilibrate: on, min_scale = 1.0e-04, max_scale = 1.0e+04\n",
      "               max iter = 10\n",
      "\n",
      "iter    pcost        dcost       gap       pres      dres      k/t        μ       step      \n",
      "---------------------------------------------------------------------------------------------\n",
      "  0  -1.4111e-17  -3.4559e-16  3.31e-16  4.22e-01  2.55e-01  1.00e+00  3.00e+00   ------   \n",
      "  1   5.6907e+00   5.7563e+00  1.15e-02  3.38e-02  1.66e-02  1.42e-01  2.80e-01  9.48e-01  \n",
      "  2   5.9971e+00   5.9977e+00  1.10e-04  3.28e-04  1.60e-04  1.41e-03  2.88e-03  9.90e-01  \n",
      "  3   6.0000e+00   6.0000e+00  1.10e-06  3.28e-06  1.60e-06  1.41e-05  2.88e-05  9.90e-01  \n",
      "  4   6.0000e+00   6.0000e+00  1.10e-08  3.28e-08  1.60e-08  1.41e-07  2.88e-07  9.90e-01  \n",
      "  5   6.0000e+00   6.0000e+00  1.10e-10  3.28e-10  1.60e-10  1.41e-09  2.88e-09  9.90e-01  \n",
      "---------------------------------------------------------------------------------------------\n",
      "Terminated with status = solved\n",
      "solve time = 1.71ms\n"
     ]
    },
    {
     "output_type": "execute_result",
     "data": {
      "text/plain": "-5.999999997057931"
     },
     "metadata": {},
     "execution_count": 4
    }
   ],
   "cell_type": "code",
   "source": [
    "using CondensedMatterSOS\n",
    "\n",
    "bound, gram, ν = hamiltonian_energy(\n",
    "    2,\n",
    "    2,\n",
    "    solver,\n",
    ")\n",
    "bound"
   ],
   "metadata": {},
   "execution_count": 4
  },
  {
   "cell_type": "markdown",
   "source": [
    "The reduction is obtained by block diagonalizing with a change of polynomial\n",
    "basis to the isotypical basis."
   ],
   "metadata": {}
  },
  {
   "outputs": [
    {
     "output_type": "display_data",
     "data": {
      "text/plain": "7-element Vector{Vector{MultivariatePolynomials.VectorPolynomial{ComplexF64, MultivariatePolynomials.Term{ComplexF64, CondensedMatterSOS.SpinMonomial}}}}:\n [(-0.7071067811865472 + 0.0im)σᶻ₂ + (-0.7071067811865475 + 0.0im)σᶻ₁]\n [(-0.7071067811865472 + 0.0im)σʸ₂ + (-0.7071067811865475 + 0.0im)σʸ₁]\n [(-0.7071067811865472 + 0.0im)σˣ₂ + (-0.7071067811865475 + 0.0im)σˣ₁]\n [(1.0 - 0.0im)]\n [(-0.7071067811865472 + 0.0im)σᶻ₂ + (0.7071067811865475 + 0.0im)σᶻ₁]\n [(-0.7071067811865472 + 0.0im)σʸ₂ + (0.7071067811865475 + 0.0im)σʸ₁]\n [(-0.7071067811865472 + 0.0im)σˣ₂ + (0.7071067811865475 + 0.0im)σˣ₁]"
     },
     "metadata": {}
    },
    {
     "output_type": "execute_result",
     "data": {
      "text/plain": "7-element Vector{Vector{MultivariatePolynomials.VectorPolynomial{ComplexF64, MultivariatePolynomials.Term{ComplexF64, CondensedMatterSOS.SpinMonomial}}}}:\n [(-0.7071067811865472 + 0.0im)σᶻ₂ + (-0.7071067811865475 + 0.0im)σᶻ₁]\n [(-0.7071067811865472 + 0.0im)σʸ₂ + (-0.7071067811865475 + 0.0im)σʸ₁]\n [(-0.7071067811865472 + 0.0im)σˣ₂ + (-0.7071067811865475 + 0.0im)σˣ₁]\n [(1.0 - 0.0im)]\n [(-0.7071067811865472 + 0.0im)σᶻ₂ + (0.7071067811865475 + 0.0im)σᶻ₁]\n [(-0.7071067811865472 + 0.0im)σʸ₂ + (0.7071067811865475 + 0.0im)σʸ₁]\n [(-0.7071067811865472 + 0.0im)σˣ₂ + (0.7071067811865475 + 0.0im)σˣ₁]"
     },
     "metadata": {},
     "execution_count": 5
    }
   ],
   "cell_type": "code",
   "source": [
    "display([M.basis.polynomials for M in ν.blocks])\n",
    "\n",
    "[M.basis.polynomials for M in ν.blocks]"
   ],
   "metadata": {},
   "execution_count": 5
  },
  {
   "cell_type": "markdown",
   "source": [
    "Let's try this for 3 sites. First without symmetry."
   ],
   "metadata": {}
  },
  {
   "outputs": [
    {
     "name": "stdout",
     "output_type": "stream",
     "text": [
      "-------------------------------------------------------------\n",
      "           Clarabel.jl v0.6.0  -  Clever Acronym              \n",
      "                   (c) Paul Goulart                          \n",
      "                University of Oxford, 2022                   \n",
      "-------------------------------------------------------------\n",
      "\n",
      "problem:\n",
      "  variables     = 29\n",
      "  constraints   = 76\n",
      "  nnz(P)        = 0\n",
      "  nnz(A)        = 76\n",
      "  cones (total) = 5\n",
      "    : Zero        = 1,  numel = 10\n",
      "    : PSDTriangle = 4,  numel = (3,21,21,21)\n",
      "\n",
      "settings:\n",
      "  linear algebra: direct / qdldl, precision: Float64\n",
      "  max iter = 200, time limit = Inf,  max step = 0.990\n",
      "  tol_feas = 1.0e-08, tol_gap_abs = 1.0e-08, tol_gap_rel = 1.0e-08,\n",
      "  static reg : on, ϵ1 = 1.0e-08, ϵ2 = 4.9e-32\n",
      "  dynamic reg: on, ϵ = 1.0e-13, δ = 2.0e-07\n",
      "  iter refine: on, reltol = 1.0e-13, abstol = 1.0e-12, \n",
      "               max iter = 10, stop ratio = 5.0\n",
      "  equilibrate: on, min_scale = 1.0e-04, max_scale = 1.0e+04\n",
      "               max iter = 10\n",
      "\n",
      "iter    pcost        dcost       gap       pres      dres      k/t        μ       step      \n",
      "---------------------------------------------------------------------------------------------\n",
      "  0   0.0000e+00  -0.0000e+00  0.00e+00  5.98e-01  3.42e-01  1.00e+00  1.48e+00   ------   \n",
      "  1   4.1412e+00   4.1815e+00  9.73e-03  2.65e-02  1.11e-02  7.86e-02  8.48e-02  9.85e-01  \n",
      "  2   4.4965e+00   4.4969e+00  8.93e-05  2.59e-04  1.07e-04  7.88e-04  8.64e-04  9.90e-01  \n",
      "  3   4.5000e+00   4.5000e+00  8.92e-07  2.59e-06  1.07e-06  7.88e-06  8.64e-06  9.90e-01  \n",
      "  4   4.5000e+00   4.5000e+00  8.92e-09  2.59e-08  1.07e-08  7.88e-08  8.64e-08  9.90e-01  \n",
      "  5   4.5000e+00   4.5000e+00  8.92e-11  2.59e-10  1.07e-10  7.88e-10  8.64e-10  9.90e-01  \n",
      "---------------------------------------------------------------------------------------------\n",
      "Terminated with status = solved\n",
      "solve time = 4.14ms\n",
      "bound = -4.49999999647938\n"
     ]
    },
    {
     "output_type": "execute_result",
     "data": {
      "text/plain": "-4.49999999647938"
     },
     "metadata": {},
     "execution_count": 6
    }
   ],
   "cell_type": "code",
   "source": [
    "bound, gram, ν = hamiltonian_energy(\n",
    "    3,\n",
    "    2,\n",
    "    solver,\n",
    "    symmetry = false,\n",
    ")\n",
    "@show bound"
   ],
   "metadata": {},
   "execution_count": 6
  },
  {
   "cell_type": "markdown",
   "source": [
    "Now with symmetry."
   ],
   "metadata": {}
  },
  {
   "outputs": [
    {
     "name": "stdout",
     "output_type": "stream",
     "text": [
      "-------------------------------------------------------------\n",
      "           Clarabel.jl v0.6.0  -  Clever Acronym              \n",
      "                   (c) Paul Goulart                          \n",
      "                University of Oxford, 2022                   \n",
      "-------------------------------------------------------------\n",
      "\n",
      "problem:\n",
      "  variables     = 5\n",
      "  constraints   = 22\n",
      "  nnz(P)        = 0\n",
      "  nnz(A)        = 40\n",
      "  cones (total) = 5\n",
      "    : Zero        = 1,  numel = 10\n",
      "    : PSDTriangle = 4,  numel = (3,3,3,3)\n",
      "\n",
      "settings:\n",
      "  linear algebra: direct / qdldl, precision: Float64\n",
      "  max iter = 200, time limit = Inf,  max step = 0.990\n",
      "  tol_feas = 1.0e-08, tol_gap_abs = 1.0e-08, tol_gap_rel = 1.0e-08,\n",
      "  static reg : on, ϵ1 = 1.0e-08, ϵ2 = 4.9e-32\n",
      "  dynamic reg: on, ϵ = 1.0e-13, δ = 2.0e-07\n",
      "  iter refine: on, reltol = 1.0e-13, abstol = 1.0e-12, \n",
      "               max iter = 10, stop ratio = 5.0\n",
      "  equilibrate: on, min_scale = 1.0e-04, max_scale = 1.0e+04\n",
      "               max iter = 10\n",
      "\n",
      "iter    pcost        dcost       gap       pres      dres      k/t        μ       step      \n",
      "---------------------------------------------------------------------------------------------\n",
      "  0  -1.7048e-15  -1.3655e-14  1.20e-14  4.28e-01  3.13e-01  1.00e+00  2.25e+00   ------   \n",
      "  1   4.1635e+00   4.1885e+00  6.00e-03  2.84e-02  1.73e-02  8.30e-02  1.67e-01  9.39e-01  \n",
      "  2   4.4968e+00   4.4970e+00  5.35e-05  2.85e-04  1.73e-04  8.32e-04  1.74e-03  9.90e-01  \n",
      "  3   4.5000e+00   4.5000e+00  5.35e-07  2.85e-06  1.73e-06  8.32e-06  1.74e-05  9.90e-01  \n",
      "  4   4.5000e+00   4.5000e+00  5.35e-09  2.85e-08  1.73e-08  8.32e-08  1.74e-07  9.90e-01  \n",
      "  5   4.5000e+00   4.5000e+00  5.35e-11  2.85e-10  1.73e-10  8.32e-10  1.74e-09  9.90e-01  \n",
      "---------------------------------------------------------------------------------------------\n",
      "Terminated with status = solved\n",
      "solve time = 1.94ms\n",
      "bound = -4.499999996767557\n"
     ]
    },
    {
     "output_type": "execute_result",
     "data": {
      "text/plain": "-4.499999996767557"
     },
     "metadata": {},
     "execution_count": 7
    }
   ],
   "cell_type": "code",
   "source": [
    "bound, gram, ν = hamiltonian_energy(\n",
    "    3,\n",
    "    2,\n",
    "    solver,\n",
    ")\n",
    "@show bound"
   ],
   "metadata": {},
   "execution_count": 7
  },
  {
   "cell_type": "markdown",
   "source": [
    "Let's look at the isotypical basis."
   ],
   "metadata": {}
  },
  {
   "outputs": [
    {
     "output_type": "display_data",
     "data": {
      "text/plain": "10-element Vector{Vector{MultivariatePolynomials.VectorPolynomial{ComplexF64, MultivariatePolynomials.Term{ComplexF64, CondensedMatterSOS.SpinMonomial}}}}:\n [(-0.5773502691896257 + 0.0im)σᶻ₃ + (-0.5773502691896257 + 0.0im)σᶻ₂ + (-0.5773502691896257 + 0.0im)σᶻ₁]\n [(-0.5773502691896257 + 0.0im)σʸ₃ + (-0.5773502691896257 + 0.0im)σʸ₂ + (-0.5773502691896257 + 0.0im)σʸ₁]\n [(-0.5773502691896257 + 0.0im)σˣ₃ + (-0.5773502691896257 + 0.0im)σˣ₂ + (-0.5773502691896257 + 0.0im)σˣ₁]\n [(1.0 - 0.0im)]\n [(-0.577350269189626 + 0.0im)σᶻ₃ + (0.2886751345948131 - 0.49999999999999994im)σᶻ₂ + (0.28867513459481275 + 0.5000000000000001im)σᶻ₁]\n [(-0.577350269189626 + 0.0im)σʸ₃ + (0.2886751345948131 - 0.49999999999999994im)σʸ₂ + (0.28867513459481275 + 0.5000000000000001im)σʸ₁]\n [(-0.577350269189626 + 0.0im)σˣ₃ + (0.2886751345948131 - 0.49999999999999994im)σˣ₂ + (0.28867513459481275 + 0.5000000000000001im)σˣ₁]\n [(-0.577350269189626 + 0.0im)σᶻ₃ + (0.28867513459481275 + 0.5000000000000001im)σᶻ₂ + (0.2886751345948131 - 0.49999999999999994im)σᶻ₁]\n [(-0.577350269189626 + 0.0im)σʸ₃ + (0.28867513459481275 + 0.5000000000000001im)σʸ₂ + (0.2886751345948131 - 0.49999999999999994im)σʸ₁]\n [(-0.577350269189626 + 0.0im)σˣ₃ + (0.28867513459481275 + 0.5000000000000001im)σˣ₂ + (0.2886751345948131 - 0.49999999999999994im)σˣ₁]"
     },
     "metadata": {}
    }
   ],
   "cell_type": "code",
   "source": [
    "display([M.basis.polynomials for M in ν.blocks])"
   ],
   "metadata": {},
   "execution_count": 8
  },
  {
   "cell_type": "markdown",
   "source": [
    "Now let's define a function for our common use case."
   ],
   "metadata": {}
  },
  {
   "outputs": [
    {
     "name": "stdout",
     "output_type": "stream",
     "text": [
      "L = 6\n",
      "***\n",
      "d = 1\n",
      "-------------------------------------------------------------\n",
      "           Clarabel.jl v0.6.0  -  Clever Acronym              \n",
      "                   (c) Paul Goulart                          \n",
      "                University of Oxford, 2022                   \n",
      "-------------------------------------------------------------\n",
      "\n",
      "problem:\n",
      "  variables     = 8\n",
      "  constraints   = 67\n",
      "  nnz(P)        = 0\n",
      "  nnz(A)        = 292\n",
      "  cones (total) = 8\n",
      "    : Zero        = 1,  numel = 46\n",
      "    : PSDTriangle = 7,  numel = (3,3,3,3,...,3)\n",
      "\n",
      "settings:\n",
      "  linear algebra: direct / qdldl, precision: Float64\n",
      "  max iter = 200, time limit = Inf,  max step = 0.990\n",
      "  tol_feas = 1.0e-08, tol_gap_abs = 1.0e-08, tol_gap_rel = 1.0e-08,\n",
      "  static reg : on, ϵ1 = 1.0e-08, ϵ2 = 4.9e-32\n",
      "  dynamic reg: on, ϵ = 1.0e-13, δ = 2.0e-07\n",
      "  iter refine: on, reltol = 1.0e-13, abstol = 1.0e-12, \n",
      "               max iter = 10, stop ratio = 5.0\n",
      "  equilibrate: on, min_scale = 1.0e-04, max_scale = 1.0e+04\n",
      "               max iter = 10\n",
      "\n",
      "iter    pcost        dcost       gap       pres      dres      k/t        μ       step      \n",
      "---------------------------------------------------------------------------------------------\n",
      "  0  -2.3418e-12   2.0510e-15  2.34e-12  5.06e-01  3.42e-01  1.00e+00  3.40e+00   ------   \n",
      "  1   9.1182e+00   9.3357e+00  2.39e-02  1.68e-01  9.35e-02  5.30e-01  1.24e+00  7.44e-01  \n",
      "  2   1.7367e+01   1.7455e+01  5.06e-03  1.95e-02  9.61e-03  1.33e-01  1.83e-01  9.90e-01  \n",
      "  3   1.7994e+01   1.7995e+01  5.37e-05  2.03e-04  9.88e-05  1.45e-03  1.96e-03  9.89e-01  \n",
      "  4   1.8000e+01   1.8000e+01  5.37e-07  2.02e-06  9.87e-07  1.45e-05  1.96e-05  9.90e-01  \n",
      "  5   1.8000e+01   1.8000e+01  5.37e-09  2.02e-08  9.87e-09  1.45e-07  1.96e-07  9.90e-01  \n",
      "  6   1.8000e+01   1.8000e+01  5.37e-11  2.02e-10  9.87e-11  1.45e-09  1.96e-09  9.90e-01  \n",
      "---------------------------------------------------------------------------------------------\n",
      "Terminated with status = solved\n",
      "solve time = 3.36ms\n",
      "  0.169266 seconds (300.35 k allocations: 26.399 MiB, 22.72% gc time)\n",
      "bound = -17.999999993565265\n",
      "E/N = -2.999999998927544\n",
      "------------------------------------\n"
     ]
    },
    {
     "output_type": "display_data",
     "data": {
      "text/plain": "1-element Vector{MultivariatePolynomials.VectorPolynomial{ComplexF64, MultivariatePolynomials.Term{ComplexF64, CondensedMatterSOS.SpinMonomial}}}:\n (-0.408248 + 0.0im)σᶻ₆ + (-0.408248 + 0.0im)σᶻ₅ + (-0.408248 + 0.0im)σᶻ₄ + (-0.408248 + 0.0im)σᶻ₃ + (-0.408248 + 0.0im)σᶻ₂ + (-0.408248 + 0.0im)σᶻ₁"
     },
     "metadata": {}
    },
    {
     "output_type": "display_data",
     "data": {
      "text/plain": "1-element Vector{MultivariatePolynomials.VectorPolynomial{ComplexF64, MultivariatePolynomials.Term{ComplexF64, CondensedMatterSOS.SpinMonomial}}}:\n (-0.408248 + 0.0im)σʸ₆ + (-0.408248 + 0.0im)σʸ₅ + (-0.408248 + 0.0im)σʸ₄ + (-0.408248 + 0.0im)σʸ₃ + (-0.408248 + 0.0im)σʸ₂ + (-0.408248 + 0.0im)σʸ₁"
     },
     "metadata": {}
    },
    {
     "output_type": "display_data",
     "data": {
      "text/plain": "1-element Vector{MultivariatePolynomials.VectorPolynomial{ComplexF64, MultivariatePolynomials.Term{ComplexF64, CondensedMatterSOS.SpinMonomial}}}:\n (-0.408248 + 0.0im)σˣ₆ + (-0.408248 + 0.0im)σˣ₅ + (-0.408248 + 0.0im)σˣ₄ + (-0.408248 + 0.0im)σˣ₃ + (-0.408248 + 0.0im)σˣ₂ + (-0.408248 + 0.0im)σˣ₁"
     },
     "metadata": {}
    },
    {
     "output_type": "display_data",
     "data": {
      "text/plain": "1-element Vector{MultivariatePolynomials.VectorPolynomial{ComplexF64, MultivariatePolynomials.Term{ComplexF64, CondensedMatterSOS.SpinMonomial}}}:\n (1.0 - 0.0im)"
     },
     "metadata": {}
    },
    {
     "output_type": "display_data",
     "data": {
      "text/plain": "1-element Vector{MultivariatePolynomials.VectorPolynomial{ComplexF64, MultivariatePolynomials.Term{ComplexF64, CondensedMatterSOS.SpinMonomial}}}:\n (-0.408248 + 0.0im)σᶻ₆ + (0.204124 - 0.353553im)σᶻ₅ + (0.204124 + 0.353553im)σᶻ₄ + (-0.408248 + 0.0im)σᶻ₃ + (0.204124 - 0.353553im)σᶻ₂ + (0.204124 + 0.353553im)σᶻ₁"
     },
     "metadata": {}
    },
    {
     "output_type": "display_data",
     "data": {
      "text/plain": "1-element Vector{MultivariatePolynomials.VectorPolynomial{ComplexF64, MultivariatePolynomials.Term{ComplexF64, CondensedMatterSOS.SpinMonomial}}}:\n (-0.408248 + 0.0im)σʸ₆ + (0.204124 - 0.353553im)σʸ₅ + (0.204124 + 0.353553im)σʸ₄ + (-0.408248 + 0.0im)σʸ₃ + (0.204124 - 0.353553im)σʸ₂ + (0.204124 + 0.353553im)σʸ₁"
     },
     "metadata": {}
    },
    {
     "output_type": "display_data",
     "data": {
      "text/plain": "1-element Vector{MultivariatePolynomials.VectorPolynomial{ComplexF64, MultivariatePolynomials.Term{ComplexF64, CondensedMatterSOS.SpinMonomial}}}:\n (-0.408248 + 0.0im)σˣ₆ + (0.204124 - 0.353553im)σˣ₅ + (0.204124 + 0.353553im)σˣ₄ + (-0.408248 + 0.0im)σˣ₃ + (0.204124 - 0.353553im)σˣ₂ + (0.204124 + 0.353553im)σˣ₁"
     },
     "metadata": {}
    },
    {
     "output_type": "display_data",
     "data": {
      "text/plain": "1-element Vector{MultivariatePolynomials.VectorPolynomial{ComplexF64, MultivariatePolynomials.Term{ComplexF64, CondensedMatterSOS.SpinMonomial}}}:\n (-0.408248 + 0.0im)σᶻ₆ + (-0.204124 - 0.353553im)σᶻ₅ + (0.204124 - 0.353553im)σᶻ₄ + (0.408248 + 0.0im)σᶻ₃ + (0.204124 + 0.353553im)σᶻ₂ + (-0.204124 + 0.353553im)σᶻ₁"
     },
     "metadata": {}
    },
    {
     "output_type": "display_data",
     "data": {
      "text/plain": "1-element Vector{MultivariatePolynomials.VectorPolynomial{ComplexF64, MultivariatePolynomials.Term{ComplexF64, CondensedMatterSOS.SpinMonomial}}}:\n (-0.408248 + 0.0im)σʸ₆ + (-0.204124 - 0.353553im)σʸ₅ + (0.204124 - 0.353553im)σʸ₄ + (0.408248 + 0.0im)σʸ₃ + (0.204124 + 0.353553im)σʸ₂ + (-0.204124 + 0.353553im)σʸ₁"
     },
     "metadata": {}
    },
    {
     "output_type": "display_data",
     "data": {
      "text/plain": "1-element Vector{MultivariatePolynomials.VectorPolynomial{ComplexF64, MultivariatePolynomials.Term{ComplexF64, CondensedMatterSOS.SpinMonomial}}}:\n (-0.408248 + 0.0im)σˣ₆ + (-0.204124 - 0.353553im)σˣ₅ + (0.204124 - 0.353553im)σˣ₄ + (0.408248 + 0.0im)σˣ₃ + (0.204124 + 0.353553im)σˣ₂ + (-0.204124 + 0.353553im)σˣ₁"
     },
     "metadata": {}
    },
    {
     "output_type": "display_data",
     "data": {
      "text/plain": "1-element Vector{MultivariatePolynomials.VectorPolynomial{ComplexF64, MultivariatePolynomials.Term{ComplexF64, CondensedMatterSOS.SpinMonomial}}}:\n (-0.408248 + 0.0im)σᶻ₆ + (0.204124 + 0.353553im)σᶻ₅ + (0.204124 - 0.353553im)σᶻ₄ + (-0.408248 + 0.0im)σᶻ₃ + (0.204124 + 0.353553im)σᶻ₂ + (0.204124 - 0.353553im)σᶻ₁"
     },
     "metadata": {}
    },
    {
     "output_type": "display_data",
     "data": {
      "text/plain": "1-element Vector{MultivariatePolynomials.VectorPolynomial{ComplexF64, MultivariatePolynomials.Term{ComplexF64, CondensedMatterSOS.SpinMonomial}}}:\n (-0.408248 + 0.0im)σʸ₆ + (0.204124 + 0.353553im)σʸ₅ + (0.204124 - 0.353553im)σʸ₄ + (-0.408248 + 0.0im)σʸ₃ + (0.204124 + 0.353553im)σʸ₂ + (0.204124 - 0.353553im)σʸ₁"
     },
     "metadata": {}
    },
    {
     "output_type": "display_data",
     "data": {
      "text/plain": "1-element Vector{MultivariatePolynomials.VectorPolynomial{ComplexF64, MultivariatePolynomials.Term{ComplexF64, CondensedMatterSOS.SpinMonomial}}}:\n (-0.408248 + 0.0im)σˣ₆ + (0.204124 + 0.353553im)σˣ₅ + (0.204124 - 0.353553im)σˣ₄ + (-0.408248 + 0.0im)σˣ₃ + (0.204124 + 0.353553im)σˣ₂ + (0.204124 - 0.353553im)σˣ₁"
     },
     "metadata": {}
    },
    {
     "output_type": "display_data",
     "data": {
      "text/plain": "1-element Vector{MultivariatePolynomials.VectorPolynomial{ComplexF64, MultivariatePolynomials.Term{ComplexF64, CondensedMatterSOS.SpinMonomial}}}:\n (-0.408248 + 0.0im)σᶻ₆ + (-0.204124 + 0.353553im)σᶻ₅ + (0.204124 + 0.353553im)σᶻ₄ + (0.408248 + 0.0im)σᶻ₃ + (0.204124 - 0.353553im)σᶻ₂ + (-0.204124 - 0.353553im)σᶻ₁"
     },
     "metadata": {}
    },
    {
     "output_type": "display_data",
     "data": {
      "text/plain": "1-element Vector{MultivariatePolynomials.VectorPolynomial{ComplexF64, MultivariatePolynomials.Term{ComplexF64, CondensedMatterSOS.SpinMonomial}}}:\n (-0.408248 + 0.0im)σʸ₆ + (-0.204124 + 0.353553im)σʸ₅ + (0.204124 + 0.353553im)σʸ₄ + (0.408248 + 0.0im)σʸ₃ + (0.204124 - 0.353553im)σʸ₂ + (-0.204124 - 0.353553im)σʸ₁"
     },
     "metadata": {}
    },
    {
     "output_type": "display_data",
     "data": {
      "text/plain": "1-element Vector{MultivariatePolynomials.VectorPolynomial{ComplexF64, MultivariatePolynomials.Term{ComplexF64, CondensedMatterSOS.SpinMonomial}}}:\n (-0.408248 + 0.0im)σˣ₆ + (-0.204124 + 0.353553im)σˣ₅ + (0.204124 + 0.353553im)σˣ₄ + (0.408248 + 0.0im)σˣ₃ + (0.204124 - 0.353553im)σˣ₂ + (-0.204124 - 0.353553im)σˣ₁"
     },
     "metadata": {}
    },
    {
     "output_type": "display_data",
     "data": {
      "text/plain": "1-element Vector{MultivariatePolynomials.VectorPolynomial{ComplexF64, MultivariatePolynomials.Term{ComplexF64, CondensedMatterSOS.SpinMonomial}}}:\n (-0.408248 + 0.0im)σᶻ₆ + (0.408248 + 0.0im)σᶻ₅ + (-0.408248 + 0.0im)σᶻ₄ + (0.408248 + 0.0im)σᶻ₃ + (-0.408248 + 0.0im)σᶻ₂ + (0.408248 + 0.0im)σᶻ₁"
     },
     "metadata": {}
    },
    {
     "output_type": "display_data",
     "data": {
      "text/plain": "1-element Vector{MultivariatePolynomials.VectorPolynomial{ComplexF64, MultivariatePolynomials.Term{ComplexF64, CondensedMatterSOS.SpinMonomial}}}:\n (-0.408248 + 0.0im)σʸ₆ + (0.408248 + 0.0im)σʸ₅ + (-0.408248 + 0.0im)σʸ₄ + (0.408248 + 0.0im)σʸ₃ + (-0.408248 + 0.0im)σʸ₂ + (0.408248 + 0.0im)σʸ₁"
     },
     "metadata": {}
    },
    {
     "output_type": "display_data",
     "data": {
      "text/plain": "1-element Vector{MultivariatePolynomials.VectorPolynomial{ComplexF64, MultivariatePolynomials.Term{ComplexF64, CondensedMatterSOS.SpinMonomial}}}:\n (-0.408248 + 0.0im)σˣ₆ + (0.408248 + 0.0im)σˣ₅ + (-0.408248 + 0.0im)σˣ₄ + (0.408248 + 0.0im)σˣ₃ + (-0.408248 + 0.0im)σˣ₂ + (0.408248 + 0.0im)σˣ₁"
     },
     "metadata": {}
    }
   ],
   "cell_type": "code",
   "source": [
    "function f(L, d=1, consecutive=false; symmetry=true)\n",
    "    @show L\n",
    "    println(\"***\")\n",
    "    @show d\n",
    "    bound, gram, ν = @time hamiltonian_energy(\n",
    "        L,\n",
    "        2d,\n",
    "        solver,\n",
    "        consecutive=consecutive,\n",
    "        symmetry=symmetry,\n",
    "    )\n",
    "    @show bound\n",
    "    for M in ν.blocks\n",
    "        display(round.(M.basis.polynomials, digits=6))\n",
    "    end\n",
    "    println(\"E/N = \", bound / L)\n",
    "    println(\"------------------------------------\")\n",
    "end\n",
    "\n",
    "f(6, 1, true)"
   ],
   "metadata": {},
   "execution_count": 9
  },
  {
   "cell_type": "markdown",
   "source": [
    "Now with `d = 2`."
   ],
   "metadata": {}
  },
  {
   "outputs": [
    {
     "name": "stdout",
     "output_type": "stream",
     "text": [
      "L = 6\n",
      "***\n",
      "d = 2\n",
      "-------------------------------------------------------------\n",
      "           Clarabel.jl v0.6.0  -  Clever Acronym              \n",
      "                   (c) Paul Goulart                          \n",
      "                University of Oxford, 2022                   \n",
      "-------------------------------------------------------------\n",
      "\n",
      "problem:\n",
      "  variables     = 46\n",
      "  constraints   = 894\n",
      "  nnz(P)        = 0\n",
      "  nnz(A)        = 10021\n",
      "  cones (total) = 25\n",
      "    : Zero        = 1,  numel = 773\n",
      "    : PSDTriangle = 24,  numel = (3,10,10,3,...,3)\n",
      "\n",
      "settings:\n",
      "  linear algebra: direct / qdldl, precision: Float64\n",
      "  max iter = 200, time limit = Inf,  max step = 0.990\n",
      "  tol_feas = 1.0e-08, tol_gap_abs = 1.0e-08, tol_gap_rel = 1.0e-08,\n",
      "  static reg : on, ϵ1 = 1.0e-08, ϵ2 = 4.9e-32\n",
      "  dynamic reg: on, ϵ = 1.0e-13, δ = 2.0e-07\n",
      "  iter refine: on, reltol = 1.0e-13, abstol = 1.0e-12, \n",
      "               max iter = 10, stop ratio = 5.0\n",
      "  equilibrate: on, min_scale = 1.0e-04, max_scale = 1.0e+04\n",
      "               max iter = 10\n",
      "\n",
      "iter    pcost        dcost       gap       pres      dres      k/t        μ       step      \n",
      "---------------------------------------------------------------------------------------------\n",
      "  0   1.4276e+00   1.4276e+00  3.89e-15  7.33e-01  5.97e-01  1.00e+00  2.30e+00   ------   \n",
      "  1   5.3281e+00   5.3827e+00  1.02e-02  3.09e-01  1.64e-01  2.90e-01  7.52e-01  7.09e-01  \n",
      "  2   1.0806e+01   1.0861e+01  5.08e-03  1.16e-01  6.06e-02  1.67e-01  3.67e-01  6.85e-01  \n",
      "  3   9.6289e+00   9.6819e+00  5.50e-03  4.87e-02  4.24e-02  1.42e-01  2.89e-01  5.18e-01  \n",
      "  4   1.1534e+01   1.1544e+01  8.23e-04  6.68e-03  5.87e-03  2.37e-02  4.69e-02  8.52e-01  \n",
      "  5   1.1943e+01   1.1945e+01  1.84e-04  1.71e-03  1.43e-03  5.76e-03  1.18e-02  8.95e-01  \n",
      "  6   1.1999e+01   1.1999e+01  2.92e-06  2.72e-05  2.29e-05  9.26e-05  1.91e-04  9.84e-01  \n",
      "  7   1.2000e+01   1.2000e+01  1.34e-07  1.25e-06  1.05e-06  4.24e-06  8.76e-06  9.55e-01  \n",
      "  8   1.2000e+01   1.2000e+01  3.89e-09  3.65e-08  3.06e-08  1.24e-07  2.56e-07  9.73e-01  \n",
      "  9   1.2000e+01   1.2000e+01  3.79e-09  7.30e-08  6.10e-08  1.20e-07  2.45e-07  2.71e-02  \n",
      " 10   1.2000e+01   1.2000e+01  1.20e-09  2.24e-08  5.52e-08  3.79e-08  7.70e-08  6.86e-01  \n",
      " 11   1.2000e+01   1.2000e+01  1.31e-11  2.45e-10  6.03e-10  4.14e-10  8.42e-10  9.89e-01  \n",
      "---------------------------------------------------------------------------------------------\n",
      "Terminated with status = solved\n",
      "solve time = 52.8ms\n",
      "  0.972737 seconds (1.58 M allocations: 197.049 MiB, 12.56% gc time)\n",
      "bound = -11.999999988116338\n",
      "E/N = -1.9999999980193897\n",
      "------------------------------------\n"
     ]
    },
    {
     "output_type": "display_data",
     "data": {
      "text/plain": "1-element Vector{MultivariatePolynomials.VectorPolynomial{ComplexF64, MultivariatePolynomials.Term{ComplexF64, CondensedMatterSOS.SpinMonomial}}}:\n (-0.333333 + 0.0im)σᶻ₅σᶻ₆ + (0.166667 + 0.0im)σʸ₅σʸ₆ + (0.166667 + 0.0im)σˣ₅σˣ₆ + (-0.333333 + 0.0im)σᶻ₄σᶻ₅ + (0.166667 + 0.0im)σʸ₄σʸ₅ + (0.166667 + 0.0im)σˣ₄σˣ₅ + (-0.333333 + 0.0im)σᶻ₃σᶻ₄ + (0.166667 + 0.0im)σʸ₃σʸ₄ + (0.166667 + 0.0im)σˣ₃σˣ₄ + (-0.333333 + 0.0im)σᶻ₂σᶻ₃ + (0.166667 + 0.0im)σʸ₂σʸ₃ + (0.166667 + 0.0im)σˣ₂σˣ₃ + (-0.333333 + 0.0im)σᶻ₁σᶻ₆ + (-0.333333 + 0.0im)σᶻ₁σᶻ₂ + (0.166667 + 0.0im)σʸ₁σʸ₆ + (0.166667 + 0.0im)σʸ₁σʸ₂ + (0.166667 + 0.0im)σˣ₁σˣ₆ + (0.166667 + 0.0im)σˣ₁σˣ₂"
     },
     "metadata": {}
    },
    {
     "output_type": "display_data",
     "data": {
      "text/plain": "1-element Vector{MultivariatePolynomials.VectorPolynomial{ComplexF64, MultivariatePolynomials.Term{ComplexF64, CondensedMatterSOS.SpinMonomial}}}:\n (-0.288675 + 0.0im)σʸ₅σʸ₆ + (0.288675 + 0.0im)σˣ₅σˣ₆ + (-0.288675 + 0.0im)σʸ₄σʸ₅ + (0.288675 + 0.0im)σˣ₄σˣ₅ + (-0.288675 + 0.0im)σʸ₃σʸ₄ + (0.288675 + 0.0im)σˣ₃σˣ₄ + (-0.288675 + 0.0im)σʸ₂σʸ₃ + (0.288675 + 0.0im)σˣ₂σˣ₃ + (-0.288675 + 0.0im)σʸ₁σʸ₆ + (-0.288675 + 0.0im)σʸ₁σʸ₂ + (0.288675 + 0.0im)σˣ₁σˣ₆ + (0.288675 + 0.0im)σˣ₁σˣ₂"
     },
     "metadata": {}
    },
    {
     "output_type": "display_data",
     "data": {
      "text/plain": "2-element Vector{MultivariatePolynomials.VectorPolynomial{ComplexF64, MultivariatePolynomials.Term{ComplexF64, CondensedMatterSOS.SpinMonomial}}}:\n (-0.288675 + 0.0im)σᶻ₅σʸ₆ + (-0.288675 + 0.0im)σʸ₅σᶻ₆ + (-0.288675 + 0.0im)σᶻ₄σʸ₅ + (-0.288675 + 0.0im)σʸ₄σᶻ₅ + (-0.288675 + 0.0im)σᶻ₃σʸ₄ + (-0.288675 + 0.0im)σʸ₃σᶻ₄ + (-0.288675 + 0.0im)σᶻ₂σʸ₃ + (-0.288675 + 0.0im)σʸ₂σᶻ₃ + (-0.288675 + 0.0im)σᶻ₁σʸ₆ + (-0.288675 + 0.0im)σᶻ₁σʸ₂ + (-0.288675 + 0.0im)σʸ₁σᶻ₆ + (-0.288675 + 0.0im)σʸ₁σᶻ₂\n (0.38257 + 0.142501im)σˣ₆ + (0.38257 + 0.142501im)σˣ₅ + (0.38257 + 0.142501im)σˣ₄ + (0.38257 + 0.142501im)σˣ₃ + (0.38257 + 0.142501im)σˣ₂ + (0.38257 + 0.142501im)σˣ₁"
     },
     "metadata": {}
    },
    {
     "output_type": "display_data",
     "data": {
      "text/plain": "2-element Vector{MultivariatePolynomials.VectorPolynomial{ComplexF64, MultivariatePolynomials.Term{ComplexF64, CondensedMatterSOS.SpinMonomial}}}:\n (-0.288675 + 0.0im)σᶻ₅σˣ₆ + (-0.288675 + 0.0im)σˣ₅σᶻ₆ + (-0.288675 + 0.0im)σᶻ₄σˣ₅ + (-0.288675 + 0.0im)σˣ₄σᶻ₅ + (-0.288675 + 0.0im)σᶻ₃σˣ₄ + (-0.288675 + 0.0im)σˣ₃σᶻ₄ + (-0.288675 + 0.0im)σᶻ₂σˣ₃ + (-0.288675 + 0.0im)σˣ₂σᶻ₃ + (-0.288675 + 0.0im)σᶻ₁σˣ₆ + (-0.288675 + 0.0im)σᶻ₁σˣ₂ + (-0.288675 + 0.0im)σˣ₁σᶻ₆ + (-0.288675 + 0.0im)σˣ₁σᶻ₂\n (0.38257 + 0.142501im)σʸ₆ + (0.38257 + 0.142501im)σʸ₅ + (0.38257 + 0.142501im)σʸ₄ + (0.38257 + 0.142501im)σʸ₃ + (0.38257 + 0.142501im)σʸ₂ + (0.38257 + 0.142501im)σʸ₁"
     },
     "metadata": {}
    },
    {
     "output_type": "display_data",
     "data": {
      "text/plain": "2-element Vector{MultivariatePolynomials.VectorPolynomial{ComplexF64, MultivariatePolynomials.Term{ComplexF64, CondensedMatterSOS.SpinMonomial}}}:\n (-0.288675 + 0.0im)σʸ₅σˣ₆ + (-0.288675 + 0.0im)σˣ₅σʸ₆ + (-0.288675 + 0.0im)σʸ₄σˣ₅ + (-0.288675 + 0.0im)σˣ₄σʸ₅ + (-0.288675 + 0.0im)σʸ₃σˣ₄ + (-0.288675 + 0.0im)σˣ₃σʸ₄ + (-0.288675 + 0.0im)σʸ₂σˣ₃ + (-0.288675 + 0.0im)σˣ₂σʸ₃ + (-0.288675 + 0.0im)σʸ₁σˣ₆ + (-0.288675 + 0.0im)σʸ₁σˣ₂ + (-0.288675 + 0.0im)σˣ₁σʸ₆ + (-0.288675 + 0.0im)σˣ₁σʸ₂\n (0.38257 + 0.142501im)σᶻ₆ + (0.38257 + 0.142501im)σᶻ₅ + (0.38257 + 0.142501im)σᶻ₄ + (0.38257 + 0.142501im)σᶻ₃ + (0.38257 + 0.142501im)σᶻ₂ + (0.38257 + 0.142501im)σᶻ₁"
     },
     "metadata": {}
    },
    {
     "output_type": "display_data",
     "data": {
      "text/plain": "2-element Vector{MultivariatePolynomials.VectorPolynomial{ComplexF64, MultivariatePolynomials.Term{ComplexF64, CondensedMatterSOS.SpinMonomial}}}:\n (1.0 - 0.0im)\n (-0.235702 - 0.0im)σᶻ₅σᶻ₆ + (-0.235702 - 0.0im)σʸ₅σʸ₆ + (-0.235702 - 0.0im)σˣ₅σˣ₆ + (-0.235702 - 0.0im)σᶻ₄σᶻ₅ + (-0.235702 - 0.0im)σʸ₄σʸ₅ + (-0.235702 - 0.0im)σˣ₄σˣ₅ + (-0.235702 - 0.0im)σᶻ₃σᶻ₄ + (-0.235702 - 0.0im)σʸ₃σʸ₄ + (-0.235702 - 0.0im)σˣ₃σˣ₄ + (-0.235702 - 0.0im)σᶻ₂σᶻ₃ + (-0.235702 - 0.0im)σʸ₂σʸ₃ + (-0.235702 - 0.0im)σˣ₂σˣ₃ + (-0.235702 - 0.0im)σᶻ₁σᶻ₆ + (-0.235702 - 0.0im)σᶻ₁σᶻ₂ + (-0.235702 - 0.0im)σʸ₁σʸ₆ + (-0.235702 - 0.0im)σʸ₁σʸ₂ + (-0.235702 - 0.0im)σˣ₁σˣ₆ + (-0.235702 - 0.0im)σˣ₁σˣ₂"
     },
     "metadata": {}
    },
    {
     "output_type": "display_data",
     "data": {
      "text/plain": "1-element Vector{MultivariatePolynomials.VectorPolynomial{ComplexF64, MultivariatePolynomials.Term{ComplexF64, CondensedMatterSOS.SpinMonomial}}}:\n (-0.288675 + 0.0im)σᶻ₅σʸ₆ + (0.288675 + 0.0im)σʸ₅σᶻ₆ + (-0.288675 + 0.0im)σᶻ₄σʸ₅ + (0.288675 + 0.0im)σʸ₄σᶻ₅ + (-0.288675 + 0.0im)σᶻ₃σʸ₄ + (0.288675 + 0.0im)σʸ₃σᶻ₄ + (-0.288675 + 0.0im)σᶻ₂σʸ₃ + (0.288675 + 0.0im)σʸ₂σᶻ₃ + (0.288675 + 0.0im)σᶻ₁σʸ₆ + (-0.288675 + 0.0im)σᶻ₁σʸ₂ + (-0.288675 + 0.0im)σʸ₁σᶻ₆ + (0.288675 + 0.0im)σʸ₁σᶻ₂"
     },
     "metadata": {}
    },
    {
     "output_type": "display_data",
     "data": {
      "text/plain": "1-element Vector{MultivariatePolynomials.VectorPolynomial{ComplexF64, MultivariatePolynomials.Term{ComplexF64, CondensedMatterSOS.SpinMonomial}}}:\n (-0.288675 + 0.0im)σᶻ₅σˣ₆ + (0.288675 + 0.0im)σˣ₅σᶻ₆ + (-0.288675 + 0.0im)σᶻ₄σˣ₅ + (0.288675 + 0.0im)σˣ₄σᶻ₅ + (-0.288675 + 0.0im)σᶻ₃σˣ₄ + (0.288675 + 0.0im)σˣ₃σᶻ₄ + (-0.288675 + 0.0im)σᶻ₂σˣ₃ + (0.288675 + 0.0im)σˣ₂σᶻ₃ + (0.288675 + 0.0im)σᶻ₁σˣ₆ + (-0.288675 + 0.0im)σᶻ₁σˣ₂ + (-0.288675 + 0.0im)σˣ₁σᶻ₆ + (0.288675 + 0.0im)σˣ₁σᶻ₂"
     },
     "metadata": {}
    },
    {
     "output_type": "display_data",
     "data": {
      "text/plain": "1-element Vector{MultivariatePolynomials.VectorPolynomial{ComplexF64, MultivariatePolynomials.Term{ComplexF64, CondensedMatterSOS.SpinMonomial}}}:\n (-0.288675 + 0.0im)σʸ₅σˣ₆ + (0.288675 + 0.0im)σˣ₅σʸ₆ + (-0.288675 + 0.0im)σʸ₄σˣ₅ + (0.288675 + 0.0im)σˣ₄σʸ₅ + (-0.288675 + 0.0im)σʸ₃σˣ₄ + (0.288675 + 0.0im)σˣ₃σʸ₄ + (-0.288675 + 0.0im)σʸ₂σˣ₃ + (0.288675 + 0.0im)σˣ₂σʸ₃ + (0.288675 + 0.0im)σʸ₁σˣ₆ + (-0.288675 + 0.0im)σʸ₁σˣ₂ + (-0.288675 + 0.0im)σˣ₁σʸ₆ + (0.288675 + 0.0im)σˣ₁σʸ₂"
     },
     "metadata": {}
    },
    {
     "output_type": "display_data",
     "data": {
      "text/plain": "1-element Vector{MultivariatePolynomials.VectorPolynomial{ComplexF64, MultivariatePolynomials.Term{ComplexF64, CondensedMatterSOS.SpinMonomial}}}:\n (-0.333333 + 0.0im)σᶻ₅σᶻ₆ + (0.166667 + 0.0im)σʸ₅σʸ₆ + (0.166667 + 0.0im)σˣ₅σˣ₆ + (0.166667 - 0.288675im)σᶻ₄σᶻ₅ + (-0.083333 + 0.144338im)σʸ₄σʸ₅ + (-0.083333 + 0.144338im)σˣ₄σˣ₅ + (0.166667 + 0.288675im)σᶻ₃σᶻ₄ + (-0.083333 - 0.144338im)σʸ₃σʸ₄ + (-0.083333 - 0.144338im)σˣ₃σˣ₄ + (-0.333333 + 0.0im)σᶻ₂σᶻ₃ + (0.166667 + 0.0im)σʸ₂σʸ₃ + (0.166667 + 0.0im)σˣ₂σˣ₃ + (0.166667 + 0.288675im)σᶻ₁σᶻ₆ + (0.166667 - 0.288675im)σᶻ₁σᶻ₂ + (-0.083333 - 0.144338im)σʸ₁σʸ₆ + (-0.083333 + 0.144338im)σʸ₁σʸ₂ + (-0.083333 - 0.144338im)σˣ₁σˣ₆ + (-0.083333 + 0.144338im)σˣ₁σˣ₂"
     },
     "metadata": {}
    },
    {
     "output_type": "display_data",
     "data": {
      "text/plain": "1-element Vector{MultivariatePolynomials.VectorPolynomial{ComplexF64, MultivariatePolynomials.Term{ComplexF64, CondensedMatterSOS.SpinMonomial}}}:\n (-0.288675 - 0.0im)σʸ₅σʸ₆ + (0.288675 - 0.0im)σˣ₅σˣ₆ + (0.144338 - 0.25im)σʸ₄σʸ₅ + (-0.144338 + 0.25im)σˣ₄σˣ₅ + (0.144338 + 0.25im)σʸ₃σʸ₄ + (-0.144338 - 0.25im)σˣ₃σˣ₄ + (-0.288675 - 0.0im)σʸ₂σʸ₃ + (0.288675 - 0.0im)σˣ₂σˣ₃ + (0.144338 + 0.25im)σʸ₁σʸ₆ + (0.144338 - 0.25im)σʸ₁σʸ₂ + (-0.144338 - 0.25im)σˣ₁σˣ₆ + (-0.144338 + 0.25im)σˣ₁σˣ₂"
     },
     "metadata": {}
    },
    {
     "output_type": "display_data",
     "data": {
      "text/plain": "2-element Vector{MultivariatePolynomials.VectorPolynomial{ComplexF64, MultivariatePolynomials.Term{ComplexF64, CondensedMatterSOS.SpinMonomial}}}:\n (-0.288675 + 0.0im)σᶻ₅σʸ₆ + (-0.288675 + 0.0im)σʸ₅σᶻ₆ + (0.144338 - 0.25im)σᶻ₄σʸ₅ + (0.144338 - 0.25im)σʸ₄σᶻ₅ + (0.144338 + 0.25im)σᶻ₃σʸ₄ + (0.144338 + 0.25im)σʸ₃σᶻ₄ + (-0.288675 + 0.0im)σᶻ₂σʸ₃ + (-0.288675 + 0.0im)σʸ₂σᶻ₃ + (0.144338 + 0.25im)σᶻ₁σʸ₆ + (0.144338 - 0.25im)σᶻ₁σʸ₂ + (0.144338 + 0.25im)σʸ₁σᶻ₆ + (0.144338 - 0.25im)σʸ₁σᶻ₂\n (-0.167921 - 0.372114im)σˣ₆ + (0.406221 + 0.040633im)σˣ₅ + (-0.2383 + 0.331481im)σˣ₄ + (-0.167921 - 0.372114im)σˣ₃ + (0.406221 + 0.040633im)σˣ₂ + (-0.2383 + 0.331481im)σˣ₁"
     },
     "metadata": {}
    },
    {
     "output_type": "display_data",
     "data": {
      "text/plain": "2-element Vector{MultivariatePolynomials.VectorPolynomial{ComplexF64, MultivariatePolynomials.Term{ComplexF64, CondensedMatterSOS.SpinMonomial}}}:\n (-0.288675 + 0.0im)σᶻ₅σˣ₆ + (-0.288675 + 0.0im)σˣ₅σᶻ₆ + (0.144338 - 0.25im)σᶻ₄σˣ₅ + (0.144338 - 0.25im)σˣ₄σᶻ₅ + (0.144338 + 0.25im)σᶻ₃σˣ₄ + (0.144338 + 0.25im)σˣ₃σᶻ₄ + (-0.288675 + 0.0im)σᶻ₂σˣ₃ + (-0.288675 + 0.0im)σˣ₂σᶻ₃ + (0.144338 + 0.25im)σᶻ₁σˣ₆ + (0.144338 - 0.25im)σᶻ₁σˣ₂ + (0.144338 + 0.25im)σˣ₁σᶻ₆ + (0.144338 - 0.25im)σˣ₁σᶻ₂\n (-0.167921 - 0.372114im)σʸ₆ + (0.406221 + 0.040633im)σʸ₅ + (-0.2383 + 0.331481im)σʸ₄ + (-0.167921 - 0.372114im)σʸ₃ + (0.406221 + 0.040633im)σʸ₂ + (-0.2383 + 0.331481im)σʸ₁"
     },
     "metadata": {}
    },
    {
     "output_type": "display_data",
     "data": {
      "text/plain": "2-element Vector{MultivariatePolynomials.VectorPolynomial{ComplexF64, MultivariatePolynomials.Term{ComplexF64, CondensedMatterSOS.SpinMonomial}}}:\n (-0.288675 + 0.0im)σʸ₅σˣ₆ + (-0.288675 + 0.0im)σˣ₅σʸ₆ + (0.144338 - 0.25im)σʸ₄σˣ₅ + (0.144338 - 0.25im)σˣ₄σʸ₅ + (0.144338 + 0.25im)σʸ₃σˣ₄ + (0.144338 + 0.25im)σˣ₃σʸ₄ + (-0.288675 + 0.0im)σʸ₂σˣ₃ + (-0.288675 + 0.0im)σˣ₂σʸ₃ + (0.144338 + 0.25im)σʸ₁σˣ₆ + (0.144338 - 0.25im)σʸ₁σˣ₂ + (0.144338 + 0.25im)σˣ₁σʸ₆ + (0.144338 - 0.25im)σˣ₁σʸ₂\n (-0.167921 - 0.372114im)σᶻ₆ + (0.406221 + 0.040633im)σᶻ₅ + (-0.2383 + 0.331481im)σᶻ₄ + (-0.167921 - 0.372114im)σᶻ₃ + (0.406221 + 0.040633im)σᶻ₂ + (-0.2383 + 0.331481im)σᶻ₁"
     },
     "metadata": {}
    },
    {
     "output_type": "display_data",
     "data": {
      "text/plain": "1-element Vector{MultivariatePolynomials.VectorPolynomial{ComplexF64, MultivariatePolynomials.Term{ComplexF64, CondensedMatterSOS.SpinMonomial}}}:\n (-0.235702 - 0.0im)σᶻ₅σᶻ₆ + (-0.235702 - 0.0im)σʸ₅σʸ₆ + (-0.235702 - 0.0im)σˣ₅σˣ₆ + (0.117851 - 0.204124im)σᶻ₄σᶻ₅ + (0.117851 - 0.204124im)σʸ₄σʸ₅ + (0.117851 - 0.204124im)σˣ₄σˣ₅ + (0.117851 + 0.204124im)σᶻ₃σᶻ₄ + (0.117851 + 0.204124im)σʸ₃σʸ₄ + (0.117851 + 0.204124im)σˣ₃σˣ₄ + (-0.235702 - 0.0im)σᶻ₂σᶻ₃ + (-0.235702 - 0.0im)σʸ₂σʸ₃ + (-0.235702 - 0.0im)σˣ₂σˣ₃ + (0.117851 + 0.204124im)σᶻ₁σᶻ₆ + (0.117851 - 0.204124im)σᶻ₁σᶻ₂ + (0.117851 + 0.204124im)σʸ₁σʸ₆ + (0.117851 - 0.204124im)σʸ₁σʸ₂ + (0.117851 + 0.204124im)σˣ₁σˣ₆ + (0.117851 - 0.204124im)σˣ₁σˣ₂"
     },
     "metadata": {}
    },
    {
     "output_type": "display_data",
     "data": {
      "text/plain": "1-element Vector{MultivariatePolynomials.VectorPolynomial{ComplexF64, MultivariatePolynomials.Term{ComplexF64, CondensedMatterSOS.SpinMonomial}}}:\n (-0.288675 + 0.0im)σᶻ₅σʸ₆ + (0.288675 + 0.0im)σʸ₅σᶻ₆ + (0.144338 - 0.25im)σᶻ₄σʸ₅ + (-0.144338 + 0.25im)σʸ₄σᶻ₅ + (0.144338 + 0.25im)σᶻ₃σʸ₄ + (-0.144338 - 0.25im)σʸ₃σᶻ₄ + (-0.288675 + 0.0im)σᶻ₂σʸ₃ + (0.288675 + 0.0im)σʸ₂σᶻ₃ + (-0.144338 - 0.25im)σᶻ₁σʸ₆ + (0.144338 - 0.25im)σᶻ₁σʸ₂ + (0.144338 + 0.25im)σʸ₁σᶻ₆ + (-0.144338 + 0.25im)σʸ₁σᶻ₂"
     },
     "metadata": {}
    },
    {
     "output_type": "display_data",
     "data": {
      "text/plain": "1-element Vector{MultivariatePolynomials.VectorPolynomial{ComplexF64, MultivariatePolynomials.Term{ComplexF64, CondensedMatterSOS.SpinMonomial}}}:\n (-0.288675 + 0.0im)σᶻ₅σˣ₆ + (0.288675 + 0.0im)σˣ₅σᶻ₆ + (0.144338 - 0.25im)σᶻ₄σˣ₅ + (-0.144338 + 0.25im)σˣ₄σᶻ₅ + (0.144338 + 0.25im)σᶻ₃σˣ₄ + (-0.144338 - 0.25im)σˣ₃σᶻ₄ + (-0.288675 + 0.0im)σᶻ₂σˣ₃ + (0.288675 + 0.0im)σˣ₂σᶻ₃ + (-0.144338 - 0.25im)σᶻ₁σˣ₆ + (0.144338 - 0.25im)σᶻ₁σˣ₂ + (0.144338 + 0.25im)σˣ₁σᶻ₆ + (-0.144338 + 0.25im)σˣ₁σᶻ₂"
     },
     "metadata": {}
    },
    {
     "output_type": "display_data",
     "data": {
      "text/plain": "1-element Vector{MultivariatePolynomials.VectorPolynomial{ComplexF64, MultivariatePolynomials.Term{ComplexF64, CondensedMatterSOS.SpinMonomial}}}:\n (-0.288675 + 0.0im)σʸ₅σˣ₆ + (0.288675 + 0.0im)σˣ₅σʸ₆ + (0.144338 - 0.25im)σʸ₄σˣ₅ + (-0.144338 + 0.25im)σˣ₄σʸ₅ + (0.144338 + 0.25im)σʸ₃σˣ₄ + (-0.144338 - 0.25im)σˣ₃σʸ₄ + (-0.288675 + 0.0im)σʸ₂σˣ₃ + (0.288675 + 0.0im)σˣ₂σʸ₃ + (-0.144338 - 0.25im)σʸ₁σˣ₆ + (0.144338 - 0.25im)σʸ₁σˣ₂ + (0.144338 + 0.25im)σˣ₁σʸ₆ + (-0.144338 + 0.25im)σˣ₁σʸ₂"
     },
     "metadata": {}
    },
    {
     "output_type": "display_data",
     "data": {
      "text/plain": "1-element Vector{MultivariatePolynomials.VectorPolynomial{ComplexF64, MultivariatePolynomials.Term{ComplexF64, CondensedMatterSOS.SpinMonomial}}}:\n (-0.333333 + 0.0im)σᶻ₅σᶻ₆ + (0.166667 + 0.0im)σʸ₅σʸ₆ + (0.166667 + 0.0im)σˣ₅σˣ₆ + (-0.166667 - 0.288675im)σᶻ₄σᶻ₅ + (0.083333 + 0.144338im)σʸ₄σʸ₅ + (0.083333 + 0.144338im)σˣ₄σˣ₅ + (0.166667 - 0.288675im)σᶻ₃σᶻ₄ + (-0.083333 + 0.144338im)σʸ₃σʸ₄ + (-0.083333 + 0.144338im)σˣ₃σˣ₄ + (0.333333 + 0.0im)σᶻ₂σᶻ₃ + (-0.166667 + 0.0im)σʸ₂σʸ₃ + (-0.166667 + 0.0im)σˣ₂σˣ₃ + (-0.166667 + 0.288675im)σᶻ₁σᶻ₆ + (0.166667 + 0.288675im)σᶻ₁σᶻ₂ + (0.083333 - 0.144338im)σʸ₁σʸ₆ + (-0.083333 - 0.144338im)σʸ₁σʸ₂ + (0.083333 - 0.144338im)σˣ₁σˣ₆ + (-0.083333 - 0.144338im)σˣ₁σˣ₂"
     },
     "metadata": {}
    },
    {
     "output_type": "display_data",
     "data": {
      "text/plain": "1-element Vector{MultivariatePolynomials.VectorPolynomial{ComplexF64, MultivariatePolynomials.Term{ComplexF64, CondensedMatterSOS.SpinMonomial}}}:\n (-0.288675 - 0.0im)σʸ₅σʸ₆ + (0.288675 - 0.0im)σˣ₅σˣ₆ + (-0.144338 - 0.25im)σʸ₄σʸ₅ + (0.144338 + 0.25im)σˣ₄σˣ₅ + (0.144338 - 0.25im)σʸ₃σʸ₄ + (-0.144338 + 0.25im)σˣ₃σˣ₄ + (0.288675 + 0.0im)σʸ₂σʸ₃ + (-0.288675 + 0.0im)σˣ₂σˣ₃ + (-0.144338 + 0.25im)σʸ₁σʸ₆ + (0.144338 + 0.25im)σʸ₁σʸ₂ + (0.144338 - 0.25im)σˣ₁σˣ₆ + (-0.144338 - 0.25im)σˣ₁σˣ₂"
     },
     "metadata": {}
    },
    {
     "output_type": "display_data",
     "data": {
      "text/plain": "2-element Vector{MultivariatePolynomials.VectorPolynomial{ComplexF64, MultivariatePolynomials.Term{ComplexF64, CondensedMatterSOS.SpinMonomial}}}:\n (-0.288675 + 0.0im)σᶻ₅σʸ₆ + (-0.288675 + 0.0im)σʸ₅σᶻ₆ + (-0.144338 - 0.25im)σᶻ₄σʸ₅ + (-0.144338 - 0.25im)σʸ₄σᶻ₅ + (0.144338 - 0.25im)σᶻ₃σʸ₄ + (0.144338 - 0.25im)σʸ₃σᶻ₄ + (0.288675 + 0.0im)σᶻ₂σʸ₃ + (0.288675 + 0.0im)σʸ₂σᶻ₃ + (-0.144338 + 0.25im)σᶻ₁σʸ₆ + (0.144338 + 0.25im)σᶻ₁σʸ₂ + (-0.144338 + 0.25im)σʸ₁σᶻ₆ + (0.144338 + 0.25im)σʸ₁σᶻ₂\n (-0.129041 + 0.387318im)σˣ₆ + (-0.399948 + 0.081906im)σˣ₅ + (-0.270907 - 0.305412im)σˣ₄ + (0.129041 - 0.387318im)σˣ₃ + (0.399948 - 0.081906im)σˣ₂ + (0.270907 + 0.305412im)σˣ₁"
     },
     "metadata": {}
    },
    {
     "output_type": "display_data",
     "data": {
      "text/plain": "2-element Vector{MultivariatePolynomials.VectorPolynomial{ComplexF64, MultivariatePolynomials.Term{ComplexF64, CondensedMatterSOS.SpinMonomial}}}:\n (-0.288675 + 0.0im)σᶻ₅σˣ₆ + (-0.288675 + 0.0im)σˣ₅σᶻ₆ + (-0.144338 - 0.25im)σᶻ₄σˣ₅ + (-0.144338 - 0.25im)σˣ₄σᶻ₅ + (0.144338 - 0.25im)σᶻ₃σˣ₄ + (0.144338 - 0.25im)σˣ₃σᶻ₄ + (0.288675 + 0.0im)σᶻ₂σˣ₃ + (0.288675 + 0.0im)σˣ₂σᶻ₃ + (-0.144338 + 0.25im)σᶻ₁σˣ₆ + (0.144338 + 0.25im)σᶻ₁σˣ₂ + (-0.144338 + 0.25im)σˣ₁σᶻ₆ + (0.144338 + 0.25im)σˣ₁σᶻ₂\n (-0.129041 + 0.387318im)σʸ₆ + (-0.399948 + 0.081906im)σʸ₅ + (-0.270907 - 0.305412im)σʸ₄ + (0.129041 - 0.387318im)σʸ₃ + (0.399948 - 0.081906im)σʸ₂ + (0.270907 + 0.305412im)σʸ₁"
     },
     "metadata": {}
    },
    {
     "output_type": "display_data",
     "data": {
      "text/plain": "2-element Vector{MultivariatePolynomials.VectorPolynomial{ComplexF64, MultivariatePolynomials.Term{ComplexF64, CondensedMatterSOS.SpinMonomial}}}:\n (-0.288675 + 0.0im)σʸ₅σˣ₆ + (-0.288675 + 0.0im)σˣ₅σʸ₆ + (-0.144338 - 0.25im)σʸ₄σˣ₅ + (-0.144338 - 0.25im)σˣ₄σʸ₅ + (0.144338 - 0.25im)σʸ₃σˣ₄ + (0.144338 - 0.25im)σˣ₃σʸ₄ + (0.288675 + 0.0im)σʸ₂σˣ₃ + (0.288675 + 0.0im)σˣ₂σʸ₃ + (-0.144338 + 0.25im)σʸ₁σˣ₆ + (0.144338 + 0.25im)σʸ₁σˣ₂ + (-0.144338 + 0.25im)σˣ₁σʸ₆ + (0.144338 + 0.25im)σˣ₁σʸ₂\n (-0.129041 + 0.387318im)σᶻ₆ + (-0.399948 + 0.081906im)σᶻ₅ + (-0.270907 - 0.305412im)σᶻ₄ + (0.129041 - 0.387318im)σᶻ₃ + (0.399948 - 0.081906im)σᶻ₂ + (0.270907 + 0.305412im)σᶻ₁"
     },
     "metadata": {}
    },
    {
     "output_type": "display_data",
     "data": {
      "text/plain": "1-element Vector{MultivariatePolynomials.VectorPolynomial{ComplexF64, MultivariatePolynomials.Term{ComplexF64, CondensedMatterSOS.SpinMonomial}}}:\n (-0.235702 - 0.0im)σᶻ₅σᶻ₆ + (-0.235702 - 0.0im)σʸ₅σʸ₆ + (-0.235702 - 0.0im)σˣ₅σˣ₆ + (-0.117851 - 0.204124im)σᶻ₄σᶻ₅ + (-0.117851 - 0.204124im)σʸ₄σʸ₅ + (-0.117851 - 0.204124im)σˣ₄σˣ₅ + (0.117851 - 0.204124im)σᶻ₃σᶻ₄ + (0.117851 - 0.204124im)σʸ₃σʸ₄ + (0.117851 - 0.204124im)σˣ₃σˣ₄ + (0.235702 - 0.0im)σᶻ₂σᶻ₃ + (0.235702 - 0.0im)σʸ₂σʸ₃ + (0.235702 - 0.0im)σˣ₂σˣ₃ + (-0.117851 + 0.204124im)σᶻ₁σᶻ₆ + (0.117851 + 0.204124im)σᶻ₁σᶻ₂ + (-0.117851 + 0.204124im)σʸ₁σʸ₆ + (0.117851 + 0.204124im)σʸ₁σʸ₂ + (-0.117851 + 0.204124im)σˣ₁σˣ₆ + (0.117851 + 0.204124im)σˣ₁σˣ₂"
     },
     "metadata": {}
    },
    {
     "output_type": "display_data",
     "data": {
      "text/plain": "1-element Vector{MultivariatePolynomials.VectorPolynomial{ComplexF64, MultivariatePolynomials.Term{ComplexF64, CondensedMatterSOS.SpinMonomial}}}:\n (-0.288675 + 0.0im)σᶻ₅σʸ₆ + (0.288675 + 0.0im)σʸ₅σᶻ₆ + (-0.144338 - 0.25im)σᶻ₄σʸ₅ + (0.144338 + 0.25im)σʸ₄σᶻ₅ + (0.144338 - 0.25im)σᶻ₃σʸ₄ + (-0.144338 + 0.25im)σʸ₃σᶻ₄ + (0.288675 + 0.0im)σᶻ₂σʸ₃ + (-0.288675 + 0.0im)σʸ₂σᶻ₃ + (0.144338 - 0.25im)σᶻ₁σʸ₆ + (0.144338 + 0.25im)σᶻ₁σʸ₂ + (-0.144338 + 0.25im)σʸ₁σᶻ₆ + (-0.144338 - 0.25im)σʸ₁σᶻ₂"
     },
     "metadata": {}
    },
    {
     "output_type": "display_data",
     "data": {
      "text/plain": "1-element Vector{MultivariatePolynomials.VectorPolynomial{ComplexF64, MultivariatePolynomials.Term{ComplexF64, CondensedMatterSOS.SpinMonomial}}}:\n (-0.288675 + 0.0im)σᶻ₅σˣ₆ + (0.288675 + 0.0im)σˣ₅σᶻ₆ + (-0.144338 - 0.25im)σᶻ₄σˣ₅ + (0.144338 + 0.25im)σˣ₄σᶻ₅ + (0.144338 - 0.25im)σᶻ₃σˣ₄ + (-0.144338 + 0.25im)σˣ₃σᶻ₄ + (0.288675 + 0.0im)σᶻ₂σˣ₃ + (-0.288675 + 0.0im)σˣ₂σᶻ₃ + (0.144338 - 0.25im)σᶻ₁σˣ₆ + (0.144338 + 0.25im)σᶻ₁σˣ₂ + (-0.144338 + 0.25im)σˣ₁σᶻ₆ + (-0.144338 - 0.25im)σˣ₁σᶻ₂"
     },
     "metadata": {}
    },
    {
     "output_type": "display_data",
     "data": {
      "text/plain": "1-element Vector{MultivariatePolynomials.VectorPolynomial{ComplexF64, MultivariatePolynomials.Term{ComplexF64, CondensedMatterSOS.SpinMonomial}}}:\n (-0.288675 + 0.0im)σʸ₅σˣ₆ + (0.288675 + 0.0im)σˣ₅σʸ₆ + (-0.144338 - 0.25im)σʸ₄σˣ₅ + (0.144338 + 0.25im)σˣ₄σʸ₅ + (0.144338 - 0.25im)σʸ₃σˣ₄ + (-0.144338 + 0.25im)σˣ₃σʸ₄ + (0.288675 + 0.0im)σʸ₂σˣ₃ + (-0.288675 + 0.0im)σˣ₂σʸ₃ + (0.144338 - 0.25im)σʸ₁σˣ₆ + (0.144338 + 0.25im)σʸ₁σˣ₂ + (-0.144338 + 0.25im)σˣ₁σʸ₆ + (-0.144338 - 0.25im)σˣ₁σʸ₂"
     },
     "metadata": {}
    },
    {
     "output_type": "display_data",
     "data": {
      "text/plain": "1-element Vector{MultivariatePolynomials.VectorPolynomial{ComplexF64, MultivariatePolynomials.Term{ComplexF64, CondensedMatterSOS.SpinMonomial}}}:\n (-0.333333 + 0.0im)σᶻ₅σᶻ₆ + (0.166667 + 0.0im)σʸ₅σʸ₆ + (0.166667 + 0.0im)σˣ₅σˣ₆ + (0.166667 + 0.288675im)σᶻ₄σᶻ₅ + (-0.083333 - 0.144338im)σʸ₄σʸ₅ + (-0.083333 - 0.144338im)σˣ₄σˣ₅ + (0.166667 - 0.288675im)σᶻ₃σᶻ₄ + (-0.083333 + 0.144338im)σʸ₃σʸ₄ + (-0.083333 + 0.144338im)σˣ₃σˣ₄ + (-0.333333 + 0.0im)σᶻ₂σᶻ₃ + (0.166667 + 0.0im)σʸ₂σʸ₃ + (0.166667 + 0.0im)σˣ₂σˣ₃ + (0.166667 - 0.288675im)σᶻ₁σᶻ₆ + (0.166667 + 0.288675im)σᶻ₁σᶻ₂ + (-0.083333 + 0.144338im)σʸ₁σʸ₆ + (-0.083333 - 0.144338im)σʸ₁σʸ₂ + (-0.083333 + 0.144338im)σˣ₁σˣ₆ + (-0.083333 - 0.144338im)σˣ₁σˣ₂"
     },
     "metadata": {}
    },
    {
     "output_type": "display_data",
     "data": {
      "text/plain": "1-element Vector{MultivariatePolynomials.VectorPolynomial{ComplexF64, MultivariatePolynomials.Term{ComplexF64, CondensedMatterSOS.SpinMonomial}}}:\n (-0.288675 - 0.0im)σʸ₅σʸ₆ + (0.288675 - 0.0im)σˣ₅σˣ₆ + (0.144338 + 0.25im)σʸ₄σʸ₅ + (-0.144338 - 0.25im)σˣ₄σˣ₅ + (0.144338 - 0.25im)σʸ₃σʸ₄ + (-0.144338 + 0.25im)σˣ₃σˣ₄ + (-0.288675 - 0.0im)σʸ₂σʸ₃ + (0.288675 - 0.0im)σˣ₂σˣ₃ + (0.144338 - 0.25im)σʸ₁σʸ₆ + (0.144338 + 0.25im)σʸ₁σʸ₂ + (-0.144338 + 0.25im)σˣ₁σˣ₆ + (-0.144338 - 0.25im)σˣ₁σˣ₂"
     },
     "metadata": {}
    },
    {
     "output_type": "display_data",
     "data": {
      "text/plain": "2-element Vector{MultivariatePolynomials.VectorPolynomial{ComplexF64, MultivariatePolynomials.Term{ComplexF64, CondensedMatterSOS.SpinMonomial}}}:\n (-0.288675 + 0.0im)σᶻ₅σʸ₆ + (-0.288675 + 0.0im)σʸ₅σᶻ₆ + (0.144338 + 0.25im)σᶻ₄σʸ₅ + (0.144338 + 0.25im)σʸ₄σᶻ₅ + (0.144338 - 0.25im)σᶻ₃σʸ₄ + (0.144338 - 0.25im)σʸ₃σᶻ₄ + (-0.288675 + 0.0im)σᶻ₂σʸ₃ + (-0.288675 + 0.0im)σʸ₂σᶻ₃ + (0.144338 - 0.25im)σᶻ₁σʸ₆ + (0.144338 + 0.25im)σᶻ₁σʸ₂ + (0.144338 - 0.25im)σʸ₁σᶻ₆ + (0.144338 + 0.25im)σʸ₁σᶻ₂\n (0.408248 + 0.0im)σˣ₆ + (-0.204124 - 0.353553im)σˣ₅ + (-0.204124 + 0.353553im)σˣ₄ + (0.408248 + 0.0im)σˣ₃ + (-0.204124 - 0.353553im)σˣ₂ + (-0.204124 + 0.353553im)σˣ₁"
     },
     "metadata": {}
    },
    {
     "output_type": "display_data",
     "data": {
      "text/plain": "2-element Vector{MultivariatePolynomials.VectorPolynomial{ComplexF64, MultivariatePolynomials.Term{ComplexF64, CondensedMatterSOS.SpinMonomial}}}:\n (-0.288675 + 0.0im)σᶻ₅σˣ₆ + (-0.288675 + 0.0im)σˣ₅σᶻ₆ + (0.144338 + 0.25im)σᶻ₄σˣ₅ + (0.144338 + 0.25im)σˣ₄σᶻ₅ + (0.144338 - 0.25im)σᶻ₃σˣ₄ + (0.144338 - 0.25im)σˣ₃σᶻ₄ + (-0.288675 + 0.0im)σᶻ₂σˣ₃ + (-0.288675 + 0.0im)σˣ₂σᶻ₃ + (0.144338 - 0.25im)σᶻ₁σˣ₆ + (0.144338 + 0.25im)σᶻ₁σˣ₂ + (0.144338 - 0.25im)σˣ₁σᶻ₆ + (0.144338 + 0.25im)σˣ₁σᶻ₂\n (0.408248 + 0.0im)σʸ₆ + (-0.204124 - 0.353553im)σʸ₅ + (-0.204124 + 0.353553im)σʸ₄ + (0.408248 + 0.0im)σʸ₃ + (-0.204124 - 0.353553im)σʸ₂ + (-0.204124 + 0.353553im)σʸ₁"
     },
     "metadata": {}
    },
    {
     "output_type": "display_data",
     "data": {
      "text/plain": "2-element Vector{MultivariatePolynomials.VectorPolynomial{ComplexF64, MultivariatePolynomials.Term{ComplexF64, CondensedMatterSOS.SpinMonomial}}}:\n (-0.288675 + 0.0im)σʸ₅σˣ₆ + (-0.288675 + 0.0im)σˣ₅σʸ₆ + (0.144338 + 0.25im)σʸ₄σˣ₅ + (0.144338 + 0.25im)σˣ₄σʸ₅ + (0.144338 - 0.25im)σʸ₃σˣ₄ + (0.144338 - 0.25im)σˣ₃σʸ₄ + (-0.288675 + 0.0im)σʸ₂σˣ₃ + (-0.288675 + 0.0im)σˣ₂σʸ₃ + (0.144338 - 0.25im)σʸ₁σˣ₆ + (0.144338 + 0.25im)σʸ₁σˣ₂ + (0.144338 - 0.25im)σˣ₁σʸ₆ + (0.144338 + 0.25im)σˣ₁σʸ₂\n (0.408248 + 0.0im)σᶻ₆ + (-0.204124 - 0.353553im)σᶻ₅ + (-0.204124 + 0.353553im)σᶻ₄ + (0.408248 + 0.0im)σᶻ₃ + (-0.204124 - 0.353553im)σᶻ₂ + (-0.204124 + 0.353553im)σᶻ₁"
     },
     "metadata": {}
    },
    {
     "output_type": "display_data",
     "data": {
      "text/plain": "1-element Vector{MultivariatePolynomials.VectorPolynomial{ComplexF64, MultivariatePolynomials.Term{ComplexF64, CondensedMatterSOS.SpinMonomial}}}:\n (-0.235702 - 0.0im)σᶻ₅σᶻ₆ + (-0.235702 - 0.0im)σʸ₅σʸ₆ + (-0.235702 - 0.0im)σˣ₅σˣ₆ + (0.117851 + 0.204124im)σᶻ₄σᶻ₅ + (0.117851 + 0.204124im)σʸ₄σʸ₅ + (0.117851 + 0.204124im)σˣ₄σˣ₅ + (0.117851 - 0.204124im)σᶻ₃σᶻ₄ + (0.117851 - 0.204124im)σʸ₃σʸ₄ + (0.117851 - 0.204124im)σˣ₃σˣ₄ + (-0.235702 - 0.0im)σᶻ₂σᶻ₃ + (-0.235702 - 0.0im)σʸ₂σʸ₃ + (-0.235702 - 0.0im)σˣ₂σˣ₃ + (0.117851 - 0.204124im)σᶻ₁σᶻ₆ + (0.117851 + 0.204124im)σᶻ₁σᶻ₂ + (0.117851 - 0.204124im)σʸ₁σʸ₆ + (0.117851 + 0.204124im)σʸ₁σʸ₂ + (0.117851 - 0.204124im)σˣ₁σˣ₆ + (0.117851 + 0.204124im)σˣ₁σˣ₂"
     },
     "metadata": {}
    },
    {
     "output_type": "display_data",
     "data": {
      "text/plain": "1-element Vector{MultivariatePolynomials.VectorPolynomial{ComplexF64, MultivariatePolynomials.Term{ComplexF64, CondensedMatterSOS.SpinMonomial}}}:\n (-0.288675 + 0.0im)σᶻ₅σʸ₆ + (0.288675 + 0.0im)σʸ₅σᶻ₆ + (0.144338 + 0.25im)σᶻ₄σʸ₅ + (-0.144338 - 0.25im)σʸ₄σᶻ₅ + (0.144338 - 0.25im)σᶻ₃σʸ₄ + (-0.144338 + 0.25im)σʸ₃σᶻ₄ + (-0.288675 + 0.0im)σᶻ₂σʸ₃ + (0.288675 + 0.0im)σʸ₂σᶻ₃ + (-0.144338 + 0.25im)σᶻ₁σʸ₆ + (0.144338 + 0.25im)σᶻ₁σʸ₂ + (0.144338 - 0.25im)σʸ₁σᶻ₆ + (-0.144338 - 0.25im)σʸ₁σᶻ₂"
     },
     "metadata": {}
    },
    {
     "output_type": "display_data",
     "data": {
      "text/plain": "1-element Vector{MultivariatePolynomials.VectorPolynomial{ComplexF64, MultivariatePolynomials.Term{ComplexF64, CondensedMatterSOS.SpinMonomial}}}:\n (-0.288675 + 0.0im)σᶻ₅σˣ₆ + (0.288675 + 0.0im)σˣ₅σᶻ₆ + (0.144338 + 0.25im)σᶻ₄σˣ₅ + (-0.144338 - 0.25im)σˣ₄σᶻ₅ + (0.144338 - 0.25im)σᶻ₃σˣ₄ + (-0.144338 + 0.25im)σˣ₃σᶻ₄ + (-0.288675 + 0.0im)σᶻ₂σˣ₃ + (0.288675 + 0.0im)σˣ₂σᶻ₃ + (-0.144338 + 0.25im)σᶻ₁σˣ₆ + (0.144338 + 0.25im)σᶻ₁σˣ₂ + (0.144338 - 0.25im)σˣ₁σᶻ₆ + (-0.144338 - 0.25im)σˣ₁σᶻ₂"
     },
     "metadata": {}
    },
    {
     "output_type": "display_data",
     "data": {
      "text/plain": "1-element Vector{MultivariatePolynomials.VectorPolynomial{ComplexF64, MultivariatePolynomials.Term{ComplexF64, CondensedMatterSOS.SpinMonomial}}}:\n (-0.288675 + 0.0im)σʸ₅σˣ₆ + (0.288675 + 0.0im)σˣ₅σʸ₆ + (0.144338 + 0.25im)σʸ₄σˣ₅ + (-0.144338 - 0.25im)σˣ₄σʸ₅ + (0.144338 - 0.25im)σʸ₃σˣ₄ + (-0.144338 + 0.25im)σˣ₃σʸ₄ + (-0.288675 + 0.0im)σʸ₂σˣ₃ + (0.288675 + 0.0im)σˣ₂σʸ₃ + (-0.144338 + 0.25im)σʸ₁σˣ₆ + (0.144338 + 0.25im)σʸ₁σˣ₂ + (0.144338 - 0.25im)σˣ₁σʸ₆ + (-0.144338 - 0.25im)σˣ₁σʸ₂"
     },
     "metadata": {}
    },
    {
     "output_type": "display_data",
     "data": {
      "text/plain": "1-element Vector{MultivariatePolynomials.VectorPolynomial{ComplexF64, MultivariatePolynomials.Term{ComplexF64, CondensedMatterSOS.SpinMonomial}}}:\n (-0.333333 + 0.0im)σᶻ₅σᶻ₆ + (0.166667 + 0.0im)σʸ₅σʸ₆ + (0.166667 + 0.0im)σˣ₅σˣ₆ + (-0.166667 + 0.288675im)σᶻ₄σᶻ₅ + (0.083333 - 0.144338im)σʸ₄σʸ₅ + (0.083333 - 0.144338im)σˣ₄σˣ₅ + (0.166667 + 0.288675im)σᶻ₃σᶻ₄ + (-0.083333 - 0.144338im)σʸ₃σʸ₄ + (-0.083333 - 0.144338im)σˣ₃σˣ₄ + (0.333333 + 0.0im)σᶻ₂σᶻ₃ + (-0.166667 + 0.0im)σʸ₂σʸ₃ + (-0.166667 + 0.0im)σˣ₂σˣ₃ + (-0.166667 - 0.288675im)σᶻ₁σᶻ₆ + (0.166667 - 0.288675im)σᶻ₁σᶻ₂ + (0.083333 + 0.144338im)σʸ₁σʸ₆ + (-0.083333 + 0.144338im)σʸ₁σʸ₂ + (0.083333 + 0.144338im)σˣ₁σˣ₆ + (-0.083333 + 0.144338im)σˣ₁σˣ₂"
     },
     "metadata": {}
    },
    {
     "output_type": "display_data",
     "data": {
      "text/plain": "1-element Vector{MultivariatePolynomials.VectorPolynomial{ComplexF64, MultivariatePolynomials.Term{ComplexF64, CondensedMatterSOS.SpinMonomial}}}:\n (-0.288675 - 0.0im)σʸ₅σʸ₆ + (0.288675 - 0.0im)σˣ₅σˣ₆ + (-0.144338 + 0.25im)σʸ₄σʸ₅ + (0.144338 - 0.25im)σˣ₄σˣ₅ + (0.144338 + 0.25im)σʸ₃σʸ₄ + (-0.144338 - 0.25im)σˣ₃σˣ₄ + (0.288675 + 0.0im)σʸ₂σʸ₃ + (-0.288675 + 0.0im)σˣ₂σˣ₃ + (-0.144338 - 0.25im)σʸ₁σʸ₆ + (0.144338 - 0.25im)σʸ₁σʸ₂ + (0.144338 + 0.25im)σˣ₁σˣ₆ + (-0.144338 + 0.25im)σˣ₁σˣ₂"
     },
     "metadata": {}
    },
    {
     "output_type": "display_data",
     "data": {
      "text/plain": "2-element Vector{MultivariatePolynomials.VectorPolynomial{ComplexF64, MultivariatePolynomials.Term{ComplexF64, CondensedMatterSOS.SpinMonomial}}}:\n (-0.288675 + 0.0im)σᶻ₅σʸ₆ + (-0.288675 + 0.0im)σʸ₅σᶻ₆ + (-0.144338 + 0.25im)σᶻ₄σʸ₅ + (-0.144338 + 0.25im)σʸ₄σᶻ₅ + (0.144338 + 0.25im)σᶻ₃σʸ₄ + (0.144338 + 0.25im)σʸ₃σᶻ₄ + (0.288675 + 0.0im)σᶻ₂σʸ₃ + (0.288675 + 0.0im)σʸ₂σᶻ₃ + (-0.144338 - 0.25im)σᶻ₁σʸ₆ + (0.144338 - 0.25im)σᶻ₁σʸ₂ + (-0.144338 - 0.25im)σʸ₁σᶻ₆ + (0.144338 - 0.25im)σʸ₁σᶻ₂\n (-0.115028 - 0.391708im)σˣ₆ + (-0.396743 - 0.096237im)σˣ₅ + (-0.281716 + 0.295471im)σˣ₄ + (0.115028 + 0.391708im)σˣ₃ + (0.396743 + 0.096237im)σˣ₂ + (0.281716 - 0.295471im)σˣ₁"
     },
     "metadata": {}
    },
    {
     "output_type": "display_data",
     "data": {
      "text/plain": "2-element Vector{MultivariatePolynomials.VectorPolynomial{ComplexF64, MultivariatePolynomials.Term{ComplexF64, CondensedMatterSOS.SpinMonomial}}}:\n (-0.288675 + 0.0im)σᶻ₅σˣ₆ + (-0.288675 + 0.0im)σˣ₅σᶻ₆ + (-0.144338 + 0.25im)σᶻ₄σˣ₅ + (-0.144338 + 0.25im)σˣ₄σᶻ₅ + (0.144338 + 0.25im)σᶻ₃σˣ₄ + (0.144338 + 0.25im)σˣ₃σᶻ₄ + (0.288675 + 0.0im)σᶻ₂σˣ₃ + (0.288675 + 0.0im)σˣ₂σᶻ₃ + (-0.144338 - 0.25im)σᶻ₁σˣ₆ + (0.144338 - 0.25im)σᶻ₁σˣ₂ + (-0.144338 - 0.25im)σˣ₁σᶻ₆ + (0.144338 - 0.25im)σˣ₁σᶻ₂\n (-0.115028 - 0.391708im)σʸ₆ + (-0.396743 - 0.096237im)σʸ₅ + (-0.281716 + 0.295471im)σʸ₄ + (0.115028 + 0.391708im)σʸ₃ + (0.396743 + 0.096237im)σʸ₂ + (0.281716 - 0.295471im)σʸ₁"
     },
     "metadata": {}
    },
    {
     "output_type": "display_data",
     "data": {
      "text/plain": "2-element Vector{MultivariatePolynomials.VectorPolynomial{ComplexF64, MultivariatePolynomials.Term{ComplexF64, CondensedMatterSOS.SpinMonomial}}}:\n (-0.288675 + 0.0im)σʸ₅σˣ₆ + (-0.288675 + 0.0im)σˣ₅σʸ₆ + (-0.144338 + 0.25im)σʸ₄σˣ₅ + (-0.144338 + 0.25im)σˣ₄σʸ₅ + (0.144338 + 0.25im)σʸ₃σˣ₄ + (0.144338 + 0.25im)σˣ₃σʸ₄ + (0.288675 + 0.0im)σʸ₂σˣ₃ + (0.288675 + 0.0im)σˣ₂σʸ₃ + (-0.144338 - 0.25im)σʸ₁σˣ₆ + (0.144338 - 0.25im)σʸ₁σˣ₂ + (-0.144338 - 0.25im)σˣ₁σʸ₆ + (0.144338 - 0.25im)σˣ₁σʸ₂\n (-0.115028 - 0.391708im)σᶻ₆ + (-0.396743 - 0.096237im)σᶻ₅ + (-0.281716 + 0.295471im)σᶻ₄ + (0.115028 + 0.391708im)σᶻ₃ + (0.396743 + 0.096237im)σᶻ₂ + (0.281716 - 0.295471im)σᶻ₁"
     },
     "metadata": {}
    },
    {
     "output_type": "display_data",
     "data": {
      "text/plain": "1-element Vector{MultivariatePolynomials.VectorPolynomial{ComplexF64, MultivariatePolynomials.Term{ComplexF64, CondensedMatterSOS.SpinMonomial}}}:\n (-0.235702 - 0.0im)σᶻ₅σᶻ₆ + (-0.235702 - 0.0im)σʸ₅σʸ₆ + (-0.235702 - 0.0im)σˣ₅σˣ₆ + (-0.117851 + 0.204124im)σᶻ₄σᶻ₅ + (-0.117851 + 0.204124im)σʸ₄σʸ₅ + (-0.117851 + 0.204124im)σˣ₄σˣ₅ + (0.117851 + 0.204124im)σᶻ₃σᶻ₄ + (0.117851 + 0.204124im)σʸ₃σʸ₄ + (0.117851 + 0.204124im)σˣ₃σˣ₄ + (0.235702 - 0.0im)σᶻ₂σᶻ₃ + (0.235702 - 0.0im)σʸ₂σʸ₃ + (0.235702 - 0.0im)σˣ₂σˣ₃ + (-0.117851 - 0.204124im)σᶻ₁σᶻ₆ + (0.117851 - 0.204124im)σᶻ₁σᶻ₂ + (-0.117851 - 0.204124im)σʸ₁σʸ₆ + (0.117851 - 0.204124im)σʸ₁σʸ₂ + (-0.117851 - 0.204124im)σˣ₁σˣ₆ + (0.117851 - 0.204124im)σˣ₁σˣ₂"
     },
     "metadata": {}
    },
    {
     "output_type": "display_data",
     "data": {
      "text/plain": "1-element Vector{MultivariatePolynomials.VectorPolynomial{ComplexF64, MultivariatePolynomials.Term{ComplexF64, CondensedMatterSOS.SpinMonomial}}}:\n (-0.288675 + 0.0im)σᶻ₅σʸ₆ + (0.288675 + 0.0im)σʸ₅σᶻ₆ + (-0.144338 + 0.25im)σᶻ₄σʸ₅ + (0.144338 - 0.25im)σʸ₄σᶻ₅ + (0.144338 + 0.25im)σᶻ₃σʸ₄ + (-0.144338 - 0.25im)σʸ₃σᶻ₄ + (0.288675 + 0.0im)σᶻ₂σʸ₃ + (-0.288675 + 0.0im)σʸ₂σᶻ₃ + (0.144338 + 0.25im)σᶻ₁σʸ₆ + (0.144338 - 0.25im)σᶻ₁σʸ₂ + (-0.144338 - 0.25im)σʸ₁σᶻ₆ + (-0.144338 + 0.25im)σʸ₁σᶻ₂"
     },
     "metadata": {}
    },
    {
     "output_type": "display_data",
     "data": {
      "text/plain": "1-element Vector{MultivariatePolynomials.VectorPolynomial{ComplexF64, MultivariatePolynomials.Term{ComplexF64, CondensedMatterSOS.SpinMonomial}}}:\n (-0.288675 + 0.0im)σᶻ₅σˣ₆ + (0.288675 + 0.0im)σˣ₅σᶻ₆ + (-0.144338 + 0.25im)σᶻ₄σˣ₅ + (0.144338 - 0.25im)σˣ₄σᶻ₅ + (0.144338 + 0.25im)σᶻ₃σˣ₄ + (-0.144338 - 0.25im)σˣ₃σᶻ₄ + (0.288675 + 0.0im)σᶻ₂σˣ₃ + (-0.288675 + 0.0im)σˣ₂σᶻ₃ + (0.144338 + 0.25im)σᶻ₁σˣ₆ + (0.144338 - 0.25im)σᶻ₁σˣ₂ + (-0.144338 - 0.25im)σˣ₁σᶻ₆ + (-0.144338 + 0.25im)σˣ₁σᶻ₂"
     },
     "metadata": {}
    },
    {
     "output_type": "display_data",
     "data": {
      "text/plain": "1-element Vector{MultivariatePolynomials.VectorPolynomial{ComplexF64, MultivariatePolynomials.Term{ComplexF64, CondensedMatterSOS.SpinMonomial}}}:\n (-0.288675 + 0.0im)σʸ₅σˣ₆ + (0.288675 + 0.0im)σˣ₅σʸ₆ + (-0.144338 + 0.25im)σʸ₄σˣ₅ + (0.144338 - 0.25im)σˣ₄σʸ₅ + (0.144338 + 0.25im)σʸ₃σˣ₄ + (-0.144338 - 0.25im)σˣ₃σʸ₄ + (0.288675 + 0.0im)σʸ₂σˣ₃ + (-0.288675 + 0.0im)σˣ₂σʸ₃ + (0.144338 + 0.25im)σʸ₁σˣ₆ + (0.144338 - 0.25im)σʸ₁σˣ₂ + (-0.144338 - 0.25im)σˣ₁σʸ₆ + (-0.144338 + 0.25im)σˣ₁σʸ₂"
     },
     "metadata": {}
    },
    {
     "output_type": "display_data",
     "data": {
      "text/plain": "1-element Vector{MultivariatePolynomials.VectorPolynomial{ComplexF64, MultivariatePolynomials.Term{ComplexF64, CondensedMatterSOS.SpinMonomial}}}:\n (-0.333333 + 0.0im)σᶻ₅σᶻ₆ + (0.166667 + 0.0im)σʸ₅σʸ₆ + (0.166667 + 0.0im)σˣ₅σˣ₆ + (0.333333 + 0.0im)σᶻ₄σᶻ₅ + (-0.166667 + 0.0im)σʸ₄σʸ₅ + (-0.166667 + 0.0im)σˣ₄σˣ₅ + (-0.333333 + 0.0im)σᶻ₃σᶻ₄ + (0.166667 + 0.0im)σʸ₃σʸ₄ + (0.166667 + 0.0im)σˣ₃σˣ₄ + (0.333333 + 0.0im)σᶻ₂σᶻ₃ + (-0.166667 + 0.0im)σʸ₂σʸ₃ + (-0.166667 + 0.0im)σˣ₂σˣ₃ + (0.333333 + 0.0im)σᶻ₁σᶻ₆ + (-0.333333 + 0.0im)σᶻ₁σᶻ₂ + (-0.166667 + 0.0im)σʸ₁σʸ₆ + (0.166667 + 0.0im)σʸ₁σʸ₂ + (-0.166667 + 0.0im)σˣ₁σˣ₆ + (0.166667 + 0.0im)σˣ₁σˣ₂"
     },
     "metadata": {}
    },
    {
     "output_type": "display_data",
     "data": {
      "text/plain": "1-element Vector{MultivariatePolynomials.VectorPolynomial{ComplexF64, MultivariatePolynomials.Term{ComplexF64, CondensedMatterSOS.SpinMonomial}}}:\n (-0.288675 + 0.0im)σʸ₅σʸ₆ + (0.288675 + 0.0im)σˣ₅σˣ₆ + (0.288675 + 0.0im)σʸ₄σʸ₅ + (-0.288675 + 0.0im)σˣ₄σˣ₅ + (-0.288675 + 0.0im)σʸ₃σʸ₄ + (0.288675 + 0.0im)σˣ₃σˣ₄ + (0.288675 + 0.0im)σʸ₂σʸ₃ + (-0.288675 + 0.0im)σˣ₂σˣ₃ + (0.288675 + 0.0im)σʸ₁σʸ₆ + (-0.288675 + 0.0im)σʸ₁σʸ₂ + (-0.288675 + 0.0im)σˣ₁σˣ₆ + (0.288675 + 0.0im)σˣ₁σˣ₂"
     },
     "metadata": {}
    },
    {
     "output_type": "display_data",
     "data": {
      "text/plain": "2-element Vector{MultivariatePolynomials.VectorPolynomial{ComplexF64, MultivariatePolynomials.Term{ComplexF64, CondensedMatterSOS.SpinMonomial}}}:\n (-0.288675 + 0.0im)σᶻ₅σʸ₆ + (-0.288675 + 0.0im)σʸ₅σᶻ₆ + (0.288675 + 0.0im)σᶻ₄σʸ₅ + (0.288675 + 0.0im)σʸ₄σᶻ₅ + (-0.288675 + 0.0im)σᶻ₃σʸ₄ + (-0.288675 + 0.0im)σʸ₃σᶻ₄ + (0.288675 + 0.0im)σᶻ₂σʸ₃ + (0.288675 + 0.0im)σʸ₂σᶻ₃ + (0.288675 + 0.0im)σᶻ₁σʸ₆ + (-0.288675 + 0.0im)σᶻ₁σʸ₂ + (0.288675 + 0.0im)σʸ₁σᶻ₆ + (-0.288675 + 0.0im)σʸ₁σᶻ₂\n (0.347002 - 0.215073im)σˣ₆ + (-0.347002 + 0.215073im)σˣ₅ + (0.347002 - 0.215073im)σˣ₄ + (-0.347002 + 0.215073im)σˣ₃ + (0.347002 - 0.215073im)σˣ₂ + (-0.347002 + 0.215073im)σˣ₁"
     },
     "metadata": {}
    },
    {
     "output_type": "display_data",
     "data": {
      "text/plain": "2-element Vector{MultivariatePolynomials.VectorPolynomial{ComplexF64, MultivariatePolynomials.Term{ComplexF64, CondensedMatterSOS.SpinMonomial}}}:\n (-0.288675 + 0.0im)σᶻ₅σˣ₆ + (-0.288675 + 0.0im)σˣ₅σᶻ₆ + (0.288675 + 0.0im)σᶻ₄σˣ₅ + (0.288675 + 0.0im)σˣ₄σᶻ₅ + (-0.288675 + 0.0im)σᶻ₃σˣ₄ + (-0.288675 + 0.0im)σˣ₃σᶻ₄ + (0.288675 + 0.0im)σᶻ₂σˣ₃ + (0.288675 + 0.0im)σˣ₂σᶻ₃ + (0.288675 + 0.0im)σᶻ₁σˣ₆ + (-0.288675 + 0.0im)σᶻ₁σˣ₂ + (0.288675 + 0.0im)σˣ₁σᶻ₆ + (-0.288675 + 0.0im)σˣ₁σᶻ₂\n (0.347002 - 0.215073im)σʸ₆ + (-0.347002 + 0.215073im)σʸ₅ + (0.347002 - 0.215073im)σʸ₄ + (-0.347002 + 0.215073im)σʸ₃ + (0.347002 - 0.215073im)σʸ₂ + (-0.347002 + 0.215073im)σʸ₁"
     },
     "metadata": {}
    },
    {
     "output_type": "display_data",
     "data": {
      "text/plain": "2-element Vector{MultivariatePolynomials.VectorPolynomial{ComplexF64, MultivariatePolynomials.Term{ComplexF64, CondensedMatterSOS.SpinMonomial}}}:\n (-0.288675 + 0.0im)σʸ₅σˣ₆ + (-0.288675 + 0.0im)σˣ₅σʸ₆ + (0.288675 + 0.0im)σʸ₄σˣ₅ + (0.288675 + 0.0im)σˣ₄σʸ₅ + (-0.288675 + 0.0im)σʸ₃σˣ₄ + (-0.288675 + 0.0im)σˣ₃σʸ₄ + (0.288675 + 0.0im)σʸ₂σˣ₃ + (0.288675 + 0.0im)σˣ₂σʸ₃ + (0.288675 + 0.0im)σʸ₁σˣ₆ + (-0.288675 + 0.0im)σʸ₁σˣ₂ + (0.288675 + 0.0im)σˣ₁σʸ₆ + (-0.288675 + 0.0im)σˣ₁σʸ₂\n (0.347002 - 0.215073im)σᶻ₆ + (-0.347002 + 0.215073im)σᶻ₅ + (0.347002 - 0.215073im)σᶻ₄ + (-0.347002 + 0.215073im)σᶻ₃ + (0.347002 - 0.215073im)σᶻ₂ + (-0.347002 + 0.215073im)σᶻ₁"
     },
     "metadata": {}
    },
    {
     "output_type": "display_data",
     "data": {
      "text/plain": "1-element Vector{MultivariatePolynomials.VectorPolynomial{ComplexF64, MultivariatePolynomials.Term{ComplexF64, CondensedMatterSOS.SpinMonomial}}}:\n (-0.235702 - 0.0im)σᶻ₅σᶻ₆ + (-0.235702 - 0.0im)σʸ₅σʸ₆ + (-0.235702 - 0.0im)σˣ₅σˣ₆ + (0.235702 - 0.0im)σᶻ₄σᶻ₅ + (0.235702 - 0.0im)σʸ₄σʸ₅ + (0.235702 - 0.0im)σˣ₄σˣ₅ + (-0.235702 - 0.0im)σᶻ₃σᶻ₄ + (-0.235702 - 0.0im)σʸ₃σʸ₄ + (-0.235702 - 0.0im)σˣ₃σˣ₄ + (0.235702 - 0.0im)σᶻ₂σᶻ₃ + (0.235702 - 0.0im)σʸ₂σʸ₃ + (0.235702 - 0.0im)σˣ₂σˣ₃ + (0.235702 - 0.0im)σᶻ₁σᶻ₆ + (-0.235702 - 0.0im)σᶻ₁σᶻ₂ + (0.235702 - 0.0im)σʸ₁σʸ₆ + (-0.235702 - 0.0im)σʸ₁σʸ₂ + (0.235702 - 0.0im)σˣ₁σˣ₆ + (-0.235702 - 0.0im)σˣ₁σˣ₂"
     },
     "metadata": {}
    },
    {
     "output_type": "display_data",
     "data": {
      "text/plain": "1-element Vector{MultivariatePolynomials.VectorPolynomial{ComplexF64, MultivariatePolynomials.Term{ComplexF64, CondensedMatterSOS.SpinMonomial}}}:\n (-0.288675 + 0.0im)σᶻ₅σʸ₆ + (0.288675 + 0.0im)σʸ₅σᶻ₆ + (0.288675 + 0.0im)σᶻ₄σʸ₅ + (-0.288675 + 0.0im)σʸ₄σᶻ₅ + (-0.288675 + 0.0im)σᶻ₃σʸ₄ + (0.288675 + 0.0im)σʸ₃σᶻ₄ + (0.288675 + 0.0im)σᶻ₂σʸ₃ + (-0.288675 + 0.0im)σʸ₂σᶻ₃ + (-0.288675 + 0.0im)σᶻ₁σʸ₆ + (-0.288675 + 0.0im)σᶻ₁σʸ₂ + (0.288675 + 0.0im)σʸ₁σᶻ₆ + (0.288675 + 0.0im)σʸ₁σᶻ₂"
     },
     "metadata": {}
    },
    {
     "output_type": "display_data",
     "data": {
      "text/plain": "1-element Vector{MultivariatePolynomials.VectorPolynomial{ComplexF64, MultivariatePolynomials.Term{ComplexF64, CondensedMatterSOS.SpinMonomial}}}:\n (-0.288675 + 0.0im)σᶻ₅σˣ₆ + (0.288675 + 0.0im)σˣ₅σᶻ₆ + (0.288675 + 0.0im)σᶻ₄σˣ₅ + (-0.288675 + 0.0im)σˣ₄σᶻ₅ + (-0.288675 + 0.0im)σᶻ₃σˣ₄ + (0.288675 + 0.0im)σˣ₃σᶻ₄ + (0.288675 + 0.0im)σᶻ₂σˣ₃ + (-0.288675 + 0.0im)σˣ₂σᶻ₃ + (-0.288675 + 0.0im)σᶻ₁σˣ₆ + (-0.288675 + 0.0im)σᶻ₁σˣ₂ + (0.288675 + 0.0im)σˣ₁σᶻ₆ + (0.288675 + 0.0im)σˣ₁σᶻ₂"
     },
     "metadata": {}
    },
    {
     "output_type": "display_data",
     "data": {
      "text/plain": "1-element Vector{MultivariatePolynomials.VectorPolynomial{ComplexF64, MultivariatePolynomials.Term{ComplexF64, CondensedMatterSOS.SpinMonomial}}}:\n (-0.288675 + 0.0im)σʸ₅σˣ₆ + (0.288675 + 0.0im)σˣ₅σʸ₆ + (0.288675 + 0.0im)σʸ₄σˣ₅ + (-0.288675 + 0.0im)σˣ₄σʸ₅ + (-0.288675 + 0.0im)σʸ₃σˣ₄ + (0.288675 + 0.0im)σˣ₃σʸ₄ + (0.288675 + 0.0im)σʸ₂σˣ₃ + (-0.288675 + 0.0im)σˣ₂σʸ₃ + (-0.288675 + 0.0im)σʸ₁σˣ₆ + (-0.288675 + 0.0im)σʸ₁σˣ₂ + (0.288675 + 0.0im)σˣ₁σʸ₆ + (0.288675 + 0.0im)σˣ₁σʸ₂"
     },
     "metadata": {}
    }
   ],
   "cell_type": "code",
   "source": [
    "f(6, 2, true)"
   ],
   "metadata": {},
   "execution_count": 10
  },
  {
   "cell_type": "markdown",
   "source": [
    "| id     | irep 1 | irep 2 | irep 3 | irep 4 |\n",
    "|--------|--------|--------|--------|--------|\n",
    "| degree | 2      | 3      | 1      | 3      |\n",
    "| mult 2 | 1      | 3      | 2      | 1      |\n",
    "| mult 3 | 3      | 6      | 4      | 3      |\n",
    "| mult 4 | 6      | 10     | 7      | 6      |\n",
    "| mult 5 | 10     | 15     | 11     | 10     |\n",
    "| mult 6 | 15     | 21     | 16     | 15     |\n",
    "| mult 7 | 21     | 28     | 22     | 21     |"
   ],
   "metadata": {}
  },
  {
   "cell_type": "markdown",
   "source": [
    "---\n",
    "\n",
    "*This notebook was generated using [Literate.jl](https://github.com/fredrikekre/Literate.jl).*"
   ],
   "metadata": {}
  }
 ],
 "nbformat_minor": 3,
 "metadata": {
  "language_info": {
   "file_extension": ".jl",
   "mimetype": "application/julia",
   "name": "julia",
   "version": "1.9.3"
  },
  "kernelspec": {
   "name": "julia-1.9",
   "display_name": "Julia 1.9.3",
   "language": "julia"
  }
 },
 "nbformat": 4
}
