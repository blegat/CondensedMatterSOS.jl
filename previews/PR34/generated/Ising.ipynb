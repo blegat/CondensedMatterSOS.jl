{
 "cells": [
  {
   "cell_type": "markdown",
   "source": [
    "# Ising model"
   ],
   "metadata": {}
  },
  {
   "cell_type": "markdown",
   "source": [
    "We study the Hamiltonian of the transverse-field Ising model with periodic boundary conditions and transverse field `g` set to 1."
   ],
   "metadata": {}
  },
  {
   "outputs": [
    {
     "output_type": "execute_result",
     "data": {
      "text/plain": "-σᶻ₂ + -σᶻ₁ + (2 + 0im)σˣ₁σˣ₂",
      "text/latex": "$$ -σᶻ_{2} + -σᶻ_{1} + (2 + 0im)σˣ_{1}σˣ_{2} $$"
     },
     "metadata": {},
     "execution_count": 1
    }
   ],
   "cell_type": "code",
   "source": [
    "using CondensedMatterSOS\n",
    "@spin σ[1:2]\n",
    "ising_hamiltonian(σ, 1, true)"
   ],
   "metadata": {},
   "execution_count": 1
  },
  {
   "cell_type": "markdown",
   "source": [
    "Let's pick a solver from [this list](https://jump.dev/JuMP.jl/dev/installation/#Getting-Solvers)."
   ],
   "metadata": {}
  },
  {
   "outputs": [
    {
     "output_type": "execute_result",
     "data": {
      "text/plain": "MathOptInterface.OptimizerWithAttributes(Main.var\"##297\".var\"#1#2\"(), Pair{MathOptInterface.AbstractOptimizerAttribute, Any}[MathOptInterface.Silent() => true])"
     },
     "metadata": {},
     "execution_count": 2
    }
   ],
   "cell_type": "code",
   "source": [
    "using CSDP\n",
    "solver = optimizer_with_attributes(\n",
    "    () -> MOIU.CachingOptimizer(MOIU.UniversalFallback(MOIU.Model{Float64}()), CSDP.Optimizer()),\n",
    "    MOI.Silent() => true\n",
    ")"
   ],
   "metadata": {},
   "execution_count": 2
  },
  {
   "cell_type": "markdown",
   "source": [
    "We can compute a lower bound `-2√2` to the ground state energy as follow:"
   ],
   "metadata": {}
  },
  {
   "outputs": [
    {
     "output_type": "execute_result",
     "data": {
      "text/plain": "-2.828427145137427"
     },
     "metadata": {},
     "execution_count": 3
    }
   ],
   "cell_type": "code",
   "source": [
    "function hamiltonian_energy(N, maxdegree, solver; kws...)\n",
    "    @spin σ[1:N]\n",
    "    H = ising_hamiltonian(σ, 1, true)\n",
    "    energy(H, maxdegree, solver; kws...)\n",
    "end\n",
    "bound, gram, ν = hamiltonian_energy(2, 2, solver, sparsity = NoSparsity())\n",
    "bound"
   ],
   "metadata": {},
   "execution_count": 3
  },
  {
   "cell_type": "markdown",
   "source": [
    "We can see that the moment matrix uses all monomials:"
   ],
   "metadata": {}
  },
  {
   "outputs": [
    {
     "output_type": "execute_result",
     "data": {
      "text/plain": "7-element Vector{CondensedMatterSOS.SpinMonomial}:\n 1\n σᶻ₂\n σʸ₂\n σˣ₂\n σᶻ₁\n σʸ₁\n σˣ₁"
     },
     "metadata": {},
     "execution_count": 4
    }
   ],
   "cell_type": "code",
   "source": [
    "ν.basis.monomials"
   ],
   "metadata": {},
   "execution_count": 4
  },
  {
   "cell_type": "markdown",
   "source": [
    "Using term sparsity with block/cluster completion, we get the same bound:"
   ],
   "metadata": {}
  },
  {
   "outputs": [
    {
     "output_type": "execute_result",
     "data": {
      "text/plain": "-2.8284271414935667"
     },
     "metadata": {},
     "execution_count": 5
    }
   ],
   "cell_type": "code",
   "source": [
    "bound, gram, ν = hamiltonian_energy(2, 2, solver)\n",
    "bound"
   ],
   "metadata": {},
   "execution_count": 5
  },
  {
   "cell_type": "markdown",
   "source": [
    "But with a smaller basis:"
   ],
   "metadata": {}
  },
  {
   "outputs": [
    {
     "output_type": "execute_result",
     "data": {
      "text/plain": "2-element Vector{Vector{CondensedMatterSOS.SpinMonomial}}:\n [1, σᶻ₂, σᶻ₁]\n [σʸ₂, σˣ₂, σʸ₁, σˣ₁]"
     },
     "metadata": {},
     "execution_count": 6
    }
   ],
   "cell_type": "code",
   "source": [
    "[M.basis.monomials for M in ν.blocks]"
   ],
   "metadata": {},
   "execution_count": 6
  },
  {
   "cell_type": "markdown",
   "source": [
    "Using term sparsity with chordal completion, we get a smaller bound:"
   ],
   "metadata": {}
  },
  {
   "outputs": [
    {
     "output_type": "execute_result",
     "data": {
      "text/plain": "-4.000000003119427"
     },
     "metadata": {},
     "execution_count": 7
    }
   ],
   "cell_type": "code",
   "source": [
    "bound, gram, ν = hamiltonian_energy(2, 2, solver, sparsity = MonomialSparsity(ChordalCompletion()))\n",
    "bound"
   ],
   "metadata": {},
   "execution_count": 7
  },
  {
   "cell_type": "markdown",
   "source": [
    "But with an even smaller basis:"
   ],
   "metadata": {}
  },
  {
   "outputs": [
    {
     "output_type": "execute_result",
     "data": {
      "text/plain": "5-element Vector{Vector{CondensedMatterSOS.SpinMonomial}}:\n [σʸ₁, σˣ₁]\n [σˣ₂, σˣ₁]\n [σʸ₂, σˣ₂]\n [1, σᶻ₁]\n [1, σᶻ₂]"
     },
     "metadata": {},
     "execution_count": 8
    }
   ],
   "cell_type": "code",
   "source": [
    "[M.basis.monomials for M in ν.blocks]"
   ],
   "metadata": {},
   "execution_count": 8
  },
  {
   "cell_type": "markdown",
   "source": [
    "---\n",
    "\n",
    "*This notebook was generated using [Literate.jl](https://github.com/fredrikekre/Literate.jl).*"
   ],
   "metadata": {}
  }
 ],
 "nbformat_minor": 3,
 "metadata": {
  "language_info": {
   "file_extension": ".jl",
   "mimetype": "application/julia",
   "name": "julia",
   "version": "1.9.3"
  },
  "kernelspec": {
   "name": "julia-1.9",
   "display_name": "Julia 1.9.3",
   "language": "julia"
  }
 },
 "nbformat": 4
}
