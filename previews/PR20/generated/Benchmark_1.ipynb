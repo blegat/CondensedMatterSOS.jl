{
 "cells": [
  {
   "cell_type": "markdown",
   "source": [
    "# Benchmark 1"
   ],
   "metadata": {}
  },
  {
   "cell_type": "markdown",
   "source": [
    "We study the Hamiltonian of the Heisenberg model with periodic boundary conditions."
   ],
   "metadata": {}
  },
  {
   "outputs": [
    {
     "output_type": "execute_result",
     "data": {
      "text/plain": "MathOptInterface.OptimizerWithAttributes(Main.##258.var\"#1#2\"(), Pair{MathOptInterface.AbstractOptimizerAttribute, Any}[MathOptInterface.Silent() => false])"
     },
     "metadata": {},
     "execution_count": 1
    }
   ],
   "cell_type": "code",
   "source": [
    "using CondensedMatterSOS\n",
    "@spin σ[1:3]\n",
    "heisenberg_hamiltonian(σ, true)\n",
    "\n",
    "# Let's pick a solver from [this list](https://jump.dev/JuMP.jl/dev/installation/#Getting-Solvers).\n",
    "\n",
    "using CSDP\n",
    "solver = optimizer_with_attributes(\n",
    "    () -> MOIU.CachingOptimizer(MOIU.UniversalFallback(MOIU.Model{Float64}()), CSDP.Optimizer()),\n",
    "    MOI.Silent() => false,\n",
    ")"
   ],
   "metadata": {},
   "execution_count": 1
  },
  {
   "cell_type": "markdown",
   "source": [
    "We can compute a lower bound `-2√2` to the ground state energy as follow:"
   ],
   "metadata": {}
  },
  {
   "outputs": [
    {
     "name": "stdout",
     "output_type": "stream",
     "text": [
      "Iter: 11 Ap: 9.58e-01 Pobj: -1.8000000e+01 Ad: 9.58e-01 Dobj: -1.8000000e+01 \n",
      "Success: SDP solved\n",
      "Primal objective value: -1.8000000e+01 \n",
      "Dual objective value: -1.8000000e+01 \n",
      "Relative primal infeasibility: 1.96e-14 \n",
      "Relative dual infeasibility: 1.59e-09 \n",
      "Real Relative Gap: 2.41e-09 \n",
      "XZ Relative Gap: 3.09e-09 \n",
      "DIMACS error measures: 5.14e-14 0.00e+00 5.43e-09 0.00e+00 2.41e-09 3.09e-09\n",
      "CSDP 6.2.0\n",
      "Iter:  0 Ap: 0.00e+00 Pobj:  0.0000000e+00 Ad: 0.00e+00 Dobj:  0.0000000e+00 \n",
      "Iter:  1 Ap: 1.00e+00 Pobj: -5.6378771e+01 Ad: 4.06e-01 Dobj: -4.2861712e+00 \n",
      "Iter:  2 Ap: 1.00e+00 Pobj: -5.5224975e+01 Ad: 9.54e-01 Dobj: -7.6357706e-01 \n",
      "Iter:  3 Ap: 1.00e+00 Pobj: -2.5310322e+01 Ad: 8.85e-01 Dobj: -1.2848520e+00 \n",
      "Iter:  4 Ap: 1.00e+00 Pobj: -8.3981756e+00 Ad: 7.63e-01 Dobj: -3.0908816e+00 \n",
      "Iter:  5 Ap: 1.00e+00 Pobj: -6.6372507e+00 Ad: 8.87e-01 Dobj: -5.5100925e+00 \n",
      "Iter:  6 Ap: 1.00e+00 Pobj: -6.0459643e+00 Ad: 9.38e-01 Dobj: -5.9416047e+00 \n",
      "Iter:  7 Ap: 1.00e+00 Pobj: -6.0024942e+00 Ad: 9.52e-01 Dobj: -5.9954511e+00 \n",
      "Iter:  8 Ap: 1.00e+00 Pobj: -6.0001785e+00 Ad: 9.86e-01 Dobj: -5.9998081e+00 \n",
      "Iter:  9 Ap: 9.80e-01 Pobj: -6.0000136e+00 Ad: 9.98e-01 Dobj: -5.9999965e+00 \n",
      "Iter: 10 Ap: 1.00e+00 Pobj: -6.0000006e+00 Ad: 9.87e-01 Dobj: -5.9999999e+00 \n"
     ]
    },
    {
     "output_type": "display_data",
     "data": {
      "text/plain": "7-element Vector{CondensedMatterSOS.SpinMonomial}:\n 1\n σˣ₁\n σʸ₁\n σᶻ₁\n σˣ₂\n σʸ₂\n σᶻ₂"
     },
     "metadata": {}
    },
    {
     "output_type": "execute_result",
     "data": {
      "text/plain": "-6.000000023230198"
     },
     "metadata": {},
     "execution_count": 2
    }
   ],
   "cell_type": "code",
   "source": [
    "include(joinpath(dirname(dirname(pathof(CondensedMatterSOS))), \"examples\", \"symmetry.jl\"))\n",
    "function hamiltonian_energy(N, maxdegree, solver; symmetry=true, consecutive=false, kws...)\n",
    "    @spin σ[1:N]\n",
    "    function action(mono::CondensedMatterSOS.SpinMonomial, el::DirectSum)\n",
    "        isempty(mono.variables) && return 1 * mono\n",
    "        sign = 1\n",
    "        vars = map(values(mono.variables)) do var\n",
    "            rel_id = var.id - σ[1][1].id\n",
    "            rel_index = var.index + 1\n",
    "            @assert σ[rel_index][rel_id + 1] == var\n",
    "            id = ((rel_id + el.c.id) % el.c.n) + σ[1][1].id\n",
    "            index = (rel_index^el.k.p) - 1\n",
    "            new_var = CondensedMatterSOS.SpinVariable(id, index)\n",
    "            if el.k.k.id != 0 && el.k.k.id != index + 1\n",
    "                sign *= -1\n",
    "            end\n",
    "            return new_var\n",
    "        end\n",
    "        return sign * CondensedMatterSOS.SpinMonomial(vars)\n",
    "    end\n",
    "    function action(term::CondensedMatterSOS.SpinTerm, el::DirectSum)\n",
    "        return MP.coefficient(term) * action(MP.monomial(term), el)\n",
    "    end\n",
    "    function action(poly::CondensedMatterSOS.SpinPolynomial, el::DirectSum)\n",
    "        return MP.polynomial([action(term, el) for term in MP.terms(poly)])\n",
    "    end\n",
    "    H = heisenberg_hamiltonian(σ, true)\n",
    "    G = Lattice1Group(N)\n",
    "    cone = NonnegPolyInnerCone{SumOfSquares.COI.HermitianPositiveSemidefiniteConeTriangle}()\n",
    "    @assert iseven(maxdegree)\n",
    "    cert = SumOfSquares.Certificate.FixedBasis(\n",
    "        cone,\n",
    "        MonomialBasis(MP.monomials(σ[1], 0:div(maxdegree, 2), consecutive=consecutive)),\n",
    "    )\n",
    "    display(cert.basis.monomials)\n",
    "    certificate = SymmetricIdeal(\n",
    "        cert,\n",
    "        G,\n",
    "        action,\n",
    "    )\n",
    "    if symmetry\n",
    "        energy(H, maxdegree, solver; certificate = certificate, kws...)\n",
    "    else\n",
    "        energy(H, maxdegree, solver; kws...)\n",
    "    end\n",
    "end\n",
    "bound, gram, ν = hamiltonian_energy(\n",
    "    2,\n",
    "    2,\n",
    "    solver,\n",
    "    symmetry = false,\n",
    "    sparsity = NoSparsity(),\n",
    ")\n",
    "bound"
   ],
   "metadata": {},
   "execution_count": 2
  },
  {
   "cell_type": "markdown",
   "source": [
    "We can see that the moment matrix uses all monomials:"
   ],
   "metadata": {}
  },
  {
   "outputs": [
    {
     "output_type": "execute_result",
     "data": {
      "text/plain": "7-element Vector{CondensedMatterSOS.SpinMonomial}:\n 1\n σˣ₁\n σʸ₁\n σᶻ₁\n σˣ₂\n σʸ₂\n σᶻ₂"
     },
     "metadata": {},
     "execution_count": 3
    }
   ],
   "cell_type": "code",
   "source": [
    "ν.basis.monomials"
   ],
   "metadata": {},
   "execution_count": 3
  },
  {
   "cell_type": "markdown",
   "source": [
    "# Symmetry reduction\n",
    "\n",
    "We can reduce the computation using symmetry reduction as follows."
   ],
   "metadata": {}
  },
  {
   "outputs": [
    {
     "name": "stdout",
     "output_type": "stream",
     "text": [
      "Iter: 11 Ap: 9.60e-01 Pobj: -6.0000000e+00 Ad: 9.60e-01 Dobj: -6.0000000e+00 \n",
      "Success: SDP solved\n",
      "Primal objective value: -6.0000000e+00 \n",
      "Dual objective value: -6.0000000e+00 \n",
      "Relative primal infeasibility: 1.41e-16 \n",
      "Relative dual infeasibility: 2.23e-09 \n",
      "Real Relative Gap: 1.82e-09 \n",
      "XZ Relative Gap: 4.09e-09 \n",
      "DIMACS error measures: 2.09e-16 0.00e+00 3.46e-09 0.00e+00 1.82e-09 4.09e-09\n",
      "CSDP 6.2.0\n",
      "Iter:  0 Ap: 0.00e+00 Pobj:  0.0000000e+00 Ad: 0.00e+00 Dobj:  0.0000000e+00 \n",
      "Iter:  1 Ap: 9.42e-01 Pobj: -1.0028738e+01 Ad: 7.52e-01 Dobj: -1.5475638e+00 \n",
      "Iter:  2 Ap: 1.00e+00 Pobj: -1.9863596e+01 Ad: 9.31e-01 Dobj: -3.1176016e+00 \n",
      "Iter:  3 Ap: 1.00e+00 Pobj: -9.3630857e+00 Ad: 9.02e-01 Dobj: -4.7171806e+00 \n",
      "Iter:  4 Ap: 1.00e+00 Pobj: -6.3308914e+00 Ad: 9.06e-01 Dobj: -5.7530200e+00 \n",
      "Iter:  5 Ap: 1.00e+00 Pobj: -6.0172805e+00 Ad: 9.36e-01 Dobj: -5.9769435e+00 \n",
      "Iter:  6 Ap: 1.00e+00 Pobj: -6.0008220e+00 Ad: 9.59e-01 Dobj: -5.9986671e+00 \n",
      "Iter:  7 Ap: 1.00e+00 Pobj: -6.0000533e+00 Ad: 9.87e-01 Dobj: -5.9999574e+00 \n",
      "Iter:  8 Ap: 9.58e-01 Pobj: -6.0000055e+00 Ad: 1.00e+00 Dobj: -6.0000000e+00 \n",
      "Iter:  9 Ap: 9.99e-01 Pobj: -6.0000002e+00 Ad: 9.76e-01 Dobj: -5.9999999e+00 \n"
     ]
    },
    {
     "output_type": "display_data",
     "data": {
      "text/plain": "7-element Vector{CondensedMatterSOS.SpinMonomial}:\n 1\n σˣ₁\n σʸ₁\n σᶻ₁\n σˣ₂\n σʸ₂\n σᶻ₂"
     },
     "metadata": {}
    },
    {
     "output_type": "execute_result",
     "data": {
      "text/plain": "-6.00000000578403"
     },
     "metadata": {},
     "execution_count": 4
    }
   ],
   "cell_type": "code",
   "source": [
    "using CondensedMatterSOS\n",
    "\n",
    "bound, gram, ν = hamiltonian_energy(\n",
    "    2,\n",
    "    2,\n",
    "    solver,\n",
    ")\n",
    "bound"
   ],
   "metadata": {},
   "execution_count": 4
  },
  {
   "cell_type": "markdown",
   "source": [
    "The reduction is obtained by block diagonalizing with a change of polynomial\n",
    "basis to the isotypical basis."
   ],
   "metadata": {}
  },
  {
   "outputs": [
    {
     "output_type": "display_data",
     "data": {
      "text/plain": "7-element Vector{Vector{CondensedMatterSOS.SpinPolynomial{ComplexF64}}}:\n [σˣ₁ + σˣ₂]\n [σʸ₁ + σʸ₂]\n [σᶻ₁ + σᶻ₂]\n [σˣ₁ + -σˣ₂]\n [σʸ₁ + -σʸ₂]\n [σᶻ₁ + -σᶻ₂]\n [(1.0 + 0.0im)]"
     },
     "metadata": {}
    },
    {
     "output_type": "execute_result",
     "data": {
      "text/plain": "7-element Vector{Vector{CondensedMatterSOS.SpinPolynomial{ComplexF64}}}:\n [σˣ₁ + σˣ₂]\n [σʸ₁ + σʸ₂]\n [σᶻ₁ + σᶻ₂]\n [σˣ₁ + -σˣ₂]\n [σʸ₁ + -σʸ₂]\n [σᶻ₁ + -σᶻ₂]\n [(1.0 + 0.0im)]"
     },
     "metadata": {},
     "execution_count": 5
    }
   ],
   "cell_type": "code",
   "source": [
    "display([M.basis.polynomials for M in ν.sub_moment_matrices])\n",
    "\n",
    "[M.basis.polynomials for M in ν.sub_moment_matrices]"
   ],
   "metadata": {},
   "execution_count": 5
  },
  {
   "cell_type": "markdown",
   "source": [
    "Let's try this for 3 sites. First without symmetry."
   ],
   "metadata": {}
  },
  {
   "outputs": [
    {
     "name": "stdout",
     "output_type": "stream",
     "text": [
      "Iter: 10 Ap: 9.68e-01 Pobj: -6.0000000e+00 Ad: 9.68e-01 Dobj: -6.0000000e+00 \n",
      "Success: SDP solved\n",
      "Primal objective value: -6.0000000e+00 \n",
      "Dual objective value: -6.0000000e+00 \n",
      "Relative primal infeasibility: 3.62e-16 \n",
      "Relative dual infeasibility: 7.57e-10 \n",
      "Real Relative Gap: 5.30e-10 \n",
      "XZ Relative Gap: 1.01e-09 \n",
      "DIMACS error measures: 5.39e-16 0.00e+00 1.83e-09 0.00e+00 5.30e-10 1.01e-09\n",
      "CSDP 6.2.0\n",
      "Iter:  0 Ap: 0.00e+00 Pobj:  0.0000000e+00 Ad: 0.00e+00 Dobj:  0.0000000e+00 \n",
      "Iter:  1 Ap: 1.00e+00 Pobj: -5.0903534e+01 Ad: 4.30e-01 Dobj: -4.7695359e+00 \n",
      "Iter:  2 Ap: 1.00e+00 Pobj: -4.9924435e+01 Ad: 9.57e-01 Dobj: -8.3983133e-01 \n",
      "Iter:  3 Ap: 1.00e+00 Pobj: -2.1770206e+01 Ad: 8.94e-01 Dobj: -1.3582785e+00 \n",
      "Iter:  4 Ap: 1.00e+00 Pobj: -6.4620535e+00 Ad: 8.22e-01 Dobj: -2.9138980e+00 \n",
      "Iter:  5 Ap: 1.00e+00 Pobj: -4.8114703e+00 Ad: 9.06e-01 Dobj: -4.2755879e+00 \n",
      "Iter:  6 Ap: 1.00e+00 Pobj: -4.5209992e+00 Ad: 9.47e-01 Dobj: -4.4802497e+00 \n",
      "Iter:  7 Ap: 1.00e+00 Pobj: -4.5011955e+00 Ad: 9.65e-01 Dobj: -4.4988151e+00 \n",
      "Iter:  8 Ap: 1.00e+00 Pobj: -4.5000774e+00 Ad: 9.85e-01 Dobj: -4.4999527e+00 \n",
      "Iter:  9 Ap: 9.46e-01 Pobj: -4.5000100e+00 Ad: 1.00e+00 Dobj: -4.5000003e+00 \n",
      "Iter: 10 Ap: 9.98e-01 Pobj: -4.5000004e+00 Ad: 9.71e-01 Dobj: -4.4999999e+00 \n",
      "bound = -4.500000018127581\n"
     ]
    },
    {
     "output_type": "display_data",
     "data": {
      "text/plain": "10-element Vector{CondensedMatterSOS.SpinMonomial}:\n 1\n σˣ₁\n σʸ₁\n σᶻ₁\n σˣ₂\n σʸ₂\n σᶻ₂\n σˣ₃\n σʸ₃\n σᶻ₃"
     },
     "metadata": {}
    },
    {
     "output_type": "execute_result",
     "data": {
      "text/plain": "-4.500000018127581"
     },
     "metadata": {},
     "execution_count": 6
    }
   ],
   "cell_type": "code",
   "source": [
    "bound, gram, ν = hamiltonian_energy(\n",
    "    3,\n",
    "    2,\n",
    "    solver,\n",
    "    symmetry = false,\n",
    ")\n",
    "@show bound"
   ],
   "metadata": {},
   "execution_count": 6
  },
  {
   "cell_type": "markdown",
   "source": [
    "Now with symmetry."
   ],
   "metadata": {}
  },
  {
   "outputs": [
    {
     "name": "stdout",
     "output_type": "stream",
     "text": [
      "Iter: 11 Ap: 9.58e-01 Pobj: -4.5000000e+00 Ad: 9.58e-01 Dobj: -4.5000000e+00 \n",
      "Success: SDP solved\n",
      "Primal objective value: -4.5000000e+00 \n",
      "Dual objective value: -4.5000000e+00 \n",
      "Relative primal infeasibility: 3.26e-16 \n",
      "Relative dual infeasibility: 1.72e-09 \n",
      "Real Relative Gap: 1.86e-09 \n",
      "XZ Relative Gap: 3.24e-09 \n",
      "DIMACS error measures: 6.52e-16 0.00e+00 4.51e-09 0.00e+00 1.86e-09 3.24e-09\n",
      "CSDP 6.2.0\n",
      "Iter:  0 Ap: 0.00e+00 Pobj:  0.0000000e+00 Ad: 0.00e+00 Dobj:  0.0000000e+00 \n",
      "Iter:  1 Ap: 9.43e-01 Pobj: -5.2740518e+00 Ad: 8.34e-01 Dobj: -5.6409413e-01 \n",
      "Iter:  2 Ap: 1.00e+00 Pobj: -2.3913022e+01 Ad: 9.25e-01 Dobj: -2.6711480e+00 \n",
      "Iter:  3 Ap: 1.00e+00 Pobj: -7.3750123e+00 Ad: 9.22e-01 Dobj: -3.5379465e+00 \n",
      "Iter:  4 Ap: 1.00e+00 Pobj: -4.7955366e+00 Ad: 8.90e-01 Dobj: -4.3281828e+00 \n",
      "Iter:  5 Ap: 1.00e+00 Pobj: -4.5162512e+00 Ad: 9.32e-01 Dobj: -4.4834263e+00 \n",
      "Iter:  6 Ap: 1.00e+00 Pobj: -4.5010207e+00 Ad: 9.59e-01 Dobj: -4.4990012e+00 \n",
      "Iter:  7 Ap: 1.00e+00 Pobj: -4.5000597e+00 Ad: 9.77e-01 Dobj: -4.4999582e+00 \n",
      "Iter:  8 Ap: 9.73e-01 Pobj: -4.5000059e+00 Ad: 1.00e+00 Dobj: -4.4999994e+00 \n",
      "Iter:  9 Ap: 1.00e+00 Pobj: -4.5000002e+00 Ad: 9.68e-01 Dobj: -4.4999999e+00 \n",
      "bound = -4.500000006400467\n"
     ]
    },
    {
     "output_type": "display_data",
     "data": {
      "text/plain": "10-element Vector{CondensedMatterSOS.SpinMonomial}:\n 1\n σˣ₁\n σʸ₁\n σᶻ₁\n σˣ₂\n σʸ₂\n σᶻ₂\n σˣ₃\n σʸ₃\n σᶻ₃"
     },
     "metadata": {}
    },
    {
     "output_type": "execute_result",
     "data": {
      "text/plain": "-4.500000006400467"
     },
     "metadata": {},
     "execution_count": 7
    }
   ],
   "cell_type": "code",
   "source": [
    "bound, gram, ν = hamiltonian_energy(\n",
    "    3,\n",
    "    2,\n",
    "    solver,\n",
    ")\n",
    "@show bound"
   ],
   "metadata": {},
   "execution_count": 7
  },
  {
   "cell_type": "markdown",
   "source": [
    "Let's look at the isotypical basis."
   ],
   "metadata": {}
  },
  {
   "outputs": [
    {
     "output_type": "display_data",
     "data": {
      "text/plain": "10-element Vector{Vector{CondensedMatterSOS.SpinPolynomial{ComplexF64}}}:\n [σˣ₁ + σˣ₂ + σˣ₃]\n [σʸ₁ + σʸ₂ + σʸ₃]\n [σᶻ₁ + σᶻ₂ + σᶻ₃]\n [σˣ₁ + (-0.4999999999999998 + 0.8660254037844387im)σˣ₂ + (-0.5000000000000004 - 0.8660254037844385im)σˣ₃]\n [σʸ₁ + (-0.4999999999999998 + 0.8660254037844387im)σʸ₂ + (-0.5000000000000004 - 0.8660254037844385im)σʸ₃]\n [σᶻ₁ + (-0.4999999999999998 + 0.8660254037844387im)σᶻ₂ + (-0.5000000000000004 - 0.8660254037844385im)σᶻ₃]\n [σˣ₁ + (-0.5000000000000004 - 0.8660254037844385im)σˣ₂ + (-0.4999999999999998 + 0.8660254037844387im)σˣ₃]\n [σʸ₁ + (-0.5000000000000004 - 0.8660254037844385im)σʸ₂ + (-0.4999999999999998 + 0.8660254037844387im)σʸ₃]\n [σᶻ₁ + (-0.5000000000000004 - 0.8660254037844385im)σᶻ₂ + (-0.4999999999999998 + 0.8660254037844387im)σᶻ₃]\n [(1.0 + 0.0im)]"
     },
     "metadata": {}
    }
   ],
   "cell_type": "code",
   "source": [
    "display([M.basis.polynomials for M in ν.sub_moment_matrices])"
   ],
   "metadata": {},
   "execution_count": 8
  },
  {
   "cell_type": "markdown",
   "source": [
    "Now let's define a function for our common use case."
   ],
   "metadata": {}
  },
  {
   "outputs": [
    {
     "name": "stdout",
     "output_type": "stream",
     "text": [
      "L = 6\n",
      "***\n",
      "d = 1\n",
      "Iter: 10 Ap: 9.68e-01 Pobj: -4.5000000e+00 Ad: 9.68e-01 Dobj: -4.5000000e+00 \n",
      "Success: SDP solved\n",
      "Primal objective value: -4.5000000e+00 \n",
      "Dual objective value: -4.5000000e+00 \n",
      "Relative primal infeasibility: 6.38e-16 \n",
      "Relative dual infeasibility: 1.07e-09 \n",
      "Real Relative Gap: 7.65e-10 \n",
      "XZ Relative Gap: 1.36e-09 \n",
      "DIMACS error measures: 1.28e-15 0.00e+00 2.89e-09 0.00e+00 7.65e-10 1.36e-09\n",
      "CSDP 6.2.0\n",
      "Iter:  0 Ap: 0.00e+00 Pobj:  0.0000000e+00 Ad: 0.00e+00 Dobj:  0.0000000e+00 \n",
      "Iter:  1 Ap: 9.41e-01 Pobj: -4.0668056e+00 Ad: 8.61e-01 Dobj: -5.2018015e-01 \n",
      "Iter:  2 Ap: 1.00e+00 Pobj: -5.6056177e+01 Ad: 9.36e-01 Dobj: -5.5398751e+00 \n",
      "Iter:  3 Ap: 1.00e+00 Pobj: -2.2189805e+01 Ad: 8.38e-01 Dobj: -8.5447620e+00 \n",
      "Iter:  4 Ap: 1.00e+00 Pobj: -2.1429608e+01 Ad: 7.30e-01 Dobj: -1.4881165e+01 \n",
      "Iter:  5 Ap: 1.00e+00 Pobj: -1.8342881e+01 Ad: 8.69e-01 Dobj: -1.7133133e+01 \n",
      "Iter:  6 Ap: 1.00e+00 Pobj: -1.8022311e+01 Ad: 9.28e-01 Dobj: -1.7891497e+01 \n",
      "Iter:  7 Ap: 1.00e+00 Pobj: -1.8001586e+01 Ad: 9.50e-01 Dobj: -1.7990820e+01 \n",
      "Iter:  8 Ap: 1.00e+00 Pobj: -1.8000135e+01 Ad: 9.92e-01 Dobj: -1.7999592e+01 \n",
      "Iter:  9 Ap: 9.55e-01 Pobj: -1.8000014e+01 Ad: 1.00e+00 Dobj: -1.7999980e+01 \n",
      "Iter: 10 Ap: 9.90e-01 Pobj: -1.8000001e+01 Ad: 9.72e-01 Dobj: -1.7999998e+01 \n",
      "  0.479566 seconds (766.58 k allocations: 78.802 MiB, 6.75% gc time, 1.52% compilation time)\n",
      "bound = -18.000000025677874\n",
      "E/N = -3.0000000042796455\n",
      "------------------------------------\n"
     ]
    },
    {
     "output_type": "display_data",
     "data": {
      "text/plain": "19-element Vector{CondensedMatterSOS.SpinMonomial}:\n 1\n σˣ₁\n σʸ₁\n σᶻ₁\n σˣ₂\n σʸ₂\n σᶻ₂\n σˣ₃\n σʸ₃\n σᶻ₃\n σˣ₄\n σʸ₄\n σᶻ₄\n σˣ₅\n σʸ₅\n σᶻ₅\n σˣ₆\n σʸ₆\n σᶻ₆"
     },
     "metadata": {}
    },
    {
     "output_type": "display_data",
     "data": {
      "text/plain": "1-element Vector{CondensedMatterSOS.SpinPolynomial{ComplexF64}}:\n σˣ₁ + σˣ₂ + σˣ₃ + σˣ₄ + σˣ₅ + σˣ₆"
     },
     "metadata": {}
    },
    {
     "output_type": "display_data",
     "data": {
      "text/plain": "1-element Vector{CondensedMatterSOS.SpinPolynomial{ComplexF64}}:\n σʸ₁ + σʸ₂ + σʸ₃ + σʸ₄ + σʸ₅ + σʸ₆"
     },
     "metadata": {}
    },
    {
     "output_type": "display_data",
     "data": {
      "text/plain": "1-element Vector{CondensedMatterSOS.SpinPolynomial{ComplexF64}}:\n σᶻ₁ + σᶻ₂ + σᶻ₃ + σᶻ₄ + σᶻ₅ + σᶻ₆"
     },
     "metadata": {}
    },
    {
     "output_type": "display_data",
     "data": {
      "text/plain": "1-element Vector{CondensedMatterSOS.SpinPolynomial{ComplexF64}}:\n σˣ₁ + (-0.4999999999999998 + 0.8660254037844387im)σˣ₂ + (-0.5000000000000004 - 0.8660254037844385im)σˣ₃ + σˣ₄ + (-0.4999999999999998 + 0.8660254037844387im)σˣ₅ + (-0.5000000000000004 - 0.8660254037844385im)σˣ₆"
     },
     "metadata": {}
    },
    {
     "output_type": "display_data",
     "data": {
      "text/plain": "1-element Vector{CondensedMatterSOS.SpinPolynomial{ComplexF64}}:\n σʸ₁ + (-0.4999999999999998 + 0.8660254037844387im)σʸ₂ + (-0.5000000000000004 - 0.8660254037844385im)σʸ₃ + σʸ₄ + (-0.4999999999999998 + 0.8660254037844387im)σʸ₅ + (-0.5000000000000004 - 0.8660254037844385im)σʸ₆"
     },
     "metadata": {}
    },
    {
     "output_type": "display_data",
     "data": {
      "text/plain": "1-element Vector{CondensedMatterSOS.SpinPolynomial{ComplexF64}}:\n σᶻ₁ + (-0.4999999999999998 + 0.8660254037844387im)σᶻ₂ + (-0.5000000000000004 - 0.8660254037844385im)σᶻ₃ + σᶻ₄ + (-0.4999999999999998 + 0.8660254037844387im)σᶻ₅ + (-0.5000000000000004 - 0.8660254037844385im)σᶻ₆"
     },
     "metadata": {}
    },
    {
     "output_type": "display_data",
     "data": {
      "text/plain": "1-element Vector{CondensedMatterSOS.SpinPolynomial{ComplexF64}}:\n σˣ₁ + (0.5000000000000004 + 0.8660254037844385im)σˣ₂ + (-0.4999999999999998 + 0.8660254037844387im)σˣ₃ + -σˣ₄ + (-0.5000000000000004 - 0.8660254037844385im)σˣ₅ + (0.4999999999999998 - 0.8660254037844387im)σˣ₆"
     },
     "metadata": {}
    },
    {
     "output_type": "display_data",
     "data": {
      "text/plain": "1-element Vector{CondensedMatterSOS.SpinPolynomial{ComplexF64}}:\n σʸ₁ + (0.5000000000000004 + 0.8660254037844385im)σʸ₂ + (-0.4999999999999998 + 0.8660254037844387im)σʸ₃ + -σʸ₄ + (-0.5000000000000004 - 0.8660254037844385im)σʸ₅ + (0.4999999999999998 - 0.8660254037844387im)σʸ₆"
     },
     "metadata": {}
    },
    {
     "output_type": "display_data",
     "data": {
      "text/plain": "1-element Vector{CondensedMatterSOS.SpinPolynomial{ComplexF64}}:\n σᶻ₁ + (0.5000000000000004 + 0.8660254037844385im)σᶻ₂ + (-0.4999999999999998 + 0.8660254037844387im)σᶻ₃ + -σᶻ₄ + (-0.5000000000000004 - 0.8660254037844385im)σᶻ₅ + (0.4999999999999998 - 0.8660254037844387im)σᶻ₆"
     },
     "metadata": {}
    },
    {
     "output_type": "display_data",
     "data": {
      "text/plain": "1-element Vector{CondensedMatterSOS.SpinPolynomial{ComplexF64}}:\n σˣ₁ + (-0.5000000000000004 - 0.8660254037844385im)σˣ₂ + (-0.4999999999999998 + 0.8660254037844387im)σˣ₃ + σˣ₄ + (-0.5000000000000004 - 0.8660254037844385im)σˣ₅ + (-0.4999999999999998 + 0.8660254037844387im)σˣ₆"
     },
     "metadata": {}
    },
    {
     "output_type": "display_data",
     "data": {
      "text/plain": "1-element Vector{CondensedMatterSOS.SpinPolynomial{ComplexF64}}:\n σʸ₁ + (-0.5000000000000004 - 0.8660254037844385im)σʸ₂ + (-0.4999999999999998 + 0.8660254037844387im)σʸ₃ + σʸ₄ + (-0.5000000000000004 - 0.8660254037844385im)σʸ₅ + (-0.4999999999999998 + 0.8660254037844387im)σʸ₆"
     },
     "metadata": {}
    },
    {
     "output_type": "display_data",
     "data": {
      "text/plain": "1-element Vector{CondensedMatterSOS.SpinPolynomial{ComplexF64}}:\n σᶻ₁ + (-0.5000000000000004 - 0.8660254037844385im)σᶻ₂ + (-0.4999999999999998 + 0.8660254037844387im)σᶻ₃ + σᶻ₄ + (-0.5000000000000004 - 0.8660254037844385im)σᶻ₅ + (-0.4999999999999998 + 0.8660254037844387im)σᶻ₆"
     },
     "metadata": {}
    },
    {
     "output_type": "display_data",
     "data": {
      "text/plain": "1-element Vector{CondensedMatterSOS.SpinPolynomial{ComplexF64}}:\n σˣ₁ + (0.4999999999999998 - 0.8660254037844387im)σˣ₂ + (-0.5000000000000004 - 0.8660254037844385im)σˣ₃ + -σˣ₄ + (-0.4999999999999998 + 0.8660254037844387im)σˣ₅ + (0.5000000000000004 + 0.8660254037844385im)σˣ₆"
     },
     "metadata": {}
    },
    {
     "output_type": "display_data",
     "data": {
      "text/plain": "1-element Vector{CondensedMatterSOS.SpinPolynomial{ComplexF64}}:\n σʸ₁ + (0.4999999999999998 - 0.8660254037844387im)σʸ₂ + (-0.5000000000000004 - 0.8660254037844385im)σʸ₃ + -σʸ₄ + (-0.4999999999999998 + 0.8660254037844387im)σʸ₅ + (0.5000000000000004 + 0.8660254037844385im)σʸ₆"
     },
     "metadata": {}
    },
    {
     "output_type": "display_data",
     "data": {
      "text/plain": "1-element Vector{CondensedMatterSOS.SpinPolynomial{ComplexF64}}:\n σᶻ₁ + (0.4999999999999998 - 0.8660254037844387im)σᶻ₂ + (-0.5000000000000004 - 0.8660254037844385im)σᶻ₃ + -σᶻ₄ + (-0.4999999999999998 + 0.8660254037844387im)σᶻ₅ + (0.5000000000000004 + 0.8660254037844385im)σᶻ₆"
     },
     "metadata": {}
    },
    {
     "output_type": "display_data",
     "data": {
      "text/plain": "1-element Vector{CondensedMatterSOS.SpinPolynomial{ComplexF64}}:\n σˣ₁ + -σˣ₂ + σˣ₃ + -σˣ₄ + σˣ₅ + -σˣ₆"
     },
     "metadata": {}
    },
    {
     "output_type": "display_data",
     "data": {
      "text/plain": "1-element Vector{CondensedMatterSOS.SpinPolynomial{ComplexF64}}:\n σʸ₁ + -σʸ₂ + σʸ₃ + -σʸ₄ + σʸ₅ + -σʸ₆"
     },
     "metadata": {}
    },
    {
     "output_type": "display_data",
     "data": {
      "text/plain": "1-element Vector{CondensedMatterSOS.SpinPolynomial{ComplexF64}}:\n σᶻ₁ + -σᶻ₂ + σᶻ₃ + -σᶻ₄ + σᶻ₅ + -σᶻ₆"
     },
     "metadata": {}
    },
    {
     "output_type": "display_data",
     "data": {
      "text/plain": "1-element Vector{CondensedMatterSOS.SpinPolynomial{ComplexF64}}:\n (1.0 + 0.0im)"
     },
     "metadata": {}
    }
   ],
   "cell_type": "code",
   "source": [
    "function f(L, d=1, consecutive=false; symmetry=true)\n",
    "    @show L\n",
    "    println(\"***\")\n",
    "    @show d\n",
    "    bound, gram, ν = @time hamiltonian_energy(\n",
    "        L,\n",
    "        2d,\n",
    "        solver,\n",
    "        consecutive=consecutive,\n",
    "        symmetry=symmetry,\n",
    "    )\n",
    "    @show bound\n",
    "    for M in ν.sub_moment_matrices\n",
    "        display(M.basis.polynomials)\n",
    "    end\n",
    "    println(\"E/N = \", bound / L)\n",
    "    println(\"------------------------------------\")\n",
    "end\n",
    "\n",
    "f(6, 1, true)"
   ],
   "metadata": {},
   "execution_count": 9
  },
  {
   "cell_type": "markdown",
   "source": [
    "| id     | irep 1 | irep 2 | irep 3 | irep 4 |\n",
    "|--------|--------|--------|--------|--------|\n",
    "| degree | 2      | 3      | 1      | 3      |\n",
    "| mult 2 | 1      | 3      | 2      | 1      |\n",
    "| mult 3 | 3      | 6      | 4      | 3      |\n",
    "| mult 4 | 6      | 10     | 7      | 6      |\n",
    "| mult 5 | 10     | 15     | 11     | 10     |\n",
    "| mult 6 | 15     | 21     | 16     | 15     |\n",
    "| mult 7 | 21     | 28     | 22     | 21     |"
   ],
   "metadata": {}
  },
  {
   "cell_type": "markdown",
   "source": [
    "---\n",
    "\n",
    "*This notebook was generated using [Literate.jl](https://github.com/fredrikekre/Literate.jl).*"
   ],
   "metadata": {}
  }
 ],
 "nbformat_minor": 3,
 "metadata": {
  "language_info": {
   "file_extension": ".jl",
   "mimetype": "application/julia",
   "name": "julia",
   "version": "1.6.1"
  },
  "kernelspec": {
   "name": "julia-1.6",
   "display_name": "Julia 1.6.1",
   "language": "julia"
  }
 },
 "nbformat": 4
}
