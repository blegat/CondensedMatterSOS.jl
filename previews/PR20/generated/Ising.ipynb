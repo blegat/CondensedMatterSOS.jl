{
 "cells": [
  {
   "cell_type": "markdown",
   "source": [
    "# Ising model"
   ],
   "metadata": {}
  },
  {
   "cell_type": "markdown",
   "source": [
    "We study the Hamiltonian of the transverse-field Ising model with periodic boundary conditions and transverse field `g` set to 1."
   ],
   "metadata": {}
  },
  {
   "outputs": [
    {
     "output_type": "execute_result",
     "data": {
      "text/plain": "(2 + 0im)σˣ₁σˣ₂ + -σᶻ₁ + -σᶻ₂",
      "text/latex": "$$ (2 + 0im)σˣ_{1}σˣ_{2} + -σᶻ_{1} + -σᶻ_{2} $$"
     },
     "metadata": {},
     "execution_count": 1
    }
   ],
   "cell_type": "code",
   "source": [
    "using CondensedMatterSOS\n",
    "@spin σ[1:2]\n",
    "ising_hamiltonian(σ, 1, true)"
   ],
   "metadata": {},
   "execution_count": 1
  },
  {
   "cell_type": "markdown",
   "source": [
    "Let's pick a solver from [this list](https://jump.dev/JuMP.jl/dev/installation/#Getting-Solvers)."
   ],
   "metadata": {}
  },
  {
   "outputs": [
    {
     "output_type": "execute_result",
     "data": {
      "text/plain": "MathOptInterface.OptimizerWithAttributes(Main.##262.var\"#1#2\"(), Pair{MathOptInterface.AbstractOptimizerAttribute, Any}[MathOptInterface.Silent() => true])"
     },
     "metadata": {},
     "execution_count": 2
    }
   ],
   "cell_type": "code",
   "source": [
    "using CSDP\n",
    "solver = optimizer_with_attributes(\n",
    "    () -> MOIU.CachingOptimizer(MOIU.UniversalFallback(MOIU.Model{Float64}()), CSDP.Optimizer()),\n",
    "    MOI.Silent() => true\n",
    ")"
   ],
   "metadata": {},
   "execution_count": 2
  },
  {
   "cell_type": "markdown",
   "source": [
    "We can compute a lower bound `-2√2` to the ground state energy as follow:"
   ],
   "metadata": {}
  },
  {
   "outputs": [
    {
     "output_type": "execute_result",
     "data": {
      "text/plain": "-2.828427145137386"
     },
     "metadata": {},
     "execution_count": 3
    }
   ],
   "cell_type": "code",
   "source": [
    "function hamiltonian_energy(N, maxdegree, solver; kws...)\n",
    "    @spin σ[1:N]\n",
    "    H = ising_hamiltonian(σ, 1, true)\n",
    "    energy(H, maxdegree, solver; kws...)\n",
    "end\n",
    "bound, gram, ν = hamiltonian_energy(2, 2, solver, sparsity = NoSparsity())\n",
    "bound"
   ],
   "metadata": {},
   "execution_count": 3
  },
  {
   "cell_type": "markdown",
   "source": [
    "We can see that the moment matrix uses all monomials:"
   ],
   "metadata": {}
  },
  {
   "outputs": [
    {
     "output_type": "execute_result",
     "data": {
      "text/plain": "7-element Vector{CondensedMatterSOS.SpinMonomial}:\n 1\n σˣ₁\n σʸ₁\n σᶻ₁\n σˣ₂\n σʸ₂\n σᶻ₂"
     },
     "metadata": {},
     "execution_count": 4
    }
   ],
   "cell_type": "code",
   "source": [
    "ν.basis.monomials"
   ],
   "metadata": {},
   "execution_count": 4
  },
  {
   "cell_type": "markdown",
   "source": [
    "Using term sparsity with block/cluster completion, we get the same bound:"
   ],
   "metadata": {}
  },
  {
   "outputs": [
    {
     "output_type": "execute_result",
     "data": {
      "text/plain": "-2.828427141662865"
     },
     "metadata": {},
     "execution_count": 5
    }
   ],
   "cell_type": "code",
   "source": [
    "bound, gram, ν = hamiltonian_energy(2, 2, solver)\n",
    "bound"
   ],
   "metadata": {},
   "execution_count": 5
  },
  {
   "cell_type": "markdown",
   "source": [
    "But with a smaller basis:"
   ],
   "metadata": {}
  },
  {
   "outputs": [
    {
     "output_type": "execute_result",
     "data": {
      "text/plain": "2-element Vector{Vector{CondensedMatterSOS.SpinMonomial}}:\n [σᶻ₁, σᶻ₂, 1]\n [σˣ₁, σʸ₁, σˣ₂, σʸ₂]"
     },
     "metadata": {},
     "execution_count": 6
    }
   ],
   "cell_type": "code",
   "source": [
    "[M.basis.monomials for M in ν.sub_moment_matrices]"
   ],
   "metadata": {},
   "execution_count": 6
  },
  {
   "cell_type": "markdown",
   "source": [
    "Using term sparsity with chordal completion, we get a smaller bound:"
   ],
   "metadata": {}
  },
  {
   "outputs": [
    {
     "output_type": "execute_result",
     "data": {
      "text/plain": "-4.000000003141185"
     },
     "metadata": {},
     "execution_count": 7
    }
   ],
   "cell_type": "code",
   "source": [
    "bound, gram, ν = hamiltonian_energy(2, 2, solver, sparsity = MonomialSparsity(ChordalCompletion()))\n",
    "bound"
   ],
   "metadata": {},
   "execution_count": 7
  },
  {
   "cell_type": "markdown",
   "source": [
    "But with an even smaller basis:"
   ],
   "metadata": {}
  },
  {
   "outputs": [
    {
     "output_type": "execute_result",
     "data": {
      "text/plain": "5-element Vector{Vector{CondensedMatterSOS.SpinMonomial}}:\n [σˣ₂, σʸ₂]\n [σᶻ₂, 1]\n [σᶻ₁, 1]\n [σˣ₁, σˣ₂]\n [σˣ₁, σʸ₁]"
     },
     "metadata": {},
     "execution_count": 8
    }
   ],
   "cell_type": "code",
   "source": [
    "[M.basis.monomials for M in ν.sub_moment_matrices]"
   ],
   "metadata": {},
   "execution_count": 8
  },
  {
   "cell_type": "markdown",
   "source": [
    "---\n",
    "\n",
    "*This notebook was generated using [Literate.jl](https://github.com/fredrikekre/Literate.jl).*"
   ],
   "metadata": {}
  }
 ],
 "nbformat_minor": 3,
 "metadata": {
  "language_info": {
   "file_extension": ".jl",
   "mimetype": "application/julia",
   "name": "julia",
   "version": "1.6.1"
  },
  "kernelspec": {
   "name": "julia-1.6",
   "display_name": "Julia 1.6.1",
   "language": "julia"
  }
 },
 "nbformat": 4
}
