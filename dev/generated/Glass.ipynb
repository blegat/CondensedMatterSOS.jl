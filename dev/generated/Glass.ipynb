{
 "cells": [
  {
   "cell_type": "markdown",
   "source": [
    "# Ising spin glass model"
   ],
   "metadata": {}
  },
  {
   "cell_type": "markdown",
   "source": [
    "## 1D"
   ],
   "metadata": {}
  },
  {
   "cell_type": "markdown",
   "source": [
    "We study the Hamiltonian of the transverse-field Ising spin glass model without periodic boundary conditions and transverse field `g` set to 0.4."
   ],
   "metadata": {}
  },
  {
   "outputs": [
    {
     "output_type": "execute_result",
     "data": {
      "text/plain": "(0.2972879845354616 + 0.0im)σˣ₁σˣ₂ + (-0.4 + 0.0im)σᶻ₁ + (-0.4 + 0.0im)σᶻ₂",
      "text/latex": "$$ (0.2972879845354616 + 0.0im)σˣ_{1}σˣ_{2} + (-0.4 + 0.0im)σᶻ_{1} + (-0.4 + 0.0im)σᶻ_{2} $$"
     },
     "metadata": {},
     "execution_count": 1
    }
   ],
   "cell_type": "code",
   "source": [
    "import Random\n",
    "using CondensedMatterSOS\n",
    "@spin σ[1:2]\n",
    "function hamiltonian(σ)\n",
    "    Random.seed!(1) # We set the seed so that the results of this example are reproducible.\n",
    "    return ising_glass_hamiltonian(σ, 0.4, false)\n",
    "end\n",
    "hamiltonian(σ)"
   ],
   "metadata": {},
   "execution_count": 1
  },
  {
   "cell_type": "markdown",
   "source": [
    "Let's pick a solver from [this list](https://jump.dev/JuMP.jl/dev/installation/#Getting-Solvers)."
   ],
   "metadata": {}
  },
  {
   "outputs": [
    {
     "output_type": "execute_result",
     "data": {
      "text/plain": "MathOptInterface.OptimizerWithAttributes(Main.##254.var\"#1#2\"(), Pair{MathOptInterface.AbstractOptimizerAttribute,Any}[MathOptInterface.Silent() => true])"
     },
     "metadata": {},
     "execution_count": 2
    }
   ],
   "cell_type": "code",
   "source": [
    "using CSDP\n",
    "solver = optimizer_with_attributes(\n",
    "    () -> MOIU.CachingOptimizer(MOIU.UniversalFallback(MOIU.Model{Float64}()), CSDP.Optimizer()),\n",
    "    MOI.Silent() => true\n",
    ")"
   ],
   "metadata": {},
   "execution_count": 2
  },
  {
   "cell_type": "markdown",
   "source": [
    "We can compute a lower bound `-0.853452` to the ground state energy as follow:"
   ],
   "metadata": {}
  },
  {
   "outputs": [
    {
     "output_type": "execute_result",
     "data": {
      "text/plain": "-0.8534519037352409"
     },
     "metadata": {},
     "execution_count": 3
    }
   ],
   "cell_type": "code",
   "source": [
    "function hamiltonian_energy(N, maxdegree, solver; kws...)\n",
    "    @spin σ[1:N]\n",
    "    H = hamiltonian(σ)\n",
    "    energy(H, maxdegree, solver; kws...)\n",
    "end\n",
    "bound, gram, ν = hamiltonian_energy(2, 2, solver, sparsity = NoSparsity())\n",
    "bound"
   ],
   "metadata": {},
   "execution_count": 3
  },
  {
   "cell_type": "markdown",
   "source": [
    "We can see that the moment matrix uses all monomials:"
   ],
   "metadata": {}
  },
  {
   "outputs": [
    {
     "output_type": "execute_result",
     "data": {
      "text/plain": "7-element Array{CondensedMatterSOS.SpinMonomial,1}:\n 1\n σˣ₁\n σʸ₁\n σᶻ₁\n σˣ₂\n σʸ₂\n σᶻ₂"
     },
     "metadata": {},
     "execution_count": 4
    }
   ],
   "cell_type": "code",
   "source": [
    "ν.basis.monomials"
   ],
   "metadata": {},
   "execution_count": 4
  },
  {
   "cell_type": "markdown",
   "source": [
    "Using term sparsity with block/cluster completion, we get the same bound:"
   ],
   "metadata": {}
  },
  {
   "outputs": [
    {
     "output_type": "execute_result",
     "data": {
      "text/plain": "-0.8534519037605935"
     },
     "metadata": {},
     "execution_count": 5
    }
   ],
   "cell_type": "code",
   "source": [
    "bound, gram, ν = hamiltonian_energy(2, 2, solver)\n",
    "bound"
   ],
   "metadata": {},
   "execution_count": 5
  },
  {
   "cell_type": "markdown",
   "source": [
    "But with a smaller basis:"
   ],
   "metadata": {}
  },
  {
   "outputs": [
    {
     "output_type": "execute_result",
     "data": {
      "text/plain": "2-element Array{Array{CondensedMatterSOS.SpinMonomial,1},1}:\n [σᶻ₁, σᶻ₂, 1]\n [σˣ₁, σʸ₁, σˣ₂, σʸ₂]"
     },
     "metadata": {},
     "execution_count": 6
    }
   ],
   "cell_type": "code",
   "source": [
    "[M.basis.monomials for M in ν.sub_moment_matrices]"
   ],
   "metadata": {},
   "execution_count": 6
  },
  {
   "cell_type": "markdown",
   "source": [
    "Using term sparsity with chordal completion, we get a smaller bound:"
   ],
   "metadata": {}
  },
  {
   "outputs": [
    {
     "output_type": "execute_result",
     "data": {
      "text/plain": "-1.0972879866755514"
     },
     "metadata": {},
     "execution_count": 7
    }
   ],
   "cell_type": "code",
   "source": [
    "bound, gram, ν = hamiltonian_energy(2, 2, solver, sparsity = MonomialSparsity(ChordalCompletion()))\n",
    "bound"
   ],
   "metadata": {},
   "execution_count": 7
  },
  {
   "cell_type": "markdown",
   "source": [
    "But with an even smaller basis:"
   ],
   "metadata": {}
  },
  {
   "outputs": [
    {
     "output_type": "execute_result",
     "data": {
      "text/plain": "5-element Array{Array{CondensedMatterSOS.SpinMonomial,1},1}:\n [σˣ₂, σʸ₂]\n [σᶻ₂, 1]\n [σᶻ₁, 1]\n [σˣ₁, σˣ₂]\n [σˣ₁, σʸ₁]"
     },
     "metadata": {},
     "execution_count": 8
    }
   ],
   "cell_type": "code",
   "source": [
    "[M.basis.monomials for M in ν.sub_moment_matrices]"
   ],
   "metadata": {},
   "execution_count": 8
  },
  {
   "cell_type": "markdown",
   "source": [
    "## 2D"
   ],
   "metadata": {}
  },
  {
   "cell_type": "markdown",
   "source": [
    "We now study the same model but on a square lattice."
   ],
   "metadata": {}
  },
  {
   "outputs": [
    {
     "output_type": "execute_result",
     "data": {
      "text/plain": "(0.2972879845354616 + 0.0im)σˣ₁₋₁σˣ₂₋₁ + (-0.5976344767282311 - 0.0im)σˣ₁₋₁σˣ₁₋₂ + (-0.01044524463737564 - 0.0im)σˣ₂₋₁σˣ₂₋₂ + (0.3823959677906078 + 0.0im)σˣ₁₋₂σˣ₂₋₂ + (-0.4 + 0.0im)σᶻ₁₋₁ + (-0.4 + 0.0im)σᶻ₂₋₁ + (-0.4 + 0.0im)σᶻ₁₋₂ + (-0.4 + 0.0im)σᶻ₂₋₂",
      "text/latex": "$$ (0.2972879845354616 + 0.0im)σˣ_{1,1}σˣ_{2,1} + (-0.5976344767282311 - 0.0im)σˣ_{1,1}σˣ_{1,2} + (-0.01044524463737564 - 0.0im)σˣ_{2,1}σˣ_{2,2} + (0.3823959677906078 + 0.0im)σˣ_{1,2}σˣ_{2,2} + (-0.4 + 0.0im)σᶻ_{1,1} + (-0.4 + 0.0im)σᶻ_{2,1} + (-0.4 + 0.0im)σᶻ_{1,2} + (-0.4 + 0.0im)σᶻ_{2,2} $$"
     },
     "metadata": {},
     "execution_count": 9
    }
   ],
   "cell_type": "code",
   "source": [
    "@spin σ[1:2, 1:2]\n",
    "hamiltonian(σ)"
   ],
   "metadata": {},
   "execution_count": 9
  },
  {
   "cell_type": "markdown",
   "source": [
    "We can compute a lower bound `-1.990513` to the ground state energy as follow:"
   ],
   "metadata": {}
  },
  {
   "outputs": [
    {
     "output_type": "execute_result",
     "data": {
      "text/plain": "-1.9905121018001712"
     },
     "metadata": {},
     "execution_count": 10
    }
   ],
   "cell_type": "code",
   "source": [
    "function hamiltonian_energy(N, M, maxdegree, solver; kws...)\n",
    "    @spin σ[1:N, 1:M]\n",
    "    H = hamiltonian(σ)\n",
    "    energy(H, maxdegree, solver; kws...)\n",
    "end\n",
    "bound, gram, ν = hamiltonian_energy(2, 2, 2, solver, sparsity = NoSparsity())\n",
    "bound"
   ],
   "metadata": {},
   "execution_count": 10
  },
  {
   "cell_type": "markdown",
   "source": [
    "We can see that the moment matrix uses all monomials:"
   ],
   "metadata": {}
  },
  {
   "outputs": [
    {
     "output_type": "execute_result",
     "data": {
      "text/plain": "13-element Array{CondensedMatterSOS.SpinMonomial,1}:\n 1\n σˣ₁₋₁\n σʸ₁₋₁\n σᶻ₁₋₁\n σˣ₂₋₁\n σʸ₂₋₁\n σᶻ₂₋₁\n σˣ₁₋₂\n σʸ₁₋₂\n σᶻ₁₋₂\n σˣ₂₋₂\n σʸ₂₋₂\n σᶻ₂₋₂"
     },
     "metadata": {},
     "execution_count": 11
    }
   ],
   "cell_type": "code",
   "source": [
    "ν.basis.monomials"
   ],
   "metadata": {},
   "execution_count": 11
  },
  {
   "cell_type": "markdown",
   "source": [
    "Using term sparsity with block/cluster completion, we get the same bound:"
   ],
   "metadata": {}
  },
  {
   "outputs": [
    {
     "output_type": "execute_result",
     "data": {
      "text/plain": "-1.9905121009002253"
     },
     "metadata": {},
     "execution_count": 12
    }
   ],
   "cell_type": "code",
   "source": [
    "bound, gram, ν = hamiltonian_energy(2, 2, 2, solver)\n",
    "bound"
   ],
   "metadata": {},
   "execution_count": 12
  },
  {
   "cell_type": "markdown",
   "source": [
    "But with a smaller basis:"
   ],
   "metadata": {}
  },
  {
   "outputs": [
    {
     "output_type": "execute_result",
     "data": {
      "text/plain": "2-element Array{Array{CondensedMatterSOS.SpinMonomial,1},1}:\n [σᶻ₁₋₁, σᶻ₂₋₁, σᶻ₁₋₂, σᶻ₂₋₂, 1]\n [σˣ₁₋₁, σʸ₁₋₁, σˣ₂₋₁, σʸ₂₋₁, σˣ₁₋₂, σʸ₁₋₂, σˣ₂₋₂, σʸ₂₋₂]"
     },
     "metadata": {},
     "execution_count": 13
    }
   ],
   "cell_type": "code",
   "source": [
    "[M.basis.monomials for M in ν.sub_moment_matrices]"
   ],
   "metadata": {},
   "execution_count": 13
  },
  {
   "cell_type": "markdown",
   "source": [
    "Using term sparsity with chordal completion, we get a smaller bound:"
   ],
   "metadata": {}
  },
  {
   "outputs": [
    {
     "output_type": "execute_result",
     "data": {
      "text/plain": "-2.655703628431353"
     },
     "metadata": {},
     "execution_count": 14
    }
   ],
   "cell_type": "code",
   "source": [
    "bound, gram, ν = hamiltonian_energy(2, 2, 2, solver, sparsity = MonomialSparsity(ChordalCompletion()))\n",
    "bound"
   ],
   "metadata": {},
   "execution_count": 14
  },
  {
   "cell_type": "markdown",
   "source": [
    "But with an even smaller basis:"
   ],
   "metadata": {}
  },
  {
   "outputs": [
    {
     "output_type": "execute_result",
     "data": {
      "text/plain": "9-element Array{Array{CondensedMatterSOS.SpinMonomial,1},1}:\n [σᶻ₁₋₂, σᶻ₂₋₂, 1]\n [σˣ₁₋₂, σʸ₁₋₂, σˣ₂₋₂]\n [σˣ₂₋₁, σˣ₁₋₂, σˣ₂₋₂]\n [σˣ₁₋₁, σˣ₂₋₁, σˣ₁₋₂]\n [σˣ₂₋₂, σʸ₂₋₂]\n [σᶻ₂₋₁, 1]\n [σˣ₂₋₁, σʸ₂₋₁]\n [σᶻ₁₋₁, 1]\n [σˣ₁₋₁, σʸ₁₋₁]"
     },
     "metadata": {},
     "execution_count": 15
    }
   ],
   "cell_type": "code",
   "source": [
    "[M.basis.monomials for M in ν.sub_moment_matrices]"
   ],
   "metadata": {},
   "execution_count": 15
  },
  {
   "cell_type": "markdown",
   "source": [
    "---\n",
    "\n",
    "*This notebook was generated using [Literate.jl](https://github.com/fredrikekre/Literate.jl).*"
   ],
   "metadata": {}
  }
 ],
 "nbformat_minor": 3,
 "metadata": {
  "language_info": {
   "file_extension": ".jl",
   "mimetype": "application/julia",
   "name": "julia",
   "version": "1.5.3"
  },
  "kernelspec": {
   "name": "julia-1.5",
   "display_name": "Julia 1.5.3",
   "language": "julia"
  }
 },
 "nbformat": 4
}
