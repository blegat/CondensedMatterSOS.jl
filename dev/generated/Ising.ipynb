{
 "cells": [
  {
   "cell_type": "markdown",
   "source": [
    "# Ising model"
   ],
   "metadata": {}
  },
  {
   "outputs": [
    {
     "output_type": "execute_result",
     "data": {
      "text/plain": "(-2.82842714463983, SumOfSquares.GramMatrix{Complex{Float64},MultivariateBases.MonomialBasis{CondensedMatterSOS.SpinMonomial,Array{CondensedMatterSOS.SpinMonomial,1}},Complex{Float64},MultivariateMoments.VectorizedHermitianMatrix{Complex{Float64},Float64,Complex{Float64}}}(Complex{Float64}[1.1938923682493671e-8 + 0.0im 0.0 + 0.0im … 0.0 + 0.0im -5.628153979759412e-9 + 0.0im; 0.0 + 0.0im 1.0606648196913504 + 0.0im … 0.0 - 0.3535487406847651im 0.0 + 0.0im; … ; 0.0 + 0.0im 0.0 + 0.3535487406847651im … 0.35354873869996606 + 0.0im 0.0 + 0.0im; -5.628153979759412e-9 + 0.0im 0.0 + 0.0im … 0.0 + 0.0im 7.959143301650311e-9 + 0.0im], MultivariateBases.MonomialBasis{CondensedMatterSOS.SpinMonomial,Array{CondensedMatterSOS.SpinMonomial,1}}(CondensedMatterSOS.SpinMonomial[1, σˣ₁, σʸ₁, σᶻ₁, σˣ₂, σʸ₂, σᶻ₂])))"
     },
     "metadata": {},
     "execution_count": 1
    }
   ],
   "cell_type": "code",
   "source": [
    "using CondensedMatterSOS\n",
    "@spin σ[1:2]\n",
    "function hamiltonian(σ)\n",
    "    σx, σy, σz = σ\n",
    "    N = length(σx)\n",
    "    return -sum(σx[n] * σx[n+1] for n in 1:(N-1)) - σx[N] * σx[1] - sum(σz)\n",
    "end\n",
    "hamiltonian(σ)\n",
    "\n",
    "function hamiltonian_energy(N, maxdegree, solver; kws...)\n",
    "    @spin σ[1:N]\n",
    "    H = 1.0 * hamiltonian(σ)\n",
    "    energy(H, maxdegree, solver; kws...)\n",
    "end\n",
    "\n",
    "using CSDP\n",
    "solver = optimizer_with_attributes(\n",
    "    () -> MOIU.CachingOptimizer(MOIU.UniversalFallback(MOIU.Model{Float64}()), CSDP.Optimizer()),\n",
    "    MOI.Silent() => true\n",
    ")\n",
    "bound, ν = hamiltonian_energy(2, 2, solver)"
   ],
   "metadata": {},
   "execution_count": 1
  },
  {
   "cell_type": "markdown",
   "source": [
    "---\n",
    "\n",
    "*This notebook was generated using [Literate.jl](https://github.com/fredrikekre/Literate.jl).*"
   ],
   "metadata": {}
  }
 ],
 "nbformat_minor": 3,
 "metadata": {
  "language_info": {
   "file_extension": ".jl",
   "mimetype": "application/julia",
   "name": "julia",
   "version": "1.5.3"
  },
  "kernelspec": {
   "name": "julia-1.5",
   "display_name": "Julia 1.5.3",
   "language": "julia"
  }
 },
 "nbformat": 4
}
