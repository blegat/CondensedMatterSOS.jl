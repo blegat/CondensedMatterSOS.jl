{
 "cells": [
  {
   "cell_type": "markdown",
   "source": [
    "# Benchmark 1"
   ],
   "metadata": {}
  },
  {
   "cell_type": "markdown",
   "source": [
    "We study the Hamiltonian of the Heisenberg model with periodic boundary conditions."
   ],
   "metadata": {}
  },
  {
   "outputs": [],
   "cell_type": "code",
   "source": [
    "using CondensedMatterSOS\n",
    "import MultivariatePolynomials\n",
    "const MP = MultivariatePolynomials\n",
    "@spin σ[1:3]\n",
    "heisenberg_hamiltonian(σ, true)\n",
    "\n",
    "# Let's pick a solver from [this list](https://jump.dev/JuMP.jl/dev/installation/#Getting-Solvers).\n",
    "\n",
    "using CSDP\n",
    "solver = optimizer_with_attributes(\n",
    "    () -> MOIU.CachingOptimizer(MOIU.UniversalFallback(MOIU.Model{Float64}()), CSDP.Optimizer()),\n",
    "    MOI.Silent() => false,\n",
    ");"
   ],
   "metadata": {},
   "execution_count": 1
  },
  {
   "cell_type": "markdown",
   "source": [
    "We can compute a lower bound `-2√2` to the ground state energy as follow:"
   ],
   "metadata": {}
  },
  {
   "outputs": [
    {
     "name": "stdout",
     "output_type": "stream",
     "text": [
      "Iter: 15 Ap: 9.59e-01 Pobj: -1.2000000e+01 Ad: 9.60e-01 Dobj: -1.2000000e+01 \n",
      "Success: SDP solved\n",
      "Primal objective value: -1.2000000e+01 \n",
      "Dual objective value: -1.2000000e+01 \n",
      "Relative primal infeasibility: 2.20e-13 \n",
      "Relative dual infeasibility: 3.91e-09 \n",
      "Real Relative Gap: 3.71e-09 \n",
      "XZ Relative Gap: 5.51e-09 \n",
      "DIMACS error measures: 5.76e-13 0.00e+00 2.33e-08 0.00e+00 3.71e-09 5.51e-09\n",
      "CSDP 6.2.0\n",
      "Iter:  0 Ap: 0.00e+00 Pobj:  0.0000000e+00 Ad: 0.00e+00 Dobj:  0.0000000e+00 \n",
      "Iter:  1 Ap: 1.00e+00 Pobj: -5.6411147e+01 Ad: 4.06e-01 Dobj: -4.2832684e+00 \n",
      "Iter:  2 Ap: 1.00e+00 Pobj: -5.4760276e+01 Ad: 9.64e-01 Dobj: -7.6705709e-01 \n",
      "Iter:  3 Ap: 1.00e+00 Pobj: -2.1723633e+01 Ad: 8.78e-01 Dobj: -1.3767694e+00 \n",
      "Iter:  4 Ap: 1.00e+00 Pobj: -8.4915625e+00 Ad: 7.01e-01 Dobj: -3.2534741e+00 \n",
      "Iter:  5 Ap: 1.00e+00 Pobj: -6.6196805e+00 Ad: 8.87e-01 Dobj: -5.5119401e+00 \n",
      "Iter:  6 Ap: 1.00e+00 Pobj: -6.0450487e+00 Ad: 9.46e-01 Dobj: -5.9459371e+00 \n",
      "Iter:  7 Ap: 1.00e+00 Pobj: -6.0023373e+00 Ad: 9.58e-01 Dobj: -5.9960785e+00 \n",
      "Iter:  8 Ap: 1.00e+00 Pobj: -6.0001590e+00 Ad: 9.87e-01 Dobj: -5.9998368e+00 \n",
      "Iter:  9 Ap: 9.69e-01 Pobj: -6.0000134e+00 Ad: 9.98e-01 Dobj: -5.9999977e+00 \n",
      "Iter: 10 Ap: 9.99e-01 Pobj: -6.0000006e+00 Ad: 9.82e-01 Dobj: -5.9999998e+00 \n"
     ]
    },
    {
     "output_type": "execute_result",
     "data": {
      "text/plain": "-6.000000022862929"
     },
     "metadata": {},
     "execution_count": 2
    }
   ],
   "cell_type": "code",
   "source": [
    "function hamiltonian_energy(N, maxdegree, solver; symmetry=true, consecutive=false, kws...)\n",
    "    @spin σ[1:N]\n",
    "    H = heisenberg_hamiltonian(σ, true)\n",
    "    G = Lattice1Group(N)\n",
    "    cone = NonnegPolyInnerCone{SumOfSquares.COI.HermitianPositiveSemidefiniteConeTriangle}()\n",
    "    @assert iseven(maxdegree)\n",
    "    cert = SumOfSquares.Certificate.FixedBasis(\n",
    "        cone,\n",
    "        MonomialBasis(MP.monomials(σ[1], 0:div(maxdegree, 2), consecutive=consecutive)),\n",
    "    )\n",
    "    certificate = Symmetry.Ideal(\n",
    "        Symmetry.Pattern(G, Action(σ)),\n",
    "        cert,\n",
    "    )\n",
    "    if symmetry\n",
    "        energy(H, maxdegree, solver; certificate = certificate, kws...)\n",
    "    else\n",
    "        energy(H, maxdegree, solver; kws...)\n",
    "    end\n",
    "end\n",
    "bound, gram, ν = hamiltonian_energy(\n",
    "    2,\n",
    "    2,\n",
    "    solver,\n",
    "    symmetry = false,\n",
    "    sparsity = SumOfSquares.Sparsity.NoPattern(),\n",
    ")\n",
    "bound"
   ],
   "metadata": {},
   "execution_count": 2
  },
  {
   "cell_type": "markdown",
   "source": [
    "We can see that the moment matrix uses all monomials:"
   ],
   "metadata": {}
  },
  {
   "outputs": [
    {
     "output_type": "execute_result",
     "data": {
      "text/plain": "7-element Vector{CondensedMatterSOS.SpinMonomial}:\n 1\n σˣ₁\n σʸ₁\n σᶻ₁\n σˣ₂\n σʸ₂\n σᶻ₂"
     },
     "metadata": {},
     "execution_count": 3
    }
   ],
   "cell_type": "code",
   "source": [
    "ν.basis.monomials"
   ],
   "metadata": {},
   "execution_count": 3
  },
  {
   "cell_type": "markdown",
   "source": [
    "# Symmetry reduction\n",
    "\n",
    "We can reduce the computation using symmetry reduction as follows."
   ],
   "metadata": {}
  },
  {
   "outputs": [
    {
     "name": "stdout",
     "output_type": "stream",
     "text": [
      "Iter: 11 Ap: 9.59e-01 Pobj: -6.0000000e+00 Ad: 9.59e-01 Dobj: -6.0000000e+00 \n",
      "Success: SDP solved\n",
      "Primal objective value: -6.0000000e+00 \n",
      "Dual objective value: -6.0000000e+00 \n",
      "Relative primal infeasibility: 1.15e-15 \n",
      "Relative dual infeasibility: 2.03e-09 \n",
      "Real Relative Gap: 1.97e-09 \n",
      "XZ Relative Gap: 4.05e-09 \n",
      "DIMACS error measures: 1.72e-15 0.00e+00 3.15e-09 0.00e+00 1.97e-09 4.05e-09\n",
      "CSDP 6.2.0\n",
      "Iter:  0 Ap: 0.00e+00 Pobj:  0.0000000e+00 Ad: 0.00e+00 Dobj:  0.0000000e+00 \n",
      "Iter:  1 Ap: 1.00e+00 Pobj: -2.0855882e+01 Ad: 6.40e-01 Dobj: -4.8049171e+00 \n",
      "Iter:  2 Ap: 1.00e+00 Pobj: -1.8892667e+01 Ad: 9.56e-01 Dobj: -2.6648092e+00 \n",
      "Iter:  3 Ap: 1.00e+00 Pobj: -8.6626353e+00 Ad: 8.63e-01 Dobj: -4.4545586e+00 \n",
      "Iter:  4 Ap: 1.00e+00 Pobj: -6.4752587e+00 Ad: 8.01e-01 Dobj: -5.5908455e+00 \n",
      "Iter:  5 Ap: 1.00e+00 Pobj: -6.0344959e+00 Ad: 9.26e-01 Dobj: -5.9537973e+00 \n",
      "Iter:  6 Ap: 1.00e+00 Pobj: -6.0017524e+00 Ad: 9.65e-01 Dobj: -5.9975575e+00 \n",
      "Iter:  7 Ap: 1.00e+00 Pobj: -6.0000887e+00 Ad: 9.85e-01 Dobj: -5.9999224e+00 \n",
      "Iter:  8 Ap: 1.00e+00 Pobj: -6.0000059e+00 Ad: 1.00e+00 Dobj: -5.9999999e+00 \n",
      "Iter:  9 Ap: 1.00e+00 Pobj: -6.0000002e+00 Ad: 9.85e-01 Dobj: -6.0000000e+00 \n"
     ]
    },
    {
     "output_type": "execute_result",
     "data": {
      "text/plain": "-6.000000006574734"
     },
     "metadata": {},
     "execution_count": 4
    }
   ],
   "cell_type": "code",
   "source": [
    "using CondensedMatterSOS\n",
    "\n",
    "bound, gram, ν = hamiltonian_energy(\n",
    "    2,\n",
    "    2,\n",
    "    solver,\n",
    ")\n",
    "bound"
   ],
   "metadata": {},
   "execution_count": 4
  },
  {
   "cell_type": "markdown",
   "source": [
    "The reduction is obtained by block diagonalizing with a change of polynomial\n",
    "basis to the isotypical basis."
   ],
   "metadata": {}
  },
  {
   "outputs": [
    {
     "output_type": "display_data",
     "data": {
      "text/plain": "7-element Vector{Vector{CondensedMatterSOS.SpinPolynomial{ComplexF64}}}:\n [(-0.7071067811865472 + 0.0im)σˣ₁ + (-0.7071067811865475 + 0.0im)σˣ₂]\n [(-0.7071067811865472 + 0.0im)σʸ₁ + (-0.7071067811865475 + 0.0im)σʸ₂]\n [(-0.7071067811865472 + 0.0im)σᶻ₁ + (-0.7071067811865475 + 0.0im)σᶻ₂]\n [(-0.7071067811865472 + 0.0im)σˣ₁ + (0.7071067811865475 + 0.0im)σˣ₂]\n [(-0.7071067811865472 + 0.0im)σʸ₁ + (0.7071067811865475 + 0.0im)σʸ₂]\n [(-0.7071067811865472 + 0.0im)σᶻ₁ + (0.7071067811865475 + 0.0im)σᶻ₂]\n [(1.0 - 0.0im)]"
     },
     "metadata": {}
    },
    {
     "output_type": "execute_result",
     "data": {
      "text/plain": "7-element Vector{Vector{CondensedMatterSOS.SpinPolynomial{ComplexF64}}}:\n [(-0.7071067811865472 + 0.0im)σˣ₁ + (-0.7071067811865475 + 0.0im)σˣ₂]\n [(-0.7071067811865472 + 0.0im)σʸ₁ + (-0.7071067811865475 + 0.0im)σʸ₂]\n [(-0.7071067811865472 + 0.0im)σᶻ₁ + (-0.7071067811865475 + 0.0im)σᶻ₂]\n [(-0.7071067811865472 + 0.0im)σˣ₁ + (0.7071067811865475 + 0.0im)σˣ₂]\n [(-0.7071067811865472 + 0.0im)σʸ₁ + (0.7071067811865475 + 0.0im)σʸ₂]\n [(-0.7071067811865472 + 0.0im)σᶻ₁ + (0.7071067811865475 + 0.0im)σᶻ₂]\n [(1.0 - 0.0im)]"
     },
     "metadata": {},
     "execution_count": 5
    }
   ],
   "cell_type": "code",
   "source": [
    "display([M.basis.polynomials for M in ν.sub_moment_matrices])\n",
    "\n",
    "[M.basis.polynomials for M in ν.sub_moment_matrices]"
   ],
   "metadata": {},
   "execution_count": 5
  },
  {
   "cell_type": "markdown",
   "source": [
    "Let's try this for 3 sites. First without symmetry."
   ],
   "metadata": {}
  },
  {
   "outputs": [
    {
     "name": "stdout",
     "output_type": "stream",
     "text": [
      "Iter: 10 Ap: 9.69e-01 Pobj: -6.0000000e+00 Ad: 9.69e-01 Dobj: -6.0000000e+00 \n",
      "Success: SDP solved\n",
      "Primal objective value: -6.0000000e+00 \n",
      "Dual objective value: -6.0000000e+00 \n",
      "Relative primal infeasibility: 7.26e-17 \n",
      "Relative dual infeasibility: 8.67e-10 \n",
      "Real Relative Gap: 4.49e-10 \n",
      "XZ Relative Gap: 1.18e-09 \n",
      "DIMACS error measures: 1.08e-16 0.00e+00 2.09e-09 0.00e+00 4.49e-10 1.18e-09\n",
      "CSDP 6.2.0\n",
      "Iter:  0 Ap: 0.00e+00 Pobj:  0.0000000e+00 Ad: 0.00e+00 Dobj:  0.0000000e+00 \n",
      "Iter:  1 Ap: 1.00e+00 Pobj: -5.6096216e+01 Ad: 4.07e-01 Dobj: -4.5047371e+00 \n",
      "Iter:  2 Ap: 1.00e+00 Pobj: -5.5003096e+01 Ad: 9.56e-01 Dobj: -7.7051125e-01 \n",
      "Iter:  3 Ap: 1.00e+00 Pobj: -2.4831843e+01 Ad: 8.97e-01 Dobj: -1.2354955e+00 \n",
      "Iter:  4 Ap: 1.00e+00 Pobj: -6.5354954e+00 Ad: 8.45e-01 Dobj: -2.7588345e+00 \n",
      "Iter:  5 Ap: 1.00e+00 Pobj: -4.8443796e+00 Ad: 9.03e-01 Dobj: -4.2536148e+00 \n",
      "Iter:  6 Ap: 1.00e+00 Pobj: -4.5235956e+00 Ad: 9.40e-01 Dobj: -4.4765107e+00 \n",
      "Iter:  7 Ap: 1.00e+00 Pobj: -4.5013948e+00 Ad: 9.60e-01 Dobj: -4.4984823e+00 \n",
      "Iter:  8 Ap: 1.00e+00 Pobj: -4.5000944e+00 Ad: 9.84e-01 Dobj: -4.4999381e+00 \n",
      "Iter:  9 Ap: 9.46e-01 Pobj: -4.5000110e+00 Ad: 1.00e+00 Dobj: -4.5000003e+00 \n",
      "Iter: 10 Ap: 9.97e-01 Pobj: -4.5000005e+00 Ad: 9.71e-01 Dobj: -4.4999999e+00 \n",
      "bound = -4.500000019875445\n"
     ]
    },
    {
     "output_type": "execute_result",
     "data": {
      "text/plain": "-4.500000019875445"
     },
     "metadata": {},
     "execution_count": 6
    }
   ],
   "cell_type": "code",
   "source": [
    "bound, gram, ν = hamiltonian_energy(\n",
    "    3,\n",
    "    2,\n",
    "    solver,\n",
    "    symmetry = false,\n",
    ")\n",
    "@show bound"
   ],
   "metadata": {},
   "execution_count": 6
  },
  {
   "cell_type": "markdown",
   "source": [
    "Now with symmetry."
   ],
   "metadata": {}
  },
  {
   "outputs": [
    {
     "name": "stdout",
     "output_type": "stream",
     "text": [
      "Iter: 11 Ap: 9.58e-01 Pobj: -4.5000000e+00 Ad: 9.58e-01 Dobj: -4.5000000e+00 \n",
      "Success: SDP solved\n",
      "Primal objective value: -4.5000000e+00 \n",
      "Dual objective value: -4.5000000e+00 \n",
      "Relative primal infeasibility: 1.63e-16 \n",
      "Relative dual infeasibility: 1.77e-09 \n",
      "Real Relative Gap: 2.08e-09 \n",
      "XZ Relative Gap: 3.52e-09 \n",
      "DIMACS error measures: 3.26e-16 0.00e+00 4.63e-09 0.00e+00 2.08e-09 3.52e-09\n",
      "CSDP 6.2.0\n",
      "Iter:  0 Ap: 0.00e+00 Pobj:  0.0000000e+00 Ad: 0.00e+00 Dobj:  0.0000000e+00 \n",
      "Iter:  1 Ap: 1.00e+00 Pobj: -2.1488907e+01 Ad: 6.25e-01 Dobj: -3.4914792e+00 \n",
      "Iter:  2 Ap: 1.00e+00 Pobj: -1.9706704e+01 Ad: 9.49e-01 Dobj: -2.0607173e+00 \n",
      "Iter:  3 Ap: 1.00e+00 Pobj: -7.8323160e+00 Ad: 8.55e-01 Dobj: -3.2119246e+00 \n",
      "Iter:  4 Ap: 1.00e+00 Pobj: -5.0865942e+00 Ad: 8.14e-01 Dobj: -4.1692312e+00 \n",
      "Iter:  5 Ap: 1.00e+00 Pobj: -4.5468031e+00 Ad: 9.20e-01 Dobj: -4.4593892e+00 \n",
      "Iter:  6 Ap: 1.00e+00 Pobj: -4.5026279e+00 Ad: 9.54e-01 Dobj: -4.4973110e+00 \n",
      "Iter:  7 Ap: 1.00e+00 Pobj: -4.5001650e+00 Ad: 9.77e-01 Dobj: -4.4998854e+00 \n",
      "Iter:  8 Ap: 1.00e+00 Pobj: -4.5000124e+00 Ad: 9.94e-01 Dobj: -4.4999970e+00 \n",
      "Iter:  9 Ap: 1.00e+00 Pobj: -4.5000008e+00 Ad: 1.00e+00 Dobj: -4.5000000e+00 \n",
      "bound = -4.500000023057006\n"
     ]
    },
    {
     "output_type": "execute_result",
     "data": {
      "text/plain": "-4.500000023057006"
     },
     "metadata": {},
     "execution_count": 7
    }
   ],
   "cell_type": "code",
   "source": [
    "bound, gram, ν = hamiltonian_energy(\n",
    "    3,\n",
    "    2,\n",
    "    solver,\n",
    ")\n",
    "@show bound"
   ],
   "metadata": {},
   "execution_count": 7
  },
  {
   "cell_type": "markdown",
   "source": [
    "Let's look at the isotypical basis."
   ],
   "metadata": {}
  },
  {
   "outputs": [
    {
     "output_type": "display_data",
     "data": {
      "text/plain": "10-element Vector{Vector{CondensedMatterSOS.SpinPolynomial{ComplexF64}}}:\n [(-0.5773502691896257 + 0.0im)σˣ₁ + (-0.5773502691896257 + 0.0im)σˣ₂ + (-0.5773502691896257 + 0.0im)σˣ₃]\n [(-0.5773502691896257 + 0.0im)σʸ₁ + (-0.5773502691896257 + 0.0im)σʸ₂ + (-0.5773502691896257 + 0.0im)σʸ₃]\n [(-0.5773502691896257 + 0.0im)σᶻ₁ + (-0.5773502691896257 + 0.0im)σᶻ₂ + (-0.5773502691896257 + 0.0im)σᶻ₃]\n [(-0.577350269189626 + 0.0im)σˣ₁ + (0.28867513459481275 + 0.5000000000000001im)σˣ₂ + (0.2886751345948131 - 0.49999999999999994im)σˣ₃]\n [(-0.577350269189626 + 0.0im)σʸ₁ + (0.28867513459481275 + 0.5000000000000001im)σʸ₂ + (0.2886751345948131 - 0.49999999999999994im)σʸ₃]\n [(-0.577350269189626 + 0.0im)σᶻ₁ + (0.28867513459481275 + 0.5000000000000001im)σᶻ₂ + (0.2886751345948131 - 0.49999999999999994im)σᶻ₃]\n [(-0.577350269189626 + 0.0im)σˣ₁ + (0.2886751345948131 - 0.49999999999999994im)σˣ₂ + (0.28867513459481275 + 0.5000000000000001im)σˣ₃]\n [(-0.577350269189626 + 0.0im)σʸ₁ + (0.2886751345948131 - 0.49999999999999994im)σʸ₂ + (0.28867513459481275 + 0.5000000000000001im)σʸ₃]\n [(-0.577350269189626 + 0.0im)σᶻ₁ + (0.2886751345948131 - 0.49999999999999994im)σᶻ₂ + (0.28867513459481275 + 0.5000000000000001im)σᶻ₃]\n [(1.0 - 0.0im)]"
     },
     "metadata": {}
    }
   ],
   "cell_type": "code",
   "source": [
    "display([M.basis.polynomials for M in ν.sub_moment_matrices])"
   ],
   "metadata": {},
   "execution_count": 8
  },
  {
   "cell_type": "markdown",
   "source": [
    "Now let's define a function for our common use case."
   ],
   "metadata": {}
  },
  {
   "outputs": [
    {
     "name": "stdout",
     "output_type": "stream",
     "text": [
      "L = 6\n",
      "***\n",
      "d = 1\n",
      "Iter: 10 Ap: 9.70e-01 Pobj: -4.5000000e+00 Ad: 9.70e-01 Dobj: -4.5000000e+00 \n",
      "Success: SDP solved\n",
      "Primal objective value: -4.5000000e+00 \n",
      "Dual objective value: -4.5000000e+00 \n",
      "Relative primal infeasibility: 5.49e-16 \n",
      "Relative dual infeasibility: 2.47e-09 \n",
      "Real Relative Gap: 2.08e-09 \n",
      "XZ Relative Gap: 5.08e-09 \n",
      "DIMACS error measures: 1.10e-15 0.00e+00 6.67e-09 0.00e+00 2.08e-09 5.08e-09\n",
      "CSDP 6.2.0\n",
      "Iter:  0 Ap: 0.00e+00 Pobj:  0.0000000e+00 Ad: 0.00e+00 Dobj:  0.0000000e+00 \n",
      "Iter:  1 Ap: 9.56e-01 Pobj: -2.2102178e+01 Ad: 5.98e-01 Dobj: -7.0084924e+00 \n",
      "Iter:  2 Ap: 1.00e+00 Pobj: -3.3490766e+01 Ad: 9.50e-01 Dobj: -7.3463752e+00 \n",
      "Iter:  3 Ap: 1.00e+00 Pobj: -2.2209224e+01 Ad: 9.06e-01 Dobj: -1.2143640e+01 \n",
      "Iter:  4 Ap: 1.00e+00 Pobj: -1.9349852e+01 Ad: 7.85e-01 Dobj: -1.5786113e+01 \n",
      "Iter:  5 Ap: 1.00e+00 Pobj: -1.8132059e+01 Ad: 8.85e-01 Dobj: -1.7541366e+01 \n",
      "Iter:  6 Ap: 1.00e+00 Pobj: -1.8008840e+01 Ad: 9.33e-01 Dobj: -1.7949970e+01 \n",
      "Iter:  7 Ap: 1.00e+00 Pobj: -1.8000695e+01 Ad: 9.51e-01 Dobj: -1.7995883e+01 \n",
      "Iter:  8 Ap: 1.00e+00 Pobj: -1.8000060e+01 Ad: 9.91e-01 Dobj: -1.7999823e+01 \n",
      "Iter:  9 Ap: 1.00e+00 Pobj: -1.8000004e+01 Ad: 1.00e+00 Dobj: -1.7999994e+01 \n",
      "Iter: 10 Ap: 1.00e+00 Pobj: -1.8000000e+01 Ad: 9.75e-01 Dobj: -1.7999999e+01 \n",
      "  0.130325 seconds (361.52 k allocations: 29.200 MiB, 22.38% gc time, 16.57% compilation time)\n",
      "bound = -18.000000007573597\n",
      "E/N = -3.0000000012622663\n",
      "------------------------------------\n"
     ]
    },
    {
     "output_type": "display_data",
     "data": {
      "text/plain": "1-element Vector{CondensedMatterSOS.SpinPolynomial{ComplexF64}}:\n (-0.408248 + 0.0im)σˣ₁ + (-0.408248 + 0.0im)σˣ₂ + (-0.408248 + 0.0im)σˣ₃ + (-0.408248 + 0.0im)σˣ₄ + (-0.408248 + 0.0im)σˣ₅ + (-0.408248 + 0.0im)σˣ₆"
     },
     "metadata": {}
    },
    {
     "output_type": "display_data",
     "data": {
      "text/plain": "1-element Vector{CondensedMatterSOS.SpinPolynomial{ComplexF64}}:\n (-0.408248 + 0.0im)σʸ₁ + (-0.408248 + 0.0im)σʸ₂ + (-0.408248 + 0.0im)σʸ₃ + (-0.408248 + 0.0im)σʸ₄ + (-0.408248 + 0.0im)σʸ₅ + (-0.408248 + 0.0im)σʸ₆"
     },
     "metadata": {}
    },
    {
     "output_type": "display_data",
     "data": {
      "text/plain": "1-element Vector{CondensedMatterSOS.SpinPolynomial{ComplexF64}}:\n (-0.408248 + 0.0im)σᶻ₁ + (-0.408248 + 0.0im)σᶻ₂ + (-0.408248 + 0.0im)σᶻ₃ + (-0.408248 + 0.0im)σᶻ₄ + (-0.408248 + 0.0im)σᶻ₅ + (-0.408248 + 0.0im)σᶻ₆"
     },
     "metadata": {}
    },
    {
     "output_type": "display_data",
     "data": {
      "text/plain": "1-element Vector{CondensedMatterSOS.SpinPolynomial{ComplexF64}}:\n (-0.408248 + 0.0im)σˣ₁ + (0.204124 + 0.353553im)σˣ₂ + (0.204124 - 0.353553im)σˣ₃ + (-0.408248 + 0.0im)σˣ₄ + (0.204124 + 0.353553im)σˣ₅ + (0.204124 - 0.353553im)σˣ₆"
     },
     "metadata": {}
    },
    {
     "output_type": "display_data",
     "data": {
      "text/plain": "1-element Vector{CondensedMatterSOS.SpinPolynomial{ComplexF64}}:\n (-0.408248 + 0.0im)σʸ₁ + (0.204124 + 0.353553im)σʸ₂ + (0.204124 - 0.353553im)σʸ₃ + (-0.408248 + 0.0im)σʸ₄ + (0.204124 + 0.353553im)σʸ₅ + (0.204124 - 0.353553im)σʸ₆"
     },
     "metadata": {}
    },
    {
     "output_type": "display_data",
     "data": {
      "text/plain": "1-element Vector{CondensedMatterSOS.SpinPolynomial{ComplexF64}}:\n (-0.408248 + 0.0im)σᶻ₁ + (0.204124 + 0.353553im)σᶻ₂ + (0.204124 - 0.353553im)σᶻ₃ + (-0.408248 + 0.0im)σᶻ₄ + (0.204124 + 0.353553im)σᶻ₅ + (0.204124 - 0.353553im)σᶻ₆"
     },
     "metadata": {}
    },
    {
     "output_type": "display_data",
     "data": {
      "text/plain": "1-element Vector{CondensedMatterSOS.SpinPolynomial{ComplexF64}}:\n (-0.408248 + 0.0im)σˣ₁ + (-0.204124 + 0.353553im)σˣ₂ + (0.204124 + 0.353553im)σˣ₃ + (0.408248 + 0.0im)σˣ₄ + (0.204124 - 0.353553im)σˣ₅ + (-0.204124 - 0.353553im)σˣ₆"
     },
     "metadata": {}
    },
    {
     "output_type": "display_data",
     "data": {
      "text/plain": "1-element Vector{CondensedMatterSOS.SpinPolynomial{ComplexF64}}:\n (-0.408248 + 0.0im)σʸ₁ + (-0.204124 + 0.353553im)σʸ₂ + (0.204124 + 0.353553im)σʸ₃ + (0.408248 + 0.0im)σʸ₄ + (0.204124 - 0.353553im)σʸ₅ + (-0.204124 - 0.353553im)σʸ₆"
     },
     "metadata": {}
    },
    {
     "output_type": "display_data",
     "data": {
      "text/plain": "1-element Vector{CondensedMatterSOS.SpinPolynomial{ComplexF64}}:\n (-0.408248 + 0.0im)σᶻ₁ + (-0.204124 + 0.353553im)σᶻ₂ + (0.204124 + 0.353553im)σᶻ₃ + (0.408248 + 0.0im)σᶻ₄ + (0.204124 - 0.353553im)σᶻ₅ + (-0.204124 - 0.353553im)σᶻ₆"
     },
     "metadata": {}
    },
    {
     "output_type": "display_data",
     "data": {
      "text/plain": "1-element Vector{CondensedMatterSOS.SpinPolynomial{ComplexF64}}:\n (-0.408248 + 0.0im)σˣ₁ + (0.204124 - 0.353553im)σˣ₂ + (0.204124 + 0.353553im)σˣ₃ + (-0.408248 + 0.0im)σˣ₄ + (0.204124 - 0.353553im)σˣ₅ + (0.204124 + 0.353553im)σˣ₆"
     },
     "metadata": {}
    },
    {
     "output_type": "display_data",
     "data": {
      "text/plain": "1-element Vector{CondensedMatterSOS.SpinPolynomial{ComplexF64}}:\n (-0.408248 + 0.0im)σʸ₁ + (0.204124 - 0.353553im)σʸ₂ + (0.204124 + 0.353553im)σʸ₃ + (-0.408248 + 0.0im)σʸ₄ + (0.204124 - 0.353553im)σʸ₅ + (0.204124 + 0.353553im)σʸ₆"
     },
     "metadata": {}
    },
    {
     "output_type": "display_data",
     "data": {
      "text/plain": "1-element Vector{CondensedMatterSOS.SpinPolynomial{ComplexF64}}:\n (-0.408248 + 0.0im)σᶻ₁ + (0.204124 - 0.353553im)σᶻ₂ + (0.204124 + 0.353553im)σᶻ₃ + (-0.408248 + 0.0im)σᶻ₄ + (0.204124 - 0.353553im)σᶻ₅ + (0.204124 + 0.353553im)σᶻ₆"
     },
     "metadata": {}
    },
    {
     "output_type": "display_data",
     "data": {
      "text/plain": "1-element Vector{CondensedMatterSOS.SpinPolynomial{ComplexF64}}:\n (-0.408248 + 0.0im)σˣ₁ + (-0.204124 - 0.353553im)σˣ₂ + (0.204124 - 0.353553im)σˣ₃ + (0.408248 + 0.0im)σˣ₄ + (0.204124 + 0.353553im)σˣ₅ + (-0.204124 + 0.353553im)σˣ₆"
     },
     "metadata": {}
    },
    {
     "output_type": "display_data",
     "data": {
      "text/plain": "1-element Vector{CondensedMatterSOS.SpinPolynomial{ComplexF64}}:\n (-0.408248 + 0.0im)σʸ₁ + (-0.204124 - 0.353553im)σʸ₂ + (0.204124 - 0.353553im)σʸ₃ + (0.408248 + 0.0im)σʸ₄ + (0.204124 + 0.353553im)σʸ₅ + (-0.204124 + 0.353553im)σʸ₆"
     },
     "metadata": {}
    },
    {
     "output_type": "display_data",
     "data": {
      "text/plain": "1-element Vector{CondensedMatterSOS.SpinPolynomial{ComplexF64}}:\n (-0.408248 + 0.0im)σᶻ₁ + (-0.204124 - 0.353553im)σᶻ₂ + (0.204124 - 0.353553im)σᶻ₃ + (0.408248 + 0.0im)σᶻ₄ + (0.204124 + 0.353553im)σᶻ₅ + (-0.204124 + 0.353553im)σᶻ₆"
     },
     "metadata": {}
    },
    {
     "output_type": "display_data",
     "data": {
      "text/plain": "1-element Vector{CondensedMatterSOS.SpinPolynomial{ComplexF64}}:\n (-0.408248 + 0.0im)σˣ₁ + (0.408248 + 0.0im)σˣ₂ + (-0.408248 + 0.0im)σˣ₃ + (0.408248 + 0.0im)σˣ₄ + (-0.408248 + 0.0im)σˣ₅ + (0.408248 + 0.0im)σˣ₆"
     },
     "metadata": {}
    },
    {
     "output_type": "display_data",
     "data": {
      "text/plain": "1-element Vector{CondensedMatterSOS.SpinPolynomial{ComplexF64}}:\n (-0.408248 + 0.0im)σʸ₁ + (0.408248 + 0.0im)σʸ₂ + (-0.408248 + 0.0im)σʸ₃ + (0.408248 + 0.0im)σʸ₄ + (-0.408248 + 0.0im)σʸ₅ + (0.408248 + 0.0im)σʸ₆"
     },
     "metadata": {}
    },
    {
     "output_type": "display_data",
     "data": {
      "text/plain": "1-element Vector{CondensedMatterSOS.SpinPolynomial{ComplexF64}}:\n (-0.408248 + 0.0im)σᶻ₁ + (0.408248 + 0.0im)σᶻ₂ + (-0.408248 + 0.0im)σᶻ₃ + (0.408248 + 0.0im)σᶻ₄ + (-0.408248 + 0.0im)σᶻ₅ + (0.408248 + 0.0im)σᶻ₆"
     },
     "metadata": {}
    },
    {
     "output_type": "display_data",
     "data": {
      "text/plain": "1-element Vector{CondensedMatterSOS.SpinPolynomial{ComplexF64}}:\n (1.0 - 0.0im)"
     },
     "metadata": {}
    }
   ],
   "cell_type": "code",
   "source": [
    "function f(L, d=1, consecutive=false; symmetry=true)\n",
    "    @show L\n",
    "    println(\"***\")\n",
    "    @show d\n",
    "    bound, gram, ν = @time hamiltonian_energy(\n",
    "        L,\n",
    "        2d,\n",
    "        solver,\n",
    "        consecutive=consecutive,\n",
    "        symmetry=symmetry,\n",
    "    )\n",
    "    @show bound\n",
    "    for M in ν.sub_moment_matrices\n",
    "        display(round.(M.basis.polynomials, digits=6))\n",
    "    end\n",
    "    println(\"E/N = \", bound / L)\n",
    "    println(\"------------------------------------\")\n",
    "end\n",
    "\n",
    "f(6, 1, true)"
   ],
   "metadata": {},
   "execution_count": 9
  },
  {
   "cell_type": "markdown",
   "source": [
    "Now with `d = 2`."
   ],
   "metadata": {}
  },
  {
   "outputs": [
    {
     "name": "stdout",
     "output_type": "stream",
     "text": [
      "L = 6\n",
      "***\n",
      "d = 2\n",
      "Iter: 11 Ap: 9.59e-01 Pobj: -1.8000000e+01 Ad: 9.59e-01 Dobj: -1.8000000e+01 \n",
      "Success: SDP solved\n",
      "Primal objective value: -1.8000000e+01 \n",
      "Dual objective value: -1.8000000e+01 \n",
      "Relative primal infeasibility: 6.04e-15 \n",
      "Relative dual infeasibility: 6.50e-10 \n",
      "Real Relative Gap: 7.64e-10 \n",
      "XZ Relative Gap: 1.16e-09 \n",
      "DIMACS error measures: 1.58e-14 0.00e+00 2.22e-09 0.00e+00 7.64e-10 1.16e-09\n",
      "CSDP 6.2.0\n",
      "Iter:  0 Ap: 0.00e+00 Pobj:  0.0000000e+00 Ad: 0.00e+00 Dobj:  0.0000000e+00 \n",
      "Iter:  1 Ap: 8.49e-01 Pobj: -2.5529703e+01 Ad: 5.17e-01 Dobj: -7.8034414e+00 \n",
      "Iter:  2 Ap: 1.00e+00 Pobj: -2.2424814e+02 Ad: 7.81e-01 Dobj:  1.1152854e+00 \n",
      "Iter:  3 Ap: 1.00e+00 Pobj: -2.0483924e+02 Ad: 7.58e-01 Dobj: -2.4950881e+00 \n",
      "Iter:  4 Ap: 1.00e+00 Pobj: -7.0145980e+01 Ad: 8.78e-01 Dobj: -2.7318044e+00 \n",
      "Iter:  5 Ap: 1.00e+00 Pobj: -2.8082270e+01 Ad: 8.25e-01 Dobj: -5.3450726e+00 \n",
      "Iter:  6 Ap: 1.00e+00 Pobj: -1.9399916e+01 Ad: 8.74e-01 Dobj: -9.6128294e+00 \n",
      "Iter:  7 Ap: 8.31e-01 Pobj: -1.5297154e+01 Ad: 7.80e-01 Dobj: -9.9211876e+00 \n",
      "Iter:  8 Ap: 1.00e+00 Pobj: -1.3293035e+01 Ad: 6.71e-01 Dobj: -1.0812164e+01 \n",
      "Iter:  9 Ap: 1.00e+00 Pobj: -1.2423162e+01 Ad: 7.71e-01 Dobj: -1.1525773e+01 \n",
      "Iter: 10 Ap: 1.00e+00 Pobj: -1.2083296e+01 Ad: 8.62e-01 Dobj: -1.1879161e+01 \n",
      "Iter: 11 Ap: 1.00e+00 Pobj: -1.2009190e+01 Ad: 9.83e-01 Dobj: -1.1989887e+01 \n",
      "Iter: 12 Ap: 1.00e+00 Pobj: -1.2000492e+01 Ad: 9.94e-01 Dobj: -1.1999484e+01 \n",
      "Iter: 13 Ap: 9.82e-01 Pobj: -1.2000041e+01 Ad: 1.00e+00 Dobj: -1.1999974e+01 \n",
      "Iter: 14 Ap: 9.99e-01 Pobj: -1.2000002e+01 Ad: 1.00e+00 Dobj: -1.1999999e+01 \n",
      "  1.364545 seconds (3.11 M allocations: 357.188 MiB, 8.90% gc time)\n",
      "bound = -12.000000068582459\n",
      "E/N = -2.00000001143041\n",
      "------------------------------------\n"
     ]
    },
    {
     "output_type": "display_data",
     "data": {
      "text/plain": "1-element Vector{CondensedMatterSOS.SpinPolynomial{ComplexF64}}:\n (-0.333333 + 0.0im)σˣ₁σˣ₂ + (-0.333333 + 0.0im)σˣ₁σˣ₆ + (0.166667 + 0.0im)σʸ₁σʸ₂ + (0.166667 + 0.0im)σʸ₁σʸ₆ + (0.166667 + 0.0im)σᶻ₁σᶻ₂ + (0.166667 + 0.0im)σᶻ₁σᶻ₆ + (-0.333333 + 0.0im)σˣ₂σˣ₃ + (0.166667 + 0.0im)σʸ₂σʸ₃ + (0.166667 + 0.0im)σᶻ₂σᶻ₃ + (-0.333333 + 0.0im)σˣ₃σˣ₄ + (0.166667 + 0.0im)σʸ₃σʸ₄ + (0.166667 + 0.0im)σᶻ₃σᶻ₄ + (-0.333333 + 0.0im)σˣ₄σˣ₅ + (0.166667 + 0.0im)σʸ₄σʸ₅ + (0.166667 + 0.0im)σᶻ₄σᶻ₅ + (-0.333333 + 0.0im)σˣ₅σˣ₆ + (0.166667 + 0.0im)σʸ₅σʸ₆ + (0.166667 + 0.0im)σᶻ₅σᶻ₆"
     },
     "metadata": {}
    },
    {
     "output_type": "display_data",
     "data": {
      "text/plain": "1-element Vector{CondensedMatterSOS.SpinPolynomial{ComplexF64}}:\n (-0.288675 + 0.0im)σʸ₁σʸ₂ + (-0.288675 + 0.0im)σʸ₁σʸ₆ + (0.288675 + 0.0im)σᶻ₁σᶻ₂ + (0.288675 + 0.0im)σᶻ₁σᶻ₆ + (-0.288675 + 0.0im)σʸ₂σʸ₃ + (0.288675 + 0.0im)σᶻ₂σᶻ₃ + (-0.288675 + 0.0im)σʸ₃σʸ₄ + (0.288675 + 0.0im)σᶻ₃σᶻ₄ + (-0.288675 + 0.0im)σʸ₄σʸ₅ + (0.288675 + 0.0im)σᶻ₄σᶻ₅ + (-0.288675 + 0.0im)σʸ₅σʸ₆ + (0.288675 + 0.0im)σᶻ₅σᶻ₆"
     },
     "metadata": {}
    },
    {
     "output_type": "display_data",
     "data": {
      "text/plain": "1-element Vector{CondensedMatterSOS.SpinPolynomial{ComplexF64}}:\n (-0.333333 + 0.0im)σˣ₁σˣ₂ + (0.166667 - 0.288675im)σˣ₁σˣ₆ + (0.166667 + 0.0im)σʸ₁σʸ₂ + (-0.083333 + 0.144338im)σʸ₁σʸ₆ + (0.166667 + 0.0im)σᶻ₁σᶻ₂ + (-0.083333 + 0.144338im)σᶻ₁σᶻ₆ + (0.166667 + 0.288675im)σˣ₂σˣ₃ + (-0.083333 - 0.144338im)σʸ₂σʸ₃ + (-0.083333 - 0.144338im)σᶻ₂σᶻ₃ + (0.166667 - 0.288675im)σˣ₃σˣ₄ + (-0.083333 + 0.144338im)σʸ₃σʸ₄ + (-0.083333 + 0.144338im)σᶻ₃σᶻ₄ + (-0.333333 + 0.0im)σˣ₄σˣ₅ + (0.166667 + 0.0im)σʸ₄σʸ₅ + (0.166667 + 0.0im)σᶻ₄σᶻ₅ + (0.166667 + 0.288675im)σˣ₅σˣ₆ + (-0.083333 - 0.144338im)σʸ₅σʸ₆ + (-0.083333 - 0.144338im)σᶻ₅σᶻ₆"
     },
     "metadata": {}
    },
    {
     "output_type": "display_data",
     "data": {
      "text/plain": "1-element Vector{CondensedMatterSOS.SpinPolynomial{ComplexF64}}:\n (-0.288675 + 0.0im)σʸ₁σʸ₂ + (0.144338 - 0.25im)σʸ₁σʸ₆ + (0.288675 + 0.0im)σᶻ₁σᶻ₂ + (-0.144338 + 0.25im)σᶻ₁σᶻ₆ + (0.144338 + 0.25im)σʸ₂σʸ₃ + (-0.144338 - 0.25im)σᶻ₂σᶻ₃ + (0.144338 - 0.25im)σʸ₃σʸ₄ + (-0.144338 + 0.25im)σᶻ₃σᶻ₄ + (-0.288675 + 0.0im)σʸ₄σʸ₅ + (0.288675 + 0.0im)σᶻ₄σᶻ₅ + (0.144338 + 0.25im)σʸ₅σʸ₆ + (-0.144338 - 0.25im)σᶻ₅σᶻ₆"
     },
     "metadata": {}
    },
    {
     "output_type": "display_data",
     "data": {
      "text/plain": "1-element Vector{CondensedMatterSOS.SpinPolynomial{ComplexF64}}:\n (-0.333333 + 0.0im)σˣ₁σˣ₂ + (-0.166667 - 0.288675im)σˣ₁σˣ₆ + (0.166667 + 0.0im)σʸ₁σʸ₂ + (0.083333 + 0.144338im)σʸ₁σʸ₆ + (0.166667 + 0.0im)σᶻ₁σᶻ₂ + (0.083333 + 0.144338im)σᶻ₁σᶻ₆ + (-0.166667 + 0.288675im)σˣ₂σˣ₃ + (0.083333 - 0.144338im)σʸ₂σʸ₃ + (0.083333 - 0.144338im)σᶻ₂σᶻ₃ + (0.166667 + 0.288675im)σˣ₃σˣ₄ + (-0.083333 - 0.144338im)σʸ₃σʸ₄ + (-0.083333 - 0.144338im)σᶻ₃σᶻ₄ + (0.333333 + 0.0im)σˣ₄σˣ₅ + (-0.166667 + 0.0im)σʸ₄σʸ₅ + (-0.166667 + 0.0im)σᶻ₄σᶻ₅ + (0.166667 - 0.288675im)σˣ₅σˣ₆ + (-0.083333 + 0.144338im)σʸ₅σʸ₆ + (-0.083333 + 0.144338im)σᶻ₅σᶻ₆"
     },
     "metadata": {}
    },
    {
     "output_type": "display_data",
     "data": {
      "text/plain": "1-element Vector{CondensedMatterSOS.SpinPolynomial{ComplexF64}}:\n (-0.288675 - 0.0im)σʸ₁σʸ₂ + (-0.144338 - 0.25im)σʸ₁σʸ₆ + (0.288675 - 0.0im)σᶻ₁σᶻ₂ + (0.144338 + 0.25im)σᶻ₁σᶻ₆ + (-0.144338 + 0.25im)σʸ₂σʸ₃ + (0.144338 - 0.25im)σᶻ₂σᶻ₃ + (0.144338 + 0.25im)σʸ₃σʸ₄ + (-0.144338 - 0.25im)σᶻ₃σᶻ₄ + (0.288675 + 0.0im)σʸ₄σʸ₅ + (-0.288675 + 0.0im)σᶻ₄σᶻ₅ + (0.144338 - 0.25im)σʸ₅σʸ₆ + (-0.144338 + 0.25im)σᶻ₅σᶻ₆"
     },
     "metadata": {}
    },
    {
     "output_type": "display_data",
     "data": {
      "text/plain": "1-element Vector{CondensedMatterSOS.SpinPolynomial{ComplexF64}}:\n (-0.333333 + 0.0im)σˣ₁σˣ₂ + (0.166667 + 0.288675im)σˣ₁σˣ₆ + (0.166667 + 0.0im)σʸ₁σʸ₂ + (-0.083333 - 0.144338im)σʸ₁σʸ₆ + (0.166667 + 0.0im)σᶻ₁σᶻ₂ + (-0.083333 - 0.144338im)σᶻ₁σᶻ₆ + (0.166667 - 0.288675im)σˣ₂σˣ₃ + (-0.083333 + 0.144338im)σʸ₂σʸ₃ + (-0.083333 + 0.144338im)σᶻ₂σᶻ₃ + (0.166667 + 0.288675im)σˣ₃σˣ₄ + (-0.083333 - 0.144338im)σʸ₃σʸ₄ + (-0.083333 - 0.144338im)σᶻ₃σᶻ₄ + (-0.333333 + 0.0im)σˣ₄σˣ₅ + (0.166667 + 0.0im)σʸ₄σʸ₅ + (0.166667 + 0.0im)σᶻ₄σᶻ₅ + (0.166667 - 0.288675im)σˣ₅σˣ₆ + (-0.083333 + 0.144338im)σʸ₅σʸ₆ + (-0.083333 + 0.144338im)σᶻ₅σᶻ₆"
     },
     "metadata": {}
    },
    {
     "output_type": "display_data",
     "data": {
      "text/plain": "1-element Vector{CondensedMatterSOS.SpinPolynomial{ComplexF64}}:\n (-0.288675 - 0.0im)σʸ₁σʸ₂ + (0.144338 + 0.25im)σʸ₁σʸ₆ + (0.288675 - 0.0im)σᶻ₁σᶻ₂ + (-0.144338 - 0.25im)σᶻ₁σᶻ₆ + (0.144338 - 0.25im)σʸ₂σʸ₃ + (-0.144338 + 0.25im)σᶻ₂σᶻ₃ + (0.144338 + 0.25im)σʸ₃σʸ₄ + (-0.144338 - 0.25im)σᶻ₃σᶻ₄ + (-0.288675 - 0.0im)σʸ₄σʸ₅ + (0.288675 - 0.0im)σᶻ₄σᶻ₅ + (0.144338 - 0.25im)σʸ₅σʸ₆ + (-0.144338 + 0.25im)σᶻ₅σᶻ₆"
     },
     "metadata": {}
    },
    {
     "output_type": "display_data",
     "data": {
      "text/plain": "1-element Vector{CondensedMatterSOS.SpinPolynomial{ComplexF64}}:\n (-0.333333 + 0.0im)σˣ₁σˣ₂ + (-0.166667 + 0.288675im)σˣ₁σˣ₆ + (0.166667 + 0.0im)σʸ₁σʸ₂ + (0.083333 - 0.144338im)σʸ₁σʸ₆ + (0.166667 + 0.0im)σᶻ₁σᶻ₂ + (0.083333 - 0.144338im)σᶻ₁σᶻ₆ + (-0.166667 - 0.288675im)σˣ₂σˣ₃ + (0.083333 + 0.144338im)σʸ₂σʸ₃ + (0.083333 + 0.144338im)σᶻ₂σᶻ₃ + (0.166667 - 0.288675im)σˣ₃σˣ₄ + (-0.083333 + 0.144338im)σʸ₃σʸ₄ + (-0.083333 + 0.144338im)σᶻ₃σᶻ₄ + (0.333333 + 0.0im)σˣ₄σˣ₅ + (-0.166667 + 0.0im)σʸ₄σʸ₅ + (-0.166667 + 0.0im)σᶻ₄σᶻ₅ + (0.166667 + 0.288675im)σˣ₅σˣ₆ + (-0.083333 - 0.144338im)σʸ₅σʸ₆ + (-0.083333 - 0.144338im)σᶻ₅σᶻ₆"
     },
     "metadata": {}
    },
    {
     "output_type": "display_data",
     "data": {
      "text/plain": "1-element Vector{CondensedMatterSOS.SpinPolynomial{ComplexF64}}:\n (-0.288675 + 0.0im)σʸ₁σʸ₂ + (-0.144338 + 0.25im)σʸ₁σʸ₆ + (0.288675 + 0.0im)σᶻ₁σᶻ₂ + (0.144338 - 0.25im)σᶻ₁σᶻ₆ + (-0.144338 - 0.25im)σʸ₂σʸ₃ + (0.144338 + 0.25im)σᶻ₂σᶻ₃ + (0.144338 - 0.25im)σʸ₃σʸ₄ + (-0.144338 + 0.25im)σᶻ₃σᶻ₄ + (0.288675 - 0.0im)σʸ₄σʸ₅ + (-0.288675 - 0.0im)σᶻ₄σᶻ₅ + (0.144338 + 0.25im)σʸ₅σʸ₆ + (-0.144338 - 0.25im)σᶻ₅σᶻ₆"
     },
     "metadata": {}
    },
    {
     "output_type": "display_data",
     "data": {
      "text/plain": "1-element Vector{CondensedMatterSOS.SpinPolynomial{ComplexF64}}:\n (-0.333333 + 0.0im)σˣ₁σˣ₂ + (0.333333 + 0.0im)σˣ₁σˣ₆ + (0.166667 + 0.0im)σʸ₁σʸ₂ + (-0.166667 + 0.0im)σʸ₁σʸ₆ + (0.166667 + 0.0im)σᶻ₁σᶻ₂ + (-0.166667 + 0.0im)σᶻ₁σᶻ₆ + (0.333333 + 0.0im)σˣ₂σˣ₃ + (-0.166667 + 0.0im)σʸ₂σʸ₃ + (-0.166667 + 0.0im)σᶻ₂σᶻ₃ + (-0.333333 + 0.0im)σˣ₃σˣ₄ + (0.166667 + 0.0im)σʸ₃σʸ₄ + (0.166667 + 0.0im)σᶻ₃σᶻ₄ + (0.333333 + 0.0im)σˣ₄σˣ₅ + (-0.166667 + 0.0im)σʸ₄σʸ₅ + (-0.166667 + 0.0im)σᶻ₄σᶻ₅ + (-0.333333 + 0.0im)σˣ₅σˣ₆ + (0.166667 + 0.0im)σʸ₅σʸ₆ + (0.166667 + 0.0im)σᶻ₅σᶻ₆"
     },
     "metadata": {}
    },
    {
     "output_type": "display_data",
     "data": {
      "text/plain": "1-element Vector{CondensedMatterSOS.SpinPolynomial{ComplexF64}}:\n (-0.288675 + 0.0im)σʸ₁σʸ₂ + (0.288675 + 0.0im)σʸ₁σʸ₆ + (0.288675 + 0.0im)σᶻ₁σᶻ₂ + (-0.288675 + 0.0im)σᶻ₁σᶻ₆ + (0.288675 + 0.0im)σʸ₂σʸ₃ + (-0.288675 + 0.0im)σᶻ₂σᶻ₃ + (-0.288675 + 0.0im)σʸ₃σʸ₄ + (0.288675 + 0.0im)σᶻ₃σᶻ₄ + (0.288675 + 0.0im)σʸ₄σʸ₅ + (-0.288675 + 0.0im)σᶻ₄σᶻ₅ + (-0.288675 + 0.0im)σʸ₅σʸ₆ + (0.288675 + 0.0im)σᶻ₅σᶻ₆"
     },
     "metadata": {}
    },
    {
     "output_type": "display_data",
     "data": {
      "text/plain": "2-element Vector{CondensedMatterSOS.SpinPolynomial{ComplexF64}}:\n (-0.288675 + 0.0im)σˣ₁σʸ₂ + (-0.288675 + 0.0im)σˣ₁σʸ₆ + (-0.288675 + 0.0im)σʸ₁σˣ₂ + (-0.288675 + 0.0im)σʸ₁σˣ₆ + (-0.288675 + 0.0im)σˣ₂σʸ₃ + (-0.288675 + 0.0im)σʸ₂σˣ₃ + (-0.288675 + 0.0im)σˣ₃σʸ₄ + (-0.288675 + 0.0im)σʸ₃σˣ₄ + (-0.288675 + 0.0im)σˣ₄σʸ₅ + (-0.288675 + 0.0im)σʸ₄σˣ₅ + (-0.288675 + 0.0im)σˣ₅σʸ₆ + (-0.288675 + 0.0im)σʸ₅σˣ₆\n (-0.408248 + 0.0im)σᶻ₁ + (-0.408248 + 0.0im)σᶻ₂ + (-0.408248 + 0.0im)σᶻ₃ + (-0.408248 + 0.0im)σᶻ₄ + (-0.408248 + 0.0im)σᶻ₅ + (-0.408248 + 0.0im)σᶻ₆"
     },
     "metadata": {}
    },
    {
     "output_type": "display_data",
     "data": {
      "text/plain": "2-element Vector{CondensedMatterSOS.SpinPolynomial{ComplexF64}}:\n (-0.288675 + 0.0im)σˣ₁σᶻ₂ + (-0.288675 + 0.0im)σˣ₁σᶻ₆ + (-0.288675 + 0.0im)σᶻ₁σˣ₂ + (-0.288675 + 0.0im)σᶻ₁σˣ₆ + (-0.288675 + 0.0im)σˣ₂σᶻ₃ + (-0.288675 + 0.0im)σᶻ₂σˣ₃ + (-0.288675 + 0.0im)σˣ₃σᶻ₄ + (-0.288675 + 0.0im)σᶻ₃σˣ₄ + (-0.288675 + 0.0im)σˣ₄σᶻ₅ + (-0.288675 + 0.0im)σᶻ₄σˣ₅ + (-0.288675 + 0.0im)σˣ₅σᶻ₆ + (-0.288675 + 0.0im)σᶻ₅σˣ₆\n (-0.408248 + 0.0im)σʸ₁ + (-0.408248 + 0.0im)σʸ₂ + (-0.408248 + 0.0im)σʸ₃ + (-0.408248 + 0.0im)σʸ₄ + (-0.408248 + 0.0im)σʸ₅ + (-0.408248 + 0.0im)σʸ₆"
     },
     "metadata": {}
    },
    {
     "output_type": "display_data",
     "data": {
      "text/plain": "2-element Vector{CondensedMatterSOS.SpinPolynomial{ComplexF64}}:\n (-0.288675 + 0.0im)σʸ₁σᶻ₂ + (-0.288675 + 0.0im)σʸ₁σᶻ₆ + (-0.288675 + 0.0im)σᶻ₁σʸ₂ + (-0.288675 + 0.0im)σᶻ₁σʸ₆ + (-0.288675 + 0.0im)σʸ₂σᶻ₃ + (-0.288675 + 0.0im)σᶻ₂σʸ₃ + (-0.288675 + 0.0im)σʸ₃σᶻ₄ + (-0.288675 + 0.0im)σᶻ₃σʸ₄ + (-0.288675 + 0.0im)σʸ₄σᶻ₅ + (-0.288675 + 0.0im)σᶻ₄σʸ₅ + (-0.288675 + 0.0im)σʸ₅σᶻ₆ + (-0.288675 + 0.0im)σᶻ₅σʸ₆\n (-0.408248 + 0.0im)σˣ₁ + (-0.408248 + 0.0im)σˣ₂ + (-0.408248 + 0.0im)σˣ₃ + (-0.408248 + 0.0im)σˣ₄ + (-0.408248 + 0.0im)σˣ₅ + (-0.408248 + 0.0im)σˣ₆"
     },
     "metadata": {}
    },
    {
     "output_type": "display_data",
     "data": {
      "text/plain": "2-element Vector{CondensedMatterSOS.SpinPolynomial{ComplexF64}}:\n (-0.288675 + 0.0im)σˣ₁σʸ₂ + (0.144338 - 0.25im)σˣ₁σʸ₆ + (-0.288675 + 0.0im)σʸ₁σˣ₂ + (0.144338 - 0.25im)σʸ₁σˣ₆ + (0.144338 + 0.25im)σˣ₂σʸ₃ + (0.144338 + 0.25im)σʸ₂σˣ₃ + (0.144338 - 0.25im)σˣ₃σʸ₄ + (0.144338 - 0.25im)σʸ₃σˣ₄ + (-0.288675 + 0.0im)σˣ₄σʸ₅ + (-0.288675 + 0.0im)σʸ₄σˣ₅ + (0.144338 + 0.25im)σˣ₅σʸ₆ + (0.144338 + 0.25im)σʸ₅σˣ₆\n (-0.408248 + 0.0im)σᶻ₁ + (0.204124 + 0.353553im)σᶻ₂ + (0.204124 - 0.353553im)σᶻ₃ + (-0.408248 + 0.0im)σᶻ₄ + (0.204124 + 0.353553im)σᶻ₅ + (0.204124 - 0.353553im)σᶻ₆"
     },
     "metadata": {}
    },
    {
     "output_type": "display_data",
     "data": {
      "text/plain": "2-element Vector{CondensedMatterSOS.SpinPolynomial{ComplexF64}}:\n (-0.288675 + 0.0im)σˣ₁σᶻ₂ + (0.144338 - 0.25im)σˣ₁σᶻ₆ + (-0.288675 + 0.0im)σᶻ₁σˣ₂ + (0.144338 - 0.25im)σᶻ₁σˣ₆ + (0.144338 + 0.25im)σˣ₂σᶻ₃ + (0.144338 + 0.25im)σᶻ₂σˣ₃ + (0.144338 - 0.25im)σˣ₃σᶻ₄ + (0.144338 - 0.25im)σᶻ₃σˣ₄ + (-0.288675 + 0.0im)σˣ₄σᶻ₅ + (-0.288675 + 0.0im)σᶻ₄σˣ₅ + (0.144338 + 0.25im)σˣ₅σᶻ₆ + (0.144338 + 0.25im)σᶻ₅σˣ₆\n (-0.408248 + 0.0im)σʸ₁ + (0.204124 + 0.353553im)σʸ₂ + (0.204124 - 0.353553im)σʸ₃ + (-0.408248 + 0.0im)σʸ₄ + (0.204124 + 0.353553im)σʸ₅ + (0.204124 - 0.353553im)σʸ₆"
     },
     "metadata": {}
    },
    {
     "output_type": "display_data",
     "data": {
      "text/plain": "2-element Vector{CondensedMatterSOS.SpinPolynomial{ComplexF64}}:\n (-0.288675 + 0.0im)σʸ₁σᶻ₂ + (0.144338 - 0.25im)σʸ₁σᶻ₆ + (-0.288675 + 0.0im)σᶻ₁σʸ₂ + (0.144338 - 0.25im)σᶻ₁σʸ₆ + (0.144338 + 0.25im)σʸ₂σᶻ₃ + (0.144338 + 0.25im)σᶻ₂σʸ₃ + (0.144338 - 0.25im)σʸ₃σᶻ₄ + (0.144338 - 0.25im)σᶻ₃σʸ₄ + (-0.288675 + 0.0im)σʸ₄σᶻ₅ + (-0.288675 + 0.0im)σᶻ₄σʸ₅ + (0.144338 + 0.25im)σʸ₅σᶻ₆ + (0.144338 + 0.25im)σᶻ₅σʸ₆\n (-0.408248 + 0.0im)σˣ₁ + (0.204124 + 0.353553im)σˣ₂ + (0.204124 - 0.353553im)σˣ₃ + (-0.408248 + 0.0im)σˣ₄ + (0.204124 + 0.353553im)σˣ₅ + (0.204124 - 0.353553im)σˣ₆"
     },
     "metadata": {}
    },
    {
     "output_type": "display_data",
     "data": {
      "text/plain": "2-element Vector{CondensedMatterSOS.SpinPolynomial{ComplexF64}}:\n (-0.288675 + 0.0im)σˣ₁σʸ₂ + (-0.144338 - 0.25im)σˣ₁σʸ₆ + (-0.288675 + 0.0im)σʸ₁σˣ₂ + (-0.144338 - 0.25im)σʸ₁σˣ₆ + (-0.144338 + 0.25im)σˣ₂σʸ₃ + (-0.144338 + 0.25im)σʸ₂σˣ₃ + (0.144338 + 0.25im)σˣ₃σʸ₄ + (0.144338 + 0.25im)σʸ₃σˣ₄ + (0.288675 + 0.0im)σˣ₄σʸ₅ + (0.288675 + 0.0im)σʸ₄σˣ₅ + (0.144338 - 0.25im)σˣ₅σʸ₆ + (0.144338 - 0.25im)σʸ₅σˣ₆\n (-0.408248 + 0.0im)σᶻ₁ + (-0.204124 + 0.353553im)σᶻ₂ + (0.204124 + 0.353553im)σᶻ₃ + (0.408248 + 0.0im)σᶻ₄ + (0.204124 - 0.353553im)σᶻ₅ + (-0.204124 - 0.353553im)σᶻ₆"
     },
     "metadata": {}
    },
    {
     "output_type": "display_data",
     "data": {
      "text/plain": "2-element Vector{CondensedMatterSOS.SpinPolynomial{ComplexF64}}:\n (-0.288675 + 0.0im)σˣ₁σᶻ₂ + (-0.144338 - 0.25im)σˣ₁σᶻ₆ + (-0.288675 + 0.0im)σᶻ₁σˣ₂ + (-0.144338 - 0.25im)σᶻ₁σˣ₆ + (-0.144338 + 0.25im)σˣ₂σᶻ₃ + (-0.144338 + 0.25im)σᶻ₂σˣ₃ + (0.144338 + 0.25im)σˣ₃σᶻ₄ + (0.144338 + 0.25im)σᶻ₃σˣ₄ + (0.288675 + 0.0im)σˣ₄σᶻ₅ + (0.288675 + 0.0im)σᶻ₄σˣ₅ + (0.144338 - 0.25im)σˣ₅σᶻ₆ + (0.144338 - 0.25im)σᶻ₅σˣ₆\n (-0.408248 + 0.0im)σʸ₁ + (-0.204124 + 0.353553im)σʸ₂ + (0.204124 + 0.353553im)σʸ₃ + (0.408248 + 0.0im)σʸ₄ + (0.204124 - 0.353553im)σʸ₅ + (-0.204124 - 0.353553im)σʸ₆"
     },
     "metadata": {}
    },
    {
     "output_type": "display_data",
     "data": {
      "text/plain": "2-element Vector{CondensedMatterSOS.SpinPolynomial{ComplexF64}}:\n (-0.288675 + 0.0im)σʸ₁σᶻ₂ + (-0.144338 - 0.25im)σʸ₁σᶻ₆ + (-0.288675 + 0.0im)σᶻ₁σʸ₂ + (-0.144338 - 0.25im)σᶻ₁σʸ₆ + (-0.144338 + 0.25im)σʸ₂σᶻ₃ + (-0.144338 + 0.25im)σᶻ₂σʸ₃ + (0.144338 + 0.25im)σʸ₃σᶻ₄ + (0.144338 + 0.25im)σᶻ₃σʸ₄ + (0.288675 + 0.0im)σʸ₄σᶻ₅ + (0.288675 + 0.0im)σᶻ₄σʸ₅ + (0.144338 - 0.25im)σʸ₅σᶻ₆ + (0.144338 - 0.25im)σᶻ₅σʸ₆\n (-0.408248 + 0.0im)σˣ₁ + (-0.204124 + 0.353553im)σˣ₂ + (0.204124 + 0.353553im)σˣ₃ + (0.408248 + 0.0im)σˣ₄ + (0.204124 - 0.353553im)σˣ₅ + (-0.204124 - 0.353553im)σˣ₆"
     },
     "metadata": {}
    },
    {
     "output_type": "display_data",
     "data": {
      "text/plain": "2-element Vector{CondensedMatterSOS.SpinPolynomial{ComplexF64}}:\n (-0.288675 + 0.0im)σˣ₁σʸ₂ + (0.144338 + 0.25im)σˣ₁σʸ₆ + (-0.288675 + 0.0im)σʸ₁σˣ₂ + (0.144338 + 0.25im)σʸ₁σˣ₆ + (0.144338 - 0.25im)σˣ₂σʸ₃ + (0.144338 - 0.25im)σʸ₂σˣ₃ + (0.144338 + 0.25im)σˣ₃σʸ₄ + (0.144338 + 0.25im)σʸ₃σˣ₄ + (-0.288675 + 0.0im)σˣ₄σʸ₅ + (-0.288675 + 0.0im)σʸ₄σˣ₅ + (0.144338 - 0.25im)σˣ₅σʸ₆ + (0.144338 - 0.25im)σʸ₅σˣ₆\n (-0.408248 + 0.0im)σᶻ₁ + (0.204124 - 0.353553im)σᶻ₂ + (0.204124 + 0.353553im)σᶻ₃ + (-0.408248 + 0.0im)σᶻ₄ + (0.204124 - 0.353553im)σᶻ₅ + (0.204124 + 0.353553im)σᶻ₆"
     },
     "metadata": {}
    },
    {
     "output_type": "display_data",
     "data": {
      "text/plain": "2-element Vector{CondensedMatterSOS.SpinPolynomial{ComplexF64}}:\n (-0.288675 + 0.0im)σˣ₁σᶻ₂ + (0.144338 + 0.25im)σˣ₁σᶻ₆ + (-0.288675 + 0.0im)σᶻ₁σˣ₂ + (0.144338 + 0.25im)σᶻ₁σˣ₆ + (0.144338 - 0.25im)σˣ₂σᶻ₃ + (0.144338 - 0.25im)σᶻ₂σˣ₃ + (0.144338 + 0.25im)σˣ₃σᶻ₄ + (0.144338 + 0.25im)σᶻ₃σˣ₄ + (-0.288675 + 0.0im)σˣ₄σᶻ₅ + (-0.288675 + 0.0im)σᶻ₄σˣ₅ + (0.144338 - 0.25im)σˣ₅σᶻ₆ + (0.144338 - 0.25im)σᶻ₅σˣ₆\n (-0.408248 + 0.0im)σʸ₁ + (0.204124 - 0.353553im)σʸ₂ + (0.204124 + 0.353553im)σʸ₃ + (-0.408248 + 0.0im)σʸ₄ + (0.204124 - 0.353553im)σʸ₅ + (0.204124 + 0.353553im)σʸ₆"
     },
     "metadata": {}
    },
    {
     "output_type": "display_data",
     "data": {
      "text/plain": "2-element Vector{CondensedMatterSOS.SpinPolynomial{ComplexF64}}:\n (-0.288675 + 0.0im)σʸ₁σᶻ₂ + (0.144338 + 0.25im)σʸ₁σᶻ₆ + (-0.288675 + 0.0im)σᶻ₁σʸ₂ + (0.144338 + 0.25im)σᶻ₁σʸ₆ + (0.144338 - 0.25im)σʸ₂σᶻ₃ + (0.144338 - 0.25im)σᶻ₂σʸ₃ + (0.144338 + 0.25im)σʸ₃σᶻ₄ + (0.144338 + 0.25im)σᶻ₃σʸ₄ + (-0.288675 + 0.0im)σʸ₄σᶻ₅ + (-0.288675 + 0.0im)σᶻ₄σʸ₅ + (0.144338 - 0.25im)σʸ₅σᶻ₆ + (0.144338 - 0.25im)σᶻ₅σʸ₆\n (-0.408248 + 0.0im)σˣ₁ + (0.204124 - 0.353553im)σˣ₂ + (0.204124 + 0.353553im)σˣ₃ + (-0.408248 + 0.0im)σˣ₄ + (0.204124 - 0.353553im)σˣ₅ + (0.204124 + 0.353553im)σˣ₆"
     },
     "metadata": {}
    },
    {
     "output_type": "display_data",
     "data": {
      "text/plain": "2-element Vector{CondensedMatterSOS.SpinPolynomial{ComplexF64}}:\n (-0.288675 + 0.0im)σˣ₁σʸ₂ + (-0.144338 + 0.25im)σˣ₁σʸ₆ + (-0.288675 + 0.0im)σʸ₁σˣ₂ + (-0.144338 + 0.25im)σʸ₁σˣ₆ + (-0.144338 - 0.25im)σˣ₂σʸ₃ + (-0.144338 - 0.25im)σʸ₂σˣ₃ + (0.144338 - 0.25im)σˣ₃σʸ₄ + (0.144338 - 0.25im)σʸ₃σˣ₄ + (0.288675 + 0.0im)σˣ₄σʸ₅ + (0.288675 + 0.0im)σʸ₄σˣ₅ + (0.144338 + 0.25im)σˣ₅σʸ₆ + (0.144338 + 0.25im)σʸ₅σˣ₆\n (-0.408248 + 0.0im)σᶻ₁ + (-0.204124 - 0.353553im)σᶻ₂ + (0.204124 - 0.353553im)σᶻ₃ + (0.408248 + 0.0im)σᶻ₄ + (0.204124 + 0.353553im)σᶻ₅ + (-0.204124 + 0.353553im)σᶻ₆"
     },
     "metadata": {}
    },
    {
     "output_type": "display_data",
     "data": {
      "text/plain": "2-element Vector{CondensedMatterSOS.SpinPolynomial{ComplexF64}}:\n (-0.288675 + 0.0im)σˣ₁σᶻ₂ + (-0.144338 + 0.25im)σˣ₁σᶻ₆ + (-0.288675 + 0.0im)σᶻ₁σˣ₂ + (-0.144338 + 0.25im)σᶻ₁σˣ₆ + (-0.144338 - 0.25im)σˣ₂σᶻ₃ + (-0.144338 - 0.25im)σᶻ₂σˣ₃ + (0.144338 - 0.25im)σˣ₃σᶻ₄ + (0.144338 - 0.25im)σᶻ₃σˣ₄ + (0.288675 + 0.0im)σˣ₄σᶻ₅ + (0.288675 + 0.0im)σᶻ₄σˣ₅ + (0.144338 + 0.25im)σˣ₅σᶻ₆ + (0.144338 + 0.25im)σᶻ₅σˣ₆\n (-0.408248 + 0.0im)σʸ₁ + (-0.204124 - 0.353553im)σʸ₂ + (0.204124 - 0.353553im)σʸ₃ + (0.408248 + 0.0im)σʸ₄ + (0.204124 + 0.353553im)σʸ₅ + (-0.204124 + 0.353553im)σʸ₆"
     },
     "metadata": {}
    },
    {
     "output_type": "display_data",
     "data": {
      "text/plain": "2-element Vector{CondensedMatterSOS.SpinPolynomial{ComplexF64}}:\n (-0.288675 + 0.0im)σʸ₁σᶻ₂ + (-0.144338 + 0.25im)σʸ₁σᶻ₆ + (-0.288675 + 0.0im)σᶻ₁σʸ₂ + (-0.144338 + 0.25im)σᶻ₁σʸ₆ + (-0.144338 - 0.25im)σʸ₂σᶻ₃ + (-0.144338 - 0.25im)σᶻ₂σʸ₃ + (0.144338 - 0.25im)σʸ₃σᶻ₄ + (0.144338 - 0.25im)σᶻ₃σʸ₄ + (0.288675 + 0.0im)σʸ₄σᶻ₅ + (0.288675 + 0.0im)σᶻ₄σʸ₅ + (0.144338 + 0.25im)σʸ₅σᶻ₆ + (0.144338 + 0.25im)σᶻ₅σʸ₆\n (-0.408248 + 0.0im)σˣ₁ + (-0.204124 - 0.353553im)σˣ₂ + (0.204124 - 0.353553im)σˣ₃ + (0.408248 + 0.0im)σˣ₄ + (0.204124 + 0.353553im)σˣ₅ + (-0.204124 + 0.353553im)σˣ₆"
     },
     "metadata": {}
    },
    {
     "output_type": "display_data",
     "data": {
      "text/plain": "2-element Vector{CondensedMatterSOS.SpinPolynomial{ComplexF64}}:\n (-0.288675 + 0.0im)σˣ₁σʸ₂ + (0.288675 + 0.0im)σˣ₁σʸ₆ + (-0.288675 + 0.0im)σʸ₁σˣ₂ + (0.288675 + 0.0im)σʸ₁σˣ₆ + (0.288675 + 0.0im)σˣ₂σʸ₃ + (0.288675 + 0.0im)σʸ₂σˣ₃ + (-0.288675 + 0.0im)σˣ₃σʸ₄ + (-0.288675 + 0.0im)σʸ₃σˣ₄ + (0.288675 + 0.0im)σˣ₄σʸ₅ + (0.288675 + 0.0im)σʸ₄σˣ₅ + (-0.288675 + 0.0im)σˣ₅σʸ₆ + (-0.288675 + 0.0im)σʸ₅σˣ₆\n (-0.408248 + 0.0im)σᶻ₁ + (0.408248 + 0.0im)σᶻ₂ + (-0.408248 + 0.0im)σᶻ₃ + (0.408248 + 0.0im)σᶻ₄ + (-0.408248 + 0.0im)σᶻ₅ + (0.408248 + 0.0im)σᶻ₆"
     },
     "metadata": {}
    },
    {
     "output_type": "display_data",
     "data": {
      "text/plain": "2-element Vector{CondensedMatterSOS.SpinPolynomial{ComplexF64}}:\n (-0.288675 + 0.0im)σˣ₁σᶻ₂ + (0.288675 + 0.0im)σˣ₁σᶻ₆ + (-0.288675 + 0.0im)σᶻ₁σˣ₂ + (0.288675 + 0.0im)σᶻ₁σˣ₆ + (0.288675 + 0.0im)σˣ₂σᶻ₃ + (0.288675 + 0.0im)σᶻ₂σˣ₃ + (-0.288675 + 0.0im)σˣ₃σᶻ₄ + (-0.288675 + 0.0im)σᶻ₃σˣ₄ + (0.288675 + 0.0im)σˣ₄σᶻ₅ + (0.288675 + 0.0im)σᶻ₄σˣ₅ + (-0.288675 + 0.0im)σˣ₅σᶻ₆ + (-0.288675 + 0.0im)σᶻ₅σˣ₆\n (-0.408248 + 0.0im)σʸ₁ + (0.408248 + 0.0im)σʸ₂ + (-0.408248 + 0.0im)σʸ₃ + (0.408248 + 0.0im)σʸ₄ + (-0.408248 + 0.0im)σʸ₅ + (0.408248 + 0.0im)σʸ₆"
     },
     "metadata": {}
    },
    {
     "output_type": "display_data",
     "data": {
      "text/plain": "2-element Vector{CondensedMatterSOS.SpinPolynomial{ComplexF64}}:\n (-0.288675 + 0.0im)σʸ₁σᶻ₂ + (0.288675 + 0.0im)σʸ₁σᶻ₆ + (-0.288675 + 0.0im)σᶻ₁σʸ₂ + (0.288675 + 0.0im)σᶻ₁σʸ₆ + (0.288675 + 0.0im)σʸ₂σᶻ₃ + (0.288675 + 0.0im)σᶻ₂σʸ₃ + (-0.288675 + 0.0im)σʸ₃σᶻ₄ + (-0.288675 + 0.0im)σᶻ₃σʸ₄ + (0.288675 + 0.0im)σʸ₄σᶻ₅ + (0.288675 + 0.0im)σᶻ₄σʸ₅ + (-0.288675 + 0.0im)σʸ₅σᶻ₆ + (-0.288675 + 0.0im)σᶻ₅σʸ₆\n (-0.408248 + 0.0im)σˣ₁ + (0.408248 + 0.0im)σˣ₂ + (-0.408248 + 0.0im)σˣ₃ + (0.408248 + 0.0im)σˣ₄ + (-0.408248 + 0.0im)σˣ₅ + (0.408248 + 0.0im)σˣ₆"
     },
     "metadata": {}
    },
    {
     "output_type": "display_data",
     "data": {
      "text/plain": "2-element Vector{CondensedMatterSOS.SpinPolynomial{ComplexF64}}:\n (1.0 - 0.0im)\n (-0.235702 - 0.0im)σˣ₁σˣ₂ + (-0.235702 - 0.0im)σˣ₁σˣ₆ + (-0.235702 - 0.0im)σʸ₁σʸ₂ + (-0.235702 - 0.0im)σʸ₁σʸ₆ + (-0.235702 - 0.0im)σᶻ₁σᶻ₂ + (-0.235702 - 0.0im)σᶻ₁σᶻ₆ + (-0.235702 - 0.0im)σˣ₂σˣ₃ + (-0.235702 - 0.0im)σʸ₂σʸ₃ + (-0.235702 - 0.0im)σᶻ₂σᶻ₃ + (-0.235702 - 0.0im)σˣ₃σˣ₄ + (-0.235702 - 0.0im)σʸ₃σʸ₄ + (-0.235702 - 0.0im)σᶻ₃σᶻ₄ + (-0.235702 - 0.0im)σˣ₄σˣ₅ + (-0.235702 - 0.0im)σʸ₄σʸ₅ + (-0.235702 - 0.0im)σᶻ₄σᶻ₅ + (-0.235702 - 0.0im)σˣ₅σˣ₆ + (-0.235702 - 0.0im)σʸ₅σʸ₆ + (-0.235702 - 0.0im)σᶻ₅σᶻ₆"
     },
     "metadata": {}
    },
    {
     "output_type": "display_data",
     "data": {
      "text/plain": "1-element Vector{CondensedMatterSOS.SpinPolynomial{ComplexF64}}:\n (-0.235702 - 0.0im)σˣ₁σˣ₂ + (0.117851 - 0.204124im)σˣ₁σˣ₆ + (-0.235702 - 0.0im)σʸ₁σʸ₂ + (0.117851 - 0.204124im)σʸ₁σʸ₆ + (-0.235702 - 0.0im)σᶻ₁σᶻ₂ + (0.117851 - 0.204124im)σᶻ₁σᶻ₆ + (0.117851 + 0.204124im)σˣ₂σˣ₃ + (0.117851 + 0.204124im)σʸ₂σʸ₃ + (0.117851 + 0.204124im)σᶻ₂σᶻ₃ + (0.117851 - 0.204124im)σˣ₃σˣ₄ + (0.117851 - 0.204124im)σʸ₃σʸ₄ + (0.117851 - 0.204124im)σᶻ₃σᶻ₄ + (-0.235702 - 0.0im)σˣ₄σˣ₅ + (-0.235702 - 0.0im)σʸ₄σʸ₅ + (-0.235702 - 0.0im)σᶻ₄σᶻ₅ + (0.117851 + 0.204124im)σˣ₅σˣ₆ + (0.117851 + 0.204124im)σʸ₅σʸ₆ + (0.117851 + 0.204124im)σᶻ₅σᶻ₆"
     },
     "metadata": {}
    },
    {
     "output_type": "display_data",
     "data": {
      "text/plain": "1-element Vector{CondensedMatterSOS.SpinPolynomial{ComplexF64}}:\n (-0.235702 - 0.0im)σˣ₁σˣ₂ + (-0.117851 - 0.204124im)σˣ₁σˣ₆ + (-0.235702 - 0.0im)σʸ₁σʸ₂ + (-0.117851 - 0.204124im)σʸ₁σʸ₆ + (-0.235702 - 0.0im)σᶻ₁σᶻ₂ + (-0.117851 - 0.204124im)σᶻ₁σᶻ₆ + (-0.117851 + 0.204124im)σˣ₂σˣ₃ + (-0.117851 + 0.204124im)σʸ₂σʸ₃ + (-0.117851 + 0.204124im)σᶻ₂σᶻ₃ + (0.117851 + 0.204124im)σˣ₃σˣ₄ + (0.117851 + 0.204124im)σʸ₃σʸ₄ + (0.117851 + 0.204124im)σᶻ₃σᶻ₄ + (0.235702 - 0.0im)σˣ₄σˣ₅ + (0.235702 - 0.0im)σʸ₄σʸ₅ + (0.235702 - 0.0im)σᶻ₄σᶻ₅ + (0.117851 - 0.204124im)σˣ₅σˣ₆ + (0.117851 - 0.204124im)σʸ₅σʸ₆ + (0.117851 - 0.204124im)σᶻ₅σᶻ₆"
     },
     "metadata": {}
    },
    {
     "output_type": "display_data",
     "data": {
      "text/plain": "1-element Vector{CondensedMatterSOS.SpinPolynomial{ComplexF64}}:\n (-0.235702 - 0.0im)σˣ₁σˣ₂ + (0.117851 + 0.204124im)σˣ₁σˣ₆ + (-0.235702 - 0.0im)σʸ₁σʸ₂ + (0.117851 + 0.204124im)σʸ₁σʸ₆ + (-0.235702 - 0.0im)σᶻ₁σᶻ₂ + (0.117851 + 0.204124im)σᶻ₁σᶻ₆ + (0.117851 - 0.204124im)σˣ₂σˣ₃ + (0.117851 - 0.204124im)σʸ₂σʸ₃ + (0.117851 - 0.204124im)σᶻ₂σᶻ₃ + (0.117851 + 0.204124im)σˣ₃σˣ₄ + (0.117851 + 0.204124im)σʸ₃σʸ₄ + (0.117851 + 0.204124im)σᶻ₃σᶻ₄ + (-0.235702 - 0.0im)σˣ₄σˣ₅ + (-0.235702 - 0.0im)σʸ₄σʸ₅ + (-0.235702 - 0.0im)σᶻ₄σᶻ₅ + (0.117851 - 0.204124im)σˣ₅σˣ₆ + (0.117851 - 0.204124im)σʸ₅σʸ₆ + (0.117851 - 0.204124im)σᶻ₅σᶻ₆"
     },
     "metadata": {}
    },
    {
     "output_type": "display_data",
     "data": {
      "text/plain": "1-element Vector{CondensedMatterSOS.SpinPolynomial{ComplexF64}}:\n (-0.235702 - 0.0im)σˣ₁σˣ₂ + (-0.117851 + 0.204124im)σˣ₁σˣ₆ + (-0.235702 - 0.0im)σʸ₁σʸ₂ + (-0.117851 + 0.204124im)σʸ₁σʸ₆ + (-0.235702 - 0.0im)σᶻ₁σᶻ₂ + (-0.117851 + 0.204124im)σᶻ₁σᶻ₆ + (-0.117851 - 0.204124im)σˣ₂σˣ₃ + (-0.117851 - 0.204124im)σʸ₂σʸ₃ + (-0.117851 - 0.204124im)σᶻ₂σᶻ₃ + (0.117851 - 0.204124im)σˣ₃σˣ₄ + (0.117851 - 0.204124im)σʸ₃σʸ₄ + (0.117851 - 0.204124im)σᶻ₃σᶻ₄ + (0.235702 - 0.0im)σˣ₄σˣ₅ + (0.235702 - 0.0im)σʸ₄σʸ₅ + (0.235702 - 0.0im)σᶻ₄σᶻ₅ + (0.117851 + 0.204124im)σˣ₅σˣ₆ + (0.117851 + 0.204124im)σʸ₅σʸ₆ + (0.117851 + 0.204124im)σᶻ₅σᶻ₆"
     },
     "metadata": {}
    },
    {
     "output_type": "display_data",
     "data": {
      "text/plain": "1-element Vector{CondensedMatterSOS.SpinPolynomial{ComplexF64}}:\n (-0.235702 - 0.0im)σˣ₁σˣ₂ + (0.235702 - 0.0im)σˣ₁σˣ₆ + (-0.235702 - 0.0im)σʸ₁σʸ₂ + (0.235702 - 0.0im)σʸ₁σʸ₆ + (-0.235702 - 0.0im)σᶻ₁σᶻ₂ + (0.235702 - 0.0im)σᶻ₁σᶻ₆ + (0.235702 - 0.0im)σˣ₂σˣ₃ + (0.235702 - 0.0im)σʸ₂σʸ₃ + (0.235702 - 0.0im)σᶻ₂σᶻ₃ + (-0.235702 - 0.0im)σˣ₃σˣ₄ + (-0.235702 - 0.0im)σʸ₃σʸ₄ + (-0.235702 - 0.0im)σᶻ₃σᶻ₄ + (0.235702 - 0.0im)σˣ₄σˣ₅ + (0.235702 - 0.0im)σʸ₄σʸ₅ + (0.235702 - 0.0im)σᶻ₄σᶻ₅ + (-0.235702 - 0.0im)σˣ₅σˣ₆ + (-0.235702 - 0.0im)σʸ₅σʸ₆ + (-0.235702 - 0.0im)σᶻ₅σᶻ₆"
     },
     "metadata": {}
    },
    {
     "output_type": "display_data",
     "data": {
      "text/plain": "1-element Vector{CondensedMatterSOS.SpinPolynomial{ComplexF64}}:\n (-0.288675 + 0.0im)σˣ₁σʸ₂ + (0.288675 + 0.0im)σˣ₁σʸ₆ + (0.288675 + 0.0im)σʸ₁σˣ₂ + (-0.288675 + 0.0im)σʸ₁σˣ₆ + (-0.288675 + 0.0im)σˣ₂σʸ₃ + (0.288675 + 0.0im)σʸ₂σˣ₃ + (-0.288675 + 0.0im)σˣ₃σʸ₄ + (0.288675 + 0.0im)σʸ₃σˣ₄ + (-0.288675 + 0.0im)σˣ₄σʸ₅ + (0.288675 + 0.0im)σʸ₄σˣ₅ + (-0.288675 + 0.0im)σˣ₅σʸ₆ + (0.288675 + 0.0im)σʸ₅σˣ₆"
     },
     "metadata": {}
    },
    {
     "output_type": "display_data",
     "data": {
      "text/plain": "1-element Vector{CondensedMatterSOS.SpinPolynomial{ComplexF64}}:\n (-0.288675 + 0.0im)σˣ₁σᶻ₂ + (0.288675 + 0.0im)σˣ₁σᶻ₆ + (0.288675 + 0.0im)σᶻ₁σˣ₂ + (-0.288675 + 0.0im)σᶻ₁σˣ₆ + (-0.288675 + 0.0im)σˣ₂σᶻ₃ + (0.288675 + 0.0im)σᶻ₂σˣ₃ + (-0.288675 + 0.0im)σˣ₃σᶻ₄ + (0.288675 + 0.0im)σᶻ₃σˣ₄ + (-0.288675 + 0.0im)σˣ₄σᶻ₅ + (0.288675 + 0.0im)σᶻ₄σˣ₅ + (-0.288675 + 0.0im)σˣ₅σᶻ₆ + (0.288675 + 0.0im)σᶻ₅σˣ₆"
     },
     "metadata": {}
    },
    {
     "output_type": "display_data",
     "data": {
      "text/plain": "1-element Vector{CondensedMatterSOS.SpinPolynomial{ComplexF64}}:\n (-0.288675 + 0.0im)σʸ₁σᶻ₂ + (0.288675 + 0.0im)σʸ₁σᶻ₆ + (0.288675 + 0.0im)σᶻ₁σʸ₂ + (-0.288675 + 0.0im)σᶻ₁σʸ₆ + (-0.288675 + 0.0im)σʸ₂σᶻ₃ + (0.288675 + 0.0im)σᶻ₂σʸ₃ + (-0.288675 + 0.0im)σʸ₃σᶻ₄ + (0.288675 + 0.0im)σᶻ₃σʸ₄ + (-0.288675 + 0.0im)σʸ₄σᶻ₅ + (0.288675 + 0.0im)σᶻ₄σʸ₅ + (-0.288675 + 0.0im)σʸ₅σᶻ₆ + (0.288675 + 0.0im)σᶻ₅σʸ₆"
     },
     "metadata": {}
    },
    {
     "output_type": "display_data",
     "data": {
      "text/plain": "1-element Vector{CondensedMatterSOS.SpinPolynomial{ComplexF64}}:\n (-0.288675 + 0.0im)σˣ₁σʸ₂ + (-0.144338 + 0.25im)σˣ₁σʸ₆ + (0.288675 + 0.0im)σʸ₁σˣ₂ + (0.144338 - 0.25im)σʸ₁σˣ₆ + (0.144338 + 0.25im)σˣ₂σʸ₃ + (-0.144338 - 0.25im)σʸ₂σˣ₃ + (0.144338 - 0.25im)σˣ₃σʸ₄ + (-0.144338 + 0.25im)σʸ₃σˣ₄ + (-0.288675 + 0.0im)σˣ₄σʸ₅ + (0.288675 + 0.0im)σʸ₄σˣ₅ + (0.144338 + 0.25im)σˣ₅σʸ₆ + (-0.144338 - 0.25im)σʸ₅σˣ₆"
     },
     "metadata": {}
    },
    {
     "output_type": "display_data",
     "data": {
      "text/plain": "1-element Vector{CondensedMatterSOS.SpinPolynomial{ComplexF64}}:\n (-0.288675 + 0.0im)σˣ₁σᶻ₂ + (-0.144338 + 0.25im)σˣ₁σᶻ₆ + (0.288675 + 0.0im)σᶻ₁σˣ₂ + (0.144338 - 0.25im)σᶻ₁σˣ₆ + (0.144338 + 0.25im)σˣ₂σᶻ₃ + (-0.144338 - 0.25im)σᶻ₂σˣ₃ + (0.144338 - 0.25im)σˣ₃σᶻ₄ + (-0.144338 + 0.25im)σᶻ₃σˣ₄ + (-0.288675 + 0.0im)σˣ₄σᶻ₅ + (0.288675 + 0.0im)σᶻ₄σˣ₅ + (0.144338 + 0.25im)σˣ₅σᶻ₆ + (-0.144338 - 0.25im)σᶻ₅σˣ₆"
     },
     "metadata": {}
    },
    {
     "output_type": "display_data",
     "data": {
      "text/plain": "1-element Vector{CondensedMatterSOS.SpinPolynomial{ComplexF64}}:\n (-0.288675 + 0.0im)σʸ₁σᶻ₂ + (-0.144338 + 0.25im)σʸ₁σᶻ₆ + (0.288675 + 0.0im)σᶻ₁σʸ₂ + (0.144338 - 0.25im)σᶻ₁σʸ₆ + (0.144338 + 0.25im)σʸ₂σᶻ₃ + (-0.144338 - 0.25im)σᶻ₂σʸ₃ + (0.144338 - 0.25im)σʸ₃σᶻ₄ + (-0.144338 + 0.25im)σᶻ₃σʸ₄ + (-0.288675 + 0.0im)σʸ₄σᶻ₅ + (0.288675 + 0.0im)σᶻ₄σʸ₅ + (0.144338 + 0.25im)σʸ₅σᶻ₆ + (-0.144338 - 0.25im)σᶻ₅σʸ₆"
     },
     "metadata": {}
    },
    {
     "output_type": "display_data",
     "data": {
      "text/plain": "1-element Vector{CondensedMatterSOS.SpinPolynomial{ComplexF64}}:\n (-0.288675 + 0.0im)σˣ₁σʸ₂ + (0.144338 + 0.25im)σˣ₁σʸ₆ + (0.288675 + 0.0im)σʸ₁σˣ₂ + (-0.144338 - 0.25im)σʸ₁σˣ₆ + (-0.144338 + 0.25im)σˣ₂σʸ₃ + (0.144338 - 0.25im)σʸ₂σˣ₃ + (0.144338 + 0.25im)σˣ₃σʸ₄ + (-0.144338 - 0.25im)σʸ₃σˣ₄ + (0.288675 + 0.0im)σˣ₄σʸ₅ + (-0.288675 + 0.0im)σʸ₄σˣ₅ + (0.144338 - 0.25im)σˣ₅σʸ₆ + (-0.144338 + 0.25im)σʸ₅σˣ₆"
     },
     "metadata": {}
    },
    {
     "output_type": "display_data",
     "data": {
      "text/plain": "1-element Vector{CondensedMatterSOS.SpinPolynomial{ComplexF64}}:\n (-0.288675 + 0.0im)σˣ₁σᶻ₂ + (0.144338 + 0.25im)σˣ₁σᶻ₆ + (0.288675 + 0.0im)σᶻ₁σˣ₂ + (-0.144338 - 0.25im)σᶻ₁σˣ₆ + (-0.144338 + 0.25im)σˣ₂σᶻ₃ + (0.144338 - 0.25im)σᶻ₂σˣ₃ + (0.144338 + 0.25im)σˣ₃σᶻ₄ + (-0.144338 - 0.25im)σᶻ₃σˣ₄ + (0.288675 + 0.0im)σˣ₄σᶻ₅ + (-0.288675 + 0.0im)σᶻ₄σˣ₅ + (0.144338 - 0.25im)σˣ₅σᶻ₆ + (-0.144338 + 0.25im)σᶻ₅σˣ₆"
     },
     "metadata": {}
    },
    {
     "output_type": "display_data",
     "data": {
      "text/plain": "1-element Vector{CondensedMatterSOS.SpinPolynomial{ComplexF64}}:\n (-0.288675 + 0.0im)σʸ₁σᶻ₂ + (0.144338 + 0.25im)σʸ₁σᶻ₆ + (0.288675 + 0.0im)σᶻ₁σʸ₂ + (-0.144338 - 0.25im)σᶻ₁σʸ₆ + (-0.144338 + 0.25im)σʸ₂σᶻ₃ + (0.144338 - 0.25im)σᶻ₂σʸ₃ + (0.144338 + 0.25im)σʸ₃σᶻ₄ + (-0.144338 - 0.25im)σᶻ₃σʸ₄ + (0.288675 + 0.0im)σʸ₄σᶻ₅ + (-0.288675 + 0.0im)σᶻ₄σʸ₅ + (0.144338 - 0.25im)σʸ₅σᶻ₆ + (-0.144338 + 0.25im)σᶻ₅σʸ₆"
     },
     "metadata": {}
    },
    {
     "output_type": "display_data",
     "data": {
      "text/plain": "1-element Vector{CondensedMatterSOS.SpinPolynomial{ComplexF64}}:\n (-0.288675 + 0.0im)σˣ₁σʸ₂ + (-0.144338 - 0.25im)σˣ₁σʸ₆ + (0.288675 + 0.0im)σʸ₁σˣ₂ + (0.144338 + 0.25im)σʸ₁σˣ₆ + (0.144338 - 0.25im)σˣ₂σʸ₃ + (-0.144338 + 0.25im)σʸ₂σˣ₃ + (0.144338 + 0.25im)σˣ₃σʸ₄ + (-0.144338 - 0.25im)σʸ₃σˣ₄ + (-0.288675 + 0.0im)σˣ₄σʸ₅ + (0.288675 + 0.0im)σʸ₄σˣ₅ + (0.144338 - 0.25im)σˣ₅σʸ₆ + (-0.144338 + 0.25im)σʸ₅σˣ₆"
     },
     "metadata": {}
    },
    {
     "output_type": "display_data",
     "data": {
      "text/plain": "1-element Vector{CondensedMatterSOS.SpinPolynomial{ComplexF64}}:\n (-0.288675 + 0.0im)σˣ₁σᶻ₂ + (-0.144338 - 0.25im)σˣ₁σᶻ₆ + (0.288675 + 0.0im)σᶻ₁σˣ₂ + (0.144338 + 0.25im)σᶻ₁σˣ₆ + (0.144338 - 0.25im)σˣ₂σᶻ₃ + (-0.144338 + 0.25im)σᶻ₂σˣ₃ + (0.144338 + 0.25im)σˣ₃σᶻ₄ + (-0.144338 - 0.25im)σᶻ₃σˣ₄ + (-0.288675 + 0.0im)σˣ₄σᶻ₅ + (0.288675 + 0.0im)σᶻ₄σˣ₅ + (0.144338 - 0.25im)σˣ₅σᶻ₆ + (-0.144338 + 0.25im)σᶻ₅σˣ₆"
     },
     "metadata": {}
    },
    {
     "output_type": "display_data",
     "data": {
      "text/plain": "1-element Vector{CondensedMatterSOS.SpinPolynomial{ComplexF64}}:\n (-0.288675 + 0.0im)σʸ₁σᶻ₂ + (-0.144338 - 0.25im)σʸ₁σᶻ₆ + (0.288675 + 0.0im)σᶻ₁σʸ₂ + (0.144338 + 0.25im)σᶻ₁σʸ₆ + (0.144338 - 0.25im)σʸ₂σᶻ₃ + (-0.144338 + 0.25im)σᶻ₂σʸ₃ + (0.144338 + 0.25im)σʸ₃σᶻ₄ + (-0.144338 - 0.25im)σᶻ₃σʸ₄ + (-0.288675 + 0.0im)σʸ₄σᶻ₅ + (0.288675 + 0.0im)σᶻ₄σʸ₅ + (0.144338 - 0.25im)σʸ₅σᶻ₆ + (-0.144338 + 0.25im)σᶻ₅σʸ₆"
     },
     "metadata": {}
    },
    {
     "output_type": "display_data",
     "data": {
      "text/plain": "1-element Vector{CondensedMatterSOS.SpinPolynomial{ComplexF64}}:\n (-0.288675 + 0.0im)σˣ₁σʸ₂ + (0.144338 - 0.25im)σˣ₁σʸ₆ + (0.288675 + 0.0im)σʸ₁σˣ₂ + (-0.144338 + 0.25im)σʸ₁σˣ₆ + (-0.144338 - 0.25im)σˣ₂σʸ₃ + (0.144338 + 0.25im)σʸ₂σˣ₃ + (0.144338 - 0.25im)σˣ₃σʸ₄ + (-0.144338 + 0.25im)σʸ₃σˣ₄ + (0.288675 + 0.0im)σˣ₄σʸ₅ + (-0.288675 + 0.0im)σʸ₄σˣ₅ + (0.144338 + 0.25im)σˣ₅σʸ₆ + (-0.144338 - 0.25im)σʸ₅σˣ₆"
     },
     "metadata": {}
    },
    {
     "output_type": "display_data",
     "data": {
      "text/plain": "1-element Vector{CondensedMatterSOS.SpinPolynomial{ComplexF64}}:\n (-0.288675 + 0.0im)σˣ₁σᶻ₂ + (0.144338 - 0.25im)σˣ₁σᶻ₆ + (0.288675 + 0.0im)σᶻ₁σˣ₂ + (-0.144338 + 0.25im)σᶻ₁σˣ₆ + (-0.144338 - 0.25im)σˣ₂σᶻ₃ + (0.144338 + 0.25im)σᶻ₂σˣ₃ + (0.144338 - 0.25im)σˣ₃σᶻ₄ + (-0.144338 + 0.25im)σᶻ₃σˣ₄ + (0.288675 + 0.0im)σˣ₄σᶻ₅ + (-0.288675 + 0.0im)σᶻ₄σˣ₅ + (0.144338 + 0.25im)σˣ₅σᶻ₆ + (-0.144338 - 0.25im)σᶻ₅σˣ₆"
     },
     "metadata": {}
    },
    {
     "output_type": "display_data",
     "data": {
      "text/plain": "1-element Vector{CondensedMatterSOS.SpinPolynomial{ComplexF64}}:\n (-0.288675 + 0.0im)σʸ₁σᶻ₂ + (0.144338 - 0.25im)σʸ₁σᶻ₆ + (0.288675 + 0.0im)σᶻ₁σʸ₂ + (-0.144338 + 0.25im)σᶻ₁σʸ₆ + (-0.144338 - 0.25im)σʸ₂σᶻ₃ + (0.144338 + 0.25im)σᶻ₂σʸ₃ + (0.144338 - 0.25im)σʸ₃σᶻ₄ + (-0.144338 + 0.25im)σᶻ₃σʸ₄ + (0.288675 + 0.0im)σʸ₄σᶻ₅ + (-0.288675 + 0.0im)σᶻ₄σʸ₅ + (0.144338 + 0.25im)σʸ₅σᶻ₆ + (-0.144338 - 0.25im)σᶻ₅σʸ₆"
     },
     "metadata": {}
    },
    {
     "output_type": "display_data",
     "data": {
      "text/plain": "1-element Vector{CondensedMatterSOS.SpinPolynomial{ComplexF64}}:\n (-0.288675 + 0.0im)σˣ₁σʸ₂ + (-0.288675 + 0.0im)σˣ₁σʸ₆ + (0.288675 + 0.0im)σʸ₁σˣ₂ + (0.288675 + 0.0im)σʸ₁σˣ₆ + (0.288675 + 0.0im)σˣ₂σʸ₃ + (-0.288675 + 0.0im)σʸ₂σˣ₃ + (-0.288675 + 0.0im)σˣ₃σʸ₄ + (0.288675 + 0.0im)σʸ₃σˣ₄ + (0.288675 + 0.0im)σˣ₄σʸ₅ + (-0.288675 + 0.0im)σʸ₄σˣ₅ + (-0.288675 + 0.0im)σˣ₅σʸ₆ + (0.288675 + 0.0im)σʸ₅σˣ₆"
     },
     "metadata": {}
    },
    {
     "output_type": "display_data",
     "data": {
      "text/plain": "1-element Vector{CondensedMatterSOS.SpinPolynomial{ComplexF64}}:\n (-0.288675 + 0.0im)σˣ₁σᶻ₂ + (-0.288675 + 0.0im)σˣ₁σᶻ₆ + (0.288675 + 0.0im)σᶻ₁σˣ₂ + (0.288675 + 0.0im)σᶻ₁σˣ₆ + (0.288675 + 0.0im)σˣ₂σᶻ₃ + (-0.288675 + 0.0im)σᶻ₂σˣ₃ + (-0.288675 + 0.0im)σˣ₃σᶻ₄ + (0.288675 + 0.0im)σᶻ₃σˣ₄ + (0.288675 + 0.0im)σˣ₄σᶻ₅ + (-0.288675 + 0.0im)σᶻ₄σˣ₅ + (-0.288675 + 0.0im)σˣ₅σᶻ₆ + (0.288675 + 0.0im)σᶻ₅σˣ₆"
     },
     "metadata": {}
    },
    {
     "output_type": "display_data",
     "data": {
      "text/plain": "1-element Vector{CondensedMatterSOS.SpinPolynomial{ComplexF64}}:\n (-0.288675 + 0.0im)σʸ₁σᶻ₂ + (-0.288675 + 0.0im)σʸ₁σᶻ₆ + (0.288675 + 0.0im)σᶻ₁σʸ₂ + (0.288675 + 0.0im)σᶻ₁σʸ₆ + (0.288675 + 0.0im)σʸ₂σᶻ₃ + (-0.288675 + 0.0im)σᶻ₂σʸ₃ + (-0.288675 + 0.0im)σʸ₃σᶻ₄ + (0.288675 + 0.0im)σᶻ₃σʸ₄ + (0.288675 + 0.0im)σʸ₄σᶻ₅ + (-0.288675 + 0.0im)σᶻ₄σʸ₅ + (-0.288675 + 0.0im)σʸ₅σᶻ₆ + (0.288675 + 0.0im)σᶻ₅σʸ₆"
     },
     "metadata": {}
    }
   ],
   "cell_type": "code",
   "source": [
    "f(6, 2, true)"
   ],
   "metadata": {},
   "execution_count": 10
  },
  {
   "cell_type": "markdown",
   "source": [
    "| id     | irep 1 | irep 2 | irep 3 | irep 4 |\n",
    "|--------|--------|--------|--------|--------|\n",
    "| degree | 2      | 3      | 1      | 3      |\n",
    "| mult 2 | 1      | 3      | 2      | 1      |\n",
    "| mult 3 | 3      | 6      | 4      | 3      |\n",
    "| mult 4 | 6      | 10     | 7      | 6      |\n",
    "| mult 5 | 10     | 15     | 11     | 10     |\n",
    "| mult 6 | 15     | 21     | 16     | 15     |\n",
    "| mult 7 | 21     | 28     | 22     | 21     |"
   ],
   "metadata": {}
  },
  {
   "cell_type": "markdown",
   "source": [
    "---\n",
    "\n",
    "*This notebook was generated using [Literate.jl](https://github.com/fredrikekre/Literate.jl).*"
   ],
   "metadata": {}
  }
 ],
 "nbformat_minor": 3,
 "metadata": {
  "language_info": {
   "file_extension": ".jl",
   "mimetype": "application/julia",
   "name": "julia",
   "version": "1.9.0"
  },
  "kernelspec": {
   "name": "julia-1.9",
   "display_name": "Julia 1.9.0",
   "language": "julia"
  }
 },
 "nbformat": 4
}
