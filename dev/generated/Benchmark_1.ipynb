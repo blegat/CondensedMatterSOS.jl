{
 "cells": [
  {
   "cell_type": "markdown",
   "source": [
    "# Benchmark 1"
   ],
   "metadata": {}
  },
  {
   "cell_type": "markdown",
   "source": [
    "We study the Hamiltonian of the Heisenberg model with periodic boundary conditions."
   ],
   "metadata": {}
  },
  {
   "outputs": [
    {
     "output_type": "execute_result",
     "data": {
      "text/plain": "MathOptInterface.OptimizerWithAttributes(Main.##258.var\"#1#2\"(), Pair{MathOptInterface.AbstractOptimizerAttribute, Any}[MathOptInterface.Silent() => false])"
     },
     "metadata": {},
     "execution_count": 1
    }
   ],
   "cell_type": "code",
   "source": [
    "using CondensedMatterSOS\n",
    "@spin σ[1:3]\n",
    "heisenberg_hamiltonian(σ, true)\n",
    "\n",
    "# Let's pick a solver from [this list](https://jump.dev/JuMP.jl/dev/installation/#Getting-Solvers).\n",
    "\n",
    "using CSDP\n",
    "solver = optimizer_with_attributes(\n",
    "    () -> MOIU.CachingOptimizer(MOIU.UniversalFallback(MOIU.Model{Float64}()), CSDP.Optimizer()),\n",
    "    MOI.Silent() => false,\n",
    ")"
   ],
   "metadata": {},
   "execution_count": 1
  },
  {
   "cell_type": "markdown",
   "source": [
    "We can compute a lower bound `-2√2` to the ground state energy as follow:"
   ],
   "metadata": {}
  },
  {
   "outputs": [
    {
     "name": "stdout",
     "output_type": "stream",
     "text": [
      "Iter: 14 Ap: 9.58e-01 Pobj: -1.2000000e+01 Ad: 9.59e-01 Dobj: -1.2000000e+01 \n",
      "Success: SDP solved\n",
      "Primal objective value: -1.2000000e+01 \n",
      "Dual objective value: -1.2000000e+01 \n",
      "Relative primal infeasibility: 5.45e-13 \n",
      "Relative dual infeasibility: 2.96e-09 \n",
      "Real Relative Gap: 3.15e-09 \n",
      "XZ Relative Gap: 5.02e-09 \n",
      "DIMACS error measures: 1.43e-12 0.00e+00 1.76e-08 0.00e+00 3.15e-09 5.02e-09\n",
      "CSDP 6.2.0\n",
      "Iter:  0 Ap: 0.00e+00 Pobj:  0.0000000e+00 Ad: 0.00e+00 Dobj:  0.0000000e+00 \n",
      "Iter:  1 Ap: 1.00e+00 Pobj: -5.6411147e+01 Ad: 4.06e-01 Dobj: -4.2832684e+00 \n",
      "Iter:  2 Ap: 1.00e+00 Pobj: -5.4760276e+01 Ad: 9.64e-01 Dobj: -7.6705709e-01 \n",
      "Iter:  3 Ap: 1.00e+00 Pobj: -2.1723633e+01 Ad: 8.78e-01 Dobj: -1.3767694e+00 \n",
      "Iter:  4 Ap: 1.00e+00 Pobj: -8.4915625e+00 Ad: 7.01e-01 Dobj: -3.2534741e+00 \n",
      "Iter:  5 Ap: 1.00e+00 Pobj: -6.6196805e+00 Ad: 8.87e-01 Dobj: -5.5119401e+00 \n",
      "Iter:  6 Ap: 1.00e+00 Pobj: -6.0450487e+00 Ad: 9.46e-01 Dobj: -5.9459371e+00 \n",
      "Iter:  7 Ap: 1.00e+00 Pobj: -6.0023373e+00 Ad: 9.58e-01 Dobj: -5.9960785e+00 \n",
      "Iter:  8 Ap: 1.00e+00 Pobj: -6.0001590e+00 Ad: 9.87e-01 Dobj: -5.9998368e+00 \n",
      "Iter:  9 Ap: 9.69e-01 Pobj: -6.0000134e+00 Ad: 9.98e-01 Dobj: -5.9999977e+00 \n",
      "Iter: 10 Ap: 9.99e-01 Pobj: -6.0000006e+00 Ad: 9.82e-01 Dobj: -5.9999998e+00 \n"
     ]
    },
    {
     "output_type": "display_data",
     "data": {
      "text/plain": "7-element Vector{CondensedMatterSOS.SpinMonomial}:\n 1\n σˣ₁\n σʸ₁\n σᶻ₁\n σˣ₂\n σʸ₂\n σᶻ₂"
     },
     "metadata": {}
    },
    {
     "output_type": "execute_result",
     "data": {
      "text/plain": "-6.000000022862929"
     },
     "metadata": {},
     "execution_count": 2
    }
   ],
   "cell_type": "code",
   "source": [
    "include(joinpath(dirname(dirname(pathof(CondensedMatterSOS))), \"examples\", \"symmetry.jl\"))\n",
    "function hamiltonian_energy(N, maxdegree, solver; symmetry=true, consecutive=false, kws...)\n",
    "    @spin σ[1:N]\n",
    "    function action(mono::CondensedMatterSOS.SpinMonomial, el::DirectSum)\n",
    "        isempty(mono.variables) && return 1 * mono\n",
    "        sign = 1\n",
    "        vars = map(values(mono.variables)) do var\n",
    "            rel_id = var.id - σ[1][1].id\n",
    "            rel_index = var.index + 1\n",
    "            @assert σ[rel_index][rel_id + 1] == var\n",
    "            id = ((rel_id + el.c.id) % el.c.n) + σ[1][1].id\n",
    "            index = (rel_index^el.k.p) - 1\n",
    "            new_var = CondensedMatterSOS.SpinVariable(id, index)\n",
    "            if el.k.k.id != 0 && el.k.k.id != index + 1\n",
    "                sign *= -1\n",
    "            end\n",
    "            return new_var\n",
    "        end\n",
    "        return sign * CondensedMatterSOS.SpinMonomial(vars)\n",
    "    end\n",
    "    function action(term::CondensedMatterSOS.SpinTerm, el::DirectSum)\n",
    "        return MP.coefficient(term) * action(MP.monomial(term), el)\n",
    "    end\n",
    "    function action(poly::CondensedMatterSOS.SpinPolynomial, el::DirectSum)\n",
    "        return MP.polynomial([action(term, el) for term in MP.terms(poly)])\n",
    "    end\n",
    "    H = heisenberg_hamiltonian(σ, true)\n",
    "    G = Lattice1Group(N)\n",
    "    cone = NonnegPolyInnerCone{SumOfSquares.COI.HermitianPositiveSemidefiniteConeTriangle}()\n",
    "    @assert iseven(maxdegree)\n",
    "    cert = SumOfSquares.Certificate.FixedBasis(\n",
    "        cone,\n",
    "        MonomialBasis(MP.monomials(σ[1], 0:div(maxdegree, 2), consecutive=consecutive)),\n",
    "    )\n",
    "    display(cert.basis.monomials)\n",
    "    certificate = SymmetricIdeal(\n",
    "        cert,\n",
    "        G,\n",
    "        action,\n",
    "    )\n",
    "    if symmetry\n",
    "        energy(H, maxdegree, solver; certificate = certificate, kws...)\n",
    "    else\n",
    "        energy(H, maxdegree, solver; kws...)\n",
    "    end\n",
    "end\n",
    "bound, gram, ν = hamiltonian_energy(\n",
    "    2,\n",
    "    2,\n",
    "    solver,\n",
    "    symmetry = false,\n",
    "    sparsity = NoSparsity(),\n",
    ")\n",
    "bound"
   ],
   "metadata": {},
   "execution_count": 2
  },
  {
   "cell_type": "markdown",
   "source": [
    "We can see that the moment matrix uses all monomials:"
   ],
   "metadata": {}
  },
  {
   "outputs": [
    {
     "output_type": "execute_result",
     "data": {
      "text/plain": "7-element Vector{CondensedMatterSOS.SpinMonomial}:\n 1\n σˣ₁\n σʸ₁\n σᶻ₁\n σˣ₂\n σʸ₂\n σᶻ₂"
     },
     "metadata": {},
     "execution_count": 3
    }
   ],
   "cell_type": "code",
   "source": [
    "ν.basis.monomials"
   ],
   "metadata": {},
   "execution_count": 3
  },
  {
   "cell_type": "markdown",
   "source": [
    "# Symmetry reduction\n",
    "\n",
    "We can reduce the computation using symmetry reduction as follows."
   ],
   "metadata": {}
  },
  {
   "outputs": [
    {
     "name": "stdout",
     "output_type": "stream",
     "text": [
      "Iter: 11 Ap: 9.59e-01 Pobj: -6.0000000e+00 Ad: 9.59e-01 Dobj: -6.0000000e+00 \n",
      "Success: SDP solved\n",
      "Primal objective value: -6.0000000e+00 \n",
      "Dual objective value: -6.0000000e+00 \n",
      "Relative primal infeasibility: 1.15e-15 \n",
      "Relative dual infeasibility: 2.03e-09 \n",
      "Real Relative Gap: 1.97e-09 \n",
      "XZ Relative Gap: 4.05e-09 \n",
      "DIMACS error measures: 1.72e-15 0.00e+00 3.15e-09 0.00e+00 1.97e-09 4.05e-09\n",
      "CSDP 6.2.0\n",
      "Iter:  0 Ap: 0.00e+00 Pobj:  0.0000000e+00 Ad: 0.00e+00 Dobj:  0.0000000e+00 \n",
      "Iter:  1 Ap: 9.43e-01 Pobj: -9.4276778e+00 Ad: 7.72e-01 Dobj: -1.5875894e+00 \n",
      "Iter:  2 Ap: 1.00e+00 Pobj: -1.8664477e+01 Ad: 9.31e-01 Dobj: -3.2456338e+00 \n",
      "Iter:  3 Ap: 1.00e+00 Pobj: -8.9497605e+00 Ad: 8.97e-01 Dobj: -4.8223362e+00 \n",
      "Iter:  4 Ap: 1.00e+00 Pobj: -6.2804877e+00 Ad: 9.09e-01 Dobj: -5.7836416e+00 \n",
      "Iter:  5 Ap: 1.00e+00 Pobj: -6.0142901e+00 Ad: 9.40e-01 Dobj: -5.9808390e+00 \n",
      "Iter:  6 Ap: 1.00e+00 Pobj: -6.0006773e+00 Ad: 9.61e-01 Dobj: -5.9989293e+00 \n",
      "Iter:  7 Ap: 1.00e+00 Pobj: -6.0000443e+00 Ad: 9.88e-01 Dobj: -5.9999662e+00 \n",
      "Iter:  8 Ap: 1.00e+00 Pobj: -6.0000043e+00 Ad: 1.00e+00 Dobj: -5.9999992e+00 \n",
      "Iter:  9 Ap: 1.00e+00 Pobj: -6.0000002e+00 Ad: 9.85e-01 Dobj: -5.9999999e+00 \n"
     ]
    },
    {
     "output_type": "display_data",
     "data": {
      "text/plain": "7-element Vector{CondensedMatterSOS.SpinMonomial}:\n 1\n σˣ₁\n σʸ₁\n σᶻ₁\n σˣ₂\n σʸ₂\n σᶻ₂"
     },
     "metadata": {}
    },
    {
     "output_type": "execute_result",
     "data": {
      "text/plain": "-6.000000005297709"
     },
     "metadata": {},
     "execution_count": 4
    }
   ],
   "cell_type": "code",
   "source": [
    "using CondensedMatterSOS\n",
    "\n",
    "bound, gram, ν = hamiltonian_energy(\n",
    "    2,\n",
    "    2,\n",
    "    solver,\n",
    ")\n",
    "bound"
   ],
   "metadata": {},
   "execution_count": 4
  },
  {
   "cell_type": "markdown",
   "source": [
    "The reduction is obtained by block diagonalizing with a change of polynomial\n",
    "basis to the isotypical basis."
   ],
   "metadata": {}
  },
  {
   "outputs": [
    {
     "output_type": "display_data",
     "data": {
      "text/plain": "7-element Vector{Vector{CondensedMatterSOS.SpinPolynomial{ComplexF64}}}:\n [σˣ₁ + σˣ₂]\n [σʸ₁ + σʸ₂]\n [σᶻ₁ + σᶻ₂]\n [σˣ₁ + -σˣ₂]\n [σʸ₁ + -σʸ₂]\n [σᶻ₁ + -σᶻ₂]\n [(1.0 + 0.0im)]"
     },
     "metadata": {}
    },
    {
     "output_type": "execute_result",
     "data": {
      "text/plain": "7-element Vector{Vector{CondensedMatterSOS.SpinPolynomial{ComplexF64}}}:\n [σˣ₁ + σˣ₂]\n [σʸ₁ + σʸ₂]\n [σᶻ₁ + σᶻ₂]\n [σˣ₁ + -σˣ₂]\n [σʸ₁ + -σʸ₂]\n [σᶻ₁ + -σᶻ₂]\n [(1.0 + 0.0im)]"
     },
     "metadata": {},
     "execution_count": 5
    }
   ],
   "cell_type": "code",
   "source": [
    "display([M.basis.polynomials for M in ν.sub_moment_matrices])\n",
    "\n",
    "[M.basis.polynomials for M in ν.sub_moment_matrices]"
   ],
   "metadata": {},
   "execution_count": 5
  },
  {
   "cell_type": "markdown",
   "source": [
    "Let's try this for 3 sites. First without symmetry."
   ],
   "metadata": {}
  },
  {
   "outputs": [
    {
     "name": "stdout",
     "output_type": "stream",
     "text": [
      "Iter: 10 Ap: 9.69e-01 Pobj: -6.0000000e+00 Ad: 9.69e-01 Dobj: -6.0000000e+00 \n",
      "Success: SDP solved\n",
      "Primal objective value: -6.0000000e+00 \n",
      "Dual objective value: -6.0000000e+00 \n",
      "Relative primal infeasibility: 9.73e-16 \n",
      "Relative dual infeasibility: 5.85e-10 \n",
      "Real Relative Gap: 5.00e-10 \n",
      "XZ Relative Gap: 9.73e-10 \n",
      "DIMACS error measures: 1.45e-15 0.00e+00 1.41e-09 0.00e+00 5.00e-10 9.73e-10\n",
      "CSDP 6.2.0\n",
      "Iter:  0 Ap: 0.00e+00 Pobj:  0.0000000e+00 Ad: 0.00e+00 Dobj:  0.0000000e+00 \n",
      "Iter:  1 Ap: 1.00e+00 Pobj: -5.6096216e+01 Ad: 4.07e-01 Dobj: -4.5047371e+00 \n",
      "Iter:  2 Ap: 1.00e+00 Pobj: -5.5003096e+01 Ad: 9.56e-01 Dobj: -7.7051477e-01 \n",
      "Iter:  3 Ap: 1.00e+00 Pobj: -2.4832117e+01 Ad: 8.97e-01 Dobj: -1.2354912e+00 \n",
      "Iter:  4 Ap: 1.00e+00 Pobj: -6.5354955e+00 Ad: 8.45e-01 Dobj: -2.7588323e+00 \n",
      "Iter:  5 Ap: 1.00e+00 Pobj: -4.8443775e+00 Ad: 9.03e-01 Dobj: -4.2536145e+00 \n",
      "Iter:  6 Ap: 1.00e+00 Pobj: -4.5235955e+00 Ad: 9.40e-01 Dobj: -4.4765103e+00 \n",
      "Iter:  7 Ap: 1.00e+00 Pobj: -4.5013948e+00 Ad: 9.60e-01 Dobj: -4.4984822e+00 \n",
      "Iter:  8 Ap: 1.00e+00 Pobj: -4.5000944e+00 Ad: 9.84e-01 Dobj: -4.4999381e+00 \n",
      "Iter:  9 Ap: 9.46e-01 Pobj: -4.5000110e+00 Ad: 1.00e+00 Dobj: -4.5000003e+00 \n",
      "Iter: 10 Ap: 9.97e-01 Pobj: -4.5000005e+00 Ad: 9.71e-01 Dobj: -4.4999999e+00 \n",
      "bound = -4.500000019876194\n"
     ]
    },
    {
     "output_type": "display_data",
     "data": {
      "text/plain": "10-element Vector{CondensedMatterSOS.SpinMonomial}:\n 1\n σˣ₁\n σʸ₁\n σᶻ₁\n σˣ₂\n σʸ₂\n σᶻ₂\n σˣ₃\n σʸ₃\n σᶻ₃"
     },
     "metadata": {}
    },
    {
     "output_type": "execute_result",
     "data": {
      "text/plain": "-4.500000019876194"
     },
     "metadata": {},
     "execution_count": 6
    }
   ],
   "cell_type": "code",
   "source": [
    "bound, gram, ν = hamiltonian_energy(\n",
    "    3,\n",
    "    2,\n",
    "    solver,\n",
    "    symmetry = false,\n",
    ")\n",
    "@show bound"
   ],
   "metadata": {},
   "execution_count": 6
  },
  {
   "cell_type": "markdown",
   "source": [
    "Now with symmetry."
   ],
   "metadata": {}
  },
  {
   "outputs": [
    {
     "name": "stdout",
     "output_type": "stream",
     "text": [
      "Iter: 11 Ap: 9.58e-01 Pobj: -4.5000000e+00 Ad: 9.58e-01 Dobj: -4.5000000e+00 \n",
      "Success: SDP solved\n",
      "Primal objective value: -4.5000000e+00 \n",
      "Dual objective value: -4.5000000e+00 \n",
      "Relative primal infeasibility: 4.61e-16 \n",
      "Relative dual infeasibility: 1.77e-09 \n",
      "Real Relative Gap: 2.08e-09 \n",
      "XZ Relative Gap: 3.52e-09 \n",
      "DIMACS error measures: 9.22e-16 0.00e+00 4.63e-09 0.00e+00 2.08e-09 3.52e-09\n",
      "CSDP 6.2.0\n",
      "Iter:  0 Ap: 0.00e+00 Pobj:  0.0000000e+00 Ad: 0.00e+00 Dobj:  0.0000000e+00 \n",
      "Iter:  1 Ap: 9.43e-01 Pobj: -5.2740518e+00 Ad: 8.34e-01 Dobj: -5.6409413e-01 \n",
      "Iter:  2 Ap: 1.00e+00 Pobj: -2.3913022e+01 Ad: 9.25e-01 Dobj: -2.6711480e+00 \n",
      "Iter:  3 Ap: 1.00e+00 Pobj: -7.3750123e+00 Ad: 9.22e-01 Dobj: -3.5379465e+00 \n",
      "Iter:  4 Ap: 1.00e+00 Pobj: -4.8052420e+00 Ad: 8.88e-01 Dobj: -4.3246911e+00 \n",
      "Iter:  5 Ap: 1.00e+00 Pobj: -4.5185578e+00 Ad: 9.29e-01 Dobj: -4.4820031e+00 \n",
      "Iter:  6 Ap: 1.00e+00 Pobj: -4.5011355e+00 Ad: 9.57e-01 Dobj: -4.4988629e+00 \n",
      "Iter:  7 Ap: 1.00e+00 Pobj: -4.5000803e+00 Ad: 9.80e-01 Dobj: -4.4999521e+00 \n",
      "Iter:  8 Ap: 9.79e-01 Pobj: -4.5000074e+00 Ad: 9.99e-01 Dobj: -4.4999989e+00 \n",
      "Iter:  9 Ap: 1.00e+00 Pobj: -4.5000003e+00 Ad: 9.75e-01 Dobj: -4.4999999e+00 \n",
      "bound = -4.500000010264298\n"
     ]
    },
    {
     "output_type": "display_data",
     "data": {
      "text/plain": "10-element Vector{CondensedMatterSOS.SpinMonomial}:\n 1\n σˣ₁\n σʸ₁\n σᶻ₁\n σˣ₂\n σʸ₂\n σᶻ₂\n σˣ₃\n σʸ₃\n σᶻ₃"
     },
     "metadata": {}
    },
    {
     "output_type": "execute_result",
     "data": {
      "text/plain": "-4.500000010264298"
     },
     "metadata": {},
     "execution_count": 7
    }
   ],
   "cell_type": "code",
   "source": [
    "bound, gram, ν = hamiltonian_energy(\n",
    "    3,\n",
    "    2,\n",
    "    solver,\n",
    ")\n",
    "@show bound"
   ],
   "metadata": {},
   "execution_count": 7
  },
  {
   "cell_type": "markdown",
   "source": [
    "Let's look at the isotypical basis."
   ],
   "metadata": {}
  },
  {
   "outputs": [
    {
     "output_type": "display_data",
     "data": {
      "text/plain": "10-element Vector{Vector{CondensedMatterSOS.SpinPolynomial{ComplexF64}}}:\n [σˣ₁ + σˣ₂ + σˣ₃]\n [σʸ₁ + σʸ₂ + σʸ₃]\n [σᶻ₁ + σᶻ₂ + σᶻ₃]\n [σˣ₁ + (-0.4999999999999998 + 0.8660254037844387im)σˣ₂ + (-0.5000000000000004 - 0.8660254037844385im)σˣ₃]\n [σʸ₁ + (-0.4999999999999998 + 0.8660254037844387im)σʸ₂ + (-0.5000000000000004 - 0.8660254037844385im)σʸ₃]\n [σᶻ₁ + (-0.4999999999999998 + 0.8660254037844387im)σᶻ₂ + (-0.5000000000000004 - 0.8660254037844385im)σᶻ₃]\n [σˣ₁ + (-0.5000000000000004 - 0.8660254037844385im)σˣ₂ + (-0.4999999999999998 + 0.8660254037844387im)σˣ₃]\n [σʸ₁ + (-0.5000000000000004 - 0.8660254037844385im)σʸ₂ + (-0.4999999999999998 + 0.8660254037844387im)σʸ₃]\n [σᶻ₁ + (-0.5000000000000004 - 0.8660254037844385im)σᶻ₂ + (-0.4999999999999998 + 0.8660254037844387im)σᶻ₃]\n [(1.0 + 0.0im)]"
     },
     "metadata": {}
    }
   ],
   "cell_type": "code",
   "source": [
    "display([M.basis.polynomials for M in ν.sub_moment_matrices])"
   ],
   "metadata": {},
   "execution_count": 8
  },
  {
   "cell_type": "markdown",
   "source": [
    "Now let's define a function for our common use case."
   ],
   "metadata": {}
  },
  {
   "outputs": [
    {
     "name": "stdout",
     "output_type": "stream",
     "text": [
      "L = 6\n",
      "***\n",
      "d = 1\n",
      "Iter: 10 Ap: 9.68e-01 Pobj: -4.5000000e+00 Ad: 9.68e-01 Dobj: -4.5000000e+00 \n",
      "Success: SDP solved\n",
      "Primal objective value: -4.5000000e+00 \n",
      "Dual objective value: -4.5000000e+00 \n",
      "Relative primal infeasibility: 5.84e-16 \n",
      "Relative dual infeasibility: 1.24e-09 \n",
      "Real Relative Gap: 1.22e-09 \n",
      "XZ Relative Gap: 1.96e-09 \n",
      "DIMACS error measures: 1.17e-15 0.00e+00 3.35e-09 0.00e+00 1.22e-09 1.96e-09\n",
      "CSDP 6.2.0\n",
      "Iter:  0 Ap: 0.00e+00 Pobj:  0.0000000e+00 Ad: 0.00e+00 Dobj:  0.0000000e+00 \n",
      "Iter:  1 Ap: 9.41e-01 Pobj: -4.0668056e+00 Ad: 8.61e-01 Dobj: -5.2018015e-01 \n",
      "Iter:  2 Ap: 1.00e+00 Pobj: -5.6056177e+01 Ad: 9.36e-01 Dobj: -5.5398751e+00 \n",
      "Iter:  3 Ap: 1.00e+00 Pobj: -2.2189805e+01 Ad: 8.38e-01 Dobj: -8.5447620e+00 \n",
      "Iter:  4 Ap: 1.00e+00 Pobj: -2.1429608e+01 Ad: 7.30e-01 Dobj: -1.4881165e+01 \n",
      "Iter:  5 Ap: 1.00e+00 Pobj: -1.8342881e+01 Ad: 8.69e-01 Dobj: -1.7133133e+01 \n",
      "Iter:  6 Ap: 1.00e+00 Pobj: -1.8022311e+01 Ad: 9.28e-01 Dobj: -1.7891496e+01 \n",
      "Iter:  7 Ap: 1.00e+00 Pobj: -1.8001586e+01 Ad: 9.50e-01 Dobj: -1.7990820e+01 \n",
      "Iter:  8 Ap: 1.00e+00 Pobj: -1.8000135e+01 Ad: 9.92e-01 Dobj: -1.7999592e+01 \n",
      "Iter:  9 Ap: 9.55e-01 Pobj: -1.8000014e+01 Ad: 1.00e+00 Dobj: -1.7999980e+01 \n",
      "Iter: 10 Ap: 9.90e-01 Pobj: -1.8000001e+01 Ad: 9.72e-01 Dobj: -1.7999998e+01 \n",
      "  0.278193 seconds (766.58 k allocations: 78.801 MiB, 16.96% gc time, 3.07% compilation time)\n",
      "bound = -18.000000025677988\n",
      "E/N = -3.0000000042796646\n",
      "------------------------------------\n"
     ]
    },
    {
     "output_type": "display_data",
     "data": {
      "text/plain": "19-element Vector{CondensedMatterSOS.SpinMonomial}:\n 1\n σˣ₁\n σʸ₁\n σᶻ₁\n σˣ₂\n σʸ₂\n σᶻ₂\n σˣ₃\n σʸ₃\n σᶻ₃\n σˣ₄\n σʸ₄\n σᶻ₄\n σˣ₅\n σʸ₅\n σᶻ₅\n σˣ₆\n σʸ₆\n σᶻ₆"
     },
     "metadata": {}
    },
    {
     "output_type": "display_data",
     "data": {
      "text/plain": "1-element Vector{CondensedMatterSOS.SpinPolynomial{ComplexF64}}:\n σˣ₁ + σˣ₂ + σˣ₃ + σˣ₄ + σˣ₅ + σˣ₆"
     },
     "metadata": {}
    },
    {
     "output_type": "display_data",
     "data": {
      "text/plain": "1-element Vector{CondensedMatterSOS.SpinPolynomial{ComplexF64}}:\n σʸ₁ + σʸ₂ + σʸ₃ + σʸ₄ + σʸ₅ + σʸ₆"
     },
     "metadata": {}
    },
    {
     "output_type": "display_data",
     "data": {
      "text/plain": "1-element Vector{CondensedMatterSOS.SpinPolynomial{ComplexF64}}:\n σᶻ₁ + σᶻ₂ + σᶻ₃ + σᶻ₄ + σᶻ₅ + σᶻ₆"
     },
     "metadata": {}
    },
    {
     "output_type": "display_data",
     "data": {
      "text/plain": "1-element Vector{CondensedMatterSOS.SpinPolynomial{ComplexF64}}:\n σˣ₁ + (-0.5 + 0.866025im)σˣ₂ + (-0.5 - 0.866025im)σˣ₃ + σˣ₄ + (-0.5 + 0.866025im)σˣ₅ + (-0.5 - 0.866025im)σˣ₆"
     },
     "metadata": {}
    },
    {
     "output_type": "display_data",
     "data": {
      "text/plain": "1-element Vector{CondensedMatterSOS.SpinPolynomial{ComplexF64}}:\n σʸ₁ + (-0.5 + 0.866025im)σʸ₂ + (-0.5 - 0.866025im)σʸ₃ + σʸ₄ + (-0.5 + 0.866025im)σʸ₅ + (-0.5 - 0.866025im)σʸ₆"
     },
     "metadata": {}
    },
    {
     "output_type": "display_data",
     "data": {
      "text/plain": "1-element Vector{CondensedMatterSOS.SpinPolynomial{ComplexF64}}:\n σᶻ₁ + (-0.5 + 0.866025im)σᶻ₂ + (-0.5 - 0.866025im)σᶻ₃ + σᶻ₄ + (-0.5 + 0.866025im)σᶻ₅ + (-0.5 - 0.866025im)σᶻ₆"
     },
     "metadata": {}
    },
    {
     "output_type": "display_data",
     "data": {
      "text/plain": "1-element Vector{CondensedMatterSOS.SpinPolynomial{ComplexF64}}:\n σˣ₁ + (0.5 + 0.866025im)σˣ₂ + (-0.5 + 0.866025im)σˣ₃ + -σˣ₄ + (-0.5 - 0.866025im)σˣ₅ + (0.5 - 0.866025im)σˣ₆"
     },
     "metadata": {}
    },
    {
     "output_type": "display_data",
     "data": {
      "text/plain": "1-element Vector{CondensedMatterSOS.SpinPolynomial{ComplexF64}}:\n σʸ₁ + (0.5 + 0.866025im)σʸ₂ + (-0.5 + 0.866025im)σʸ₃ + -σʸ₄ + (-0.5 - 0.866025im)σʸ₅ + (0.5 - 0.866025im)σʸ₆"
     },
     "metadata": {}
    },
    {
     "output_type": "display_data",
     "data": {
      "text/plain": "1-element Vector{CondensedMatterSOS.SpinPolynomial{ComplexF64}}:\n σᶻ₁ + (0.5 + 0.866025im)σᶻ₂ + (-0.5 + 0.866025im)σᶻ₃ + -σᶻ₄ + (-0.5 - 0.866025im)σᶻ₅ + (0.5 - 0.866025im)σᶻ₆"
     },
     "metadata": {}
    },
    {
     "output_type": "display_data",
     "data": {
      "text/plain": "1-element Vector{CondensedMatterSOS.SpinPolynomial{ComplexF64}}:\n σˣ₁ + (-0.5 - 0.866025im)σˣ₂ + (-0.5 + 0.866025im)σˣ₃ + σˣ₄ + (-0.5 - 0.866025im)σˣ₅ + (-0.5 + 0.866025im)σˣ₆"
     },
     "metadata": {}
    },
    {
     "output_type": "display_data",
     "data": {
      "text/plain": "1-element Vector{CondensedMatterSOS.SpinPolynomial{ComplexF64}}:\n σʸ₁ + (-0.5 - 0.866025im)σʸ₂ + (-0.5 + 0.866025im)σʸ₃ + σʸ₄ + (-0.5 - 0.866025im)σʸ₅ + (-0.5 + 0.866025im)σʸ₆"
     },
     "metadata": {}
    },
    {
     "output_type": "display_data",
     "data": {
      "text/plain": "1-element Vector{CondensedMatterSOS.SpinPolynomial{ComplexF64}}:\n σᶻ₁ + (-0.5 - 0.866025im)σᶻ₂ + (-0.5 + 0.866025im)σᶻ₃ + σᶻ₄ + (-0.5 - 0.866025im)σᶻ₅ + (-0.5 + 0.866025im)σᶻ₆"
     },
     "metadata": {}
    },
    {
     "output_type": "display_data",
     "data": {
      "text/plain": "1-element Vector{CondensedMatterSOS.SpinPolynomial{ComplexF64}}:\n σˣ₁ + (0.5 - 0.866025im)σˣ₂ + (-0.5 - 0.866025im)σˣ₃ + -σˣ₄ + (-0.5 + 0.866025im)σˣ₅ + (0.5 + 0.866025im)σˣ₆"
     },
     "metadata": {}
    },
    {
     "output_type": "display_data",
     "data": {
      "text/plain": "1-element Vector{CondensedMatterSOS.SpinPolynomial{ComplexF64}}:\n σʸ₁ + (0.5 - 0.866025im)σʸ₂ + (-0.5 - 0.866025im)σʸ₃ + -σʸ₄ + (-0.5 + 0.866025im)σʸ₅ + (0.5 + 0.866025im)σʸ₆"
     },
     "metadata": {}
    },
    {
     "output_type": "display_data",
     "data": {
      "text/plain": "1-element Vector{CondensedMatterSOS.SpinPolynomial{ComplexF64}}:\n σᶻ₁ + (0.5 - 0.866025im)σᶻ₂ + (-0.5 - 0.866025im)σᶻ₃ + -σᶻ₄ + (-0.5 + 0.866025im)σᶻ₅ + (0.5 + 0.866025im)σᶻ₆"
     },
     "metadata": {}
    },
    {
     "output_type": "display_data",
     "data": {
      "text/plain": "1-element Vector{CondensedMatterSOS.SpinPolynomial{ComplexF64}}:\n σˣ₁ + -σˣ₂ + σˣ₃ + -σˣ₄ + σˣ₅ + -σˣ₆"
     },
     "metadata": {}
    },
    {
     "output_type": "display_data",
     "data": {
      "text/plain": "1-element Vector{CondensedMatterSOS.SpinPolynomial{ComplexF64}}:\n σʸ₁ + -σʸ₂ + σʸ₃ + -σʸ₄ + σʸ₅ + -σʸ₆"
     },
     "metadata": {}
    },
    {
     "output_type": "display_data",
     "data": {
      "text/plain": "1-element Vector{CondensedMatterSOS.SpinPolynomial{ComplexF64}}:\n σᶻ₁ + -σᶻ₂ + σᶻ₃ + -σᶻ₄ + σᶻ₅ + -σᶻ₆"
     },
     "metadata": {}
    },
    {
     "output_type": "display_data",
     "data": {
      "text/plain": "1-element Vector{CondensedMatterSOS.SpinPolynomial{ComplexF64}}:\n (1.0 + 0.0im)"
     },
     "metadata": {}
    }
   ],
   "cell_type": "code",
   "source": [
    "function f(L, d=1, consecutive=false; symmetry=true)\n",
    "    @show L\n",
    "    println(\"***\")\n",
    "    @show d\n",
    "    bound, gram, ν = @time hamiltonian_energy(\n",
    "        L,\n",
    "        2d,\n",
    "        solver,\n",
    "        consecutive=consecutive,\n",
    "        symmetry=symmetry,\n",
    "    )\n",
    "    @show bound\n",
    "    for M in ν.sub_moment_matrices\n",
    "        display(round.(M.basis.polynomials, digits=6))\n",
    "    end\n",
    "    println(\"E/N = \", bound / L)\n",
    "    println(\"------------------------------------\")\n",
    "end\n",
    "\n",
    "f(6, 1, true)"
   ],
   "metadata": {},
   "execution_count": 9
  },
  {
   "cell_type": "markdown",
   "source": [
    "Now with `d = 2`."
   ],
   "metadata": {}
  },
  {
   "outputs": [
    {
     "name": "stdout",
     "output_type": "stream",
     "text": [
      "L = 6\n",
      "***\n",
      "d = 2\n",
      "Iter: 11 Ap: 9.58e-01 Pobj: -1.8000000e+01 Ad: 9.58e-01 Dobj: -1.8000000e+01 \n",
      "Success: SDP solved\n",
      "Primal objective value: -1.8000000e+01 \n",
      "Dual objective value: -1.8000000e+01 \n",
      "Relative primal infeasibility: 1.92e-14 \n",
      "Relative dual infeasibility: 1.59e-09 \n",
      "Real Relative Gap: 2.41e-09 \n",
      "XZ Relative Gap: 3.09e-09 \n",
      "DIMACS error measures: 5.04e-14 0.00e+00 5.43e-09 0.00e+00 2.41e-09 3.09e-09\n",
      "CSDP 6.2.0\n",
      "Iter:  0 Ap: 0.00e+00 Pobj:  0.0000000e+00 Ad: 0.00e+00 Dobj:  0.0000000e+00 \n",
      "Iter:  1 Ap: 8.87e-01 Pobj: -5.4717903e+00 Ad: 8.18e-01 Dobj:  1.3890632e+00 \n",
      "Iter:  2 Ap: 9.60e-01 Pobj: -3.4653075e+02 Ad: 3.99e-01 Dobj: -9.6813687e-01 \n",
      "Iter:  3 Ap: 9.19e-01 Pobj: -2.2340004e+02 Ad: 9.13e-01 Dobj: -2.5587359e+00 \n",
      "Iter:  4 Ap: 9.54e-01 Pobj: -3.8762155e+01 Ad: 8.96e-01 Dobj: -3.2505826e+00 \n",
      "Iter:  5 Ap: 9.53e-01 Pobj: -2.3654466e+01 Ad: 7.29e-01 Dobj: -7.7112448e+00 \n",
      "Iter:  6 Ap: 9.43e-01 Pobj: -1.5590694e+01 Ad: 7.88e-01 Dobj: -9.8874655e+00 \n",
      "Iter:  7 Ap: 1.00e+00 Pobj: -1.3151596e+01 Ad: 7.81e-01 Dobj: -1.1223506e+01 \n",
      "Iter:  8 Ap: 9.89e-01 Pobj: -1.2291396e+01 Ad: 8.05e-01 Dobj: -1.1725791e+01 \n",
      "Iter:  9 Ap: 1.00e+00 Pobj: -1.2034383e+01 Ad: 8.86e-01 Dobj: -1.1949808e+01 \n",
      "Iter: 10 Ap: 1.00e+00 Pobj: -1.2002816e+01 Ad: 9.74e-01 Dobj: -1.1996896e+01 \n",
      "Iter: 11 Ap: 1.00e+00 Pobj: -1.2000156e+01 Ad: 9.84e-01 Dobj: -1.1999851e+01 \n",
      "Iter: 12 Ap: 9.40e-01 Pobj: -1.2000029e+01 Ad: 1.00e+00 Dobj: -1.1999989e+01 \n",
      "Iter: 13 Ap: 9.97e-01 Pobj: -1.2000001e+01 Ad: 9.74e-01 Dobj: -1.1999999e+01 \n",
      "  4.795859 seconds (9.67 M allocations: 885.393 MiB, 7.07% gc time, 1.10% compilation time)\n",
      "bound = -12.000000052598303\n",
      "E/N = -2.0000000087663836\n",
      "------------------------------------\n"
     ]
    },
    {
     "output_type": "display_data",
     "data": {
      "text/plain": "73-element Vector{CondensedMatterSOS.SpinMonomial}:\n 1\n σˣ₁\n σʸ₁\n σᶻ₁\n σˣ₂\n σʸ₂\n σᶻ₂\n σˣ₃\n σʸ₃\n σᶻ₃\n ⋮\n σˣ₁σˣ₆\n σʸ₁σˣ₆\n σᶻ₁σˣ₆\n σˣ₁σʸ₆\n σʸ₁σʸ₆\n σᶻ₁σʸ₆\n σˣ₁σᶻ₆\n σʸ₁σᶻ₆\n σᶻ₁σᶻ₆"
     },
     "metadata": {}
    },
    {
     "output_type": "display_data",
     "data": {
      "text/plain": "1-element Vector{CondensedMatterSOS.SpinPolynomial{ComplexF64}}:\n σˣ₁σˣ₂ + σˣ₁σˣ₆ + -σᶻ₁σᶻ₂ + -σᶻ₁σᶻ₆ + σˣ₂σˣ₃ + -σᶻ₂σᶻ₃ + σˣ₃σˣ₄ + -σᶻ₃σᶻ₄ + σˣ₄σˣ₅ + -σᶻ₄σᶻ₅ + σˣ₅σˣ₆ + -σᶻ₅σᶻ₆"
     },
     "metadata": {}
    },
    {
     "output_type": "display_data",
     "data": {
      "text/plain": "1-element Vector{CondensedMatterSOS.SpinPolynomial{ComplexF64}}:\n σʸ₁σʸ₂ + σʸ₁σʸ₆ + -σᶻ₁σᶻ₂ + -σᶻ₁σᶻ₆ + σʸ₂σʸ₃ + -σᶻ₂σᶻ₃ + σʸ₃σʸ₄ + -σᶻ₃σᶻ₄ + σʸ₄σʸ₅ + -σᶻ₄σᶻ₅ + σʸ₅σʸ₆ + -σᶻ₅σᶻ₆"
     },
     "metadata": {}
    },
    {
     "output_type": "display_data",
     "data": {
      "text/plain": "1-element Vector{CondensedMatterSOS.SpinPolynomial{ComplexF64}}:\n σˣ₁σˣ₂ + (-0.5 - 0.866025im)σˣ₁σˣ₆ + -σᶻ₁σᶻ₂ + (0.5 + 0.866025im)σᶻ₁σᶻ₆ + (-0.5 + 0.866025im)σˣ₂σˣ₃ + (0.5 - 0.866025im)σᶻ₂σᶻ₃ + (-0.5 - 0.866025im)σˣ₃σˣ₄ + (0.5 + 0.866025im)σᶻ₃σᶻ₄ + σˣ₄σˣ₅ + -σᶻ₄σᶻ₅ + (-0.5 + 0.866025im)σˣ₅σˣ₆ + (0.5 - 0.866025im)σᶻ₅σᶻ₆"
     },
     "metadata": {}
    },
    {
     "output_type": "display_data",
     "data": {
      "text/plain": "1-element Vector{CondensedMatterSOS.SpinPolynomial{ComplexF64}}:\n σʸ₁σʸ₂ + (-0.5 - 0.866025im)σʸ₁σʸ₆ + -σᶻ₁σᶻ₂ + (0.5 + 0.866025im)σᶻ₁σᶻ₆ + (-0.5 + 0.866025im)σʸ₂σʸ₃ + (0.5 - 0.866025im)σᶻ₂σᶻ₃ + (-0.5 - 0.866025im)σʸ₃σʸ₄ + (0.5 + 0.866025im)σᶻ₃σᶻ₄ + σʸ₄σʸ₅ + -σᶻ₄σᶻ₅ + (-0.5 + 0.866025im)σʸ₅σʸ₆ + (0.5 - 0.866025im)σᶻ₅σᶻ₆"
     },
     "metadata": {}
    },
    {
     "output_type": "display_data",
     "data": {
      "text/plain": "1-element Vector{CondensedMatterSOS.SpinPolynomial{ComplexF64}}:\n σˣ₁σˣ₂ + (0.5 - 0.866025im)σˣ₁σˣ₆ + -σᶻ₁σᶻ₂ + (-0.5 + 0.866025im)σᶻ₁σᶻ₆ + (0.5 + 0.866025im)σˣ₂σˣ₃ + (-0.5 - 0.866025im)σᶻ₂σᶻ₃ + (-0.5 + 0.866025im)σˣ₃σˣ₄ + (0.5 - 0.866025im)σᶻ₃σᶻ₄ + -σˣ₄σˣ₅ + σᶻ₄σᶻ₅ + (-0.5 - 0.866025im)σˣ₅σˣ₆ + (0.5 + 0.866025im)σᶻ₅σᶻ₆"
     },
     "metadata": {}
    },
    {
     "output_type": "display_data",
     "data": {
      "text/plain": "1-element Vector{CondensedMatterSOS.SpinPolynomial{ComplexF64}}:\n σʸ₁σʸ₂ + (0.5 - 0.866025im)σʸ₁σʸ₆ + -σᶻ₁σᶻ₂ + (-0.5 + 0.866025im)σᶻ₁σᶻ₆ + (0.5 + 0.866025im)σʸ₂σʸ₃ + (-0.5 - 0.866025im)σᶻ₂σᶻ₃ + (-0.5 + 0.866025im)σʸ₃σʸ₄ + (0.5 - 0.866025im)σᶻ₃σᶻ₄ + -σʸ₄σʸ₅ + σᶻ₄σᶻ₅ + (-0.5 - 0.866025im)σʸ₅σʸ₆ + (0.5 + 0.866025im)σᶻ₅σᶻ₆"
     },
     "metadata": {}
    },
    {
     "output_type": "display_data",
     "data": {
      "text/plain": "1-element Vector{CondensedMatterSOS.SpinPolynomial{ComplexF64}}:\n σˣ₁σˣ₂ + (-0.5 + 0.866025im)σˣ₁σˣ₆ + -σᶻ₁σᶻ₂ + (0.5 - 0.866025im)σᶻ₁σᶻ₆ + (-0.5 - 0.866025im)σˣ₂σˣ₃ + (0.5 + 0.866025im)σᶻ₂σᶻ₃ + (-0.5 + 0.866025im)σˣ₃σˣ₄ + (0.5 - 0.866025im)σᶻ₃σᶻ₄ + σˣ₄σˣ₅ + -σᶻ₄σᶻ₅ + (-0.5 - 0.866025im)σˣ₅σˣ₆ + (0.5 + 0.866025im)σᶻ₅σᶻ₆"
     },
     "metadata": {}
    },
    {
     "output_type": "display_data",
     "data": {
      "text/plain": "1-element Vector{CondensedMatterSOS.SpinPolynomial{ComplexF64}}:\n σʸ₁σʸ₂ + (-0.5 + 0.866025im)σʸ₁σʸ₆ + -σᶻ₁σᶻ₂ + (0.5 - 0.866025im)σᶻ₁σᶻ₆ + (-0.5 - 0.866025im)σʸ₂σʸ₃ + (0.5 + 0.866025im)σᶻ₂σᶻ₃ + (-0.5 + 0.866025im)σʸ₃σʸ₄ + (0.5 - 0.866025im)σᶻ₃σᶻ₄ + σʸ₄σʸ₅ + -σᶻ₄σᶻ₅ + (-0.5 - 0.866025im)σʸ₅σʸ₆ + (0.5 + 0.866025im)σᶻ₅σᶻ₆"
     },
     "metadata": {}
    },
    {
     "output_type": "display_data",
     "data": {
      "text/plain": "1-element Vector{CondensedMatterSOS.SpinPolynomial{ComplexF64}}:\n σˣ₁σˣ₂ + (0.5 + 0.866025im)σˣ₁σˣ₆ + -σᶻ₁σᶻ₂ + (-0.5 - 0.866025im)σᶻ₁σᶻ₆ + (0.5 - 0.866025im)σˣ₂σˣ₃ + (-0.5 + 0.866025im)σᶻ₂σᶻ₃ + (-0.5 - 0.866025im)σˣ₃σˣ₄ + (0.5 + 0.866025im)σᶻ₃σᶻ₄ + -σˣ₄σˣ₅ + σᶻ₄σᶻ₅ + (-0.5 + 0.866025im)σˣ₅σˣ₆ + (0.5 - 0.866025im)σᶻ₅σᶻ₆"
     },
     "metadata": {}
    },
    {
     "output_type": "display_data",
     "data": {
      "text/plain": "1-element Vector{CondensedMatterSOS.SpinPolynomial{ComplexF64}}:\n σʸ₁σʸ₂ + (0.5 + 0.866025im)σʸ₁σʸ₆ + -σᶻ₁σᶻ₂ + (-0.5 - 0.866025im)σᶻ₁σᶻ₆ + (0.5 - 0.866025im)σʸ₂σʸ₃ + (-0.5 + 0.866025im)σᶻ₂σᶻ₃ + (-0.5 - 0.866025im)σʸ₃σʸ₄ + (0.5 + 0.866025im)σᶻ₃σᶻ₄ + -σʸ₄σʸ₅ + σᶻ₄σᶻ₅ + (-0.5 + 0.866025im)σʸ₅σʸ₆ + (0.5 - 0.866025im)σᶻ₅σᶻ₆"
     },
     "metadata": {}
    },
    {
     "output_type": "display_data",
     "data": {
      "text/plain": "1-element Vector{CondensedMatterSOS.SpinPolynomial{ComplexF64}}:\n σˣ₁σˣ₂ + -σˣ₁σˣ₆ + -σᶻ₁σᶻ₂ + σᶻ₁σᶻ₆ + -σˣ₂σˣ₃ + σᶻ₂σᶻ₃ + σˣ₃σˣ₄ + -σᶻ₃σᶻ₄ + -σˣ₄σˣ₅ + σᶻ₄σᶻ₅ + σˣ₅σˣ₆ + -σᶻ₅σᶻ₆"
     },
     "metadata": {}
    },
    {
     "output_type": "display_data",
     "data": {
      "text/plain": "1-element Vector{CondensedMatterSOS.SpinPolynomial{ComplexF64}}:\n σʸ₁σʸ₂ + -σʸ₁σʸ₆ + -σᶻ₁σᶻ₂ + σᶻ₁σᶻ₆ + -σʸ₂σʸ₃ + σᶻ₂σᶻ₃ + σʸ₃σʸ₄ + -σᶻ₃σᶻ₄ + -σʸ₄σʸ₅ + σᶻ₄σᶻ₅ + σʸ₅σʸ₆ + -σᶻ₅σᶻ₆"
     },
     "metadata": {}
    },
    {
     "output_type": "display_data",
     "data": {
      "text/plain": "2-element Vector{CondensedMatterSOS.SpinPolynomial{ComplexF64}}:\n σˣ₁σʸ₂ + σˣ₁σʸ₆ + σʸ₁σˣ₂ + σʸ₁σˣ₆ + σˣ₂σʸ₃ + σʸ₂σˣ₃ + σˣ₃σʸ₄ + σʸ₃σˣ₄ + σˣ₄σʸ₅ + σʸ₄σˣ₅ + σˣ₅σʸ₆ + σʸ₅σˣ₆\n σᶻ₁ + σᶻ₂ + σᶻ₃ + σᶻ₄ + σᶻ₅ + σᶻ₆"
     },
     "metadata": {}
    },
    {
     "output_type": "display_data",
     "data": {
      "text/plain": "2-element Vector{CondensedMatterSOS.SpinPolynomial{ComplexF64}}:\n σˣ₁σᶻ₂ + σˣ₁σᶻ₆ + σᶻ₁σˣ₂ + σᶻ₁σˣ₆ + σˣ₂σᶻ₃ + σᶻ₂σˣ₃ + σˣ₃σᶻ₄ + σᶻ₃σˣ₄ + σˣ₄σᶻ₅ + σᶻ₄σˣ₅ + σˣ₅σᶻ₆ + σᶻ₅σˣ₆\n σʸ₁ + σʸ₂ + σʸ₃ + σʸ₄ + σʸ₅ + σʸ₆"
     },
     "metadata": {}
    },
    {
     "output_type": "display_data",
     "data": {
      "text/plain": "2-element Vector{CondensedMatterSOS.SpinPolynomial{ComplexF64}}:\n σʸ₁σᶻ₂ + σʸ₁σᶻ₆ + σᶻ₁σʸ₂ + σᶻ₁σʸ₆ + σʸ₂σᶻ₃ + σᶻ₂σʸ₃ + σʸ₃σᶻ₄ + σᶻ₃σʸ₄ + σʸ₄σᶻ₅ + σᶻ₄σʸ₅ + σʸ₅σᶻ₆ + σᶻ₅σʸ₆\n σˣ₁ + σˣ₂ + σˣ₃ + σˣ₄ + σˣ₅ + σˣ₆"
     },
     "metadata": {}
    },
    {
     "output_type": "display_data",
     "data": {
      "text/plain": "2-element Vector{CondensedMatterSOS.SpinPolynomial{ComplexF64}}:\n σˣ₁σʸ₂ + (-0.5 - 0.866025im)σˣ₁σʸ₆ + σʸ₁σˣ₂ + (-0.5 - 0.866025im)σʸ₁σˣ₆ + (-0.5 + 0.866025im)σˣ₂σʸ₃ + (-0.5 + 0.866025im)σʸ₂σˣ₃ + (-0.5 - 0.866025im)σˣ₃σʸ₄ + (-0.5 - 0.866025im)σʸ₃σˣ₄ + σˣ₄σʸ₅ + σʸ₄σˣ₅ + (-0.5 + 0.866025im)σˣ₅σʸ₆ + (-0.5 + 0.866025im)σʸ₅σˣ₆\n σᶻ₁ + (-0.5 + 0.866025im)σᶻ₂ + (-0.5 - 0.866025im)σᶻ₃ + σᶻ₄ + (-0.5 + 0.866025im)σᶻ₅ + (-0.5 - 0.866025im)σᶻ₆"
     },
     "metadata": {}
    },
    {
     "output_type": "display_data",
     "data": {
      "text/plain": "2-element Vector{CondensedMatterSOS.SpinPolynomial{ComplexF64}}:\n σˣ₁σᶻ₂ + (-0.5 - 0.866025im)σˣ₁σᶻ₆ + σᶻ₁σˣ₂ + (-0.5 - 0.866025im)σᶻ₁σˣ₆ + (-0.5 + 0.866025im)σˣ₂σᶻ₃ + (-0.5 + 0.866025im)σᶻ₂σˣ₃ + (-0.5 - 0.866025im)σˣ₃σᶻ₄ + (-0.5 - 0.866025im)σᶻ₃σˣ₄ + σˣ₄σᶻ₅ + σᶻ₄σˣ₅ + (-0.5 + 0.866025im)σˣ₅σᶻ₆ + (-0.5 + 0.866025im)σᶻ₅σˣ₆\n σʸ₁ + (-0.5 + 0.866025im)σʸ₂ + (-0.5 - 0.866025im)σʸ₃ + σʸ₄ + (-0.5 + 0.866025im)σʸ₅ + (-0.5 - 0.866025im)σʸ₆"
     },
     "metadata": {}
    },
    {
     "output_type": "display_data",
     "data": {
      "text/plain": "2-element Vector{CondensedMatterSOS.SpinPolynomial{ComplexF64}}:\n σʸ₁σᶻ₂ + (-0.5 - 0.866025im)σʸ₁σᶻ₆ + σᶻ₁σʸ₂ + (-0.5 - 0.866025im)σᶻ₁σʸ₆ + (-0.5 + 0.866025im)σʸ₂σᶻ₃ + (-0.5 + 0.866025im)σᶻ₂σʸ₃ + (-0.5 - 0.866025im)σʸ₃σᶻ₄ + (-0.5 - 0.866025im)σᶻ₃σʸ₄ + σʸ₄σᶻ₅ + σᶻ₄σʸ₅ + (-0.5 + 0.866025im)σʸ₅σᶻ₆ + (-0.5 + 0.866025im)σᶻ₅σʸ₆\n σˣ₁ + (-0.5 + 0.866025im)σˣ₂ + (-0.5 - 0.866025im)σˣ₃ + σˣ₄ + (-0.5 + 0.866025im)σˣ₅ + (-0.5 - 0.866025im)σˣ₆"
     },
     "metadata": {}
    },
    {
     "output_type": "display_data",
     "data": {
      "text/plain": "2-element Vector{CondensedMatterSOS.SpinPolynomial{ComplexF64}}:\n σˣ₁σʸ₂ + (0.5 - 0.866025im)σˣ₁σʸ₆ + σʸ₁σˣ₂ + (0.5 - 0.866025im)σʸ₁σˣ₆ + (0.5 + 0.866025im)σˣ₂σʸ₃ + (0.5 + 0.866025im)σʸ₂σˣ₃ + (-0.5 + 0.866025im)σˣ₃σʸ₄ + (-0.5 + 0.866025im)σʸ₃σˣ₄ + -σˣ₄σʸ₅ + -σʸ₄σˣ₅ + (-0.5 - 0.866025im)σˣ₅σʸ₆ + (-0.5 - 0.866025im)σʸ₅σˣ₆\n σᶻ₁ + (0.5 + 0.866025im)σᶻ₂ + (-0.5 + 0.866025im)σᶻ₃ + -σᶻ₄ + (-0.5 - 0.866025im)σᶻ₅ + (0.5 - 0.866025im)σᶻ₆"
     },
     "metadata": {}
    },
    {
     "output_type": "display_data",
     "data": {
      "text/plain": "2-element Vector{CondensedMatterSOS.SpinPolynomial{ComplexF64}}:\n σˣ₁σᶻ₂ + (0.5 - 0.866025im)σˣ₁σᶻ₆ + σᶻ₁σˣ₂ + (0.5 - 0.866025im)σᶻ₁σˣ₆ + (0.5 + 0.866025im)σˣ₂σᶻ₃ + (0.5 + 0.866025im)σᶻ₂σˣ₃ + (-0.5 + 0.866025im)σˣ₃σᶻ₄ + (-0.5 + 0.866025im)σᶻ₃σˣ₄ + -σˣ₄σᶻ₅ + -σᶻ₄σˣ₅ + (-0.5 - 0.866025im)σˣ₅σᶻ₆ + (-0.5 - 0.866025im)σᶻ₅σˣ₆\n σʸ₁ + (0.5 + 0.866025im)σʸ₂ + (-0.5 + 0.866025im)σʸ₃ + -σʸ₄ + (-0.5 - 0.866025im)σʸ₅ + (0.5 - 0.866025im)σʸ₆"
     },
     "metadata": {}
    },
    {
     "output_type": "display_data",
     "data": {
      "text/plain": "2-element Vector{CondensedMatterSOS.SpinPolynomial{ComplexF64}}:\n σʸ₁σᶻ₂ + (0.5 - 0.866025im)σʸ₁σᶻ₆ + σᶻ₁σʸ₂ + (0.5 - 0.866025im)σᶻ₁σʸ₆ + (0.5 + 0.866025im)σʸ₂σᶻ₃ + (0.5 + 0.866025im)σᶻ₂σʸ₃ + (-0.5 + 0.866025im)σʸ₃σᶻ₄ + (-0.5 + 0.866025im)σᶻ₃σʸ₄ + -σʸ₄σᶻ₅ + -σᶻ₄σʸ₅ + (-0.5 - 0.866025im)σʸ₅σᶻ₆ + (-0.5 - 0.866025im)σᶻ₅σʸ₆\n σˣ₁ + (0.5 + 0.866025im)σˣ₂ + (-0.5 + 0.866025im)σˣ₃ + -σˣ₄ + (-0.5 - 0.866025im)σˣ₅ + (0.5 - 0.866025im)σˣ₆"
     },
     "metadata": {}
    },
    {
     "output_type": "display_data",
     "data": {
      "text/plain": "2-element Vector{CondensedMatterSOS.SpinPolynomial{ComplexF64}}:\n σˣ₁σʸ₂ + (-0.5 + 0.866025im)σˣ₁σʸ₆ + σʸ₁σˣ₂ + (-0.5 + 0.866025im)σʸ₁σˣ₆ + (-0.5 - 0.866025im)σˣ₂σʸ₃ + (-0.5 - 0.866025im)σʸ₂σˣ₃ + (-0.5 + 0.866025im)σˣ₃σʸ₄ + (-0.5 + 0.866025im)σʸ₃σˣ₄ + σˣ₄σʸ₅ + σʸ₄σˣ₅ + (-0.5 - 0.866025im)σˣ₅σʸ₆ + (-0.5 - 0.866025im)σʸ₅σˣ₆\n σᶻ₁ + (-0.5 - 0.866025im)σᶻ₂ + (-0.5 + 0.866025im)σᶻ₃ + σᶻ₄ + (-0.5 - 0.866025im)σᶻ₅ + (-0.5 + 0.866025im)σᶻ₆"
     },
     "metadata": {}
    },
    {
     "output_type": "display_data",
     "data": {
      "text/plain": "2-element Vector{CondensedMatterSOS.SpinPolynomial{ComplexF64}}:\n σˣ₁σᶻ₂ + (-0.5 + 0.866025im)σˣ₁σᶻ₆ + σᶻ₁σˣ₂ + (-0.5 + 0.866025im)σᶻ₁σˣ₆ + (-0.5 - 0.866025im)σˣ₂σᶻ₃ + (-0.5 - 0.866025im)σᶻ₂σˣ₃ + (-0.5 + 0.866025im)σˣ₃σᶻ₄ + (-0.5 + 0.866025im)σᶻ₃σˣ₄ + σˣ₄σᶻ₅ + σᶻ₄σˣ₅ + (-0.5 - 0.866025im)σˣ₅σᶻ₆ + (-0.5 - 0.866025im)σᶻ₅σˣ₆\n σʸ₁ + (-0.5 - 0.866025im)σʸ₂ + (-0.5 + 0.866025im)σʸ₃ + σʸ₄ + (-0.5 - 0.866025im)σʸ₅ + (-0.5 + 0.866025im)σʸ₆"
     },
     "metadata": {}
    },
    {
     "output_type": "display_data",
     "data": {
      "text/plain": "2-element Vector{CondensedMatterSOS.SpinPolynomial{ComplexF64}}:\n σʸ₁σᶻ₂ + (-0.5 + 0.866025im)σʸ₁σᶻ₆ + σᶻ₁σʸ₂ + (-0.5 + 0.866025im)σᶻ₁σʸ₆ + (-0.5 - 0.866025im)σʸ₂σᶻ₃ + (-0.5 - 0.866025im)σᶻ₂σʸ₃ + (-0.5 + 0.866025im)σʸ₃σᶻ₄ + (-0.5 + 0.866025im)σᶻ₃σʸ₄ + σʸ₄σᶻ₅ + σᶻ₄σʸ₅ + (-0.5 - 0.866025im)σʸ₅σᶻ₆ + (-0.5 - 0.866025im)σᶻ₅σʸ₆\n σˣ₁ + (-0.5 - 0.866025im)σˣ₂ + (-0.5 + 0.866025im)σˣ₃ + σˣ₄ + (-0.5 - 0.866025im)σˣ₅ + (-0.5 + 0.866025im)σˣ₆"
     },
     "metadata": {}
    },
    {
     "output_type": "display_data",
     "data": {
      "text/plain": "2-element Vector{CondensedMatterSOS.SpinPolynomial{ComplexF64}}:\n σˣ₁σʸ₂ + (0.5 + 0.866025im)σˣ₁σʸ₆ + σʸ₁σˣ₂ + (0.5 + 0.866025im)σʸ₁σˣ₆ + (0.5 - 0.866025im)σˣ₂σʸ₃ + (0.5 - 0.866025im)σʸ₂σˣ₃ + (-0.5 - 0.866025im)σˣ₃σʸ₄ + (-0.5 - 0.866025im)σʸ₃σˣ₄ + -σˣ₄σʸ₅ + -σʸ₄σˣ₅ + (-0.5 + 0.866025im)σˣ₅σʸ₆ + (-0.5 + 0.866025im)σʸ₅σˣ₆\n σᶻ₁ + (0.5 - 0.866025im)σᶻ₂ + (-0.5 - 0.866025im)σᶻ₃ + -σᶻ₄ + (-0.5 + 0.866025im)σᶻ₅ + (0.5 + 0.866025im)σᶻ₆"
     },
     "metadata": {}
    },
    {
     "output_type": "display_data",
     "data": {
      "text/plain": "2-element Vector{CondensedMatterSOS.SpinPolynomial{ComplexF64}}:\n σˣ₁σᶻ₂ + (0.5 + 0.866025im)σˣ₁σᶻ₆ + σᶻ₁σˣ₂ + (0.5 + 0.866025im)σᶻ₁σˣ₆ + (0.5 - 0.866025im)σˣ₂σᶻ₃ + (0.5 - 0.866025im)σᶻ₂σˣ₃ + (-0.5 - 0.866025im)σˣ₃σᶻ₄ + (-0.5 - 0.866025im)σᶻ₃σˣ₄ + -σˣ₄σᶻ₅ + -σᶻ₄σˣ₅ + (-0.5 + 0.866025im)σˣ₅σᶻ₆ + (-0.5 + 0.866025im)σᶻ₅σˣ₆\n σʸ₁ + (0.5 - 0.866025im)σʸ₂ + (-0.5 - 0.866025im)σʸ₃ + -σʸ₄ + (-0.5 + 0.866025im)σʸ₅ + (0.5 + 0.866025im)σʸ₆"
     },
     "metadata": {}
    },
    {
     "output_type": "display_data",
     "data": {
      "text/plain": "2-element Vector{CondensedMatterSOS.SpinPolynomial{ComplexF64}}:\n σʸ₁σᶻ₂ + (0.5 + 0.866025im)σʸ₁σᶻ₆ + σᶻ₁σʸ₂ + (0.5 + 0.866025im)σᶻ₁σʸ₆ + (0.5 - 0.866025im)σʸ₂σᶻ₃ + (0.5 - 0.866025im)σᶻ₂σʸ₃ + (-0.5 - 0.866025im)σʸ₃σᶻ₄ + (-0.5 - 0.866025im)σᶻ₃σʸ₄ + -σʸ₄σᶻ₅ + -σᶻ₄σʸ₅ + (-0.5 + 0.866025im)σʸ₅σᶻ₆ + (-0.5 + 0.866025im)σᶻ₅σʸ₆\n σˣ₁ + (0.5 - 0.866025im)σˣ₂ + (-0.5 - 0.866025im)σˣ₃ + -σˣ₄ + (-0.5 + 0.866025im)σˣ₅ + (0.5 + 0.866025im)σˣ₆"
     },
     "metadata": {}
    },
    {
     "output_type": "display_data",
     "data": {
      "text/plain": "2-element Vector{CondensedMatterSOS.SpinPolynomial{ComplexF64}}:\n σˣ₁σʸ₂ + -σˣ₁σʸ₆ + σʸ₁σˣ₂ + -σʸ₁σˣ₆ + -σˣ₂σʸ₃ + -σʸ₂σˣ₃ + σˣ₃σʸ₄ + σʸ₃σˣ₄ + -σˣ₄σʸ₅ + -σʸ₄σˣ₅ + σˣ₅σʸ₆ + σʸ₅σˣ₆\n σᶻ₁ + -σᶻ₂ + σᶻ₃ + -σᶻ₄ + σᶻ₅ + -σᶻ₆"
     },
     "metadata": {}
    },
    {
     "output_type": "display_data",
     "data": {
      "text/plain": "2-element Vector{CondensedMatterSOS.SpinPolynomial{ComplexF64}}:\n σˣ₁σᶻ₂ + -σˣ₁σᶻ₆ + σᶻ₁σˣ₂ + -σᶻ₁σˣ₆ + -σˣ₂σᶻ₃ + -σᶻ₂σˣ₃ + σˣ₃σᶻ₄ + σᶻ₃σˣ₄ + -σˣ₄σᶻ₅ + -σᶻ₄σˣ₅ + σˣ₅σᶻ₆ + σᶻ₅σˣ₆\n σʸ₁ + -σʸ₂ + σʸ₃ + -σʸ₄ + σʸ₅ + -σʸ₆"
     },
     "metadata": {}
    },
    {
     "output_type": "display_data",
     "data": {
      "text/plain": "2-element Vector{CondensedMatterSOS.SpinPolynomial{ComplexF64}}:\n σʸ₁σᶻ₂ + -σʸ₁σᶻ₆ + σᶻ₁σʸ₂ + -σᶻ₁σʸ₆ + -σʸ₂σᶻ₃ + -σᶻ₂σʸ₃ + σʸ₃σᶻ₄ + σᶻ₃σʸ₄ + -σʸ₄σᶻ₅ + -σᶻ₄σʸ₅ + σʸ₅σᶻ₆ + σᶻ₅σʸ₆\n σˣ₁ + -σˣ₂ + σˣ₃ + -σˣ₄ + σˣ₅ + -σˣ₆"
     },
     "metadata": {}
    },
    {
     "output_type": "display_data",
     "data": {
      "text/plain": "2-element Vector{CondensedMatterSOS.SpinPolynomial{ComplexF64}}:\n (1.0 + 0.0im)\n σˣ₁σˣ₂ + σˣ₁σˣ₆ + σʸ₁σʸ₂ + σʸ₁σʸ₆ + σᶻ₁σᶻ₂ + σᶻ₁σᶻ₆ + σˣ₂σˣ₃ + σʸ₂σʸ₃ + σᶻ₂σᶻ₃ + σˣ₃σˣ₄ + σʸ₃σʸ₄ + σᶻ₃σᶻ₄ + σˣ₄σˣ₅ + σʸ₄σʸ₅ + σᶻ₄σᶻ₅ + σˣ₅σˣ₆ + σʸ₅σʸ₆ + σᶻ₅σᶻ₆"
     },
     "metadata": {}
    },
    {
     "output_type": "display_data",
     "data": {
      "text/plain": "1-element Vector{CondensedMatterSOS.SpinPolynomial{ComplexF64}}:\n σˣ₁σˣ₂ + (-0.5 - 0.866025im)σˣ₁σˣ₆ + σʸ₁σʸ₂ + (-0.5 - 0.866025im)σʸ₁σʸ₆ + σᶻ₁σᶻ₂ + (-0.5 - 0.866025im)σᶻ₁σᶻ₆ + (-0.5 + 0.866025im)σˣ₂σˣ₃ + (-0.5 + 0.866025im)σʸ₂σʸ₃ + (-0.5 + 0.866025im)σᶻ₂σᶻ₃ + (-0.5 - 0.866025im)σˣ₃σˣ₄ + (-0.5 - 0.866025im)σʸ₃σʸ₄ + (-0.5 - 0.866025im)σᶻ₃σᶻ₄ + σˣ₄σˣ₅ + σʸ₄σʸ₅ + σᶻ₄σᶻ₅ + (-0.5 + 0.866025im)σˣ₅σˣ₆ + (-0.5 + 0.866025im)σʸ₅σʸ₆ + (-0.5 + 0.866025im)σᶻ₅σᶻ₆"
     },
     "metadata": {}
    },
    {
     "output_type": "display_data",
     "data": {
      "text/plain": "1-element Vector{CondensedMatterSOS.SpinPolynomial{ComplexF64}}:\n σˣ₁σˣ₂ + (0.5 - 0.866025im)σˣ₁σˣ₆ + σʸ₁σʸ₂ + (0.5 - 0.866025im)σʸ₁σʸ₆ + σᶻ₁σᶻ₂ + (0.5 - 0.866025im)σᶻ₁σᶻ₆ + (0.5 + 0.866025im)σˣ₂σˣ₃ + (0.5 + 0.866025im)σʸ₂σʸ₃ + (0.5 + 0.866025im)σᶻ₂σᶻ₃ + (-0.5 + 0.866025im)σˣ₃σˣ₄ + (-0.5 + 0.866025im)σʸ₃σʸ₄ + (-0.5 + 0.866025im)σᶻ₃σᶻ₄ + -σˣ₄σˣ₅ + -σʸ₄σʸ₅ + -σᶻ₄σᶻ₅ + (-0.5 - 0.866025im)σˣ₅σˣ₆ + (-0.5 - 0.866025im)σʸ₅σʸ₆ + (-0.5 - 0.866025im)σᶻ₅σᶻ₆"
     },
     "metadata": {}
    },
    {
     "output_type": "display_data",
     "data": {
      "text/plain": "1-element Vector{CondensedMatterSOS.SpinPolynomial{ComplexF64}}:\n σˣ₁σˣ₂ + (-0.5 + 0.866025im)σˣ₁σˣ₆ + σʸ₁σʸ₂ + (-0.5 + 0.866025im)σʸ₁σʸ₆ + σᶻ₁σᶻ₂ + (-0.5 + 0.866025im)σᶻ₁σᶻ₆ + (-0.5 - 0.866025im)σˣ₂σˣ₃ + (-0.5 - 0.866025im)σʸ₂σʸ₃ + (-0.5 - 0.866025im)σᶻ₂σᶻ₃ + (-0.5 + 0.866025im)σˣ₃σˣ₄ + (-0.5 + 0.866025im)σʸ₃σʸ₄ + (-0.5 + 0.866025im)σᶻ₃σᶻ₄ + σˣ₄σˣ₅ + σʸ₄σʸ₅ + σᶻ₄σᶻ₅ + (-0.5 - 0.866025im)σˣ₅σˣ₆ + (-0.5 - 0.866025im)σʸ₅σʸ₆ + (-0.5 - 0.866025im)σᶻ₅σᶻ₆"
     },
     "metadata": {}
    },
    {
     "output_type": "display_data",
     "data": {
      "text/plain": "1-element Vector{CondensedMatterSOS.SpinPolynomial{ComplexF64}}:\n σˣ₁σˣ₂ + (0.5 + 0.866025im)σˣ₁σˣ₆ + σʸ₁σʸ₂ + (0.5 + 0.866025im)σʸ₁σʸ₆ + σᶻ₁σᶻ₂ + (0.5 + 0.866025im)σᶻ₁σᶻ₆ + (0.5 - 0.866025im)σˣ₂σˣ₃ + (0.5 - 0.866025im)σʸ₂σʸ₃ + (0.5 - 0.866025im)σᶻ₂σᶻ₃ + (-0.5 - 0.866025im)σˣ₃σˣ₄ + (-0.5 - 0.866025im)σʸ₃σʸ₄ + (-0.5 - 0.866025im)σᶻ₃σᶻ₄ + -σˣ₄σˣ₅ + -σʸ₄σʸ₅ + -σᶻ₄σᶻ₅ + (-0.5 + 0.866025im)σˣ₅σˣ₆ + (-0.5 + 0.866025im)σʸ₅σʸ₆ + (-0.5 + 0.866025im)σᶻ₅σᶻ₆"
     },
     "metadata": {}
    },
    {
     "output_type": "display_data",
     "data": {
      "text/plain": "1-element Vector{CondensedMatterSOS.SpinPolynomial{ComplexF64}}:\n σˣ₁σˣ₂ + -σˣ₁σˣ₆ + σʸ₁σʸ₂ + -σʸ₁σʸ₆ + σᶻ₁σᶻ₂ + -σᶻ₁σᶻ₆ + -σˣ₂σˣ₃ + -σʸ₂σʸ₃ + -σᶻ₂σᶻ₃ + σˣ₃σˣ₄ + σʸ₃σʸ₄ + σᶻ₃σᶻ₄ + -σˣ₄σˣ₅ + -σʸ₄σʸ₅ + -σᶻ₄σᶻ₅ + σˣ₅σˣ₆ + σʸ₅σʸ₆ + σᶻ₅σᶻ₆"
     },
     "metadata": {}
    },
    {
     "output_type": "display_data",
     "data": {
      "text/plain": "1-element Vector{CondensedMatterSOS.SpinPolynomial{ComplexF64}}:\n σˣ₁σʸ₂ + -σˣ₁σʸ₆ + -σʸ₁σˣ₂ + σʸ₁σˣ₆ + σˣ₂σʸ₃ + -σʸ₂σˣ₃ + σˣ₃σʸ₄ + -σʸ₃σˣ₄ + σˣ₄σʸ₅ + -σʸ₄σˣ₅ + σˣ₅σʸ₆ + -σʸ₅σˣ₆"
     },
     "metadata": {}
    },
    {
     "output_type": "display_data",
     "data": {
      "text/plain": "1-element Vector{CondensedMatterSOS.SpinPolynomial{ComplexF64}}:\n σˣ₁σᶻ₂ + -σˣ₁σᶻ₆ + -σᶻ₁σˣ₂ + σᶻ₁σˣ₆ + σˣ₂σᶻ₃ + -σᶻ₂σˣ₃ + σˣ₃σᶻ₄ + -σᶻ₃σˣ₄ + σˣ₄σᶻ₅ + -σᶻ₄σˣ₅ + σˣ₅σᶻ₆ + -σᶻ₅σˣ₆"
     },
     "metadata": {}
    },
    {
     "output_type": "display_data",
     "data": {
      "text/plain": "1-element Vector{CondensedMatterSOS.SpinPolynomial{ComplexF64}}:\n σʸ₁σᶻ₂ + -σʸ₁σᶻ₆ + -σᶻ₁σʸ₂ + σᶻ₁σʸ₆ + σʸ₂σᶻ₃ + -σᶻ₂σʸ₃ + σʸ₃σᶻ₄ + -σᶻ₃σʸ₄ + σʸ₄σᶻ₅ + -σᶻ₄σʸ₅ + σʸ₅σᶻ₆ + -σᶻ₅σʸ₆"
     },
     "metadata": {}
    },
    {
     "output_type": "display_data",
     "data": {
      "text/plain": "1-element Vector{CondensedMatterSOS.SpinPolynomial{ComplexF64}}:\n σˣ₁σʸ₂ + (0.5 + 0.866025im)σˣ₁σʸ₆ + -σʸ₁σˣ₂ + (-0.5 - 0.866025im)σʸ₁σˣ₆ + (-0.5 + 0.866025im)σˣ₂σʸ₃ + (0.5 - 0.866025im)σʸ₂σˣ₃ + (-0.5 - 0.866025im)σˣ₃σʸ₄ + (0.5 + 0.866025im)σʸ₃σˣ₄ + σˣ₄σʸ₅ + -σʸ₄σˣ₅ + (-0.5 + 0.866025im)σˣ₅σʸ₆ + (0.5 - 0.866025im)σʸ₅σˣ₆"
     },
     "metadata": {}
    },
    {
     "output_type": "display_data",
     "data": {
      "text/plain": "1-element Vector{CondensedMatterSOS.SpinPolynomial{ComplexF64}}:\n σˣ₁σᶻ₂ + (0.5 + 0.866025im)σˣ₁σᶻ₆ + -σᶻ₁σˣ₂ + (-0.5 - 0.866025im)σᶻ₁σˣ₆ + (-0.5 + 0.866025im)σˣ₂σᶻ₃ + (0.5 - 0.866025im)σᶻ₂σˣ₃ + (-0.5 - 0.866025im)σˣ₃σᶻ₄ + (0.5 + 0.866025im)σᶻ₃σˣ₄ + σˣ₄σᶻ₅ + -σᶻ₄σˣ₅ + (-0.5 + 0.866025im)σˣ₅σᶻ₆ + (0.5 - 0.866025im)σᶻ₅σˣ₆"
     },
     "metadata": {}
    },
    {
     "output_type": "display_data",
     "data": {
      "text/plain": "1-element Vector{CondensedMatterSOS.SpinPolynomial{ComplexF64}}:\n σʸ₁σᶻ₂ + (0.5 + 0.866025im)σʸ₁σᶻ₆ + -σᶻ₁σʸ₂ + (-0.5 - 0.866025im)σᶻ₁σʸ₆ + (-0.5 + 0.866025im)σʸ₂σᶻ₃ + (0.5 - 0.866025im)σᶻ₂σʸ₃ + (-0.5 - 0.866025im)σʸ₃σᶻ₄ + (0.5 + 0.866025im)σᶻ₃σʸ₄ + σʸ₄σᶻ₅ + -σᶻ₄σʸ₅ + (-0.5 + 0.866025im)σʸ₅σᶻ₆ + (0.5 - 0.866025im)σᶻ₅σʸ₆"
     },
     "metadata": {}
    },
    {
     "output_type": "display_data",
     "data": {
      "text/plain": "1-element Vector{CondensedMatterSOS.SpinPolynomial{ComplexF64}}:\n σˣ₁σʸ₂ + (-0.5 + 0.866025im)σˣ₁σʸ₆ + -σʸ₁σˣ₂ + (0.5 - 0.866025im)σʸ₁σˣ₆ + (0.5 + 0.866025im)σˣ₂σʸ₃ + (-0.5 - 0.866025im)σʸ₂σˣ₃ + (-0.5 + 0.866025im)σˣ₃σʸ₄ + (0.5 - 0.866025im)σʸ₃σˣ₄ + -σˣ₄σʸ₅ + σʸ₄σˣ₅ + (-0.5 - 0.866025im)σˣ₅σʸ₆ + (0.5 + 0.866025im)σʸ₅σˣ₆"
     },
     "metadata": {}
    },
    {
     "output_type": "display_data",
     "data": {
      "text/plain": "1-element Vector{CondensedMatterSOS.SpinPolynomial{ComplexF64}}:\n σˣ₁σᶻ₂ + (-0.5 + 0.866025im)σˣ₁σᶻ₆ + -σᶻ₁σˣ₂ + (0.5 - 0.866025im)σᶻ₁σˣ₆ + (0.5 + 0.866025im)σˣ₂σᶻ₃ + (-0.5 - 0.866025im)σᶻ₂σˣ₃ + (-0.5 + 0.866025im)σˣ₃σᶻ₄ + (0.5 - 0.866025im)σᶻ₃σˣ₄ + -σˣ₄σᶻ₅ + σᶻ₄σˣ₅ + (-0.5 - 0.866025im)σˣ₅σᶻ₆ + (0.5 + 0.866025im)σᶻ₅σˣ₆"
     },
     "metadata": {}
    },
    {
     "output_type": "display_data",
     "data": {
      "text/plain": "1-element Vector{CondensedMatterSOS.SpinPolynomial{ComplexF64}}:\n σʸ₁σᶻ₂ + (-0.5 + 0.866025im)σʸ₁σᶻ₆ + -σᶻ₁σʸ₂ + (0.5 - 0.866025im)σᶻ₁σʸ₆ + (0.5 + 0.866025im)σʸ₂σᶻ₃ + (-0.5 - 0.866025im)σᶻ₂σʸ₃ + (-0.5 + 0.866025im)σʸ₃σᶻ₄ + (0.5 - 0.866025im)σᶻ₃σʸ₄ + -σʸ₄σᶻ₅ + σᶻ₄σʸ₅ + (-0.5 - 0.866025im)σʸ₅σᶻ₆ + (0.5 + 0.866025im)σᶻ₅σʸ₆"
     },
     "metadata": {}
    },
    {
     "output_type": "display_data",
     "data": {
      "text/plain": "1-element Vector{CondensedMatterSOS.SpinPolynomial{ComplexF64}}:\n σˣ₁σʸ₂ + (0.5 - 0.866025im)σˣ₁σʸ₆ + -σʸ₁σˣ₂ + (-0.5 + 0.866025im)σʸ₁σˣ₆ + (-0.5 - 0.866025im)σˣ₂σʸ₃ + (0.5 + 0.866025im)σʸ₂σˣ₃ + (-0.5 + 0.866025im)σˣ₃σʸ₄ + (0.5 - 0.866025im)σʸ₃σˣ₄ + σˣ₄σʸ₅ + -σʸ₄σˣ₅ + (-0.5 - 0.866025im)σˣ₅σʸ₆ + (0.5 + 0.866025im)σʸ₅σˣ₆"
     },
     "metadata": {}
    },
    {
     "output_type": "display_data",
     "data": {
      "text/plain": "1-element Vector{CondensedMatterSOS.SpinPolynomial{ComplexF64}}:\n σˣ₁σᶻ₂ + (0.5 - 0.866025im)σˣ₁σᶻ₆ + -σᶻ₁σˣ₂ + (-0.5 + 0.866025im)σᶻ₁σˣ₆ + (-0.5 - 0.866025im)σˣ₂σᶻ₃ + (0.5 + 0.866025im)σᶻ₂σˣ₃ + (-0.5 + 0.866025im)σˣ₃σᶻ₄ + (0.5 - 0.866025im)σᶻ₃σˣ₄ + σˣ₄σᶻ₅ + -σᶻ₄σˣ₅ + (-0.5 - 0.866025im)σˣ₅σᶻ₆ + (0.5 + 0.866025im)σᶻ₅σˣ₆"
     },
     "metadata": {}
    },
    {
     "output_type": "display_data",
     "data": {
      "text/plain": "1-element Vector{CondensedMatterSOS.SpinPolynomial{ComplexF64}}:\n σʸ₁σᶻ₂ + (0.5 - 0.866025im)σʸ₁σᶻ₆ + -σᶻ₁σʸ₂ + (-0.5 + 0.866025im)σᶻ₁σʸ₆ + (-0.5 - 0.866025im)σʸ₂σᶻ₃ + (0.5 + 0.866025im)σᶻ₂σʸ₃ + (-0.5 + 0.866025im)σʸ₃σᶻ₄ + (0.5 - 0.866025im)σᶻ₃σʸ₄ + σʸ₄σᶻ₅ + -σᶻ₄σʸ₅ + (-0.5 - 0.866025im)σʸ₅σᶻ₆ + (0.5 + 0.866025im)σᶻ₅σʸ₆"
     },
     "metadata": {}
    },
    {
     "output_type": "display_data",
     "data": {
      "text/plain": "1-element Vector{CondensedMatterSOS.SpinPolynomial{ComplexF64}}:\n σˣ₁σʸ₂ + (-0.5 - 0.866025im)σˣ₁σʸ₆ + -σʸ₁σˣ₂ + (0.5 + 0.866025im)σʸ₁σˣ₆ + (0.5 - 0.866025im)σˣ₂σʸ₃ + (-0.5 + 0.866025im)σʸ₂σˣ₃ + (-0.5 - 0.866025im)σˣ₃σʸ₄ + (0.5 + 0.866025im)σʸ₃σˣ₄ + -σˣ₄σʸ₅ + σʸ₄σˣ₅ + (-0.5 + 0.866025im)σˣ₅σʸ₆ + (0.5 - 0.866025im)σʸ₅σˣ₆"
     },
     "metadata": {}
    },
    {
     "output_type": "display_data",
     "data": {
      "text/plain": "1-element Vector{CondensedMatterSOS.SpinPolynomial{ComplexF64}}:\n σˣ₁σᶻ₂ + (-0.5 - 0.866025im)σˣ₁σᶻ₆ + -σᶻ₁σˣ₂ + (0.5 + 0.866025im)σᶻ₁σˣ₆ + (0.5 - 0.866025im)σˣ₂σᶻ₃ + (-0.5 + 0.866025im)σᶻ₂σˣ₃ + (-0.5 - 0.866025im)σˣ₃σᶻ₄ + (0.5 + 0.866025im)σᶻ₃σˣ₄ + -σˣ₄σᶻ₅ + σᶻ₄σˣ₅ + (-0.5 + 0.866025im)σˣ₅σᶻ₆ + (0.5 - 0.866025im)σᶻ₅σˣ₆"
     },
     "metadata": {}
    },
    {
     "output_type": "display_data",
     "data": {
      "text/plain": "1-element Vector{CondensedMatterSOS.SpinPolynomial{ComplexF64}}:\n σʸ₁σᶻ₂ + (-0.5 - 0.866025im)σʸ₁σᶻ₆ + -σᶻ₁σʸ₂ + (0.5 + 0.866025im)σᶻ₁σʸ₆ + (0.5 - 0.866025im)σʸ₂σᶻ₃ + (-0.5 + 0.866025im)σᶻ₂σʸ₃ + (-0.5 - 0.866025im)σʸ₃σᶻ₄ + (0.5 + 0.866025im)σᶻ₃σʸ₄ + -σʸ₄σᶻ₅ + σᶻ₄σʸ₅ + (-0.5 + 0.866025im)σʸ₅σᶻ₆ + (0.5 - 0.866025im)σᶻ₅σʸ₆"
     },
     "metadata": {}
    },
    {
     "output_type": "display_data",
     "data": {
      "text/plain": "1-element Vector{CondensedMatterSOS.SpinPolynomial{ComplexF64}}:\n σˣ₁σʸ₂ + σˣ₁σʸ₆ + -σʸ₁σˣ₂ + -σʸ₁σˣ₆ + -σˣ₂σʸ₃ + σʸ₂σˣ₃ + σˣ₃σʸ₄ + -σʸ₃σˣ₄ + -σˣ₄σʸ₅ + σʸ₄σˣ₅ + σˣ₅σʸ₆ + -σʸ₅σˣ₆"
     },
     "metadata": {}
    },
    {
     "output_type": "display_data",
     "data": {
      "text/plain": "1-element Vector{CondensedMatterSOS.SpinPolynomial{ComplexF64}}:\n σˣ₁σᶻ₂ + σˣ₁σᶻ₆ + -σᶻ₁σˣ₂ + -σᶻ₁σˣ₆ + -σˣ₂σᶻ₃ + σᶻ₂σˣ₃ + σˣ₃σᶻ₄ + -σᶻ₃σˣ₄ + -σˣ₄σᶻ₅ + σᶻ₄σˣ₅ + σˣ₅σᶻ₆ + -σᶻ₅σˣ₆"
     },
     "metadata": {}
    },
    {
     "output_type": "display_data",
     "data": {
      "text/plain": "1-element Vector{CondensedMatterSOS.SpinPolynomial{ComplexF64}}:\n σʸ₁σᶻ₂ + σʸ₁σᶻ₆ + -σᶻ₁σʸ₂ + -σᶻ₁σʸ₆ + -σʸ₂σᶻ₃ + σᶻ₂σʸ₃ + σʸ₃σᶻ₄ + -σᶻ₃σʸ₄ + -σʸ₄σᶻ₅ + σᶻ₄σʸ₅ + σʸ₅σᶻ₆ + -σᶻ₅σʸ₆"
     },
     "metadata": {}
    }
   ],
   "cell_type": "code",
   "source": [
    "f(6, 2, true)"
   ],
   "metadata": {},
   "execution_count": 10
  },
  {
   "cell_type": "markdown",
   "source": [
    "| id     | irep 1 | irep 2 | irep 3 | irep 4 |\n",
    "|--------|--------|--------|--------|--------|\n",
    "| degree | 2      | 3      | 1      | 3      |\n",
    "| mult 2 | 1      | 3      | 2      | 1      |\n",
    "| mult 3 | 3      | 6      | 4      | 3      |\n",
    "| mult 4 | 6      | 10     | 7      | 6      |\n",
    "| mult 5 | 10     | 15     | 11     | 10     |\n",
    "| mult 6 | 15     | 21     | 16     | 15     |\n",
    "| mult 7 | 21     | 28     | 22     | 21     |"
   ],
   "metadata": {}
  },
  {
   "cell_type": "markdown",
   "source": [
    "---\n",
    "\n",
    "*This notebook was generated using [Literate.jl](https://github.com/fredrikekre/Literate.jl).*"
   ],
   "metadata": {}
  }
 ],
 "nbformat_minor": 3,
 "metadata": {
  "language_info": {
   "file_extension": ".jl",
   "mimetype": "application/julia",
   "name": "julia",
   "version": "1.6.1"
  },
  "kernelspec": {
   "name": "julia-1.6",
   "display_name": "Julia 1.6.1",
   "language": "julia"
  }
 },
 "nbformat": 4
}
